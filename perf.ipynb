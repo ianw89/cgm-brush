{
 "cells": [
  {
   "cell_type": "code",
   "execution_count": 8,
   "metadata": {},
   "outputs": [],
   "source": [
    "from cgmbrush.cgmbrush import *\n",
    "from tempfile import TemporaryFile\n",
    "import cProfile\n",
    "import io\n",
    "import pstats"
   ]
  },
  {
   "cell_type": "code",
   "execution_count": null,
   "metadata": {},
   "outputs": [],
   "source": [
    "# Perf testing for reading Bolshoi density fields\n",
    "\n",
    "provider = BolshoiProvider()\n",
    "\n",
    "pr = cProfile.Profile()\n",
    "pr.enable()\n",
    "den_field = provider.get_density_field(0, 256)\n",
    "pr.disable()\n",
    "s = io.StringIO()\n",
    "ps = pstats.Stats(pr, stream=s).sort_stats('tottime')\n",
    "ps.print_stats()\n",
    "\n",
    "file_path = os.path.join(VAR_DIR, 'bolshoi_density_perf.txt')\n",
    "with open(file_path, 'w') as f:\n",
    "    f.write(s.getvalue())\n",
    "\n",
    "saveArray(\"perf_denfield\", den_field)"
   ]
  },
  {
   "cell_type": "code",
   "execution_count": null,
   "metadata": {},
   "outputs": [],
   "source": [
    "provider = BolshoiProvider()\n",
    "\n",
    "pr = cProfile.Profile()\n",
    "pr.enable()\n",
    "read_denfield = loadArray(\"perf_denfield.npy\")\n",
    "pr.disable()\n",
    "s = io.StringIO()\n",
    "ps = pstats.Stats(pr, stream=s).sort_stats('tottime')\n",
    "ps.print_stats()\n",
    "\n",
    "file_path = os.path.join(VAR_DIR, 'bolshoi_density_perf_read.txt')\n",
    "with open(file_path, 'w') as f:\n",
    "    f.write(s.getvalue())"
   ]
  },
  {
   "cell_type": "code",
   "execution_count": null,
   "metadata": {},
   "outputs": [],
   "source": [
    "# Testing savez\n",
    "outfile = TemporaryFile()\n",
    "x = np.arange(1000)\n",
    "y = np.arange(1000) + 1\n",
    "\n",
    "arrays = {'y':y, 'x':x, }\n",
    "\n",
    "np.savez(outfile, **arrays)\n",
    "_ = outfile.seek(0)\n",
    "npzfile = np.load(outfile)\n",
    "npzfile['x']"
   ]
  },
  {
   "cell_type": "code",
   "execution_count": null,
   "metadata": {},
   "outputs": [],
   "source": [
    "p = BolshoiProvider()\n",
    "a = p.extract_halos(0)\n",
    "print(a.shape)\n",
    "b = loadArray('bol_halos_0')\n",
    "print(b.shape)"
   ]
  },
  {
   "cell_type": "code",
   "execution_count": null,
   "metadata": {},
   "outputs": [],
   "source": [
    "print(a.shape)\n",
    "print(a.info(memory_usage='deep'))\n",
    "print(b.shape)\n",
    "print(type(b))\n",
    "print(str((b.size * b.itemsize)/1024**2) + \" MB\")\n",
    "print(b[0])"
   ]
  },
  {
   "cell_type": "code",
   "execution_count": null,
   "metadata": {},
   "outputs": [],
   "source": [
    "# Profiling full convolution code for simplest case\n",
    "provider = BolshoiProvider()\n",
    "profile = FireProfile()\n",
    "profile.debug = True\n",
    "config = Configuration(profile, 1, provider=provider, resolution=4)\n",
    "config.provider = BolshoiProvider()\n",
    "config.run(trace=True)\n",
    "     "
   ]
  },
  {
   "cell_type": "code",
   "execution_count": null,
   "metadata": {},
   "outputs": [],
   "source": []
  }
 ],
 "metadata": {
  "interpreter": {
   "hash": "e774977668b7c0ae8309835a5187aa7fbf7669e7d0bb59755bc63e573643edcd"
  },
  "kernelspec": {
   "display_name": "Python 3 (ipykernel)",
   "language": "python",
   "name": "python3"
  },
  "language_info": {
   "codemirror_mode": {
    "name": "ipython",
    "version": 3
   },
   "file_extension": ".py",
   "mimetype": "text/x-python",
   "name": "python",
   "nbconvert_exporter": "python",
   "pygments_lexer": "ipython3",
   "version": "3.9.12"
  }
 },
 "nbformat": 4,
 "nbformat_minor": 2
}
