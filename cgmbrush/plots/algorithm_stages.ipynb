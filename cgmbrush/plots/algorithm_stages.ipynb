{
 "cells": [
  {
   "cell_type": "code",
   "execution_count": null,
   "metadata": {},
   "outputs": [],
   "source": [
    "###################################################################################################\n",
    "#\n",
    "# algorithm_stages.py \t(c) Ian Williams, Adnan Khan, Matt McQuinn\n",
    "#     \t\t\t\t    \t        ianw89@live.com\n",
    "#\n",
    "#  This produces Figure 1 of Khan, Williams, McQuinn 2022\n",
    "#\n",
    "###################################################################################################\n",
    "\n",
    "from cgmbrush.cgmbrush import *\n",
    "from cgmbrush.plots.plots import *\n",
    "import matplotlib.pyplot as plt\n",
    "from matplotlib.patches import Rectangle\n",
    "\n",
    "curve_thickness = 2\n",
    "\n",
    "date = '2022-04-04'\n",
    "res = 32 # for the STH 256 and 512\n",
    "resolution = 32 # for the other profiles data\n",
    "\n",
    "u = 100 # zooms into 100 of 256 pixels. (140 Mpc of the 250/h Mpc box)\n",
    "p = 40 * resolution # red box / zoom-in region for profile comparison\n",
    "\n",
    "\n",
    "def algorithm_stages_plot(raw_field, removed_field, addition_field, final_field, orig_grid_size, vmax, zoom_rect: bool):\n",
    "    vmin = 0\n",
    "    fig, axs = fields_comparison_plot( [('Raw density field', raw_field), ('Halos removed', removed_field), ('Halo-associated gas', addition_field), ('Final halo density field', final_field)], vmin, vmax)\n",
    "    \n",
    "    if zoom_rect:\n",
    "        rect = Rectangle((0,0),p,p,linewidth=1,edgecolor='r',facecolor=\"none\")\n",
    "        axs[3].add_patch(rect)\n",
    "    \n",
    "    extra = ''\n",
    "    if zoom_rect:\n",
    "        extra = '_wbox'\n",
    "    filename = 'implot_add_remove_halos_{}{}.pdf'.format(orig_grid_size, extra)\n",
    "    saveFig(filename, fig, bbox_inches='tight')\n",
    "    "
   ]
  },
  {
   "cell_type": "code",
   "execution_count": null,
   "metadata": {},
   "outputs": [],
   "source": [
    "c = Configuration(SphericalTophatProfile(), resolution=res, provider=BolshoiProvider())\n",
    "c.datestamp = date\n",
    "\n",
    "original_field = c.provider.get_density_field(0, 256)\n",
    "removed_field = c.get_removed_field()[0]\n",
    "added_field = c.get_addition_field()[0]\n",
    "final_field = c.get_final_field()[0]\n",
    "\n",
    "c512 = Configuration(SphericalTophatProfile(), resolution=res, provider=BolshoiProvider(), den_grid_size=512)\n",
    "c512.datestamp = date\n",
    "\n",
    "original_field512 = c512.provider.get_density_field(0, 512)\n",
    "removed_field512 = c512.get_removed_field()[0]\n",
    "added_field512 = c512.get_addition_field()[0]\n",
    "final_field512 = c512.get_final_field()[0]\n"
   ]
  },
  {
   "cell_type": "code",
   "execution_count": null,
   "metadata": {},
   "outputs": [],
   "source": [
    "# get rid of data we don't need\n",
    "c.clear_results() \n",
    "c512.clear_results()"
   ]
  },
  {
   "cell_type": "code",
   "execution_count": null,
   "metadata": {},
   "outputs": [],
   "source": [
    "print(\"Sanity check on mean density of fields for 256\")\n",
    "print(np.mean(original_field))\n",
    "print(np.mean(removed_field))\n",
    "print(np.mean(added_field))\n",
    "print(np.mean(final_field))\n",
    "\n",
    "print(\"Sanity check on mean density of fields for 512\")\n",
    "print(np.mean(original_field512))\n",
    "print(np.mean(removed_field512))\n",
    "print(np.mean(added_field512))\n",
    "print(np.mean(final_field512))"
   ]
  },
  {
   "cell_type": "code",
   "execution_count": null,
   "metadata": {},
   "outputs": [],
   "source": [
    "#plt.figure(figsize=(20,20))\n",
    "#print(original_field512.shape)\n",
    "#print(np.mean(original_field512))\n",
    "#plt.imshow(c512.get_subtraction_coarse_field()[0])\n",
    "#print(np.mean(c512.get_subtraction_coarse_field()[0]))"
   ]
  },
  {
   "cell_type": "code",
   "execution_count": null,
   "metadata": {},
   "outputs": [],
   "source": [
    "#plt.figure(figsize=(20,20))\n",
    "\n",
    "#plt.imshow(original_field512 - c512.get_subtraction_coarse_field()[0])\n",
    "#print(np.mean(original_field512 - c512.get_subtraction_coarse_field()[0]))"
   ]
  },
  {
   "cell_type": "code",
   "execution_count": null,
   "metadata": {},
   "outputs": [],
   "source": [
    "algorithm_stages_plot(original_field512, removed_field512, added_field512, final_field512, c512.den_grid_size, 500, True)"
   ]
  },
  {
   "cell_type": "code",
   "execution_count": null,
   "metadata": {},
   "outputs": [],
   "source": [
    "# Make 512 resolution algorithm stages plot with red box for Figure 1\n",
    "# Zoom in on 140 Mpc\n",
    "print(u)\n",
    "algorithm_stages_plot(original_field512[0:2*u,0:2*u], removed_field512[0:2*u,0:2*u], added_field512[0:4*u*res,0:4*u*res], final_field512[0:4*u*res,0:4*u*res], c512.den_grid_size, 500, True)"
   ]
  },
  {
   "cell_type": "code",
   "execution_count": null,
   "metadata": {},
   "outputs": [],
   "source": [
    "# Make the 256 vs 512 comparison \n",
    "# Zoom in on 140 Mpc\n",
    "algorithm_stages_plot(original_field[0:u,0:u], removed_field[0:u,0:u], added_field[0:4*u*res,0:4*u*res], final_field[0:4*u*res,0:4*u*res], c.den_grid_size, 500, False)\n",
    "algorithm_stages_plot(original_field512[0:2*u,0:2*u], removed_field512[0:2*u,0:2*u], added_field512[0:4*u*res,0:4*u*res], final_field512[0:4*u*res,0:4*u*res], c512.den_grid_size, 500, False)\n"
   ]
  },
  {
   "cell_type": "code",
   "execution_count": null,
   "metadata": {},
   "outputs": [],
   "source": [
    "# Get data for the profile comparison of the fields (res 256)\n",
    "\n",
    "c_STH2 = Configuration(SphericalTophatProfile(rvir_factor=2), resolution=resolution, provider=BolshoiProvider())\n",
    "c_STH2.datestamp = date\n",
    "STH2 = c_STH2.get_final_field()[0]\n",
    "\n",
    "c_NFW = Configuration(NFWProfile(), resolution=resolution, provider=BolshoiProvider())\n",
    "c_NFW.datestamp = date\n",
    "NFW = c_NFW.get_final_field()[0]\n",
    "\n",
    "c_FIRE = Configuration(FireProfile(), resolution=resolution, provider=BolshoiProvider())\n",
    "c_FIRE.datestamp = date\n",
    "FIRE = c_FIRE.get_final_field()[0]\n",
    "\n",
    "c_P = Configuration(PrecipitationProfile(), resolution=resolution, provider=BolshoiProvider())\n",
    "c_P.datestamp = date\n",
    "PRE = c_P.get_final_field()[0]\n"
   ]
  },
  {
   "cell_type": "code",
   "execution_count": null,
   "metadata": {},
   "outputs": [],
   "source": [
    "# Make bottom part of Figure 1. Comparies 4 CGM profiles. Zooms in a lot.\n",
    "vmin = 0\n",
    "vmax = 500\n",
    "filename = \"implot_add_remove_halos_256_all.pdf\"\n",
    "\n",
    "fig, axs = fields_comparison_plot([('NFW', NFW[0:p,0:p]), ('FIRE', FIRE[0:p,0:p]), ('Precipitation', PRE[0:p,0:p]), ('Tophat $2R_{vir}$', STH2[0:p,0:p])], vmin, vmax)\n",
    "saveFig(filename, fig, bbox_inches='tight')\n"
   ]
  }
 ],
 "metadata": {
  "interpreter": {
   "hash": "aee8b7b246df8f9039afb4144a1f6fd8d2ca17a180786b69acc140d282b71a49"
  },
  "kernelspec": {
   "display_name": "Python 3 (ipykernel)",
   "language": "python",
   "name": "python3"
  },
  "language_info": {
   "codemirror_mode": {
    "name": "ipython",
    "version": 3
   },
   "file_extension": ".py",
   "mimetype": "text/x-python",
   "name": "python",
   "nbconvert_exporter": "python",
   "pygments_lexer": "ipython3",
   "version": "3.7.11"
  }
 },
 "nbformat": 4,
 "nbformat_minor": 2
}
