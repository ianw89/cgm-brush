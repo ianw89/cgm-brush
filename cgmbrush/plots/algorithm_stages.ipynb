{
 "cells": [
  {
   "cell_type": "code",
   "execution_count": null,
   "metadata": {},
   "outputs": [],
   "source": [
    "from cgmbrush.cgmbrush import *\n",
    "from cgmbrush.plots.plots import *\n",
    "import matplotlib.pyplot as plt\n",
    "import math\n",
    "from matplotlib.patches import Rectangle\n",
    "\n",
    "SMALL_SIZE = 8\n",
    "MEDIUM_SIZE = 10\n",
    "BIGGER_SIZE = 16\n",
    "XBIG_SIZE = 20\n",
    "axis_fontsize = 20\n",
    "curve_thickness = 2\n",
    "\n",
    "plt.rc('font', size=SMALL_SIZE)          # controls default text sizes\n",
    "plt.rc('axes', titlesize=SMALL_SIZE)     # fontsize of the axes title\n",
    "plt.rc('axes', labelsize=MEDIUM_SIZE)    # fontsize of the x and y labels\n",
    "plt.rc('xtick', labelsize=BIGGER_SIZE)    # fontsize of the tick labels\n",
    "plt.rc('ytick', labelsize=BIGGER_SIZE)    # fontsize of the tick labels\n",
    "plt.rc('legend', fontsize=XBIG_SIZE)    # legend fontsize\n",
    "plt.rc('figure', titlesize=BIGGER_SIZE)  # fontsize of the figure title\n",
    "\n",
    "date = '2021-11-01'\n"
   ]
  },
  {
   "cell_type": "code",
   "execution_count": null,
   "metadata": {},
   "outputs": [],
   "source": [
    "c = Configuration(SphericalTophatProfile(), 1, resolution=32, provider=BolshoiProvider())\n",
    "c.datestamp = date\n",
    "c.run(load_from_files=True)\n",
    "\n",
    "original_field = c.provider.get_density_field(0, c.den_grid_size)\n",
    "removed_field = c.get_removed_field()[0]\n",
    "added_field = c.get_addition_field()[0]\n",
    "final_field = c.get_final_field()[0]"
   ]
  },
  {
   "cell_type": "code",
   "execution_count": null,
   "metadata": {},
   "outputs": [],
   "source": [
    "# Make 256 resolution version of the algorithm stages plot\n",
    "f = algorithm_stages_plot(original_field, removed_field, added_field, final_field, c.den_grid_size, True)"
   ]
  },
  {
   "cell_type": "code",
   "execution_count": null,
   "metadata": {},
   "outputs": [],
   "source": [
    "# Make 512 resolution version of the algorithm stages plot\n",
    "c = Configuration(SphericalTophatProfile(), 1, resolution=32, provider=BolshoiProvider(), den_grid_size=512)\n",
    "c.datestamp = date\n",
    "c.run(load_from_files=True)\n",
    "\n",
    "original_field = c.provider.get_density_field(0, c.den_grid_size)\n",
    "removed_field = c.get_removed_field()[0]\n",
    "added_field = c.get_addition_field()[0]\n",
    "final_field = c.get_final_field()[0]\n",
    "\n",
    "algorithm_stages_plot(original_field, removed_field, added_field, final_field, c.den_grid_size, True)"
   ]
  },
  {
   "cell_type": "code",
   "execution_count": null,
   "metadata": {},
   "outputs": [],
   "source": [
    "import pandas as pd\n",
    "file_path= os.path.join(SIMS_DIR, 'dens512-z-0.csv.gz')\n",
    "pdDens=pd.read_csv(file_path)\n"
   ]
  },
  {
   "cell_type": "code",
   "execution_count": null,
   "metadata": {},
   "outputs": [],
   "source": [
    "resStr = '512'\n",
    "pdDensN=pdDens[['Bolshoi__Dens'+resStr+'_z0__ix','Bolshoi__Dens'+resStr+'_z0__iy','Bolshoi__Dens'+resStr+'_z0__iz','Bolshoi__Dens'+resStr+'_z0__dens']]\n"
   ]
  },
  {
   "cell_type": "code",
   "execution_count": null,
   "metadata": {},
   "outputs": [],
   "source": [
    "resolution = 32\n",
    "\n",
    "c_STH2 = Configuration(SphericalTophatProfile(), 2, resolution=resolution, provider=BolshoiProvider())\n",
    "c_STH2.datestamp = date\n",
    "STH2 = c_STH2.get_final_field()[0]\n",
    "\n",
    "c_NFW = Configuration(NFWProfile(), 2, resolution=resolution, provider=BolshoiProvider())\n",
    "c_NFW.datestamp = date\n",
    "NFW = c_NFW.get_final_field()[0]\n",
    "\n",
    "c_FIRE = Configuration(FireProfile(), 1, resolution=resolution, provider=BolshoiProvider())\n",
    "c_FIRE.datestamp = date\n",
    "FIRE = c_FIRE.get_final_field()[0]\n",
    "\n",
    "c_P = Configuration(PrecipitationProfile(), 1, resolution=resolution, provider=BolshoiProvider())\n",
    "c_P.datestamp = date\n",
    "PRE = c_P.get_final_field()[0]\n"
   ]
  },
  {
   "cell_type": "code",
   "execution_count": null,
   "metadata": {},
   "outputs": [],
   "source": []
  },
  {
   "cell_type": "code",
   "execution_count": null,
   "metadata": {},
   "outputs": [],
   "source": [
    "u = 10 * resolution\n",
    "vmin = 0\n",
    "vmax = 500\n",
    "filename = \"implot_add_remove_halos_256_all.pdf\"\n",
    "\n",
    "fields_comparison_plot([('NFW', NFW[0:u,0:u]), ('FIRE', FIRE[0:u,0:u]), ('Precipitation', PRE[0:u,0:u]), ('Tophat $2R_{vir}$', STH2[0:u,0:u])], vmin, vmax, filename)\n"
   ]
  },
  {
   "cell_type": "code",
   "execution_count": null,
   "metadata": {},
   "outputs": [],
   "source": []
  }
 ],
 "metadata": {
  "kernelspec": {
   "display_name": "cgmbrush-dev",
   "language": "python",
   "name": "cgmbrush-dev"
  },
  "language_info": {
   "codemirror_mode": {
    "name": "ipython",
    "version": 3
   },
   "file_extension": ".py",
   "mimetype": "text/x-python",
   "name": "python",
   "nbconvert_exporter": "python",
   "pygments_lexer": "ipython3",
   "version": "3.8.8"
  }
 },
 "nbformat": 4,
 "nbformat_minor": 2
}
