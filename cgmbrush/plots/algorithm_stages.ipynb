{
 "cells": [
  {
   "cell_type": "code",
   "execution_count": null,
   "metadata": {},
   "outputs": [],
   "source": [
    "from cgmbrush.cgmbrush import *\n",
    "from cgmbrush.plots.plots import *\n",
    "import matplotlib.pyplot as plt\n",
    "import math\n",
    "from matplotlib.patches import Rectangle\n",
    "\n",
    "SMALL_SIZE = 8\n",
    "MEDIUM_SIZE = 10\n",
    "BIGGER_SIZE = 16\n",
    "XBIG_SIZE = 20\n",
    "axis_fontsize = 20\n",
    "curve_thickness = 2\n",
    "\n",
    "plt.rc('font', size=SMALL_SIZE)          # controls default text sizes\n",
    "plt.rc('axes', titlesize=SMALL_SIZE)     # fontsize of the axes title\n",
    "plt.rc('axes', labelsize=MEDIUM_SIZE)    # fontsize of the x and y labels\n",
    "plt.rc('xtick', labelsize=BIGGER_SIZE)    # fontsize of the tick labels\n",
    "plt.rc('ytick', labelsize=BIGGER_SIZE)    # fontsize of the tick labels\n",
    "plt.rc('legend', fontsize=XBIG_SIZE)    # legend fontsize\n",
    "plt.rc('figure', titlesize=BIGGER_SIZE)  # fontsize of the figure title\n",
    "\n",
    "date = '2021-11-01'\n",
    "res = 32\n",
    "resolution = 32\n",
    "\n",
    "u = 200\n",
    "p = 40 * resolution\n",
    "\n",
    "\n",
    "def algorithm_stages_plot(raw_field, removed_field, addition_field, final_field, orig_grid_size, vmax, zoom_rect: bool):\n",
    "    vmin = 0\n",
    "    fig, axs = fields_comparison_plot( [('Raw density field', raw_field), ('Halos removed', removed_field), ('Halo-associated gas', addition_field), ('Final halo density field', final_field)], vmin, vmax)\n",
    "    \n",
    "    if zoom_rect:\n",
    "        rect = Rectangle((0,0),p,p,linewidth=1,edgecolor='r',facecolor=\"none\")\n",
    "        axs[3].add_patch(rect)\n",
    "    \n",
    "    extra = ''\n",
    "    if zoom_rect:\n",
    "        extra = '_wbox'\n",
    "    filename = 'implot_add_remove_halos_{}{}.pdf'.format(orig_grid_size, extra)\n",
    "    saveFig(filename, fig, bbox_inches='tight')\n",
    "    "
   ]
  },
  {
   "cell_type": "code",
   "execution_count": null,
   "metadata": {},
   "outputs": [],
   "source": [
    "c = Configuration(SphericalTophatProfile(), 1, resolution=res, provider=BolshoiProvider())\n",
    "c.datestamp = date\n",
    "c.run(load_from_files=False)\n",
    "\n",
    "original_field = c.provider.get_density_field(0, 256)\n",
    "removed_field = c.get_removed_field()[0]\n",
    "added_field = c.get_addition_field()[0]\n",
    "final_field = c.get_final_field()[0]\n",
    "\n",
    "c512 = Configuration(SphericalTophatProfile(), 1, resolution=res, provider=BolshoiProvider(), den_grid_size=512)\n",
    "c512.datestamp = date\n",
    "c512.run(load_from_files=False)\n",
    "\n",
    "original_field512 = c512.provider.get_density_field(0, 512)\n",
    "removed_field512 = c512.get_removed_field()[0]\n",
    "added_field512 = c512.get_addition_field()[0]\n",
    "final_field512 = c512.get_final_field()[0]\n"
   ]
  },
  {
   "cell_type": "code",
   "execution_count": null,
   "metadata": {},
   "outputs": [],
   "source": [
    "print(\"Sanity check on mean density of fields for 256\")\n",
    "print(np.mean(original_field))\n",
    "print(np.mean(removed_field))\n",
    "print(np.mean(added_field))\n",
    "print(np.mean(final_field))\n",
    "\n",
    "print(\"Sanity check on mean density of fields for 512\")\n",
    "print(np.mean(original_field512))\n",
    "print(np.mean(removed_field512))\n",
    "print(np.mean(added_field512))\n",
    "print(np.mean(final_field512))"
   ]
  },
  {
   "cell_type": "code",
   "execution_count": null,
   "metadata": {},
   "outputs": [],
   "source": [
    "#plt.figure(figsize=(20,20))\n",
    "#print(original_field512.shape)\n",
    "#print(np.mean(original_field512))\n",
    "#plt.imshow(c512.get_subtraction_coarse_field()[0])\n",
    "#print(np.mean(c512.get_subtraction_coarse_field()[0]))"
   ]
  },
  {
   "cell_type": "code",
   "execution_count": null,
   "metadata": {},
   "outputs": [],
   "source": [
    "#plt.figure(figsize=(20,20))\n",
    "\n",
    "#plt.imshow(original_field512 - c512.get_subtraction_coarse_field()[0])\n",
    "#print(np.mean(original_field512 - c512.get_subtraction_coarse_field()[0]))"
   ]
  },
  {
   "cell_type": "code",
   "execution_count": null,
   "metadata": {},
   "outputs": [],
   "source": [
    "# Make 512 resolution algorithm stages plot with red box for Figure 1\n",
    "# Zoom in on 140 Mpc\n",
    "algorithm_stages_plot(original_field512[0:2*u,0:2*u], removed_field512[0:2*u,0:2*u], added_field512[0:u*res,0:u*res], final_field512[0:u*res,0:u*res], c512.den_grid_size, 300, True)"
   ]
  },
  {
   "cell_type": "code",
   "execution_count": null,
   "metadata": {},
   "outputs": [],
   "source": [
    "# Make the 256 vs 512 comparison \n",
    "# Zoom in on 140 Mpc\n",
    "algorithm_stages_plot(original_field[0:u,0:u], removed_field[0:u,0:u], added_field[0:u*res,0:u*res], final_field[0:u*res,0:u*res], c.den_grid_size, 300, False)\n",
    "algorithm_stages_plot(original_field512[0:2*u,0:2*u], removed_field512[0:2*u,0:2*u], added_field512[0:u*res,0:u*res], final_field512[0:u*res,0:u*res], c512.den_grid_size, 300, False)\n"
   ]
  },
  {
   "cell_type": "code",
   "execution_count": null,
   "metadata": {},
   "outputs": [],
   "source": [
    "# Get data for the profile comparison of the fields (res 256)\n",
    "\n",
    "c_STH2 = Configuration(SphericalTophatProfile(), 2, resolution=resolution, provider=BolshoiProvider())\n",
    "c_STH2.datestamp = date\n",
    "STH2 = c_STH2.get_final_field()[0]\n",
    "\n",
    "c_NFW = Configuration(NFWProfile(), 2, resolution=resolution, provider=BolshoiProvider())\n",
    "c_NFW.datestamp = date\n",
    "NFW = c_NFW.get_final_field()[0]\n",
    "\n",
    "c_FIRE = Configuration(FireProfile(), 1, resolution=resolution, provider=BolshoiProvider())\n",
    "c_FIRE.datestamp = date\n",
    "FIRE = c_FIRE.get_final_field()[0]\n",
    "\n",
    "c_P = Configuration(PrecipitationProfile(), 1, resolution=resolution, provider=BolshoiProvider())\n",
    "c_P.datestamp = date\n",
    "PRE = c_P.get_final_field()[0]\n"
   ]
  },
  {
   "cell_type": "code",
   "execution_count": null,
   "metadata": {},
   "outputs": [],
   "source": [
    "# Make bottom part of Figure 1. Comparies 4 CGM profiles. Zooms in a lot.\n",
    "vmin = 0\n",
    "vmax = 500\n",
    "filename = \"implot_add_remove_halos_256_all.pdf\"\n",
    "\n",
    "fig, axs = fields_comparison_plot([('NFW', NFW[0:p,0:p]), ('FIRE', FIRE[0:p,0:p]), ('Precipitation', PRE[0:p,0:p]), ('Tophat $2R_{vir}$', STH2[0:p,0:p])], vmin, vmax)\n",
    "saveFig(filename, fig, bbox_inches='tight')\n"
   ]
  },
  {
   "cell_type": "code",
   "execution_count": null,
   "metadata": {},
   "outputs": [],
   "source": []
  },
  {
   "cell_type": "code",
   "execution_count": null,
   "metadata": {},
   "outputs": [],
   "source": []
  },
  {
   "cell_type": "code",
   "execution_count": null,
   "metadata": {},
   "outputs": [],
   "source": []
  }
 ],
 "metadata": {
  "kernelspec": {
   "display_name": "cgmbrush-dev",
   "language": "python",
   "name": "cgmbrush-dev"
  },
  "language_info": {
   "codemirror_mode": {
    "name": "ipython",
    "version": 3
   },
   "file_extension": ".py",
   "mimetype": "text/x-python",
   "name": "python",
   "nbconvert_exporter": "python",
   "pygments_lexer": "ipython3",
   "version": "3.8.8"
  }
 },
 "nbformat": 4,
 "nbformat_minor": 2
}
