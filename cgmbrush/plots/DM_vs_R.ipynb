{
 "cells": [
  {
   "cell_type": "markdown",
   "metadata": {},
   "source": [
    "## Code Creates DM-R in Khan, Williams & McQuinn (2022)"
   ]
  },
  {
   "cell_type": "code",
   "execution_count": null,
   "metadata": {},
   "outputs": [],
   "source": [
    "###################################################################################################\n",
    "#\n",
    "# DM_vs_R_plot.py \t                (c) Ian Williams, Adnan Khan, Matt McQuinn\n",
    "#     \t\t\t\t    \t        ianw89@live.com\n",
    "#\n",
    "###################################################################################################\n",
    "from cgmbrush.cgmbrush import *\n",
    "%matplotlib inline\n",
    "#from cgmbrush import *\n",
    "import numpy as np\n",
    "import plotting_routines as makefig\n",
    "\n",
    "M_chosen = [4,9,14]  #mass bins to consider;  Matt: would be great to make this masses rather than bin numbers\n",
    "provider = BolshoiProvider()\n",
    "\n",
    "# Specify resolution\n",
    "resolution = 16  #how many times to oversample the original halo field grid\n",
    "grid_size = resolution*1024 \n",
    "ymax = [129,309,799]\n",
    "\n",
    "load_data = True\n",
    "load_DM_vs_rad = True # TODO just re-ran\n",
    "load_masks = True\n",
    "\n",
    "series = []\n",
    "#date = '2022-3-23'\n",
    "NFW = NFWProfile() #NFW profile class used for subtraction\n",
    "\n",
    "config = Configuration(SphericalTophatProfile(), 1, provider=provider, resolution=1)\n",
    "config.datestamp = '2022-3-22'\n",
    "vir_rad_ar = config.get_virial_radii()\n",
    "avg_mass_ar = config.get_halo_masses()\n",
    "\n",
    "print (\"Masses chosen for plotting: \")\n",
    "print (\"{:e}\".format(avg_mass_ar[M_chosen[0]]))\n",
    "print (\"{:e}\".format(avg_mass_ar[M_chosen[1]]))\n",
    "print (\"{:e}\".format(avg_mass_ar[M_chosen[2]]))\n",
    "\n",
    "\n",
    "# config = Configuration(SphericalTophatProfile(), 1, provider=provider, resolution=resolution)\n",
    "# config.datestamp = date\n",
    "# config.generate_DM_vs_radius_profile(load_from_files=load_DM_vs_rad)\n",
    "# config.generate_profile_of_masks(load_from_files=load_masks)\n",
    "# STH_DMvsR = config.DM_vs_R1\n",
    "# STH_masks = config.mask_profiles\n",
    "# config.clear_results()\n",
    "# series.append((config.DM_vs_R1,config.mask_profiles,'3D Tophat','red'))\n",
    "\n",
    "# config = Configuration(SphericalTophatProfile(), 2, provider=provider, resolution=resolution)\n",
    "# config.datestamp = date\n",
    "# config.generate_DM_vs_radius_profile(load_from_files=load_DM_vs_rad)\n",
    "# config.generate_profile_of_masks(load_from_files=load_masks)\n",
    "# STH_2_DMvsR = config.DM_vs_R1\n",
    "# STH_2_masks = config.mask_profiles\n",
    "# config.clear_results()\n",
    "# series.append((config.DM_vs_R1, config.mask_profiles, '3D Tophat 2$R_{vir}$', 'orange'))\n",
    "\n",
    "print(\"load flags = \", load_DM_vs_rad, load_masks, load_data)\n",
    "config = Configuration(FireProfile(), 1, provider=provider, resolution=resolution)\n",
    "config.datestamp = '2022-3-23'\n",
    "config.generate_DM_vs_radius_profile(load_from_files=load_DM_vs_rad)\n",
    "config.generate_profile_of_masks(load_from_files=load_masks)\n",
    "fire_DMvsR = config.DM_vs_R1\n",
    "fire_masks = config.mask_profiles\n",
    "config.clear_results()\n",
    "series.append((config.DM_vs_R1, config.mask_profiles, 'FIRE', 'green'))\n",
    "\n",
    "print(\"load flags = \", load_DM_vs_rad, load_masks, load_data)\n",
    "config = Configuration(NFWProfile(), 1, provider=provider, resolution=resolution)\n",
    "config.datestamp = '2022-3-22'\n",
    "config.generate_DM_vs_radius_profile(load_from_files=load_DM_vs_rad)\n",
    "config.generate_profile_of_masks(load_from_files=load_masks)\n",
    "NFW_DMvsR = config.DM_vs_R1\n",
    "NFW_masks = config.mask_profiles\n",
    "config.clear_results()\n",
    "series.append((config.DM_vs_R1, config.mask_profiles, 'NFW', 'blue'))\n",
    "\n",
    "#config = Configuration(PrecipitationProfile(), 1, provider=provider, resolution=resolution)\n",
    "#config.datestamp = date\n",
    "#config.generate_DM_vs_radius_profile(load_from_files=load_DM_vs_rad)\n",
    "#config.generate_profile_of_masks(load_from_files=load_masks)\n",
    "#P_DMvsR = config.DM_vs_R1\n",
    "#P_masks = config.mask_profiles\n",
    "#config.clear_results()\n",
    "#series.append((config.DM_vs_R1, config.mask_profiles, 'Precipitation', 'c'))"
   ]
  },
  {
   "cell_type": "code",
   "execution_count": null,
   "metadata": {},
   "outputs": [],
   "source": [
    "#The plotting routines were here not in plotting routines.py"
   ]
  },
  {
   "cell_type": "markdown",
   "metadata": {},
   "source": [
    "## Let's first plot the analtyic profiles in a few models"
   ]
  },
  {
   "cell_type": "code",
   "execution_count": null,
   "metadata": {},
   "outputs": [],
   "source": [
    "redshift = 0\n",
    "df = provider.get_halos(redshift)\n",
    "df, bin_markers = create_halo_array_for_convolution(df, 10**10, 9*10**15, 30)\n",
    "\n",
    "massfactor =   1/cosmo.fb*mu*mprot/msun*(Mpc)**3\n",
    "\n",
    "fp = FireProfile()\n",
    "#percip = PrecipitationProfile()\n",
    "for j in range(0,len(bin_markers) -1):\n",
    "    Mvir_avg = np.mean((df['Mvir'][bin_markers[j]:bin_markers[j+1]])) / cosmo.h\n",
    "    #vir_rad = halo.comoving_rvir(cosmo, Mvir_avg, redshift) # comoving radius\n",
    "\n",
    "    rvalsFire, densityFire = fp.get_analytic_profile(Mvir_avg, redshift)\n",
    "    #rvalsPercip, densityPercip = percip.get_analytic_profile(Mvir_avg, redshift)\n",
    "\n",
    "\n",
    "    totalmassanalyticFire = 4.*np.pi*np.sum(rvalsFire[1:]**2*densityFire[1:] *(rvalsFire[1:] - rvalsFire[:-1]))\n",
    "    #totalmassanalyticPercip = 4.*np.pi*np.sum(rvalsPercip[1:]**2*densityPercip[1:]*(rvalsPercip[1:] - rvalsPercip[:-1]))\n",
    "    \n",
    "    totalmassanalyticFire *= massfactor\n",
    "    #totalmassanalyticPercip *= massfactor\n",
    "    #print(\"massFire in 1e12 = \", totalmassanalyticFire/1e12, \" truth = \", Mvir_avg/1e12, \" ratio =\", totalmassanalyticFire/Mvir_avg)\n",
    "    #print(\"massPercip in 1e12 = \", totalmassanalyticPercip/1e12,  \" truth = \",  Mvir_avg/1e12,  \" ratio =\", totalmassanalyticPercip/Mvir_avg)\n",
    "    \n",
    "    if j in M_chosen:\n",
    "        #print(rvalsPercip[1:], densityPercip[1:])\n",
    "        plt.loglog(rvalsFire, densityFire)\n",
    "        #plt.loglog(rvalsPercip, densityPercip, '--')\n",
    "        \n",
    "\n",
    "#plt.ylim([1,200])"
   ]
  },
  {
   "cell_type": "markdown",
   "metadata": {},
   "source": [
    "## Verify mass conservation"
   ]
  },
  {
   "cell_type": "code",
   "execution_count": null,
   "metadata": {},
   "outputs": [],
   "source": [
    "# Radial extent of the plots in Mpc\n",
    "# dimension of the small grid around the halo we want to crop\n",
    "trim_dim=int((10*resolution))\n",
    "dx = (provider.Lbox/grid_size)   \n",
    "MpctoKpc =1000\n",
    "ival=1\n",
    "massbin = M_chosen[ival]\n",
    "halomass = avg_mass_ar[massbin]\n",
    "#xmin = 0.5*extent/series[0][0].shape[1] #half a cell\n",
    "#x_axis = np.sqrt(2)*MpctoKpc*np.linspace(xmin, extent-xmin, series[0][0].shape[1])\n",
    "x_axis = MpctoKpc*(0.5+np.arange(0, series[0][0].shape[1]))*dx     #np.linspace(0.5*dx, extent-xmin, series[0][0].shape[1])\n",
    "\n",
    "for data in series:\n",
    "    Mass= np.sum(data[1][massbin,1:]*(x_axis[1:]**2-x_axis[0:-1]**2)*np.pi)\n",
    "    Mass = Mass/cosmo.fb*Mpc/PcinMpc*mean_molecular_weight_electrons*mprot/msun*Mpc*Mpc/MpctoKpc**2\n",
    "    print(\"label = \", data[2], \" fractional mass = \", Mass/halomass, \" where total mass in 10^12Msun is\", halomass/1e12)\n"
   ]
  },
  {
   "cell_type": "markdown",
   "metadata": {},
   "source": [
    "## This makes the DM versus radius plot in Khan ++ 2022"
   ]
  },
  {
   "cell_type": "code",
   "execution_count": null,
   "metadata": {
    "scrolled": false
   },
   "outputs": [],
   "source": [
    "\n",
    "makefig.make_DM_vs_Rad_profiles_plots(series, False, True, 17, 999, resolution, grid_size, M_chosen,vir_rad_ar, provider, avg_mass_ar, ymax)\n",
    "\n",
    "# Makes Error Version of the Plots\n",
    "#makefig.make_DM_vs_Rad_profiles_plots([series[0], series[2]], True, False, 17, 999, resolution, grid_size, M_chosen, vir_rad_ar, provider, avg_mass_ar, ymax)\n"
   ]
  },
  {
   "cell_type": "code",
   "execution_count": null,
   "metadata": {},
   "outputs": [],
   "source": []
  },
  {
   "cell_type": "code",
   "execution_count": null,
   "metadata": {},
   "outputs": [],
   "source": []
  }
 ],
 "metadata": {
  "interpreter": {
   "hash": "aee8b7b246df8f9039afb4144a1f6fd8d2ca17a180786b69acc140d282b71a49"
  },
  "kernelspec": {
   "display_name": "Python 3 (ipykernel)",
   "language": "python",
   "name": "python3"
  },
  "language_info": {
   "codemirror_mode": {
    "name": "ipython",
    "version": 3
   },
   "file_extension": ".py",
   "mimetype": "text/x-python",
   "name": "python",
   "nbconvert_exporter": "python",
   "pygments_lexer": "ipython3",
   "version": "3.7.1"
  }
 },
 "nbformat": 4,
 "nbformat_minor": 2
}
