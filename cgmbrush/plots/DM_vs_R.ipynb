{
 "cells": [
  {
   "cell_type": "markdown",
   "metadata": {},
   "source": [
    "## Code Creates DM-R in Khan, Williams & McQuinn (2022)"
   ]
  },
  {
   "cell_type": "code",
   "execution_count": null,
   "metadata": {},
   "outputs": [],
   "source": [
    "###################################################################################################\n",
    "#\n",
    "# DM_vs_R_plot.py \t                (c) Ian Williams, Adnan Khan, Matt McQuinn\n",
    "#     \t\t\t\t    \t        ianw89@live.com\n",
    "#\n",
    "###################################################################################################\n",
    "from cgmbrush.cgmbrush import *\n",
    "#%matplotlib inline\n",
    "#from cgmbrush import *\n",
    "import numpy as np\n",
    "import plotting_routines as makefig\n",
    "\n",
    "M_chosen = [10,22,34]  #mass bins to consider;  Matt: would be great to make this masses rather than bin numbers\n",
    "provider = BolshoiProvider()\n",
    "\n",
    "# Specify resolution\n",
    "resolution = 32 \n",
    "grid_size = resolution*provider.halofieldresolution \n",
    "orig_grid_size = 512\n",
    "\n",
    "load_data = True # Whether to try loading existing results for the convolutions\n",
    "load_DM_vs_rad = True # Whether to try loading existing results for the DM vs Radius profiles\n",
    "load_masks = True # Whether to try loading existing results for the profiles of masks \n",
    "print(\"load flags = \", load_data, load_DM_vs_rad, load_masks)\n",
    "\n",
    "series = [] # this is a list of tuples with data needed by the routine to make DM vs R plot\n",
    "date = '2022-04-04'\n",
    "\n",
    "\"\"\" 1 Rvir spherical tophat\"\"\"\n",
    "config = Configuration(SphericalTophatProfile(), 1, provider=provider, resolution=resolution, den_grid_size=orig_grid_size)\n",
    "config.datestamp = date\n",
    "config.run(load_from_files=load_data)\n",
    "config.generate_DM_vs_radius_profile(load_from_files=load_DM_vs_rad)\n",
    "config.generate_profile_of_masks(load_from_files=load_masks)\n",
    "series.append((config.DM_vs_R1,config.mask_profiles,'3D Tophat','red'))\n",
    "\n",
    "vir_rad_ar = config.get_virial_radii()\n",
    "avg_mass_ar = config.get_halo_masses()\n",
    "print (\"Masses chosen for plotting: \")\n",
    "print (\"{:e}\".format(avg_mass_ar[M_chosen[0]]))\n",
    "print (\"{:e}\".format(avg_mass_ar[M_chosen[1]]))\n",
    "print (\"{:e}\".format(avg_mass_ar[M_chosen[2]]))\n",
    "config.clear_results()\n",
    "\n",
    "\"\"\" 2 Rvir spherical tophat\"\"\"\n",
    "config = Configuration(SphericalTophatProfile(), 2, provider=provider, resolution=resolution, den_grid_size=orig_grid_size)\n",
    "config.datestamp = date\n",
    "config.run(load_from_files=load_data)\n",
    "config.generate_DM_vs_radius_profile(load_from_files=load_DM_vs_rad)\n",
    "config.generate_profile_of_masks(load_from_files=load_masks)\n",
    "config.clear_results()\n",
    "series.append((config.DM_vs_R1, config.mask_profiles, '3D Tophat 2$R_{vir}$', 'orange'))\n",
    "\n",
    "\"\"\"NFW Profile\"\"\"\n",
    "config = Configuration(NFWProfile(), 1, provider=provider, resolution=resolution, den_grid_size=orig_grid_size)\n",
    "config.datestamp = date\n",
    "config.run(load_from_files=load_data)\n",
    "config.generate_DM_vs_radius_profile(load_from_files=load_DM_vs_rad)\n",
    "config.generate_profile_of_masks(load_from_files=load_masks)\n",
    "config.clear_results()\n",
    "series.append((config.DM_vs_R1, config.mask_profiles, 'NFW', 'blue'))\n",
    "\n",
    "\"\"\" Fire Profile\"\"\"\n",
    "config = Configuration(FireProfile(), 1, provider=provider, resolution=resolution, den_grid_size=orig_grid_size)\n",
    "config.datestamp = date\n",
    "config.run(load_from_files=load_data)\n",
    "config.generate_DM_vs_radius_profile(load_from_files=load_DM_vs_rad)\n",
    "config.generate_profile_of_masks(load_from_files=load_masks)\n",
    "config.clear_results()\n",
    "series.append((config.DM_vs_R1, config.mask_profiles, 'FIRE', 'green'))\n",
    "\n",
    "\"\"\" Percipitation Profile\"\"\"\n",
    "config = Configuration(PrecipitationProfile(), 1, provider=provider, resolution=resolution, den_grid_size=orig_grid_size)\n",
    "config.datestamp = date\n",
    "config.run(load_from_files=load_data)\n",
    "config.generate_DM_vs_radius_profile(load_from_files=load_DM_vs_rad)\n",
    "config.generate_profile_of_masks(load_from_files=load_masks)\n",
    "config.clear_results()\n",
    "series.append((config.DM_vs_R1, config.mask_profiles, 'Precipitation', 'c'))"
   ]
  },
  {
   "cell_type": "markdown",
   "metadata": {},
   "source": [
    "## Let's first plot the analtyic profiles in a few models"
   ]
  },
  {
   "cell_type": "code",
   "execution_count": null,
   "metadata": {},
   "outputs": [],
   "source": [
    "\"\"\"\n",
    "redshift = 0\n",
    "df = provider.get_halos(redshift)\n",
    "df, bin_markers = create_halo_array_for_convolution(df, DEFAULT_MIN_MASS, DEFAULT_MAX_MASS, DEFAULT_MASS_BIN_COUNT+1) # This needs to match whatever was used in your convolutions\n",
    "\n",
    "massfactor =   1/cosmo.fb*mu*mprot/msun*(Mpc)**3\n",
    "\n",
    "fp = FireProfile()\n",
    "percip = PrecipitationProfile()\n",
    "for j in range(0,len(bin_markers) -2):\n",
    "    if bin_markers[j] == bin_markers[j+1]:\n",
    "        continue\n",
    "    Mvir_avg = np.mean((df['Mvir'][bin_markers[j]:bin_markers[j+1]])) / cosmo.h\n",
    "    #vir_rad = halo.comoving_rvir(cosmo, Mvir_avg, redshift) # comoving radius\n",
    "\n",
    "    rvalsFire, densityFire = fp.get_analytic_profile(Mvir_avg, redshift)\n",
    "    rvalsPercip, densityPercip = percip.get_analytic_profile(Mvir_avg, redshift)\n",
    "\n",
    "\n",
    "    totalmassanalyticFire = 4.*np.pi*np.sum(rvalsFire[1:]**2*densityFire[1:] *(rvalsFire[1:] - rvalsFire[:-1]))\n",
    "    totalmassanalyticPercip = 4.*np.pi*np.sum(rvalsPercip[1:]**2*densityPercip[1:]*(rvalsPercip[1:] - rvalsPercip[:-1]))\n",
    "    \n",
    "    totalmassanalyticFire *= massfactor\n",
    "    totalmassanalyticPercip *= massfactor\n",
    "    #print(\"massFire in 1e12 = \", totalmassanalyticFire/1e12, \" truth = \", Mvir_avg/1e12, \" ratio =\", totalmassanalyticFire/Mvir_avg)\n",
    "    #print(\"massPercip in 1e12 = \", totalmassanalyticPercip/1e12,  \" truth = \",  Mvir_avg/1e12,  \" ratio =\", totalmassanalyticPercip/Mvir_avg)\n",
    "    \n",
    "    if j in M_chosen:\n",
    "        #print(rvalsPercip[1:], densityPercip[1:])\n",
    "        #plt.loglog(rvalsFire, densityFire)\n",
    "        plt.loglog(rvalsPercip, densityPercip, '--')\n",
    "        \n",
    "\n",
    "#plt.ylim([1,200])\n",
    "\"\"\""
   ]
  },
  {
   "cell_type": "markdown",
   "metadata": {},
   "source": [
    "## Verify mass conservation"
   ]
  },
  {
   "cell_type": "code",
   "execution_count": null,
   "metadata": {},
   "outputs": [],
   "source": [
    "\"\"\"\n",
    "# Radial extent of the plots in Mpc\n",
    "# dimension of the small grid around the halo we want to crop\n",
    "trim_dim=int((10*resolution))\n",
    "dx = (provider.Lbox/grid_size)   \n",
    "MpctoKpc =1000\n",
    "massbin = M_chosen[1] #MW mass for current parameters \n",
    "halomass = avg_mass_ar[massbin]\n",
    "#xmin = 0.5*extent/series[0][0].shape[1] #half a cell\n",
    "#x_axis = np.sqrt(2)*MpctoKpc*np.linspace(xmin, extent-xmin, series[0][0].shape[1])\n",
    "x_axis = MpctoKpc*(0.5+np.arange(0, series[0][0].shape[1]))*dx     #np.linspace(0.5*dx, extent-xmin, series[0][0].shape[1])\n",
    "\n",
    "for data in series:\n",
    "    Mass= np.sum(data[1][massbin,1:]*(x_axis[1:]**2-x_axis[0:-1]**2)*np.pi)\n",
    "    Mass = Mass/cosmo.fb*Mpc/PcinMpc*mean_molecular_weight_electrons*mprot/msun*Mpc*Mpc/MpctoKpc**2\n",
    "    print(\"label = \", data[2], \" fractional mass = \", Mass/halomass, \" where total mass in 10^12 Msun is\", halomass/1e12)\n",
    "\"\"\""
   ]
  },
  {
   "cell_type": "markdown",
   "metadata": {},
   "source": [
    "## This makes the DM versus radius plot in Khan ++ 2022"
   ]
  },
  {
   "cell_type": "code",
   "execution_count": null,
   "metadata": {
    "scrolled": false
   },
   "outputs": [],
   "source": [
    "\n",
    "ymax = [129,309,799] #maximum y value in plot\n",
    "xmin = 25\n",
    "xmax = 999\n",
    "\n",
    "# Makes Profiles Plots\n",
    "makefig.make_DM_vs_Rad_profiles_plots(series, False, True, xmin, xmax, resolution, grid_size, M_chosen, vir_rad_ar, provider, avg_mass_ar, ymax, 'profiles')\n",
    "\n",
    "# Makes Error Version of the Plots\n",
    "makefig.make_DM_vs_Rad_profiles_plots([series[0], series[3]], True, False, xmin, xmax, resolution, grid_size, M_chosen, vir_rad_ar, provider, avg_mass_ar, ymax, 'profiles')\n"
   ]
  }
 ],
 "metadata": {
  "interpreter": {
   "hash": "3701b30a2faaf4cf2ac701ecc31fdc5a74f98cfc72de1a691b12a9d68265119f"
  },
  "kernelspec": {
   "display_name": "Python 3.8.8 64-bit ('base': conda)",
   "language": "python",
   "name": "python3"
  },
  "language_info": {
   "codemirror_mode": {
    "name": "ipython",
    "version": 3
   },
   "file_extension": ".py",
   "mimetype": "text/x-python",
   "name": "python",
   "nbconvert_exporter": "python",
   "pygments_lexer": "ipython3",
   "version": "3.7.1"
  }
 },
 "nbformat": 4,
 "nbformat_minor": 2
}
