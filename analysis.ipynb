{
 "cells": [
  {
   "cell_type": "code",
   "execution_count": null,
   "metadata": {},
   "outputs": [],
   "source": [
    "####################################################\n",
    "# This is a scratchpad for analysis of intermediate results in the CGMBrush library.\n",
    "####################################################\n",
    "\n",
    "# NOTE: Always clear results before checking in a jupyter notebook. This improves diff's.\n",
    "\n",
    "from cgmbrush.cgmbrush import *\n",
    "from cgmbrush.plots.plotting_routines import *\n",
    "import matplotlib.colors as colors\n",
    "from cgmbrush.cosmology import cosmology as cosmo\n",
    "from cgmbrush.cosmology import halo as halo\n",
    "\n",
    "%matplotlib inline\n"
   ]
  },
  {
   "cell_type": "code",
   "execution_count": null,
   "metadata": {},
   "outputs": [],
   "source": [
    "###################################################\n",
    "# Profile Mask Visualizer\n",
    "###################################################\n",
    "def view_mask(profile: CGMProfile, mass):\n",
    "\n",
    "    provider = BolshoiProvider()\n",
    "\n",
    "    # pick some parameters\n",
    "    redshift = 0 \n",
    "    resolution = 16\n",
    "    cellsize = provider.Lbox / (provider.halofieldresolution * resolution)\n",
    "    print(\"cellsize (kpc): %s\" % (cellsize * 1000))\n",
    "    fine_mask_len = 20 * resolution\n",
    "    fine_mask_len_small = 2 * resolution\n",
    "\n",
    "    comoving_rvir = halo.comoving_rvir(cosmo, mass, redshift)\n",
    "    print(\"co-moving virial radius (kpc): %s\" % (comoving_rvir * 1000))\n",
    "\n",
    "    mask = profile.get_mask(mass, comoving_rvir, redshift, resolution, 1, cellsize, fine_mask_len)\n",
    "    mask_small = profile.get_mask(mass, comoving_rvir, redshift, resolution, 1, cellsize, fine_mask_len_small)\n",
    "    fig, ax = plt.subplots(1,2,figsize=(24, 12))\n",
    "    pos = ax[0].imshow(mask)\n",
    "    pos = ax[1].imshow(mask_small)\n",
    "    ax[0].title.set_text('{} Profile, M=${:.1e}$'.format(profile.name, mass))\n",
    "    ax[1].title.set_text('{} Profile (zoomed), M=${:.1e}$'.format(profile.name, mass))\n",
    "    fig.colorbar(pos, ax=ax)\n",
    "\n",
    "# Choose a profile and mass\n",
    "view_mask(FireProfile(), 1E10) \n",
    "view_mask(FireProfile(), 1E14) \n",
    "view_mask(NFWProfile(), 1E10) \n",
    "view_mask(NFWProfile(), 1E14) "
   ]
  },
  {
   "cell_type": "code",
   "execution_count": null,
   "metadata": {},
   "outputs": [],
   "source": [
    "from cgmbrush import *\n",
    "def compareRadii(mass, z):\n",
    "    print(\"Mass {:.1e}, z={}\".format(mass, z))\n",
    "    a = halo.comoving_rvir(cosmo, mass, z)\n",
    "    b = halo.r200Mz(cosmo, mass, z)\n",
    "    print('  rVir:\\t{:.4f} Mpc'.format(a))\n",
    "    print('  r200:\\t{:.4f} Mpc'.format(b))\n",
    "    print('  difference:\\t{:.1f}%'.format((abs(b-a)) * 100 / b))\n",
    "\n",
    "masses = [1E10,1E13,1E15]\n",
    "redshifts = [0,0.5,1,2]\n",
    "\n",
    "for z in redshifts:\n",
    "    for m in masses:\n",
    "        compareRadii(m, z)"
   ]
  },
  {
   "cell_type": "code",
   "execution_count": null,
   "metadata": {},
   "outputs": [],
   "source": [
    "####################################################\n",
    "# Get a feel for halo masses for the simulation\n",
    "####################################################\n",
    "p = BolshoiProvider()\n",
    "halos = p.get_halos(0)\n",
    "print('Max: {:.2e}'.format(max(halos['Mvir'])))\n",
    "print(np.percentile(halos['Mvir'], [50,80,95,99,99.9,99.99,99.999]))\n"
   ]
  },
  {
   "cell_type": "code",
   "execution_count": null,
   "metadata": {},
   "outputs": [],
   "source": [
    "###################################################################################################\n",
    "#Simplified code that calculates the mass within the analytic profile \n",
    "#Currently it does this for fire and percipitation but can be easily generalized\n",
    "#\n",
    "#The vertical lines are the virial radius\n",
    "###################################################################################################\n",
    "from cgmbrush.cgmbrush import *\n",
    "%matplotlib inline\n",
    "import numpy as np\n",
    "import cgmbrush.plots.plotting_routines as makefig\n",
    "\n",
    "redshift = 0\n",
    "#df = provider.get_halos(redshift)\n",
    "#df, bin_markers = create_halo_array_for_convolution(df, 10**10, 9*10**15, 30)\n",
    "\n",
    "massfactor =   1/cosmo.fb*mu*mprot/msun*(Mpc)**3\n",
    "\n",
    "fp = FireProfile()\n",
    "percip = PrecipitationProfile()\n",
    "color = ['black','red', 'orange', 'blue', 'green', 'cyan', 'magenta', 'yellow', 'brown']\n",
    "nummass=6\n",
    "i=0\n",
    "for Mvir_avg in np.logspace(10, 15, nummass):\n",
    "\n",
    "    rvir = halo.comoving_rvir(cosmo, Mvir_avg, redshift)\n",
    "    rvalsFire, densityFire = fp.get_analytic_profile(Mvir_avg, redshift)\n",
    "    rvalsPercip, densityPercip = percip.get_analytic_profile(Mvir_avg, redshift)\n",
    "\n",
    "\n",
    "    totalmassanalyticFire = 4.*np.pi*np.sum(rvalsFire[1:]**2*densityFire[1:] *(rvalsFire[1:] - rvalsFire[:-1]))\n",
    "    totalmassanalyticPercip = 4.*np.pi*np.sum(rvalsPercip[1:]**2*densityPercip[1:]*(rvalsPercip[1:] - rvalsPercip[:-1]))\n",
    "    \n",
    "    totalmassanalyticFire *= massfactor\n",
    "    totalmassanalyticPercip *= massfactor\n",
    "    print(np.log10(Mvir_avg), \"massFire in 1e12 = \", totalmassanalyticFire/1e12, \" truth = \", Mvir_avg/1e12, \" ratio =\", totalmassanalyticFire/Mvir_avg)\n",
    "    print(np.log10(Mvir_avg), \"massPercip in 1e12 = \", totalmassanalyticPercip/1e12,  \" truth = \",  Mvir_avg/1e12,  \" ratio =\", totalmassanalyticPercip/Mvir_avg)\n",
    "    \n",
    "\n",
    "    plt.loglog(rvalsFire, densityFire, color=color[i%nummass])\n",
    "    plt.loglog(rvalsPercip, densityPercip, '--', color=color[i%nummass])\n",
    "    plt.axvline(rvir, color=color[i%nummass])\n",
    "    i+=1\n",
    "        \n",
    "\n",
    "plt.xlim([.01,3])"
   ]
  },
  {
   "cell_type": "code",
   "execution_count": null,
   "metadata": {},
   "outputs": [],
   "source": [
    "# Mass Bin Analysis\n",
    "a = np.logspace(np.log10(DEFAULT_MIN_MASS),np.log10(DEFAULT_MAX_MASS), DEFAULT_MASS_BIN_COUNT)\n",
    "print(a)\n",
    "#delta = 1.21164168\n"
   ]
  },
  {
   "cell_type": "code",
   "execution_count": null,
   "metadata": {},
   "outputs": [],
   "source": [
    "# Radial values (in kpc) for a DM vs R profile\n",
    "provider = BolshoiProvider()\n",
    "res = 32\n",
    "date = '2022-04-04'\n",
    "grid_size = 1024 * res\n",
    "DM_vs_R = loadArray('STH{}_256_{}_DMvsR_prof'.format(res, date))            \n",
    "cellsize = (provider.Lbox/grid_size) \n",
    "x_axis = radial_distances_kpc(cellsize, DM_vs_R.shape[1])\n",
    "saveArray('radial_distance_kpc_res32k', x_axis)\n",
    "\n",
    "loadArray('radial_distance_kpc_res32k')"
   ]
  },
  {
   "cell_type": "code",
   "execution_count": null,
   "metadata": {},
   "outputs": [],
   "source": []
  }
 ],
 "metadata": {
  "interpreter": {
   "hash": "843b3ea64dadd33c63cc6aae2bb10056a6a5bb9586b23146cad289d9c76c9a50"
  },
  "kernelspec": {
   "display_name": "Python 3 (ipykernel)",
   "language": "python",
   "name": "python3"
  },
  "language_info": {
   "codemirror_mode": {
    "name": "ipython",
    "version": 3
   },
   "file_extension": ".py",
   "mimetype": "text/x-python",
   "name": "python",
   "nbconvert_exporter": "python",
   "pygments_lexer": "ipython3",
   "version": "3.9.6"
  }
 },
 "nbformat": 4,
 "nbformat_minor": 2
}
