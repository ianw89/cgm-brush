{
 "cells": [
  {
   "cell_type": "code",
   "execution_count": null,
   "metadata": {},
   "outputs": [],
   "source": [
    "###################################################\n",
    "# Profile Mask Visualizer\n",
    "###################################################\n",
    "\n",
    "from cgmbrush.cgmbrush import *\n",
    "import matplotlib.colors as colors\n",
    "from cgmbrush.cosmology import cosmology as cosmo\n",
    "from cgmbrush.cosmology import halo as halo\n",
    "%matplotlib inline\n"
   ]
  },
  {
   "cell_type": "code",
   "execution_count": null,
   "metadata": {},
   "outputs": [],
   "source": [
    "def view_mask(profile: CGMProfile, mass):\n",
    "\n",
    "    provider = BolshoiProvider()\n",
    "\n",
    "    # pick some parameters\n",
    "    redshift = 0 \n",
    "    resolution = 16\n",
    "    cellsize = provider.Lbox / (provider.halofieldresolution * resolution)\n",
    "    print(\"cellsize (kpc): %s\" % (cellsize * 1000))\n",
    "    fine_mask_len = 20 * resolution\n",
    "    fine_mask_len_small = 2 * resolution\n",
    "\n",
    "    comoving_rvir = halo.comoving_rvir(cosmo, mass, redshift)\n",
    "    print(\"co-moving virial radius (kpc): %s\" % (comoving_rvir * 1000))\n",
    "\n",
    "    mask = profile.get_mask(mass, comoving_rvir, redshift, resolution, 1, cellsize, fine_mask_len)\n",
    "    mask_small = profile.get_mask(mass, comoving_rvir, redshift, resolution, 1, cellsize, fine_mask_len_small)\n",
    "    fig, ax = plt.subplots(1,2,figsize=(24, 12))\n",
    "    pos = ax[0].imshow(mask)\n",
    "    pos = ax[1].imshow(mask_small)\n",
    "    ax[0].title.set_text('{} Profile, M=${:.1e}$'.format(profile.name, mass))\n",
    "    ax[1].title.set_text('{} Profile (zoomed), M=${:.1e}$'.format(profile.name, mass))\n",
    "    fig.colorbar(pos, ax=ax)\n",
    "\n",
    "# Choose a profile and mass\n",
    "view_mask(FireProfile(), 1E10) \n",
    "view_mask(FireProfile(), 1E14) \n",
    "view_mask(NFWProfile(), 1E10) \n",
    "view_mask(NFWProfile(), 1E14) "
   ]
  },
  {
   "cell_type": "code",
   "execution_count": null,
   "metadata": {},
   "outputs": [],
   "source": [
    "from cgmbrush import *\n",
    "def compareRadii(mass, z):\n",
    "    print(\"Mass {:.1e}, z={}\".format(mass, z))\n",
    "    a = halo.comoving_rvir(cosmo, mass, z)\n",
    "    b = halo.r200Mz(cosmo, mass, z)\n",
    "    print('  rVir:\\t{:.4f} Mpc'.format(a))\n",
    "    print('  r200:\\t{:.4f} Mpc'.format(b))\n",
    "    print('  difference:\\t{:.1f}%'.format((abs(b-a)) * 100 / b))\n",
    "\n",
    "masses = [1E10,1E13,1E15]\n",
    "redshifts = [0,0.5,1,2]\n",
    "\n",
    "for z in redshifts:\n",
    "    for m in masses:\n",
    "        compareRadii(m, z)"
   ]
  },
  {
   "cell_type": "code",
   "execution_count": null,
   "metadata": {},
   "outputs": [],
   "source": [
    "provider = BolshoiProvider()\n",
    "halos = provider.get_halos(0)\n",
    "print(\"Max halo size: {:.1e}\".format(max(halos['Mvir'])))"
   ]
  },
  {
   "cell_type": "code",
   "execution_count": null,
   "metadata": {},
   "outputs": [],
   "source": []
  }
 ],
 "metadata": {
  "interpreter": {
   "hash": "843b3ea64dadd33c63cc6aae2bb10056a6a5bb9586b23146cad289d9c76c9a50"
  },
  "kernelspec": {
   "display_name": "Python 3 (ipykernel)",
   "language": "python",
   "name": "python3"
  },
  "language_info": {
   "codemirror_mode": {
    "name": "ipython",
    "version": 3
   },
   "file_extension": ".py",
   "mimetype": "text/x-python",
   "name": "python",
   "nbconvert_exporter": "python",
   "pygments_lexer": "ipython3",
   "version": "3.7.1"
  }
 },
 "nbformat": 4,
 "nbformat_minor": 2
}
