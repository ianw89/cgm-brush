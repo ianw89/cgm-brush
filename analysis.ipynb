{
 "cells": [
  {
   "cell_type": "code",
   "execution_count": 9,
   "metadata": {},
   "outputs": [],
   "source": [
    "###################################################\n",
    "# Profile Mask Visualizer\n",
    "###################################################\n",
    "\n",
    "from cgmbrush.cgmbrush import *\n",
    "import matplotlib.colors as colors\n"
   ]
  },
  {
   "cell_type": "code",
   "execution_count": 10,
   "metadata": {},
   "outputs": [
    {
     "name": "stdout",
     "output_type": "stream",
     "text": [
      "cellsize (Mpc): 0.04359654017857143\n",
      "0.73\n",
      "comoving radius: 0.56165108369923\n",
      "0.00014237149903218357\n"
     ]
    },
    {
     "data": {
      "text/plain": [
       "<matplotlib.colorbar.Colorbar at 0x7fb32ae1e790>"
      ]
     },
     "execution_count": 10,
     "metadata": {},
     "output_type": "execute_result"
    },
    {
     "data": {
      "image/png": "[encoded data removed]",
      "text/plain": [
       "<Figure size 864x864 with 2 Axes>"
      ]
     },
     "metadata": {
      "needs_background": "light"
     },
     "output_type": "display_data"
    }
   ],
   "source": [
    "profile = FireProfile() # Choose a profile\n",
    "\n",
    "# pick some parameters\n",
    "mass = 1E13 # solar masses\n",
    "redshift = 0 \n",
    "resolution = 8\n",
    "cellsize = L/(1024 * resolution)\n",
    "print(\"cellsize (Mpc): %s\" % cellsize)\n",
    "fine_mask_len = 20 * resolution\n",
    "comoving_radius = (1+redshift)*(mass**(1/3) / Rvir_den(redshift)) # what are the units...\n",
    "print(q(0))\n",
    "print(\"comoving radius: %s\" % comoving_radius)\n",
    "\n",
    "mask = profile.get_mask(mass, comoving_radius, redshift, resolution, 1, cellsize, fine_mask_len)\n",
    "fig, ax = plt.subplots(1,1,figsize=(12, 12))\n",
    "pos = ax.imshow(mask)#, norm=colors.LogNorm(vmin=1E-1, vmax=mask.max()))\n",
    "ax.title.set_text('Fine Mask, M=${:.1e}$'.format(mass))\n",
    "fig.colorbar(pos, ax=ax)"
   ]
  },
  {
   "cell_type": "code",
   "execution_count": 11,
   "metadata": {},
   "outputs": [
    {
     "name": "stdout",
     "output_type": "stream",
     "text": [
      "Mass 1.0e+10, redshift 0\n",
      " rVir:\t0.0562\n",
      " r200:\t0.0688\n",
      " difference:\t18.3%\n",
      "Mass 1.0e+13, redshift 0\n",
      " rVir:\t0.5617\n",
      " r200:\t0.6876\n",
      " difference:\t18.3%\n",
      "Mass 1.0e+15, redshift 0\n",
      " rVir:\t2.6070\n",
      " r200:\t3.1915\n",
      " difference:\t18.3%\n",
      "Mass 1.0e+10, redshift 0.5\n",
      " rVir:\t0.0642\n",
      " r200:\t0.0688\n",
      " difference:\t6.6%\n",
      "Mass 1.0e+13, redshift 0.5\n",
      " rVir:\t0.6422\n",
      " r200:\t0.6876\n",
      " difference:\t6.6%\n",
      "Mass 1.0e+15, redshift 0.5\n",
      " rVir:\t2.9807\n",
      " r200:\t3.1915\n",
      " difference:\t6.6%\n",
      "Mass 1.0e+10, redshift 1\n",
      " rVir:\t0.0675\n",
      " r200:\t0.0688\n",
      " difference:\t1.8%\n",
      "Mass 1.0e+13, redshift 1\n",
      " rVir:\t0.6754\n",
      " r200:\t0.6876\n",
      " difference:\t1.8%\n",
      "Mass 1.0e+15, redshift 1\n",
      " rVir:\t3.1348\n",
      " r200:\t3.1915\n",
      " difference:\t1.8%\n",
      "Mass 1.0e+10, redshift 2\n",
      " rVir:\t0.0698\n",
      " r200:\t0.0688\n",
      " difference:\t1.6%\n",
      "Mass 1.0e+13, redshift 2\n",
      " rVir:\t0.6984\n",
      " r200:\t0.6876\n",
      " difference:\t1.6%\n",
      "Mass 1.0e+15, redshift 2\n",
      " rVir:\t3.2417\n",
      " r200:\t3.1915\n",
      " difference:\t1.6%\n"
     ]
    }
   ],
   "source": [
    "from cgmbrush import *\n",
    "def compareRadii(mass, z):\n",
    "    print(\"Mass {:.1e}, redshift {}\".format(mass, z))\n",
    "    a = comoving_radius_for_halo(mass, z)\n",
    "    b = r200Mz(mass, z)\n",
    "    print(' rVir:\\t{:.4f}'.format(a))\n",
    "    print(' r200:\\t{:.4f}'.format(b))\n",
    "    print(' difference:\\t{:.1f}%'.format((abs(b-a)) * 100 / b))\n",
    "\n",
    "masses = [1E10,1E13,1E15]\n",
    "redshifts = [0,0.5,1,2]\n",
    "\n",
    "for z in redshifts:\n",
    "    for m in masses:\n",
    "        compareRadii(m, z)"
   ]
  },
  {
   "cell_type": "code",
   "execution_count": 12,
   "metadata": {},
   "outputs": [
    {
     "ename": "NameError",
     "evalue": "name 'fields_comparison_plot' is not defined",
     "output_type": "error",
     "traceback": [
      "\u001b[0;31m---------------------------------------------------------------------------\u001b[0m",
      "\u001b[0;31mNameError\u001b[0m                                 Traceback (most recent call last)",
      "\u001b[0;32m/var/folders/wm/r259x5453lgbh9fmt19f54940000gn/T/ipykernel_36869/3436697640.py\u001b[0m in \u001b[0;36m<module>\u001b[0;34m\u001b[0m\n\u001b[1;32m      9\u001b[0m \u001b[0mvmin\u001b[0m \u001b[0;34m=\u001b[0m \u001b[0;36m0\u001b[0m\u001b[0;34m\u001b[0m\u001b[0;34m\u001b[0m\u001b[0m\n\u001b[1;32m     10\u001b[0m \u001b[0mvmax\u001b[0m \u001b[0;34m=\u001b[0m \u001b[0;36m500\u001b[0m\u001b[0;34m\u001b[0m\u001b[0;34m\u001b[0m\u001b[0m\n\u001b[0;32m---> 11\u001b[0;31m \u001b[0mfig\u001b[0m\u001b[0;34m,\u001b[0m \u001b[0maxs\u001b[0m \u001b[0;34m=\u001b[0m \u001b[0mfields_comparison_plot\u001b[0m\u001b[0;34m(\u001b[0m\u001b[0;34m[\u001b[0m\u001b[0;34m(\u001b[0m\u001b[0;34m'FIRE - Calculate Interp'\u001b[0m\u001b[0;34m,\u001b[0m \u001b[0mNEW\u001b[0m\u001b[0;34m)\u001b[0m\u001b[0;34m,\u001b[0m \u001b[0;34m(\u001b[0m\u001b[0;34m'FIRE - Old Read Interp'\u001b[0m\u001b[0;34m,\u001b[0m \u001b[0mOLD\u001b[0m\u001b[0;34m)\u001b[0m\u001b[0;34m]\u001b[0m\u001b[0;34m,\u001b[0m \u001b[0mvmin\u001b[0m\u001b[0;34m,\u001b[0m \u001b[0mvmax\u001b[0m\u001b[0;34m)\u001b[0m\u001b[0;34m\u001b[0m\u001b[0;34m\u001b[0m\u001b[0m\n\u001b[0m",
      "\u001b[0;31mNameError\u001b[0m: name 'fields_comparison_plot' is not defined"
     ]
    }
   ],
   "source": [
    "p = BolshoiProvider()\n",
    "old = Configuration(FireProfile(), 1, provider = p, resolution=8)\n",
    "old.datestamp = '2021-11-01' \n",
    "#old.datestamp = '2021-11-16' # re ran it the old way today\n",
    "\n",
    "new = Configuration(FireProfile(), 1, provider = p, resolution=8)\n",
    "new.datestamp = '2021-11-08'\n",
    "\n",
    "vmin = 0\n",
    "vmax = 500\n",
    "fig, axs = fields_comparison_plot([('FIRE - Calculate Interp', NEW), ('FIRE - Old Read Interp', OLD)], vmin, vmax)\n"
   ]
  },
  {
   "cell_type": "code",
   "execution_count": null,
   "metadata": {},
   "outputs": [],
   "source": []
  }
 ],
 "metadata": {
  "interpreter": {
   "hash": "843b3ea64dadd33c63cc6aae2bb10056a6a5bb9586b23146cad289d9c76c9a50"
  },
  "kernelspec": {
   "display_name": "Python 3 (ipykernel)",
   "language": "python",
   "name": "python3"
  },
  "language_info": {
   "codemirror_mode": {
    "name": "ipython",
    "version": 3
   },
   "file_extension": ".py",
   "mimetype": "text/x-python",
   "name": "python",
   "nbconvert_exporter": "python",
   "pygments_lexer": "ipython3",
   "version": "3.7.11"
  }
 },
 "nbformat": 4,
 "nbformat_minor": 2
}
