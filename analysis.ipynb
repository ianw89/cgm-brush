{
 "cells": [
  {
   "cell_type": "code",
   "execution_count": null,
   "metadata": {},
   "outputs": [],
   "source": [
    "###################################################\n",
    "# Profile Mask Visualizer\n",
    "###################################################\n",
    "\n",
    "from cgmbrush.cgmbrush import *\n",
    "import matplotlib.colors as colors\n",
    "\n",
    "\n"
   ]
  },
  {
   "cell_type": "code",
   "execution_count": null,
   "metadata": {},
   "outputs": [],
   "source": [
    "profile = FireProfile() # Choose a profile\n",
    "\n",
    "# pick some parameters\n",
    "mass = 1E13 # solar masses\n",
    "redshift = 0 \n",
    "resolution = 8\n",
    "cellsize = L/(1024 * resolution)\n",
    "print(\"cellsize (Mpc): %s\" % cellsize)\n",
    "fine_mask_len = 20 * resolution\n",
    "comoving_radius = (1+redshift)*(mass**(1/3) / Rvir_den(redshift)) # what are the units...\n",
    "print(q(0))\n",
    "print(\"comoving radius: %s\" % comoving_radius)\n",
    "\n",
    "mask = profile.get_mask(mass, comoving_radius, redshift, resolution, 1, cellsize, fine_mask_len)\n",
    "fig, ax = plt.subplots(1,1,figsize=(12, 12))\n",
    "pos = ax.imshow(mask)#, norm=colors.LogNorm(vmin=1E-1, vmax=mask.max()))\n",
    "ax.title.set_text('Fine Mask, M=${:.1e}$'.format(mass))\n",
    "fig.colorbar(pos, ax=ax)"
   ]
  },
  {
   "cell_type": "code",
   "execution_count": null,
   "metadata": {},
   "outputs": [],
   "source": [
    "from cgmbrush import *\n",
    "def compareRadii(mass, z):\n",
    "    print(\"Mass {:.1e}, redshift {}\".format(mass, z))\n",
    "    a = comoving_radius_for_halo(mass, z)\n",
    "    b = r200Mz(mass, z)\n",
    "    print(' rVir:\\t{:.4f}'.format(a))\n",
    "    print(' r200:\\t{:.4f}'.format(b))\n",
    "    print(' difference:\\t{:.1f}%'.format((abs(b-a)) * 100 / b))\n",
    "\n",
    "masses = [1E10,1E13,1E15]\n",
    "redshifts = [0,0.5,1,2]\n",
    "\n",
    "for z in redshifts:\n",
    "    for m in masses:\n",
    "        compareRadii(m, z)"
   ]
  },
  {
   "cell_type": "code",
   "execution_count": null,
   "metadata": {},
   "outputs": [],
   "source": [
    "p = BolshoiProvider()\n",
    "old = Configuration(FireProfile(), 1, provider = p, resolution=8)\n",
    "old.datestamp = '2021-11-01' \n",
    "#old.datestamp = '2021-11-16' # re ran it the old way today\n",
    "\n",
    "new = Configuration(FireProfile(), 1, provider = p, resolution=8)\n",
    "new.datestamp = '2021-11-08'\n",
    "\n",
    "vmin = 0\n",
    "vmax = 500\n",
    "fig, axs = fields_comparison_plot([('FIRE - Calculate Interp', NEW), ('FIRE - Old Read Interp', OLD)], vmin, vmax)\n"
   ]
  },
  {
   "cell_type": "code",
   "execution_count": null,
   "metadata": {},
   "outputs": [],
   "source": []
  }
 ],
 "metadata": {
  "interpreter": {
   "hash": "843b3ea64dadd33c63cc6aae2bb10056a6a5bb9586b23146cad289d9c76c9a50"
  },
  "kernelspec": {
   "display_name": "Python 3",
   "language": "python",
   "name": "python3"
  },
  "language_info": {
   "codemirror_mode": {
    "name": "ipython",
    "version": 3
   },
   "file_extension": ".py",
   "mimetype": "text/x-python",
   "name": "python",
   "nbconvert_exporter": "python",
   "pygments_lexer": "ipython3",
   "version": "3.8.8"
  }
 },
 "nbformat": 4,
 "nbformat_minor": 2
}
