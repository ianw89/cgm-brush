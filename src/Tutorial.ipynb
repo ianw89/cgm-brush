{
 "cells": [
  {
   "cell_type": "markdown",
   "source": [
    "# CGM Brush Tutorial"
   ],
   "metadata": {}
  },
  {
   "cell_type": "code",
   "execution_count": null,
   "source": [
    "from cgmbrush import *"
   ],
   "outputs": [],
   "metadata": {}
  },
  {
   "cell_type": "code",
   "execution_count": null,
   "source": [
    "config = Configuration(PrecipitationProfile(), 1, resolution=2, provider=BolshoiProvider())\n",
    "config.run(load_from_files=True)"
   ],
   "outputs": [],
   "metadata": {}
  },
  {
   "cell_type": "code",
   "execution_count": null,
   "source": [
    "\n",
    "print(np.shape(config.results['massbin_histograms']))\n",
    "print(config.results['final_density_field'].shape)\n",
    "print(config.results['add_masks'].shape)\n",
    "print(config.results['sub_coarse'].shape)\n",
    "print(config.results['add_density_field'].shape)\n",
    "print(config.results['removed_density_field'].shape)\n",
    "print(config.results['stacked_density_field'].shape)\n",
    "print(config.results['vir_radii'].shape)\n",
    "print(config.results['halo_masses'].shape)\n"
   ],
   "outputs": [],
   "metadata": {}
  },
  {
   "cell_type": "code",
   "execution_count": null,
   "source": [
    "# You can view the masks created from the CGM Profile for each mass bin like this.\n",
    "fig, ax = plt.subplots(1,3,figsize=(24, 8))\n",
    "ax[0].imshow(config.results['add_masks'][0][2]) # light halo\n",
    "ax[1].imshow(config.results['add_masks'][0][15]) # med halo\n",
    "ax[2].imshow(config.results['add_masks'][0][28]) # big halo\n",
    "\n",
    "fig"
   ],
   "outputs": [],
   "metadata": {}
  }
 ],
 "metadata": {
  "orig_nbformat": 4,
  "language_info": {
   "name": "python",
   "version": "3.7.1",
   "mimetype": "text/x-python",
   "codemirror_mode": {
    "name": "ipython",
    "version": 3
   },
   "pygments_lexer": "ipython3",
   "nbconvert_exporter": "python",
   "file_extension": ".py"
  },
  "kernelspec": {
   "name": "python3",
   "display_name": "Python 3.7.1 64-bit"
  },
  "interpreter": {
   "hash": "e774977668b7c0ae8309835a5187aa7fbf7669e7d0bb59755bc63e573643edcd"
  }
 },
 "nbformat": 4,
 "nbformat_minor": 2
}