{
 "cells": [
  {
   "cell_type": "markdown",
   "source": [
    "# CGM Brush Tutorial"
   ],
   "metadata": {}
  },
  {
   "cell_type": "code",
   "execution_count": null,
   "source": [
    "from cgmbrush import *\n"
   ],
   "outputs": [],
   "metadata": {}
  },
  {
   "cell_type": "code",
   "execution_count": null,
   "source": [
    "min_mass = 10**10 # TODO into config\n",
    "max_mass = 10**14.5\n",
    "log_bins = 30\n",
    "config = Configuration('tophat_spherical', 1, resolution=1, file_prefix='STH', load_from_files=False)\n",
    "provider = BolshoiProvider()\n",
    "filename = config.file_prefix + str(config.resolution) + '_' + str(config.den_grid_size)\n",
    "\n",
    "# Load from saved off numpy files to avoid re-computing it all\n",
    "if config.load_from_files:\n",
    "    try:\n",
    "        config.results = loadArray(filename + \".npy\")\n",
    "        \n",
    "    except IOError:\n",
    "        print(\"Cache miss: \" + filename)\n",
    "        #pass # File cache doesn't exist, swallow and compute it instead\n",
    "\n",
    "if config.results == None:\n",
    "    print(\"Performing Calculations for \" + filename)\n",
    "                         \n",
    "    config.results = hist_profile(config.provider, config.den_grid_size, config.RS_array, min_mass, \n",
    "                                        max_mass, log_bins, config.subtraction_halo_profile, \n",
    "                                        config.addition_halo_profile, config.scaling_radius, config.resolution)\n",
    "\n",
    "    saveArray(filename, *config.results)\n"
   ],
   "outputs": [],
   "metadata": {}
  }
 ],
 "metadata": {
  "orig_nbformat": 4,
  "language_info": {
   "name": "python",
   "version": "3.7.1",
   "mimetype": "text/x-python",
   "codemirror_mode": {
    "name": "ipython",
    "version": 3
   },
   "pygments_lexer": "ipython3",
   "nbconvert_exporter": "python",
   "file_extension": ".py"
  },
  "kernelspec": {
   "name": "python3",
   "display_name": "Python 3.7.1 64-bit"
  },
  "interpreter": {
   "hash": "aee8b7b246df8f9039afb4144a1f6fd8d2ca17a180786b69acc140d282b71a49"
  }
 },
 "nbformat": 4,
 "nbformat_minor": 2
}