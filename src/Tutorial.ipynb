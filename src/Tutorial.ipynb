{
 "cells": [
  {
   "cell_type": "markdown",
   "metadata": {},
   "source": [
    "# CGM Brush Tutorial"
   ]
  },
  {
   "cell_type": "code",
   "execution_count": null,
   "metadata": {},
   "outputs": [],
   "source": [
    "from cgmbrush import *"
   ]
  },
  {
   "cell_type": "code",
   "execution_count": null,
   "metadata": {},
   "outputs": [],
   "source": [
    "config = Configuration(PrecipitationProfile(), 1, resolution=2, provider=BolshoiProvider())\n",
    "config.run(load_from_files=True)"
   ]
  },
  {
   "cell_type": "code",
   "execution_count": null,
   "metadata": {},
   "outputs": [],
   "source": [
    "\n",
    "print(config.results['final_density_field'].shape)\n",
    "print(config.results['add_masks'].shape)\n",
    "print(config.results['sub_coarse'].shape)\n",
    "print(config.results['add_density_field'].shape)\n",
    "print(config.results['removed_density_field'].shape)\n",
    "print(config.results['vir_radii'].shape)\n",
    "print(config.results['halo_masses'].shape)\n"
   ]
  },
  {
   "cell_type": "code",
   "execution_count": null,
   "metadata": {},
   "outputs": [],
   "source": [
    "# You can view the masks created from the CGM Profile for each mass bin like this.\n",
    "fig, ax = plt.subplots(1,3,figsize=(24, 8))\n",
    "ax[0].imshow(config.results['add_masks'][0][2]) # light halo\n",
    "ax[1].imshow(config.results['add_masks'][0][15]) # med halo\n",
    "ax[2].imshow(config.results['add_masks'][0][28]) # big halo\n",
    "\n",
    "fig"
   ]
  },
  {
   "cell_type": "code",
   "execution_count": null,
   "metadata": {},
   "outputs": [],
   "source": [
    "config.generate_DM_vs_radius_profile(load_from_files=True)\n",
    "print(config.DM_vs_R1)"
   ]
  },
  {
   "cell_type": "code",
   "execution_count": null,
   "metadata": {},
   "outputs": [],
   "source": [
    "config.generate_profile_of_masks(load_from_files=True)\n",
    "print(config.mask_profiles)"
   ]
  }
 ],
 "metadata": {
  "interpreter": {
   "hash": "e774977668b7c0ae8309835a5187aa7fbf7669e7d0bb59755bc63e573643edcd"
  },
  "kernelspec": {
   "display_name": "Python 3.7.1 64-bit",
   "name": "python3"
  },
  "language_info": {
   "codemirror_mode": {
    "name": "ipython",
    "version": 3
   },
   "file_extension": ".py",
   "mimetype": "text/x-python",
   "name": "python",
   "nbconvert_exporter": "python",
   "pygments_lexer": "ipython3",
   "version": "3.7.1"
  },
  "orig_nbformat": 4
 },
 "nbformat": 4,
 "nbformat_minor": 2
}
