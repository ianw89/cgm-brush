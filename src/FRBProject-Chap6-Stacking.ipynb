{
 "cells": [
  {
   "cell_type": "code",
   "execution_count": 62,
   "source": [
    "# imports packages\n",
    "from __future__ import print_function \n",
    "import matplotlib.pyplot as plt\n",
    "import numpy as np\n",
    "%matplotlib inline\n",
    "import pandas as pd\n",
    "#import csv\n",
    "import random\n",
    "import scipy.integrate as integrate\n",
    "from numpy import genfromtxt\n",
    "from random import randrange\n",
    "from numpy.polynomial import Polynomial as P\n",
    "from IPython.display import Latex\n",
    "from cgmbrush import *\n"
   ],
   "outputs": [],
   "metadata": {}
  },
  {
   "cell_type": "markdown",
   "source": [
    "# Single array to create a file of histogram and stack out to a redshift"
   ],
   "metadata": {}
  },
  {
   "cell_type": "code",
   "execution_count": 1752,
   "source": [
    "av_RS_ar = np.zeros([10])\n",
    "for i in range(1,11):\n",
    "    av_RS_ar[i-1] = avgZ(i)\n",
    "    \n",
    "\n",
    "av_RS_ar"
   ],
   "outputs": [],
   "metadata": {}
  },
  {
   "cell_type": "markdown",
   "source": [
    "## Translate arrays by random number"
   ],
   "metadata": {}
  },
  {
   "cell_type": "code",
   "execution_count": 10,
   "source": [
    "# def translate_array(array,seed_x,seed_y):\n",
    "def translate_array(array):\n",
    "    \n",
    "    # Dimension of input array\n",
    "    dim1 = array.shape[0]\n",
    "    translated_array= np.zeros([dim1,dim1])\n",
    "    \n",
    "    # Random number to translate the list by\n",
    "    #random.seed(seed_x)\n",
    "    trans_x = random.randint(int(dim1/4),dim1)\n",
    "    #random.seed(seed_y)\n",
    "    trans_y = random.randint(int(dim1/4),dim1)\n",
    "    \n",
    "    \n",
    "    for i in range(0,dim1):\n",
    "        for j in range(0,dim1):\n",
    "                translated_array[i,j] = array[(i+trans_x)%dim1,(j+trans_y)%dim1]\n",
    "    \n",
    "    return translated_array\n",
    "\n"
   ],
   "outputs": [],
   "metadata": {}
  },
  {
   "cell_type": "code",
   "execution_count": 5,
   "source": [
    "def empty_stack(num_boxes,dim):\n",
    "    empty_array = np.zeros([num_boxes,dim,dim])\n",
    "    return empty_array"
   ],
   "outputs": [],
   "metadata": {}
  },
  {
   "cell_type": "code",
   "execution_count": 6,
   "source": [
    "def complete_stacking(stack,to_redshift):\n",
    "    \n",
    "    dim_stack = stack.shape[0]\n",
    "    \n",
    "    num_arrays_to_stack=int(numBoxes(to_redshift))\n",
    "    empty_array_for_stacking = empty_stack(num_arrays_to_stack,dim_stack)\n",
    "\n",
    "\n",
    "    empty_array_for_stacking[0,:,:] = stack*(1+avgZ(1))\n",
    "    for i in range(1,num_arrays_to_stack):\n",
    "        translated_stack = translate_array(stack)*(1+avgZ(i+1))\n",
    "        empty_array_for_stacking[i,:,:] = translated_stack\n",
    "    \n",
    "\n",
    "\n",
    "    stacked_array = sum(empty_array_for_stacking[:,:,:]) # sums the outermost array\n",
    "    \n",
    "    return stacked_array\n",
    "\n",
    "    "
   ],
   "outputs": [],
   "metadata": {}
  },
  {
   "cell_type": "markdown",
   "source": [
    "# Stack all arrays"
   ],
   "metadata": {}
  },
  {
   "cell_type": "code",
   "execution_count": 12,
   "source": [
    "# Translate and redshift arrays \n",
    "\n",
    "def stack_all_arrays(halos_reAdded,RS_array):\n",
    "    \n",
    "    resolution= np.shape(halos_reAdded)[-1]\n",
    "    halos_reAdded_translated = np.zeros([len(RS_array),resolution,resolution])\n",
    "    halos_reAdded_translated[0,:,:] = redshifted_DM(halos_reAdded[0,:,:],RS_array[0])\n",
    "    \n",
    "    for i in range(1, len(RS_array)):\n",
    "        halos_reAdded_translated[i,:,:] = redshifted_DM(translate_array(halos_reAdded[i,:,:]),RS_array[i]) # 10,10 are seeds to generate random numbers\n",
    "    \n",
    "    \n",
    "    return halos_reAdded_translated"
   ],
   "outputs": [],
   "metadata": {}
  },
  {
   "cell_type": "code",
   "execution_count": null,
   "source": [
    "def create_histograms(halos_reAdded_translated,resolution):\n",
    "    nbin=80\n",
    "    hist = histArray(sum(halos_reAdded_translated[:,:,:]),nbin,int(resolution),0,3*np.mean(sum(halos_reAdded_translated[:,:,:])))\n",
    "\n",
    "    return hist\n",
    "\n",
    "\n",
    "\n",
    "\n",
    "# Create histogram for the stack without min and max defined\n",
    "\n",
    "# def create_histograms(halos_reAdded_translated,resolution):\n",
    "#     nbin=1000\n",
    "#     hist = histArray(sum(halos_reAdded_translated[:,:,:]),nbin,int(1024*resolution))\n",
    "\n",
    "#     return hist"
   ],
   "outputs": [],
   "metadata": {}
  },
  {
   "cell_type": "markdown",
   "source": [],
   "metadata": {}
  },
  {
   "cell_type": "code",
   "execution_count": null,
   "source": [],
   "outputs": [],
   "metadata": {}
  }
 ],
 "metadata": {
  "kernelspec": {
   "display_name": "Python 3",
   "language": "python",
   "name": "python3"
  },
  "language_info": {
   "codemirror_mode": {
    "name": "ipython",
    "version": 3
   },
   "file_extension": ".py",
   "mimetype": "text/x-python",
   "name": "python",
   "nbconvert_exporter": "python",
   "pygments_lexer": "ipython3",
   "version": "3.7.6"
  }
 },
 "nbformat": 4,
 "nbformat_minor": 2
}