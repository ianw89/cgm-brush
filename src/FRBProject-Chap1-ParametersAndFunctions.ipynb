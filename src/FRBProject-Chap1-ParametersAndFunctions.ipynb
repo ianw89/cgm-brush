{
 "cells": [
  {
   "cell_type": "code",
   "execution_count": 18,
   "metadata": {},
   "outputs": [],
   "source": [
    "# imports packages\n",
    "from __future__ import print_function \n",
    "import matplotlib.pyplot as plt\n",
    "import numpy as np\n",
    "%matplotlib inline\n",
    "import pandas as pd\n",
    "#import csv\n",
    "import random\n",
    "import scipy.integrate as integrate\n",
    "from numpy import genfromtxt\n",
    "from random import randrange\n",
    "from numpy.polynomial import Polynomial as P\n",
    "from IPython.display import Latex\n"
   ]
  },
  {
   "cell_type": "markdown",
   "metadata": {},
   "source": [
    "# Parameters, constants, and functions"
   ]
  },
  {
   "cell_type": "code",
   "execution_count": 19,
   "metadata": {},
   "outputs": [],
   "source": [
    "#cosmological parameters and constants\n",
    "\n",
    "\n",
    "# constants\n",
    "\n",
    "Mpc = 3.096*10**24 # cm\n",
    "msun=1.9891 * 10**30 #kilograms\n",
    "mprot= 1.6726219 * 10**-27 #kilograms\n",
    "Yhe =.25\n",
    "nPS=msun/mprot*(1-Yhe/2) # accounts for the fact that some mass is in helium\n",
    "lightspeed = 3e5 #km/s\n",
    "pi=np.pi\n",
    "\n",
    "\n",
    "\n",
    "\n",
    "#cosmological parameters\n",
    "\n",
    "z=0\n",
    "h=.7\n",
    "rho_c = 9.31000324385361 *10**(-30) * (Mpc**3 / (msun*1000))*(h/.7)**2 # M./Mpc^3 from #pcrit = 9.31000324385361e-30 g / cm3\n",
    "OmegaM = 0.27\n",
    "OmegaL = 1- OmegaM #assumes flat universe\n",
    "OmegaB= 0.0469 \n",
    "rho_m=OmegaM*rho_c\n",
    "fd = 1 # fraction of baryons in diffused ionized gas (FRB paper)\n",
    "\n",
    "def rhoB(z):\n",
    "    return OmegaB*rho_c*(1+z)**3\n",
    "\n",
    "def rhoM(z):\n",
    "    return OmegaM*rho_c*(1+z)**3\n",
    "\n",
    "# units: #/cm^3\n",
    "def elecD(z):\n",
    "    return fd*rhoB(z)*(1-Yhe/2)/(mprot/msun)/Mpc**3\n"
   ]
  },
  {
   "cell_type": "markdown",
   "metadata": {},
   "source": [
    "# Configuration of the simulation"
   ]
  },
  {
   "cell_type": "code",
   "execution_count": 191,
   "metadata": {},
   "outputs": [],
   "source": [
    "\n",
    "L=250/h # length of box in Mpc\n",
    "Ncel= 256  # number of cells of density field\n",
    "dx= L/Ncel # width of each cell\n",
    "V= dx**3 # volume of each cell"
   ]
  },
  {
   "cell_type": "markdown",
   "metadata": {},
   "source": [
    "# Properties of halos"
   ]
  },
  {
   "cell_type": "code",
   "execution_count": 22,
   "metadata": {},
   "outputs": [],
   "source": [
    "\n",
    "# Concentration c of a halo:\n",
    "def halo_conc(redshift,halo_mass):\n",
    "    return (9/(1+redshift))*(halo_mass/(5*10**12))**-0.13  #MM added the exponent\n",
    "\n",
    "\n",
    "# function for rho_0 of NFW\n",
    "def rho_0(redshift,halo_mass,R_s):\n",
    "    c=halo_conc(redshift,halo_mass)\n",
    "    return halo_mass/ (4*pi*R_s*(np.log(1+c) - c/(1+c)))\n"
   ]
  },
  {
   "cell_type": "code",
   "execution_count": 23,
   "metadata": {},
   "outputs": [],
   "source": [
    "# virial radius of a halo: \n",
    "\n",
    "def q(z):\n",
    "    return OmegaL/ ((OmegaM*(1+z)**3)+ OmegaL)  \n",
    "\n",
    "def rho_vir(z):\n",
    "    return (18*pi**2 - 82*q(z) - 39*q(z)**2)*(rho_c*(OmegaL + OmegaM *(1+z)**3))\n",
    "\n",
    "\n",
    "def Rvir_den(z):\n",
    "    return (4/3 * np.pi * rho_vir(z))**(1/3) # physical, units in 1/r**3\n",
    "\n",
    "\n",
    "\n",
    "\n",
    "# q = OmegaL/ ((OmegaM*(1+z)**3)+ OmegaL)  \n",
    "# rho_vir = (18*pi**2 - 82*q - 39*q**2)*(rho_c*(OmegaL + OmegaM *(1+z)**3))\n",
    "\n",
    "#print(18*pi**2 - 82*q - 39*q**2, z)\n",
    "# Rvir_den = (4/3 * np.pi * rho_vir)**(1/3) # physical, units in 1/r**3"
   ]
  },
  {
   "cell_type": "markdown",
   "metadata": {},
   "source": [
    "# Histogram functions"
   ]
  },
  {
   "cell_type": "code",
   "execution_count": 24,
   "metadata": {},
   "outputs": [],
   "source": [
    "\n",
    "# The function takes an array, bins, and number of cells, and creates a histogram\n",
    "\n",
    "\n",
    "# Histogram array with min and max defined\n",
    "def histArray(arr,nbin,Ncel,DMmin,DMmax):\n",
    "    hist, bins = np.histogram(arr,bins=nbin,range=(DMmin, DMmax))\n",
    "    dv=bins[1]-bins[0]\n",
    "    hist=(hist)/(dv*Ncel**2)\n",
    "    cumulative = (np.cumsum(hist)*dv)\n",
    "    center = (bins[:-1] + bins[1:]) / 2\n",
    "    return center, hist, cumulative[-1]\n",
    "\n",
    "\n",
    "# Histogram array without min and max\n",
    "# def histArray(arr,nbin,Ncel):\n",
    "#     hist, bins = np.histogram(arr,bins=nbin)#,range= (np.mean(arr),5*np.mean(arr)))\n",
    "#     dv=bins[1]-bins[0]\n",
    "#     hist=(hist)/(dv*Ncel**2)\n",
    "#     cumulative = (np.cumsum(hist)*dv)\n",
    "#     center = (bins[:-1] + bins[1:]) / 2\n",
    "#     return center, hist, cumulative[-1]\n",
    "\n",
    "# plots the histogram of the dispersion measures\n",
    "def plothist(arr,nbin,xmin,xmax,title,Ncel):\n",
    "    hist, bins = np.histogram(arr,bins=nbin)\n",
    "    dv=bins[1]-bins[0]\n",
    "    hist=(hist)/(dv*Ncel**2)\n",
    "    width = 0.7 * (bins[1] - bins[0])\n",
    "    center = (bins[:-1] + bins[1:]) / 2\n",
    "    plt.bar(center, hist, align='center', width=width)\n",
    "    plt.xlim(xmin=xmin,xmax=xmax)\n",
    "    plt.title(title)\n",
    "    plt.show()\n",
    "\n",
    "    \n",
    "\n",
    "def plothist2(arr,nbin,xmin,xmax,title):\n",
    "    for i in range(len(arr[:,0,0])):    \n",
    "        hist, bins = np.histogram(arr[i,:,:],bins=nbin)\n",
    "        width = 0.7 * (bins[1] - bins[0])\n",
    "        center = (bins[:-1] + bins[1:]) / 2\n",
    "        #plt.bar(center, hist, align='center', width=width)\n",
    "        plt.plot(center, hist)\n",
    "        plt.xlim(xmin=xmin,xmax=xmax)\n",
    "        plt.title(title)\n",
    "    plt.legend(loc='upper right')\n",
    "    plt.show()\n",
    "\n"
   ]
  },
  {
   "cell_type": "markdown",
   "metadata": {},
   "source": [
    "# Function to create arrays with an upper and lower bound for halo mass"
   ]
  },
  {
   "cell_type": "code",
   "execution_count": 25,
   "metadata": {},
   "outputs": [],
   "source": [
    "# min, max in solar masses\n",
    "\n",
    "def haloArray_minmax(pdHalosN,min, max):\n",
    "    pdHalosN=pdHalosN.drop(pdHalosN[pdHalosN.Mvir < min].index)\n",
    "    pdHalosN=pdHalosN.drop(pdHalosN[pdHalosN.Mvir > max].index)\n",
    "    return pdHalosN\n"
   ]
  },
  {
   "cell_type": "markdown",
   "metadata": {},
   "source": [
    "# Cosmology functions"
   ]
  },
  {
   "cell_type": "code",
   "execution_count": 26,
   "metadata": {},
   "outputs": [],
   "source": [
    "#cosmology functions\n",
    "\n",
    "RadtoSec= 206265; #radians to arsec\n",
    "\n",
    "def Hz(z):\n",
    "    return 100*h*(OmegaM*(1+z)**3 + OmegaL)**.5\n",
    "\n",
    "\n",
    "#conformal distance is comoving distance\n",
    "\n",
    "def Dconf(z):\n",
    "    return lightspeed*integrate.romberg(dConfDistdz,0,z) #integrates a function with given variables\n",
    "\n",
    "def dConfDistdz(z):\n",
    "    return 1./(Hz(z))\n",
    "\n",
    "\n",
    "#angular diameter distance\n",
    "def DA(z):\n",
    "    return Dconf(z)/(1+z)\n",
    "\n",
    "#angular size\n",
    "def AS(z,GRadius):\n",
    "    return GRadius/(DA(z))\n",
    "\n",
    "    \n",
    "# comoving horizon\n",
    "def Dconf2(z):\n",
    "    return lightspeed*integrate.quad(dConfDistdz,z,np.inf)[0]\n"
   ]
  },
  {
   "cell_type": "markdown",
   "metadata": {},
   "source": [
    "# Miscelaneous functions"
   ]
  },
  {
   "cell_type": "code",
   "execution_count": 154,
   "metadata": {},
   "outputs": [],
   "source": [
    "# Dispersion measure: analytical function\n",
    "\n",
    "def DM_analytical(z):\n",
    "    return lightspeed* integrate.romberg(integrandDM,0,z) #integrates a function with given variables\n",
    "\n",
    "\n",
    "# integrand of dispersion measure\n",
    "def integrandDM(z):\n",
    "    return 10**6*dConfDistdz(z)*elecD(z)/(1+z)**2 \n",
    "\n",
    "\n",
    "# normalize DM\n",
    "def normDM(DM,z):\n",
    "    return DM *10**6* dx* elecD(z) /(1+z)**2  # Psc cm-2\n",
    "\n",
    "\n",
    "def redshifted_DM(DM,z):\n",
    "    return DM *(1+z)  # Psc cm-2\n",
    "\n",
    "\n",
    "# finding redshift for comoving distance\n",
    "def RSvsCDar(z):\n",
    "    RSvsCD = np.zeros((100,2))\n",
    "    ar=np.linspace(0,z,100)\n",
    "    for i in range(0,len(ar)):\n",
    "        RSvsCD[i,0] = ar[i]\n",
    "        RSvsCD[i,1] = Dconf(ar[i])\n",
    "    return RSvsCD\n",
    "\n",
    "\n",
    "\n",
    "# function to get redshift from the comoving distance by interpolating upto z, returns Mpc/h \n",
    "def CDtoRS(CD,z):\n",
    "    x = RSvsCDar(z)[:,0]\n",
    "    y = RSvsCDar(z)[:,1]\n",
    "    p = P.fit(x, y, 2)\n",
    "    return ((p - CD).roots()[0])\n",
    "    \n",
    "\n",
    "    \n",
    "# number of boxes needed for a given redshift\n",
    "def numBoxes(z):\n",
    "    return float(round(Dconf(z)/(L)))\n",
    "\n",
    "\n",
    "# finds electron density for a given box number n of the stack\n",
    "def elecDforBox(n):\n",
    "    avgZ = (CDtoRS(n*L,1)+CDtoRS((n-1)*L,1))/2\n",
    "    return elecD(avgZ)\n",
    "\n",
    "\n",
    "\n",
    "def avgZ(n): \n",
    "    return max((CDtoRS(n*L,1)+CDtoRS((n-1)*L,1))/2,0)\n",
    "\n",
    "# normalizes DM for a given box and accounts for electron density \n",
    "def normDM(DM,z):\n",
    "    return (DM) *10**6* dx* elecD(z) /(1+z)**2  # Psc cm-2\n",
    "\n",
    "\n",
    "    \n",
    "def z_eff(zmin,zmax,L_box):\n",
    "    return ((DM_analytical(zmax)-DM_analytical(zmin))/((L_box*10**6)*elecD(0)))**(1) - 1"
   ]
  },
  {
   "cell_type": "code",
   "execution_count": 180,
   "metadata": {},
   "outputs": [],
   "source": [
    "def RS_array_gen(z_max,L):\n",
    "    \n",
    "    \n",
    "    RS_array = []\n",
    "    RS_array.append(CDtoRS(L,1))\n",
    "    for i in range(1,int(numBoxes(z_max))):\n",
    "        RS_array.append(z_eff(CDtoRS(float(L*i),z_max),CDtoRS(float(L*(i+1)),z_max),L))\n",
    "    \n",
    "    return RS_array\n",
    "\n",
    "    "
   ]
  },
  {
   "cell_type": "markdown",
   "metadata": {},
   "source": [
    "## Testing\n"
   ]
  },
  {
   "cell_type": "markdown",
   "metadata": {},
   "source": [
    "RS_array = np.zeros(9)\n",
    "RS_array[0] = CDtoRS(L,1)\n",
    "for i in range(1,len(RS_array)):\n",
    "    RS_array[i]= z_eff(CDtoRS(float(L*i),2),CDtoRS(float(L*(i+1)),2),L)\n",
    "    \n",
    "    "
   ]
  },
  {
   "cell_type": "markdown",
   "metadata": {},
   "source": [
    "z_eff(CDtoRS(L*3,1),CDtoRS(L*4,1),L)"
   ]
  },
  {
   "cell_type": "markdown",
   "metadata": {},
   "source": [
    "len(RS_array_gen(1,L))"
   ]
  },
  {
   "cell_type": "markdown",
   "metadata": {},
   "source": [
    "elecD(0)*L*10**6"
   ]
  },
  {
   "cell_type": "markdown",
   "metadata": {},
   "source": [
    "L"
   ]
  },
  {
   "cell_type": "markdown",
   "metadata": {},
   "source": [
    "Lbox = int_zmin^zmax  c dz/H(z)\n",
    "Lbox~ cdz/H(z)\n"
   ]
  },
  {
   "cell_type": "markdown",
   "metadata": {},
   "source": [
    "Dconf(1)-Dconf(0.865)"
   ]
  },
  {
   "cell_type": "markdown",
   "metadata": {},
   "source": [
    "CDtoRS(250*15,1)"
   ]
  },
  {
   "cell_type": "markdown",
   "metadata": {},
   "source": [
    "CDtoRS(357,1)"
   ]
  },
  {
   "cell_type": "markdown",
   "metadata": {},
   "source": [
    "CDtoRS(L,1)"
   ]
  },
  {
   "cell_type": "markdown",
   "metadata": {},
   "source": [
    "CD"
   ]
  }
 ],
 "metadata": {
  "kernelspec": {
   "display_name": "Python 3",
   "language": "python",
   "name": "python3"
  },
  "language_info": {
   "codemirror_mode": {
    "name": "ipython",
    "version": 3
   },
   "file_extension": ".py",
   "mimetype": "text/x-python",
   "name": "python",
   "nbconvert_exporter": "python",
   "pygments_lexer": "ipython3",
   "version": "3.7.1"
  }
 },
 "nbformat": 4,
 "nbformat_minor": 2
}
