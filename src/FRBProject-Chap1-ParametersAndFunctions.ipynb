{
 "cells": [
  {
   "cell_type": "code",
   "execution_count": 2,
   "source": [
    "# imports packages\n",
    "from __future__ import print_function \n",
    "import matplotlib.pyplot as plt\n",
    "import numpy as np\n",
    "%matplotlib inline\n",
    "import scipy.integrate as integrate\n",
    "from numpy.polynomial import Polynomial as P\n",
    "from cgmbrush import *"
   ],
   "outputs": [],
   "metadata": {}
  },
  {
   "cell_type": "markdown",
   "source": [
    "## Testing\n"
   ],
   "metadata": {}
  },
  {
   "cell_type": "markdown",
   "source": [
    "RS_array = np.zeros(9)\n",
    "RS_array[0] = CDtoRS(L,1)\n",
    "for i in range(1,len(RS_array)):\n",
    "    RS_array[i]= z_eff(CDtoRS(float(L*i),2),CDtoRS(float(L*(i+1)),2),L)\n",
    "    \n",
    "    "
   ],
   "metadata": {}
  },
  {
   "cell_type": "markdown",
   "source": [
    "z_eff(CDtoRS(L*3,1),CDtoRS(L*4,1),L)"
   ],
   "metadata": {}
  },
  {
   "cell_type": "markdown",
   "source": [
    "len(RS_array_gen(1,L))"
   ],
   "metadata": {}
  },
  {
   "cell_type": "markdown",
   "source": [
    "elecD(0)*L*10**6"
   ],
   "metadata": {}
  },
  {
   "cell_type": "markdown",
   "source": [
    "L"
   ],
   "metadata": {}
  },
  {
   "cell_type": "markdown",
   "source": [
    "Lbox = int_zmin^zmax  c dz/H(z)\n",
    "Lbox~ cdz/H(z)\n"
   ],
   "metadata": {}
  },
  {
   "cell_type": "markdown",
   "source": [
    "Dconf(1)-Dconf(0.865)"
   ],
   "metadata": {}
  },
  {
   "cell_type": "markdown",
   "source": [
    "CDtoRS(250*15,1)"
   ],
   "metadata": {}
  },
  {
   "cell_type": "markdown",
   "source": [
    "CDtoRS(357,1)"
   ],
   "metadata": {}
  },
  {
   "cell_type": "markdown",
   "source": [
    "CDtoRS(L,1)"
   ],
   "metadata": {}
  },
  {
   "cell_type": "markdown",
   "source": [
    "CD"
   ],
   "metadata": {}
  }
 ],
 "metadata": {
  "kernelspec": {
   "display_name": "Python 3",
   "language": "python",
   "name": "python3"
  },
  "language_info": {
   "codemirror_mode": {
    "name": "ipython",
    "version": 3
   },
   "file_extension": ".py",
   "mimetype": "text/x-python",
   "name": "python",
   "nbconvert_exporter": "python",
   "pygments_lexer": "ipython3",
   "version": "3.7.1"
  }
 },
 "nbformat": 4,
 "nbformat_minor": 2
}