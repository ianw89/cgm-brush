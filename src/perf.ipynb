{
 "cells": [
  {
   "cell_type": "code",
   "execution_count": 3,
   "source": [
    "from cgmbrush import *\n",
    "from tempfile import TemporaryFile\n",
    "import cProfile\n",
    "import io\n",
    "import pstats\n",
    "from scipy.ndimage.filters import convolve\n",
    "import scipy.signal as sig\n",
    "import timeit"
   ],
   "outputs": [],
   "metadata": {}
  },
  {
   "cell_type": "code",
   "execution_count": null,
   "source": [
    "# Perf testing for reading Bolshoi density fields\n",
    "\n",
    "provider = BolshoiProvider()\n",
    "\n",
    "pr = cProfile.Profile()\n",
    "pr.enable()\n",
    "den_field = provider.get_density_field(0, 256)\n",
    "pr.disable()\n",
    "s = io.StringIO()\n",
    "ps = pstats.Stats(pr, stream=s).sort_stats('tottime')\n",
    "ps.print_stats()\n",
    "\n",
    "file_path = os.path.join(varFolder, 'bolshoi_density_perf.txt')\n",
    "with open(file_path, 'w') as f:\n",
    "    f.write(s.getvalue())\n",
    "\n",
    "saveArray(\"perf_denfield\", den_field)"
   ],
   "outputs": [],
   "metadata": {}
  },
  {
   "cell_type": "code",
   "execution_count": null,
   "source": [
    "provider = BolshoiProvider()\n",
    "\n",
    "pr = cProfile.Profile()\n",
    "pr.enable()\n",
    "read_denfield = loadArray(\"perf_denfield.npy\")\n",
    "pr.disable()\n",
    "s = io.StringIO()\n",
    "ps = pstats.Stats(pr, stream=s).sort_stats('tottime')\n",
    "ps.print_stats()\n",
    "\n",
    "file_path = os.path.join(varFolder, 'bolshoi_density_perf_read.txt')\n",
    "with open(file_path, 'w') as f:\n",
    "    f.write(s.getvalue())"
   ],
   "outputs": [],
   "metadata": {}
  },
  {
   "cell_type": "code",
   "execution_count": null,
   "source": [
    "# Testing savez\n",
    "outfile = TemporaryFile()\n",
    "x = np.arange(1000)\n",
    "y = np.arange(1000) + 1\n",
    "\n",
    "arrays = {'y':y, 'x':x, }\n",
    "\n",
    "np.savez(outfile, **arrays)\n",
    "_ = outfile.seek(0)\n",
    "npzfile = np.load(outfile)\n",
    "npzfile['x']"
   ],
   "outputs": [],
   "metadata": {}
  },
  {
   "cell_type": "code",
   "execution_count": null,
   "source": [
    "p = BolshoiProvider()\n",
    "a = p.extract_halos(0)\n",
    "print(a.shape)\n",
    "b = loadArray('bol_halos_0.npy')\n",
    "print(b.shape)"
   ],
   "outputs": [],
   "metadata": {}
  },
  {
   "cell_type": "code",
   "execution_count": null,
   "source": [
    "print(a.shape)\n",
    "print(a.info(memory_usage='deep'))\n",
    "print(b.shape)\n",
    "print(type(b))\n",
    "print(str((b.size * b.itemsize)/1024**2) + \" MB\")\n",
    "print(b[0])"
   ],
   "outputs": [],
   "metadata": {}
  },
  {
   "cell_type": "code",
   "execution_count": 2,
   "source": [
    "# Profiling full convolution code for simplest case\n",
    "\n",
    "min_mass = 10**10 # TODO into config\n",
    "max_mass = 10**14.5\n",
    "log_bins = 30\n",
    "config = Configuration('tophat_spherical', 1, resolution=2, file_prefix='STH', load_from_files=False)\n",
    "config.provider = BolshoiProvider()\n",
    "filename = config.file_prefix + str(config.resolution) + '_' + str(config.den_grid_size)\n",
    "\n",
    "\n",
    "pr = cProfile.Profile()\n",
    "pr.enable()\n",
    "config.results = hist_profile(config.provider, config.den_grid_size, config.RS_array, min_mass, \n",
    "                                    max_mass, log_bins, config.subtraction_halo_profile, \n",
    "                                    config.addition_halo_profile, config.scaling_radius, config.resolution)\n",
    "pr.disable()\n",
    "s = io.StringIO()\n",
    "ps = pstats.Stats(pr, stream=s).sort_stats('tottime')\n",
    "ps.print_stats()\n",
    "\n",
    "file_path = os.path.join(varFolder, 'perf_convo_' + filename + '_v1.txt')\n",
    "with open(file_path, 'w') as f:\n",
    "    f.write(s.getvalue())\n",
    "     \n",
    "\n",
    "\n"
   ],
   "outputs": [
    {
     "output_type": "stream",
     "name": "stderr",
     "text": [
      "/Users/ianw89/Repos/cgm-brush/src/cgmbrush.py:448: RuntimeWarning: invalid value encountered in double_scalars\n",
      "  return integrate.quad(lambda x, y, z: rho_nought/(((offset+(x**2+y**2+ z**2)**.5)/R_s)*(1+((x**2+y**2+ z**2)**.5)/R_s)**2),-1*np.real((Rvir**2-(x**2+y**2))**.5),np.real((Rvir**2-(x**2+y**2))**.5),args=(x,y))[0]\n",
      "/Library/Frameworks/Python.framework/Versions/3.7/lib/python3.7/site-packages/scipy/integrate/quadpack.py:385: IntegrationWarning: The occurrence of roundoff error is detected, which prevents \n",
      "  the requested tolerance from being achieved.  The error may be \n",
      "  underestimated.\n",
      "  warnings.warn(msg, IntegrationWarning)\n"
     ]
    },
    {
     "output_type": "stream",
     "name": "stdout",
     "text": [
      "add_halos. chuncks: 29\n",
      "Shape of fine_mask: (80, 80)\n",
      "Shape of coarse_mask: (40, 40)\n",
      "857324 and 857324\n",
      "Shape of halo_cell_pos: (2048, 2048)\n",
      "Shape of fine_mask: (80, 80)\n",
      "Shape of coarse_mask: (40, 40)\n",
      "629435 and 629435\n",
      "Shape of halo_cell_pos: (2048, 2048)\n",
      "Shape of fine_mask: (80, 80)\n",
      "Shape of coarse_mask: (40, 40)\n",
      "468189 and 468189\n",
      "Shape of halo_cell_pos: (2048, 2048)\n",
      "Shape of fine_mask: (80, 80)\n",
      "Shape of coarse_mask: (40, 40)\n",
      "345685 and 345685\n",
      "Shape of halo_cell_pos: (2048, 2048)\n",
      "Shape of fine_mask: (80, 80)\n",
      "Shape of coarse_mask: (40, 40)\n",
      "251989 and 251989\n",
      "Shape of halo_cell_pos: (2048, 2048)\n",
      "Shape of fine_mask: (80, 80)\n",
      "Shape of coarse_mask: (40, 40)\n",
      "185409 and 185409\n",
      "Shape of halo_cell_pos: (2048, 2048)\n",
      "Shape of fine_mask: (80, 80)\n",
      "Shape of coarse_mask: (40, 40)\n",
      "135800 and 135800\n",
      "Shape of halo_cell_pos: (2048, 2048)\n",
      "Shape of fine_mask: (80, 80)\n",
      "Shape of coarse_mask: (40, 40)\n",
      "99390 and 99390\n",
      "Shape of halo_cell_pos: (2048, 2048)\n",
      "Shape of fine_mask: (80, 80)\n",
      "Shape of coarse_mask: (40, 40)\n",
      "71648 and 71648\n",
      "Shape of halo_cell_pos: (2048, 2048)\n",
      "Shape of fine_mask: (80, 80)\n",
      "Shape of coarse_mask: (40, 40)\n",
      "52091 and 52091\n",
      "Shape of halo_cell_pos: (2048, 2048)\n",
      "Shape of fine_mask: (80, 80)\n",
      "Shape of coarse_mask: (40, 40)\n",
      "37412 and 37412\n",
      "Shape of halo_cell_pos: (2048, 2048)\n",
      "Shape of fine_mask: (80, 80)\n",
      "Shape of coarse_mask: (40, 40)\n",
      "27056 and 27056\n",
      "Shape of halo_cell_pos: (2048, 2048)\n",
      "Shape of fine_mask: (80, 80)\n",
      "Shape of coarse_mask: (40, 40)\n",
      "19645 and 19645\n",
      "Shape of halo_cell_pos: (2048, 2048)\n",
      "Shape of fine_mask: (80, 80)\n",
      "Shape of coarse_mask: (40, 40)\n",
      "14239 and 14239\n",
      "Shape of halo_cell_pos: (2048, 2048)\n",
      "Shape of fine_mask: (80, 80)\n",
      "Shape of coarse_mask: (40, 40)\n",
      "10134 and 10134\n",
      "Shape of halo_cell_pos: (2048, 2048)\n",
      "Shape of fine_mask: (80, 80)\n",
      "Shape of coarse_mask: (40, 40)\n",
      "7268 and 7268\n",
      "Shape of halo_cell_pos: (2048, 2048)\n",
      "Shape of fine_mask: (80, 80)\n",
      "Shape of coarse_mask: (40, 40)\n",
      "5008 and 5008\n",
      "Shape of halo_cell_pos: (2048, 2048)\n",
      "Shape of fine_mask: (80, 80)\n",
      "Shape of coarse_mask: (40, 40)\n",
      "3671 and 3671\n",
      "Shape of halo_cell_pos: (2048, 2048)\n",
      "Shape of fine_mask: (80, 80)\n",
      "Shape of coarse_mask: (40, 40)\n",
      "2422 and 2422\n",
      "Shape of halo_cell_pos: (2048, 2048)\n",
      "Shape of fine_mask: (80, 80)\n",
      "Shape of coarse_mask: (40, 40)\n",
      "1722 and 1722\n",
      "Shape of halo_cell_pos: (2048, 2048)\n",
      "Shape of fine_mask: (80, 80)\n",
      "Shape of coarse_mask: (40, 40)\n",
      "1153 and 1153\n",
      "Shape of halo_cell_pos: (2048, 2048)\n",
      "Shape of fine_mask: (80, 80)\n",
      "Shape of coarse_mask: (40, 40)\n",
      "792 and 792\n",
      "Shape of halo_cell_pos: (2048, 2048)\n",
      "Shape of fine_mask: (80, 80)\n",
      "Shape of coarse_mask: (40, 40)\n",
      "519 and 519\n",
      "Shape of halo_cell_pos: (2048, 2048)\n",
      "Shape of fine_mask: (80, 80)\n",
      "Shape of coarse_mask: (40, 40)\n",
      "335 and 335\n",
      "Shape of halo_cell_pos: (2048, 2048)\n",
      "Shape of fine_mask: (80, 80)\n",
      "Shape of coarse_mask: (40, 40)\n",
      "230 and 230\n",
      "Shape of halo_cell_pos: (2048, 2048)\n",
      "Shape of fine_mask: (80, 80)\n",
      "Shape of coarse_mask: (40, 40)\n",
      "142 and 142\n",
      "Shape of halo_cell_pos: (2048, 2048)\n",
      "Shape of fine_mask: (80, 80)\n",
      "Shape of coarse_mask: (40, 40)\n",
      "81 and 81\n",
      "Shape of halo_cell_pos: (2048, 2048)\n",
      "Shape of fine_mask: (80, 80)\n",
      "Shape of coarse_mask: (40, 40)\n",
      "51 and 51\n",
      "Shape of halo_cell_pos: (2048, 2048)\n",
      "Shape of fine_mask: (80, 80)\n",
      "Shape of coarse_mask: (40, 40)\n",
      "30 and 30\n",
      "Shape of halo_cell_pos: (2048, 2048)\n"
     ]
    }
   ],
   "metadata": {}
  },
  {
   "cell_type": "code",
   "execution_count": 3,
   "source": [
    "# Profiling full convolution code for simplest case\n",
    "\n",
    "config = Configuration('tophat_spherical', 1, resolution=1, file_prefix='STH', load_from_files=False)\n",
    "config.provider = BolshoiProvider()\n",
    "filename = config.file_prefix + str(config.resolution) + '_' + str(config.den_grid_size)\n",
    "\n",
    "\n",
    "pr = cProfile.Profile()\n",
    "pr.enable()\n",
    "config.results = hist_profile(config.provider, config.den_grid_size, config.RS_array, min_mass, \n",
    "                                    max_mass, log_bins, config.subtraction_halo_profile, \n",
    "                                    config.addition_halo_profile, config.scaling_radius, config.resolution)\n",
    "pr.disable()\n",
    "s = io.StringIO()\n",
    "ps = pstats.Stats(pr, stream=s).sort_stats('tottime')\n",
    "ps.print_stats()\n",
    "\n",
    "file_path = os.path.join(varFolder, 'perf_convo_' + filename + '_v1.txt')\n",
    "with open(file_path, 'w') as f:\n",
    "    f.write(s.getvalue())"
   ],
   "outputs": [
    {
     "output_type": "stream",
     "name": "stdout",
     "text": [
      "add_halos. chuncks: 29\n",
      "Shape of fine_mask: (40, 40)\n",
      "Shape of coarse_mask: (20, 20)\n",
      "857324 and 857324\n",
      "Shape of halo_cell_pos: (1024, 1024)\n",
      "Shape of fine_mask: (40, 40)\n",
      "Shape of coarse_mask: (20, 20)\n",
      "629435 and 629435\n",
      "Shape of halo_cell_pos: (1024, 1024)\n",
      "Shape of fine_mask: (40, 40)\n",
      "Shape of coarse_mask: (20, 20)\n",
      "468189 and 468189\n",
      "Shape of halo_cell_pos: (1024, 1024)\n",
      "Shape of fine_mask: (40, 40)\n",
      "Shape of coarse_mask: (20, 20)\n",
      "345685 and 345685\n",
      "Shape of halo_cell_pos: (1024, 1024)\n",
      "Shape of fine_mask: (40, 40)\n",
      "Shape of coarse_mask: (20, 20)\n",
      "251989 and 251989\n",
      "Shape of halo_cell_pos: (1024, 1024)\n",
      "Shape of fine_mask: (40, 40)\n",
      "Shape of coarse_mask: (20, 20)\n",
      "185409 and 185409\n",
      "Shape of halo_cell_pos: (1024, 1024)\n",
      "Shape of fine_mask: (40, 40)\n",
      "Shape of coarse_mask: (20, 20)\n",
      "135800 and 135800\n",
      "Shape of halo_cell_pos: (1024, 1024)\n",
      "Shape of fine_mask: (40, 40)\n",
      "Shape of coarse_mask: (20, 20)\n",
      "99390 and 99390\n",
      "Shape of halo_cell_pos: (1024, 1024)\n",
      "Shape of fine_mask: (40, 40)\n",
      "Shape of coarse_mask: (20, 20)\n",
      "71648 and 71648\n",
      "Shape of halo_cell_pos: (1024, 1024)\n",
      "Shape of fine_mask: (40, 40)\n",
      "Shape of coarse_mask: (20, 20)\n",
      "52091 and 52091\n",
      "Shape of halo_cell_pos: (1024, 1024)\n",
      "Shape of fine_mask: (40, 40)\n",
      "Shape of coarse_mask: (20, 20)\n",
      "37412 and 37412\n",
      "Shape of halo_cell_pos: (1024, 1024)\n",
      "Shape of fine_mask: (40, 40)\n",
      "Shape of coarse_mask: (20, 20)\n",
      "27056 and 27056\n",
      "Shape of halo_cell_pos: (1024, 1024)\n",
      "Shape of fine_mask: (40, 40)\n",
      "Shape of coarse_mask: (20, 20)\n",
      "19645 and 19645\n",
      "Shape of halo_cell_pos: (1024, 1024)\n",
      "Shape of fine_mask: (40, 40)\n",
      "Shape of coarse_mask: (20, 20)\n",
      "14239 and 14239\n",
      "Shape of halo_cell_pos: (1024, 1024)\n",
      "Shape of fine_mask: (40, 40)\n",
      "Shape of coarse_mask: (20, 20)\n",
      "10134 and 10134\n",
      "Shape of halo_cell_pos: (1024, 1024)\n",
      "Shape of fine_mask: (40, 40)\n",
      "Shape of coarse_mask: (20, 20)\n",
      "7268 and 7268\n",
      "Shape of halo_cell_pos: (1024, 1024)\n",
      "Shape of fine_mask: (40, 40)\n",
      "Shape of coarse_mask: (20, 20)\n",
      "5008 and 5008\n",
      "Shape of halo_cell_pos: (1024, 1024)\n",
      "Shape of fine_mask: (40, 40)\n",
      "Shape of coarse_mask: (20, 20)\n",
      "3671 and 3671\n",
      "Shape of halo_cell_pos: (1024, 1024)\n",
      "Shape of fine_mask: (40, 40)\n",
      "Shape of coarse_mask: (20, 20)\n",
      "2422 and 2422\n",
      "Shape of halo_cell_pos: (1024, 1024)\n",
      "Shape of fine_mask: (40, 40)\n",
      "Shape of coarse_mask: (20, 20)\n",
      "1722 and 1722\n",
      "Shape of halo_cell_pos: (1024, 1024)\n",
      "Shape of fine_mask: (40, 40)\n",
      "Shape of coarse_mask: (20, 20)\n",
      "1153 and 1153\n",
      "Shape of halo_cell_pos: (1024, 1024)\n",
      "Shape of fine_mask: (40, 40)\n",
      "Shape of coarse_mask: (20, 20)\n",
      "792 and 792\n",
      "Shape of halo_cell_pos: (1024, 1024)\n",
      "Shape of fine_mask: (40, 40)\n",
      "Shape of coarse_mask: (20, 20)\n",
      "519 and 519\n",
      "Shape of halo_cell_pos: (1024, 1024)\n",
      "Shape of fine_mask: (40, 40)\n",
      "Shape of coarse_mask: (20, 20)\n",
      "335 and 335\n",
      "Shape of halo_cell_pos: (1024, 1024)\n",
      "Shape of fine_mask: (40, 40)\n",
      "Shape of coarse_mask: (20, 20)\n",
      "230 and 230\n",
      "Shape of halo_cell_pos: (1024, 1024)\n",
      "Shape of fine_mask: (40, 40)\n",
      "Shape of coarse_mask: (20, 20)\n",
      "142 and 142\n",
      "Shape of halo_cell_pos: (1024, 1024)\n",
      "Shape of fine_mask: (40, 40)\n",
      "Shape of coarse_mask: (20, 20)\n",
      "81 and 81\n",
      "Shape of halo_cell_pos: (1024, 1024)\n",
      "Shape of fine_mask: (40, 40)\n",
      "Shape of coarse_mask: (20, 20)\n",
      "51 and 51\n",
      "Shape of halo_cell_pos: (1024, 1024)\n",
      "Shape of fine_mask: (40, 40)\n",
      "Shape of coarse_mask: (20, 20)\n",
      "30 and 30\n",
      "Shape of halo_cell_pos: (1024, 1024)\n"
     ]
    }
   ],
   "metadata": {}
  },
  {
   "cell_type": "markdown",
   "source": [
    "SCRATCH WORK BELOW HERE"
   ],
   "metadata": {}
  },
  {
   "cell_type": "code",
   "execution_count": null,
   "source": [
    "a = np.random.random((1024,1024))\n",
    "b = np.random.random((20,20))"
   ],
   "outputs": [],
   "metadata": {}
  },
  {
   "cell_type": "code",
   "execution_count": 20,
   "source": [
    "# This is the convolve function we are using today, but in a mode where the big array is given 0's outside the edge of the grid\n",
    "# This is 'wrong' for our application but it makes for an easy comparison with the next function, which doesn't support \n",
    "# the reflect mode we use.\n",
    "c1 = convolve(a, b, mode='constant', origin=-1)"
   ],
   "outputs": [],
   "metadata": {}
  },
  {
   "cell_type": "code",
   "execution_count": 21,
   "source": [
    "# The scipy signal implementation is much faster. But it only supports 0's around the edge\n",
    "c2 = sig.convolve(a, b, mode='same')\n",
    "np.allclose(c1,c2)"
   ],
   "outputs": [
    {
     "output_type": "execute_result",
     "data": {
      "text/plain": [
       "True"
      ]
     },
     "metadata": {},
     "execution_count": 21
    }
   ],
   "metadata": {}
  },
  {
   "cell_type": "code",
   "execution_count": 152,
   "source": [
    "# This is almost what we do today: just same method but using wrap instead of reflect\n",
    "c7 = convolve(a, b, mode='wrap', origin=-1) # a b c d | a b c d | a b c d\n",
    "c8 = convolve(a, b, mode='wrap')"
   ],
   "outputs": [],
   "metadata": {}
  },
  {
   "cell_type": "code",
   "execution_count": 153,
   "source": [
    "c3 = my_convolve(a, b)\n",
    "print(np.allclose(c7,c3))\n",
    "print(np.allclose(c8,c3)) # My implementation is equivalent to what we did before!\n"
   ],
   "outputs": [
    {
     "output_type": "stream",
     "name": "stdout",
     "text": [
      "False\n",
      "True\n"
     ]
    }
   ],
   "metadata": {}
  },
  {
   "cell_type": "code",
   "execution_count": 23,
   "source": [
    "# This is what we are actually running today. The same code as c1 but in reflect mode. d c b a | a b c d | d c b a\n",
    "c4 = convolve(a, b, origin=-1)\n",
    "print(np.allclose(c4,c3))\n",
    "print(np.allclose(c4,c1))     "
   ],
   "outputs": [
    {
     "output_type": "stream",
     "name": "stdout",
     "text": [
      "False\n",
      "False\n"
     ]
    }
   ],
   "metadata": {}
  },
  {
   "cell_type": "code",
   "execution_count": 25,
   "source": [
    "# Testing signal's convolve 2d. It's too slow.\n",
    "c5 = sig.convolve2d(a, b, mode='same', boundary='symm')\n",
    "print(np.allclose(c5,c1))\n",
    "print(np.allclose(c5,c2))\n",
    "print(np.allclose(c5,c3))\n",
    "print(np.allclose(c5,c4)) # interestingly it does match what we dotoday exactly"
   ],
   "outputs": [
    {
     "output_type": "stream",
     "name": "stdout",
     "text": [
      "False\n",
      "False\n",
      "False\n",
      "True\n"
     ]
    }
   ],
   "metadata": {}
  },
  {
   "cell_type": "code",
   "execution_count": 56,
   "source": [
    "# Valid mode basically trims the edges. This is proof that using signal in this is equivalent to what we are doing today,\n",
    "# but throwing away a tiny bit of data!\n",
    "c6 = sig.convolve(a, b, mode='valid')\n",
    "print(np.allclose(c1[40:-39, 40:-39], c6))\n",
    "print(np.allclose(c4[40:-39, 40:-39], c6))\n",
    "print(np.allclose(c4[39:-40, 39:-40], c6))"
   ],
   "outputs": [
    {
     "output_type": "stream",
     "name": "stdout",
     "text": [
      "True\n",
      "True\n",
      "False\n"
     ]
    }
   ],
   "metadata": {}
  }
 ],
 "metadata": {
  "orig_nbformat": 4,
  "language_info": {
   "name": "python",
   "version": "3.7.1",
   "mimetype": "text/x-python",
   "codemirror_mode": {
    "name": "ipython",
    "version": 3
   },
   "pygments_lexer": "ipython3",
   "nbconvert_exporter": "python",
   "file_extension": ".py"
  },
  "kernelspec": {
   "name": "python3",
   "display_name": "Python 3.7.1 64-bit"
  },
  "interpreter": {
   "hash": "aee8b7b246df8f9039afb4144a1f6fd8d2ca17a180786b69acc140d282b71a49"
  }
 },
 "nbformat": 4,
 "nbformat_minor": 2
}