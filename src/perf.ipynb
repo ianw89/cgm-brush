{
 "cells": [
  {
   "cell_type": "code",
   "execution_count": 1,
   "source": [
    "from cgmbrush import *\n",
    "from tempfile import TemporaryFile\n",
    "import cProfile\n",
    "import io\n",
    "import pstats"
   ],
   "outputs": [],
   "metadata": {}
  },
  {
   "cell_type": "code",
   "execution_count": null,
   "source": [
    "# Perf testing for reading Bolshoi density fields\n",
    "\n",
    "provider = BolshoiProvider()\n",
    "\n",
    "pr = cProfile.Profile()\n",
    "pr.enable()\n",
    "den_field = provider.get_density_field(0, 256)\n",
    "pr.disable()\n",
    "s = io.StringIO()\n",
    "ps = pstats.Stats(pr, stream=s).sort_stats('tottime')\n",
    "ps.print_stats()\n",
    "\n",
    "file_path = os.path.join(varFolder, 'bolshoi_density_perf.txt')\n",
    "with open(file_path, 'w') as f:\n",
    "    f.write(s.getvalue())\n",
    "\n",
    "saveArray(\"perf_denfield\", den_field)"
   ],
   "outputs": [],
   "metadata": {}
  },
  {
   "cell_type": "code",
   "execution_count": null,
   "source": [
    "provider = BolshoiProvider()\n",
    "\n",
    "pr = cProfile.Profile()\n",
    "pr.enable()\n",
    "read_denfield = loadArray(\"perf_denfield.npy\")\n",
    "pr.disable()\n",
    "s = io.StringIO()\n",
    "ps = pstats.Stats(pr, stream=s).sort_stats('tottime')\n",
    "ps.print_stats()\n",
    "\n",
    "file_path = os.path.join(varFolder, 'bolshoi_density_perf_read.txt')\n",
    "with open(file_path, 'w') as f:\n",
    "    f.write(s.getvalue())"
   ],
   "outputs": [],
   "metadata": {}
  },
  {
   "cell_type": "code",
   "execution_count": null,
   "source": [
    "# Testing savez\n",
    "outfile = TemporaryFile()\n",
    "x = np.arange(1000)\n",
    "y = np.arange(1000) + 1\n",
    "\n",
    "arrays = {'y':y, 'x':x, }\n",
    "\n",
    "np.savez(outfile, **arrays)\n",
    "_ = outfile.seek(0)\n",
    "npzfile = np.load(outfile)\n",
    "npzfile['x']"
   ],
   "outputs": [],
   "metadata": {}
  },
  {
   "cell_type": "code",
   "execution_count": 2,
   "source": [
    "# Profiling full convolution code for simplest case\n",
    "\n",
    "min_mass = 10**10 # TODO into config\n",
    "max_mass = 10**14.5\n",
    "log_bins = 30\n",
    "config = Configuration('tophat_spherical', 1, resolution=1, file_prefix='STH', load_from_files=False)\n",
    "config.provider = BolshoiProvider()\n",
    "filename = config.file_prefix + str(config.resolution) + '_' + str(config.den_grid_size)\n",
    "\n",
    "\n",
    "#pr = cProfile.Profile()\n",
    "#pr.enable()\n",
    "config.results = hist_profile(config.provider, config.den_grid_size, config.RS_array, min_mass, \n",
    "                                    max_mass, log_bins, config.subtraction_halo_profile, \n",
    "                                    config.addition_halo_profile, config.scaling_radius, config.resolution)\n",
    "#pr.disable()\n",
    "#s = io.StringIO()\n",
    "#ps = pstats.Stats(pr, stream=s).sort_stats('tottime')\n",
    "#ps.print_stats()\n",
    "\n",
    "#file_path = os.path.join(varFolder, 'perf_convo_' + filename + '_v1.txt')\n",
    "#with open(file_path, 'w') as f:\n",
    "#    f.write(s.getvalue())\n",
    "     \n",
    "\n",
    "\n"
   ],
   "outputs": [
    {
     "output_type": "error",
     "ename": "ValueError",
     "evalue": "cannot copy sequence with size 8949374 to array axis with dimension 10",
     "traceback": [
      "\u001b[0;31m---------------------------------------------------------------------------\u001b[0m",
      "\u001b[0;31mValueError\u001b[0m                                Traceback (most recent call last)",
      "\u001b[0;32m<ipython-input-2-15cf9b234ca6>\u001b[0m in \u001b[0;36m<module>\u001b[0;34m\u001b[0m\n\u001b[1;32m     13\u001b[0m config.results = hist_profile(config.provider, config.den_grid_size, config.RS_array, min_mass, \n\u001b[1;32m     14\u001b[0m                                     \u001b[0mmax_mass\u001b[0m\u001b[0;34m,\u001b[0m \u001b[0mlog_bins\u001b[0m\u001b[0;34m,\u001b[0m \u001b[0mconfig\u001b[0m\u001b[0;34m.\u001b[0m\u001b[0msubtraction_halo_profile\u001b[0m\u001b[0;34m,\u001b[0m\u001b[0;34m\u001b[0m\u001b[0;34m\u001b[0m\u001b[0m\n\u001b[0;32m---> 15\u001b[0;31m                                     config.addition_halo_profile, config.scaling_radius, config.resolution)\n\u001b[0m\u001b[1;32m     16\u001b[0m \u001b[0mpr\u001b[0m\u001b[0;34m.\u001b[0m\u001b[0mdisable\u001b[0m\u001b[0;34m(\u001b[0m\u001b[0;34m)\u001b[0m\u001b[0;34m\u001b[0m\u001b[0;34m\u001b[0m\u001b[0m\n\u001b[1;32m     17\u001b[0m \u001b[0ms\u001b[0m \u001b[0;34m=\u001b[0m \u001b[0mio\u001b[0m\u001b[0;34m.\u001b[0m\u001b[0mStringIO\u001b[0m\u001b[0;34m(\u001b[0m\u001b[0;34m)\u001b[0m\u001b[0;34m\u001b[0m\u001b[0;34m\u001b[0m\u001b[0m\n",
      "\u001b[0;32m~/Repos/cgm-brush/src/cgmbrush.py\u001b[0m in \u001b[0;36mhist_profile\u001b[0;34m(sim_provider, den_grid_size, RS_array, min_mass, max_mass, log_bins, subtraction_halo_profile, addition_halo_profile, scaling_radius, resolution)\u001b[0m\n\u001b[1;32m   1082\u001b[0m     \u001b[0;31m# halo array\u001b[0m\u001b[0;34m\u001b[0m\u001b[0;34m\u001b[0m\u001b[0;34m\u001b[0m\u001b[0m\n\u001b[1;32m   1083\u001b[0m     t = halo_subtraction_addition(sim_provider,den_grid_size,RS_array,min_mass,max_mass,\n\u001b[0;32m-> 1084\u001b[0;31m                                        log_bins,subtraction_halo_profile,addition_halo_profile,scaling_radius,resolution)\n\u001b[0m\u001b[1;32m   1085\u001b[0m     \u001b[0;31m# Halos-readded field\u001b[0m\u001b[0;34m\u001b[0m\u001b[0;34m\u001b[0m\u001b[0;34m\u001b[0m\u001b[0m\n\u001b[1;32m   1086\u001b[0m     \u001b[0mt1\u001b[0m\u001b[0;34m=\u001b[0m\u001b[0mt\u001b[0m\u001b[0;34m[\u001b[0m\u001b[0;36m0\u001b[0m\u001b[0;34m]\u001b[0m\u001b[0;34m\u001b[0m\u001b[0;34m\u001b[0m\u001b[0m\n",
      "\u001b[0;32m~/Repos/cgm-brush/src/cgmbrush.py\u001b[0m in \u001b[0;36mhalo_subtraction_addition\u001b[0;34m(sim_provider, den_grid_size, RS_array, min_mass, max_mass, log_bins, subtraction_halo_profile, addition_halo_profile, scaling_radius, resolution)\u001b[0m\n\u001b[1;32m   1051\u001b[0m         \u001b[0mredshift\u001b[0m \u001b[0;34m=\u001b[0m \u001b[0mRS_array\u001b[0m\u001b[0;34m[\u001b[0m\u001b[0mi\u001b[0m\u001b[0;34m]\u001b[0m\u001b[0;34m\u001b[0m\u001b[0;34m\u001b[0m\u001b[0m\n\u001b[1;32m   1052\u001b[0m         \u001b[0mdensity_field\u001b[0m \u001b[0;34m=\u001b[0m \u001b[0msim_provider\u001b[0m\u001b[0;34m.\u001b[0m\u001b[0mget_density_field\u001b[0m\u001b[0;34m(\u001b[0m\u001b[0mredshift\u001b[0m\u001b[0;34m,\u001b[0m \u001b[0mden_grid_size\u001b[0m\u001b[0;34m)\u001b[0m\u001b[0;34m\u001b[0m\u001b[0;34m\u001b[0m\u001b[0m\n\u001b[0;32m-> 1053\u001b[0;31m         \u001b[0mhalos\u001b[0m \u001b[0;34m=\u001b[0m \u001b[0msim_provider\u001b[0m\u001b[0;34m.\u001b[0m\u001b[0mget_halos\u001b[0m\u001b[0;34m(\u001b[0m\u001b[0mredshift\u001b[0m\u001b[0;34m)\u001b[0m\u001b[0;34m\u001b[0m\u001b[0;34m\u001b[0m\u001b[0m\n\u001b[0m\u001b[1;32m   1054\u001b[0m \u001b[0;34m\u001b[0m\u001b[0m\n\u001b[1;32m   1055\u001b[0m         \u001b[0mhalos_removed\u001b[0m \u001b[0;34m=\u001b[0m \u001b[0mhalos_removed_field\u001b[0m\u001b[0;34m(\u001b[0m\u001b[0mhalos\u001b[0m\u001b[0;34m,\u001b[0m\u001b[0mmin_mass\u001b[0m\u001b[0;34m,\u001b[0m\u001b[0mmax_mass\u001b[0m\u001b[0;34m,\u001b[0m\u001b[0mdensity_field\u001b[0m\u001b[0;34m,\u001b[0m\u001b[0mden_grid_size\u001b[0m\u001b[0;34m,\u001b[0m\u001b[0mredshift\u001b[0m\u001b[0;34m,\u001b[0m\u001b[0mlog_bins\u001b[0m\u001b[0;34m,\u001b[0m\u001b[0msubtraction_halo_profile\u001b[0m\u001b[0;34m,\u001b[0m\u001b[0mscaling_radius\u001b[0m\u001b[0;34m,\u001b[0m\u001b[0mresolution\u001b[0m\u001b[0;34m,\u001b[0m\u001b[0msigma_gauss\u001b[0m\u001b[0;34m,\u001b[0m\u001b[0mwidth_sinc\u001b[0m\u001b[0;34m)\u001b[0m\u001b[0;34m\u001b[0m\u001b[0;34m\u001b[0m\u001b[0m\n",
      "\u001b[0;32m~/Repos/cgm-brush/src/cgmbrush.py\u001b[0m in \u001b[0;36mget_halos\u001b[0;34m(self, redshift)\u001b[0m\n\u001b[1;32m    346\u001b[0m         \u001b[0;32mif\u001b[0m \u001b[0mresult\u001b[0m \u001b[0;34m==\u001b[0m \u001b[0;32mNone\u001b[0m\u001b[0;34m:\u001b[0m\u001b[0;34m\u001b[0m\u001b[0;34m\u001b[0m\u001b[0m\n\u001b[1;32m    347\u001b[0m             \u001b[0mresult\u001b[0m \u001b[0;34m=\u001b[0m \u001b[0mself\u001b[0m\u001b[0;34m.\u001b[0m\u001b[0mextract_halos\u001b[0m\u001b[0;34m(\u001b[0m\u001b[0mredshift\u001b[0m\u001b[0;34m)\u001b[0m\u001b[0;34m\u001b[0m\u001b[0;34m\u001b[0m\u001b[0m\n\u001b[0;32m--> 348\u001b[0;31m             \u001b[0msaveArray\u001b[0m\u001b[0;34m(\u001b[0m\u001b[0mfilename\u001b[0m\u001b[0;34m,\u001b[0m \u001b[0mresult\u001b[0m\u001b[0;34m)\u001b[0m\u001b[0;34m\u001b[0m\u001b[0;34m\u001b[0m\u001b[0m\n\u001b[0m\u001b[1;32m    349\u001b[0m \u001b[0;34m\u001b[0m\u001b[0m\n\u001b[1;32m    350\u001b[0m         \u001b[0mself\u001b[0m\u001b[0;34m.\u001b[0m\u001b[0mhalos\u001b[0m\u001b[0;34m[\u001b[0m\u001b[0mredshift\u001b[0m\u001b[0;34m]\u001b[0m \u001b[0;34m=\u001b[0m \u001b[0mresult\u001b[0m\u001b[0;34m\u001b[0m\u001b[0;34m\u001b[0m\u001b[0m\n",
      "\u001b[0;32m~/Repos/cgm-brush/src/cgmbrush.py\u001b[0m in \u001b[0;36msaveArray\u001b[0;34m(filename, *arrays)\u001b[0m\n\u001b[1;32m   1324\u001b[0m         \u001b[0mos\u001b[0m\u001b[0;34m.\u001b[0m\u001b[0mmakedirs\u001b[0m\u001b[0;34m(\u001b[0m\u001b[0mvarFolder\u001b[0m\u001b[0;34m)\u001b[0m\u001b[0;34m\u001b[0m\u001b[0;34m\u001b[0m\u001b[0m\n\u001b[1;32m   1325\u001b[0m \u001b[0;34m\u001b[0m\u001b[0m\n\u001b[0;32m-> 1326\u001b[0;31m     \u001b[0mnp\u001b[0m\u001b[0;34m.\u001b[0m\u001b[0msave\u001b[0m\u001b[0;34m(\u001b[0m\u001b[0mfile_path\u001b[0m\u001b[0;34m,\u001b[0m \u001b[0marrays\u001b[0m\u001b[0;34m)\u001b[0m\u001b[0;34m\u001b[0m\u001b[0;34m\u001b[0m\u001b[0m\n\u001b[0m\u001b[1;32m   1327\u001b[0m \u001b[0;34m\u001b[0m\u001b[0m\n\u001b[1;32m   1328\u001b[0m \u001b[0;32mdef\u001b[0m \u001b[0mloadArray\u001b[0m\u001b[0;34m(\u001b[0m\u001b[0mfilename\u001b[0m\u001b[0;34m)\u001b[0m\u001b[0;34m:\u001b[0m\u001b[0;34m\u001b[0m\u001b[0;34m\u001b[0m\u001b[0m\n",
      "\u001b[0;32m/Library/Frameworks/Python.framework/Versions/3.7/lib/python3.7/site-packages/numpy/lib/npyio.py\u001b[0m in \u001b[0;36msave\u001b[0;34m(file, arr, allow_pickle, fix_imports)\u001b[0m\n\u001b[1;32m    517\u001b[0m \u001b[0;34m\u001b[0m\u001b[0m\n\u001b[1;32m    518\u001b[0m     \u001b[0;32mtry\u001b[0m\u001b[0;34m:\u001b[0m\u001b[0;34m\u001b[0m\u001b[0;34m\u001b[0m\u001b[0m\n\u001b[0;32m--> 519\u001b[0;31m         \u001b[0marr\u001b[0m \u001b[0;34m=\u001b[0m \u001b[0mnp\u001b[0m\u001b[0;34m.\u001b[0m\u001b[0masanyarray\u001b[0m\u001b[0;34m(\u001b[0m\u001b[0marr\u001b[0m\u001b[0;34m)\u001b[0m\u001b[0;34m\u001b[0m\u001b[0;34m\u001b[0m\u001b[0m\n\u001b[0m\u001b[1;32m    520\u001b[0m         format.write_array(fid, arr, allow_pickle=allow_pickle,\n\u001b[1;32m    521\u001b[0m                            pickle_kwargs=pickle_kwargs)\n",
      "\u001b[0;32m/Library/Frameworks/Python.framework/Versions/3.7/lib/python3.7/site-packages/numpy/core/numeric.py\u001b[0m in \u001b[0;36masanyarray\u001b[0;34m(a, dtype, order)\u001b[0m\n\u001b[1;32m    551\u001b[0m \u001b[0;34m\u001b[0m\u001b[0m\n\u001b[1;32m    552\u001b[0m     \"\"\"\n\u001b[0;32m--> 553\u001b[0;31m     \u001b[0;32mreturn\u001b[0m \u001b[0marray\u001b[0m\u001b[0;34m(\u001b[0m\u001b[0ma\u001b[0m\u001b[0;34m,\u001b[0m \u001b[0mdtype\u001b[0m\u001b[0;34m,\u001b[0m \u001b[0mcopy\u001b[0m\u001b[0;34m=\u001b[0m\u001b[0;32mFalse\u001b[0m\u001b[0;34m,\u001b[0m \u001b[0morder\u001b[0m\u001b[0;34m=\u001b[0m\u001b[0morder\u001b[0m\u001b[0;34m,\u001b[0m \u001b[0msubok\u001b[0m\u001b[0;34m=\u001b[0m\u001b[0;32mTrue\u001b[0m\u001b[0;34m)\u001b[0m\u001b[0;34m\u001b[0m\u001b[0;34m\u001b[0m\u001b[0m\n\u001b[0m\u001b[1;32m    554\u001b[0m \u001b[0;34m\u001b[0m\u001b[0m\n\u001b[1;32m    555\u001b[0m \u001b[0;34m\u001b[0m\u001b[0m\n",
      "\u001b[0;31mValueError\u001b[0m: cannot copy sequence with size 8949374 to array axis with dimension 10"
     ]
    }
   ],
   "metadata": {}
  }
 ],
 "metadata": {
  "orig_nbformat": 4,
  "language_info": {
   "name": "python",
   "version": "3.7.1",
   "mimetype": "text/x-python",
   "codemirror_mode": {
    "name": "ipython",
    "version": 3
   },
   "pygments_lexer": "ipython3",
   "nbconvert_exporter": "python",
   "file_extension": ".py"
  },
  "kernelspec": {
   "name": "python3",
   "display_name": "Python 3.7.1 64-bit"
  },
  "interpreter": {
   "hash": "aee8b7b246df8f9039afb4144a1f6fd8d2ca17a180786b69acc140d282b71a49"
  }
 },
 "nbformat": 4,
 "nbformat_minor": 2
}