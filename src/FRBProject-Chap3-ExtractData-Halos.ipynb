{
 "cells": [
  {
   "cell_type": "markdown",
   "source": [
    "# This notebook extracts halo data from the simulation"
   ],
   "metadata": {}
  },
  {
   "cell_type": "code",
   "execution_count": 1,
   "source": [
    "# imports packages\n",
    "from __future__ import print_function \n",
    "%matplotlib inline\n",
    "import pandas as pd\n",
    "from cgmbrush import *"
   ],
   "outputs": [],
   "metadata": {}
  },
  {
   "cell_type": "markdown",
   "source": [
    "# Extract halos for a given redshift"
   ],
   "metadata": {}
  },
  {
   "cell_type": "code",
   "execution_count": 2,
   "source": [
    "def extract_halos(redshift):\n",
    "\n",
    "    name = 'halo-z-0.'+str(redshift)+'.csv.gz'    \n",
    "    file_path= os.path.join(sims_folder, name)\n",
    "    halos = pd.read_csv(file_path)\n",
    "    return halos\n"
   ],
   "outputs": [],
   "metadata": {}
  }
 ],
 "metadata": {
  "kernelspec": {
   "display_name": "Python 3",
   "language": "python",
   "name": "python3"
  },
  "language_info": {
   "codemirror_mode": {
    "name": "ipython",
    "version": 3
   },
   "file_extension": ".py",
   "mimetype": "text/x-python",
   "name": "python",
   "nbconvert_exporter": "python",
   "pygments_lexer": "ipython3",
   "version": "3.7.1"
  }
 },
 "nbformat": 4,
 "nbformat_minor": 2
}