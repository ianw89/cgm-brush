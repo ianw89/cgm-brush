{
 "cells": [
  {
   "cell_type": "markdown",
   "metadata": {},
   "source": [
    "# This notebook extracts halo data from the simulation"
   ]
  },
  {
   "cell_type": "code",
   "execution_count": 1,
   "metadata": {},
   "outputs": [],
   "source": [
    "# imports packages\n",
    "from __future__ import print_function \n",
    "import matplotlib.pyplot as plt\n",
    "import numpy as np\n",
    "%matplotlib inline\n",
    "import pandas as pd\n",
    "#import csv\n",
    "import random\n",
    "import scipy.integrate as integrate\n",
    "from numpy import genfromtxt\n",
    "from random import randrange\n",
    "from numpy.polynomial import Polynomial as P\n",
    "from IPython.display import Latex\n"
   ]
  },
  {
   "cell_type": "markdown",
   "metadata": {},
   "source": [
    "# Extract halos for a given redshift"
   ]
  },
  {
   "cell_type": "code",
   "execution_count": 2,
   "metadata": {},
   "outputs": [],
   "source": [
    "def extract_halos(redshift):\n",
    "\n",
    "    name = 'halo-z-0.'+str(redshift)+'.csv.gz'    \n",
    "    file_path= os.path.join(sims_folder, name)\n",
    "    halos = pd.read_csv(file_path)\n",
    "    return halos\n"
   ]
  }
 ],
 "metadata": {
  "kernelspec": {
   "display_name": "Python 3",
   "language": "python",
   "name": "python3"
  },
  "language_info": {
   "codemirror_mode": {
    "name": "ipython",
    "version": 3
   },
   "file_extension": ".py",
   "mimetype": "text/x-python",
   "name": "python",
   "nbconvert_exporter": "python",
   "pygments_lexer": "ipython3",
   "version": "3.7.1"
  }
 },
 "nbformat": 4,
 "nbformat_minor": 2
}