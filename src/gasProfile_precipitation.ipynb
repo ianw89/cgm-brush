{
 "cells": [
  {
   "cell_type": "markdown",
   "metadata": {},
   "source": [
    "# These are routines to put in physically motivated profiles --- either that match the X-ray data or simulations"
   ]
  },
  {
   "cell_type": "code",
   "execution_count": 95,
   "metadata": {},
   "outputs": [],
   "source": [
    "import numpy as np\n",
    "import matplotlib.pyplot as plt\n",
    "import numpy as np\n",
    "%matplotlib inline\n",
    "from scipy.interpolate import interp1d\n",
    "import scipy.special as sc\n",
    "import scipy.integrate as integrate"
   ]
  },
  {
   "cell_type": "code",
   "execution_count": 96,
   "metadata": {},
   "outputs": [],
   "source": [
    "#fundamental constants\n",
    "mp = 1.6726216e-24  #proton mass in gr\n",
    "KPCTOCM = 3.086e21\n",
    "Msun =  1.9889e33  # gr \n",
    "\n",
    "#cosmology \"constants\"\n",
    "Omegab = 0.045\n",
    "OmegaM=0.3 \n",
    "fb = Omegab/OmegaM #fraction of matter in baryons\n",
    "h = 0.7\n",
    "rhocrit = 2.7755e11*h*h\n",
    "YHE = 0.25 #helium mass fraction\n",
    "mu = 1/((1-YHE) + 2.*YHE/4)  #mean molecular weight to give number of electrons assuming helium doubly ionized\n"
   ]
  },
  {
   "cell_type": "code",
   "execution_count": 97,
   "metadata": {},
   "outputs": [],
   "source": [
    "#from memory.  Adnan, substitute your expression \n",
    "def rvir(M, z):\n",
    "    return 280*(M/1e12)**(.33)/(1+z) #kpc\n",
    "\n",
    "#radius that is 200 times the matter density in kpc  (very similar to rvir)\n",
    "def r200Mz(Mhalo, z):\n",
    "    rhomatter = rhocrit*OmegaM\n",
    "    return (Mhalo/((4*np.pi/3)*200.*rhomatter))**(1./3.)*1e3;\n",
    "\n",
    "# I'm not sure I'm using this\n",
    "def rhoNFW(r, rs):\n",
    "    return 1/(r/rs)/(1+(r/rs))**2"
   ]
  },
  {
   "cell_type": "markdown",
   "metadata": {},
   "source": [
    "# Voit Perciptation limited model from Appendix A in  https://arxiv.org/pdf/1811.04976.pdf"
   ]
  },
  {
   "cell_type": "code",
   "execution_count": 388,
   "metadata": {},
   "outputs": [],
   "source": [
    "from scipy.interpolate import interp1d\n",
    "from scipy.integrate import quad\n",
    "\n",
    "\n",
    "def nePrecipitation(logMhalo,Rvirkpc,resolution,redshift,XRvir=2, Zmetal=0.3, tratcrit=10):\n",
    "    \n",
    "    #Zmetal is the metalicity; tratcrit is the coolin crieteria -- both of these don't need to change\n",
    "    # XRvir is how many virial radii to go out\n",
    "    fbaryon=0.2 #put in correct value\n",
    "#     Rvirkpc = 300 #put in correct value here\n",
    "    \n",
    "    fitarray = np.array([[350, 8e12, 10, 0.5, 2.7,  0.73, 1.2e-1, 1.2, 3.8e-4,  2.1], \\\n",
    "          [350, 8e12, 10, 0.3, 2.4,  0.74, 1.5e-1, 1.2, 4.2e-4, 2.1], \\\n",
    "    # [350, 8e12, 10 &  $Z_{\\rm grad}$ & 3.6  &  0.68 &  $8.6 \\times 10^{-2}$ & 1.1 & $4.1 \\times 10^{-4}$ & 2.0 \\\\\n",
    "    # [300, 5.1e12,  & 10 &  1.0 & 3.3  &  0.71 & 5.6 \\times 10^{-2}$  & 1.2 & $1.7 \\times 10^{-4}$ & 2.1 \\\\\n",
    "          [300, 5.1e12,  10,  0.5, 2.6,  0.72, 8.0e-2, 1.2, 2.3e-4,  2.1], \\\n",
    "          [300, 5.1e12,  10,  0.3, 2.3, 0.73,  9.6e-2, 1.2, 2.6e-4,  2.1], \\\n",
    "    #300 &  $5.1 \\times 10^{12}$  & 10 &  $Z_{\\rm grad}$ & 3.4  &  0.67 &  $5.8 \\times 10^{-2}$ & 1.1 & $2.6 \\times 10^{-4}$ & 2.1 \\\\\n",
    "    #[300, 5.1e12,  20, 1.0,  5.2, 0.70, 2.9e-2, 1.1, 1.0e-4, 2.1],\n",
    "          [300, 5.1e12, 20, 0.5,  4.1,  0.71, 4.3e-2, 1.1, 1.4e-4, 2.1], \\\n",
    "          [300, 5.1e12, 20, 0.3, 3.6,  0.71, 5.1e-2, 1.2, 1.6e-4, 2.1], \\\n",
    "    #300 &  $5.1 \\times 10^{12}$  & 20 &  $Z_{\\rm grad}$ & 5.4  &  0.65 &  $3.0 \\times 10^{-3}$ & 1.1 & $1.6 \\times 10^{-4}$ & 2.1 \\\\\n",
    "    # 250 &  $2.9 \\times 10^{12}$  & 10 &  1.0 & 3.7  &  0.71 &  $2.8 \\times 10^{-2}$ & 1.2 & $8.1 \\times 10^{-5}$ & 2.2 \\\\\n",
    "          [250, 2.9e12, 10,  0.5, 2.8, 0.72, 4.2e-2, 1.2, 1.1e-4, 2.2], \\\n",
    "          [250, 2.9e12, 10,  0.3, 2.4,  0.72, 5.1e-3, 1.2, 1.3e-4, 2.2], \\\n",
    "    #250 &  $2.9 \\times 10^{12}$  & 10 &  $Z_{\\rm grad}$ & 3.7 &  0.66  &  $2.9 \\times 10^{-2}$ & 1.1 & $1.3 \\times 10^{-4}$ & 2.1 \\\\\n",
    "    #220 &  $2.0 \\times 10^{12}$  & 10 &  1.0 & 4.0  &  0.70    &  $1.7 \\times 10^{-2}$ & 1.2 & $4.2 \\times 10^{-5}$ & 2.3 \\\\\n",
    "         [220, 2.0e12,  10,  0.5, 3.0,  0.71, 2.5e-2, 1.2, 6.1e-5, 2.2], \\\n",
    "         [220, 2.0e12,  10, 0.3, 2.6,  0.71, 3.1e-2, 1.2, 7.2e-5, 2.2], \\\n",
    "    #220 &  $2.0 \\times 10^{12}$  & 10 &  $Z_{\\rm grad}$ & 4.1  &  0.65 &  $1.8 \\times 10^{-2}$ & 1.1 & $7.4 \\times 10^{-5}$ & 2.2 \\\\\n",
    "    #220 &  $2.0 \\times 10^{12}$  & 20 &  1.0 & 6.3  &  0.69  &  $8.6 \\times 10^{-3}$ & 1.1 & $2.3 \\times 10^{-5}$ & 2.3 \\\\\n",
    "         [220, 2.0e12,  20,  0.5, 4.8, 0.70, 1.3e-2, 1.1, 3.4e-5, 2.2], \\\n",
    "         [220, 2.0e12,  20,  0.3, 4.1,  0.70, 1.6e-2, 1.1, 4.2e-5, 2.2], \\\n",
    "    #220 &  $2.0 \\times 10^{12}$  & 20 &  $Z_{\\rm grad}$ & 6.5  &  0.63 &  $9.2 \\times 10^{-3}$ & 1.1 & $4.3 \\times 10^{-4}$ & 2.1 \\\\\n",
    "    # 180 &  $1.1 \\times 10^{12}$  & 10 &  1.0 & 5.6  &  0.71  &  $5.4 \\times 10^{-3}$ & 1.2 & $9.6 \\times 10^{-6}$ & 2.2 \\\\\n",
    "         [180, 1.1e12, 10,  0.5, 4.0,  0.71, 8.7e-3, 1.2, 1.6e-5, 2.2], \\\n",
    "         [180, 1.1e12, 10,  0.3, 3.4,  0.71, 1.1e-2, 1.2, 2.1e-5, 2.2], \\\n",
    "    #180 &  $1.1 \\times 10^{12}$  & 10 &  $Z_{\\rm grad}$ & 5.7  &  0.63 &  $5.9 \\times 10^{-3}$ & 1.1 & $2.3 \\times 10^{-5}$ & 2.2 \\\\\n",
    "         [150, 6.3e11, 10,  0.5, 6.1,  0.68, 2.8e-3, 1.2, 7.4e-6, 2.3], \\\n",
    "         [150, 6.3e11, 10, 0.3, 4.9,  0.68, 3.4e-3, 1.1, 9.8e-6, 2.2], \\\n",
    "         [150, 6.3e11, 10, 0.1, 3.0, 0.69, 8.1e-3, 1.2, 1.9e-5, 2.2], \\\n",
    "         [120, 3.2e11, 10, 0.5, 6.1,  0.69, 1.4e-3, 1.2, 2.3e-6, 2.2], \\\n",
    "         [120, 3.2e11, 10, 0.3, 5.0,  0.70, 1.9e-3, 1.2, 2.9e-6, 2.2], \\\n",
    "         [120, 3.2e11, 10, 0.1, 3.1,  0.71, 3.7e-3, 1.2, 5.1e-6, 2.2], \\\n",
    "         [120, 3.2e11, 20, 0.5, 9.6,  0.69, 7.0e-4, 1.2, 1.2e-6, 2.2],\\\n",
    "         [120, 3.2e11, 20, 0.3, 7.9,  0.70, 9.5e-4, 1.2, 1.5e-6, 2.2],\\\n",
    "         [120, 3.2e11, 20, 0.1, 4.9,  0.71, 1.9e-3, 1.2, 2.7e-6, 2.2]])\n",
    "\n",
    "\n",
    "    #chooses metalicity and cooling criterion parameters we will interpolate on\n",
    "    reducedarr = fitarray[(fitarray[:, 3] == Zmetal) & (fitarray[:, 2] ==  tratcrit)]\n",
    "    reducedarr = reducedarr[::-1] #reverses array\n",
    "    \n",
    "    #old interpolation\n",
    "    #n1 = np.interp(logMhalo, np.log10(reducedarr[:, 1]), reducedarr[:, 6])\n",
    "    #xi1 = np.interp(logMhalo, np.log10(reducedarr[:, 1]), reducedarr[:, 7])\n",
    "    #n2 = np.interp(logMhalo, np.log10(reducedarr[:, 1]), reducedarr[:, 8])\n",
    "    #xi2 = np.interp(logMhalo, np.log10(reducedarr[:, 1]), reducedarr[:, 9])                  \n",
    "    logMhalo_zp2 = logMhalo*((1+0.2)/(1+redshift))**(3/2)\n",
    "    #better interpolation\n",
    "    logn1 = interp1d(np.log10(reducedarr[:, 1]), np.log10(reducedarr[:, 6]), kind='linear', fill_value='extrapolate')(logMhalo_zp2)   \n",
    "    n1 = 10**logn1\n",
    "    xi1 = interp1d(np.log10(reducedarr[:, 1]), reducedarr[:, 7], kind='linear', fill_value='extrapolate')(logMhalo_zp2) \n",
    "    logn2 = interp1d(np.log10(reducedarr[:, 1]), np.log10(reducedarr[:, 8]), kind='linear', fill_value='extrapolate')(logMhalo_zp2)   \n",
    "    n2 = 10**logn2\n",
    "    xi2 = interp1d(np.log10(reducedarr[:, 1]), reducedarr[:, 9], kind='linear', fill_value='extrapolate')(logMhalo_zp2) \n",
    "        \n",
    "    #print(logMhalo, n1, xi1, n2, xi2)\n",
    "\n",
    "    rkpc = np.logspace(0, np.log10(Rvirkpc*XRvir), 300)#number of radial bins\n",
    "\n",
    "    #Voit 2018 fitting formulae\n",
    "    rhoarr = np.array([rkpc, 1/np.sqrt(1/(n1*(rkpc)**-xi1+ 1e-20)**2 + 1/(n2*(rkpc/100)**-xi2 + 1e-20)**2)])\n",
    "    \n",
    "    #Integrate to see how much mass is missed by this profile  (I've checked these seems reasonable)\n",
    "#     rhointerp = interp1d(np.log(rhoarr[0]), 4.*np.pi*rhoarr[0]**3*rhoarr[1], kind='cubic', fill_value='extrapolate')\n",
    "    rhointerp = interp1d(np.log(rhoarr[0]), 4.*np.pi*rhoarr[0]**3*rhoarr[1], kind='linear', fill_value='extrapolate')\n",
    "#     conv = (1.989e33/(1.67e-24))/(3.086e21)**3  #constants: use your values, should have mean molecular weight, which is 1.2 \n",
    "    conv = (Msun/(mu*mp))/KPCTOCM**3\n",
    "    mtotal = quad(rhointerp, 0, np.log(XRvir*Rvirkpc))[0]/conv\n",
    "    \n",
    "    \n",
    "    \n",
    "    #add in rest of mass \n",
    "    neconstant =(10**logMhalo*fbaryon-mtotal)/(4.*np.pi*(XRvir*Rvirkpc)**3)*conv\n",
    "#     print(neconstant)\n",
    "    length = len(rkpc)\n",
    "#     print(\"shape = \", length)\n",
    "    for i in range(length):\n",
    "        if rhoarr[0,  i] < XRvir*Rvirkpc:\n",
    "#             rhoarr[1, i] = np.array([1/np.sqrt(1/(n1*(rkpc)**-xi1+ 1e-20)**2 + 1/(n2*(rkpc/100)**-xi2 + 1e-20)**2)])[1,i] + neconstant\n",
    "            rhoarr[1, i] = rhoarr[1, i] + neconstant\n",
    "    \n",
    "    #print(\"ftotal =\", mtotal/10**logMhalo/fbaryon, neconstant) #.2 is fraction of baryons\n",
    "#     resolution=1\n",
    "    h=.7\n",
    "    L=250/h #Mpc\n",
    "    res=1024*resolution\n",
    "    cellsize = L*1000/res # kpc\n",
    "    \n",
    "#     x = np.ogrid[-10*resolution: 10*resolution]\n",
    "    y,x = np.ogrid[-20*resolution: 20*resolution, -20*resolution:20*resolution]\n",
    "\n",
    "#     f1= lambda x, y, z: my_func(((x**2+y**2+z**2)**.5), n1,n2,xi1,xi2,neconstant,cellsize)\n",
    "    f1= lambda x, y, z: my_func(((x**2+y**2+z**2)**.5), n1,n2,xi1,xi2,neconstant,cellsize,Rvirkpc,XRvir,redshift)\n",
    "    \n",
    "    \n",
    "    vec_integral=np.vectorize(func3Dto2D)\n",
    "    \n",
    "    \n",
    "\n",
    "#     mask1 = vec_integral(f1,x,y,XRvir*Rvirkpc/cellsize)\n",
    "    mask1 = vec_integral(f1,x,y,XRvir*Rvirkpc/cellsize)\n",
    "    r=(x**2+y**2)**.5 # * scale_down\n",
    "    mask1=mask1.astype(float)\n",
    "    mask1[r > (XRvir*Rvirkpc/cellsize)]=0         \n",
    "\n",
    "#     mask1[r <= (XRvir*Rvirkpc/cellsize)] =+ neconstant \n",
    "    \n",
    "    \n",
    "    return rhoarr,mask1\n",
    "\n",
    "# nePercipitation(10)\n",
    "\n",
    "# pass rkpc "
   ]
  },
  {
   "cell_type": "code",
   "execution_count": 384,
   "metadata": {},
   "outputs": [],
   "source": [
    "# The user can create their own function\n",
    "# All length scales have to be converted into units of cellsize\n",
    "\n",
    "def my_func(r, n1,n2,xi1,xi2,neconstant,cellsize_kpc,Rvirkpc,XRvir,redshift):\n",
    "    \n",
    "    \n",
    "#     final_ar = np.array([1/np.sqrt(1/(n1*((r+.5)*cellsize_kpc)**-xi1)**2 + 1/(n2*((r+.5)*cellsize_kpc/100)**-xi2)**2)])# + neconstant\n",
    "    x = (np.array(r) <= XRvir*Rvirkpc)\n",
    "\n",
    "\n",
    "    final_ar = np.array([1/np.sqrt(1/(n1*((r+.5)*cellsize_kpc/(1+redshift))**-xi1)**2 + 1/(n2*((r+.5)*cellsize_kpc/(100*(1+redshift))**-xi2)**2)) + x.astype(int)*neconstant])\n",
    "    \n",
    "    \n",
    "\n",
    "    return final_ar\n",
    "           \n"
   ]
  },
  {
   "cell_type": "markdown",
   "metadata": {},
   "source": [
    "def func3Dto2D(f,x,y,Rvir):\n",
    "    \n",
    "    return integrate.quad(f,-1*np.real((Rvir**2-(x**2+y**2))**.5),np.real((Rvir**2-(x**2+y**2))**.5),args=(x,y))[0] \n",
    "    \n"
   ]
  },
  {
   "cell_type": "code",
   "execution_count": 390,
   "metadata": {},
   "outputs": [
    {
     "ename": "IndentationError",
     "evalue": "unindent does not match any outer indentation level (<tokenize>, line 3)",
     "output_type": "error",
     "traceback": [
      "\u001b[0;36m  File \u001b[0;32m\"<tokenize>\"\u001b[0;36m, line \u001b[0;32m3\u001b[0m\n\u001b[0;31m    if boundary == 0.0:\u001b[0m\n\u001b[0m    ^\u001b[0m\n\u001b[0;31mIndentationError\u001b[0m\u001b[0;31m:\u001b[0m unindent does not match any outer indentation level\n"
     ]
    }
   ],
   "source": [
    "def func3Dto2D(f,x,y,Rvir):\n",
    "     boundary = math.sqrt(max(0.0, Rvir**2-(x**2+y**2)))\n",
    "    if boundary == 0.0:\n",
    "        return 0.0\n",
    "    else:\n",
    "        #print(\"Boundary: {}\".format(boundary))\n",
    "        return 2 * integrate.quad(f, 0, boundary, args=(x,y))[0] \n",
    "\n",
    "    \n"
   ]
  },
  {
   "cell_type": "code",
   "execution_count": 383,
   "metadata": {},
   "outputs": [],
   "source": [
    "def radial_profile(data, center_x,center_y):\n",
    "    y, x = np.indices((data.shape))\n",
    "    r = np.sqrt((x - center_x)**2 + (y - center_y)**2)\n",
    "    r = r.astype(np.int)\n",
    "\n",
    "    tbin = np.bincount(r.ravel(), data.ravel())\n",
    "    nr = np.bincount(r.ravel())\n",
    "    radialprofile = tbin / nr\n",
    "    return radialprofile "
   ]
  },
  {
   "cell_type": "markdown",
   "metadata": {},
   "source": [
    "# The user can create their own function\n",
    "# All length scales have to be converted into units of cellsize\n",
    "\n",
    "def my_func(r, n1,n2,xi1,xi2,neconstant,cellsize_kpc,Rvirkpc,XRvir):\n",
    "    \n",
    "    rkpc = np.logspace(0, np.log10(Rvirkpc*XRvir), 300)\n",
    "    final_ar = np.array([rkpc, (1/np.sqrt(1/(n1*((r+.5)*cellsize_kpc)**-xi1)**2 + 1/(n2*((r+.5)*cellsize_kpc/100)**-xi2)**2))])# + neconstant\n",
    "    \n",
    "    length = len(rkpc)\n",
    "#     print(\"shape = \", length)\n",
    "    for i in range(length):\n",
    "        if final_ar[0,  i] < XRvir*Rvirkpc:\n",
    "#             rhoarr[1, i] = np.array([1/np.sqrt(1/(n1*(rkpc)**-xi1+ 1e-20)**2 + 1/(n2*(rkpc/100)**-xi2 + 1e-20)**2)])[1,i] + neconstant\n",
    "            final_ar[1, i] = rhoarr[1, i] + neconstant\n",
    "    \n",
    "    return final_ar[1]\n",
    "           \n"
   ]
  },
  {
   "cell_type": "markdown",
   "metadata": {},
   "source": [
    "test = nePercipitation(14,600,1)"
   ]
  },
  {
   "cell_type": "markdown",
   "metadata": {},
   "source": [
    "plt.imshow((test[1]))\n",
    "plt.colorbar()"
   ]
  },
  {
   "cell_type": "markdown",
   "metadata": {},
   "source": [
    "plt.imshow((test[1]))\n",
    "plt.colorbar()"
   ]
  },
  {
   "cell_type": "markdown",
   "metadata": {},
   "source": [
    "test2 = nePercipitation(14,1000,1)"
   ]
  },
  {
   "cell_type": "markdown",
   "metadata": {},
   "source": [
    "test3 = nePercipitation(10,50,1)"
   ]
  },
  {
   "cell_type": "markdown",
   "metadata": {},
   "source": [
    "plt.imshow((test[1]))\n",
    "plt.colorbar()"
   ]
  },
  {
   "cell_type": "markdown",
   "metadata": {},
   "source": [
    "test_rad= radial_profile(test[1], 20,20)"
   ]
  },
  {
   "cell_type": "markdown",
   "metadata": {},
   "source": [
    "plt.plot(test_rad)"
   ]
  },
  {
   "cell_type": "markdown",
   "metadata": {},
   "source": [
    "test2_rad= radial_profile(test2[1], 20,20)"
   ]
  },
  {
   "cell_type": "markdown",
   "metadata": {},
   "source": [
    "plt.plot(test2_rad)"
   ]
  },
  {
   "cell_type": "markdown",
   "metadata": {},
   "source": [
    "    h=.7\n",
    "L=250/h #Mpc\n",
    "res=1024\n",
    "cellsize = L*1000/res # kpc\n",
    "    "
   ]
  },
  {
   "cell_type": "markdown",
   "metadata": {},
   "source": [
    "cellsize"
   ]
  },
  {
   "cell_type": "markdown",
   "metadata": {},
   "source": [
    "m14 = nePercipitation(14)\n",
    "print(m14[0])"
   ]
  },
  {
   "cell_type": "markdown",
   "metadata": {},
   "source": [
    "m14 = nePercipitation(14)\n",
    "print(m14[1])\n",
    "m13 = nePercipitation(13)\n",
    "m12 = nePercipitation(12)\n",
    "m11 = nePercipitation(11)\n",
    "m10 = nePercipitation(10)\n",
    "plt.loglog(m14[0], m14[1])\n",
    "plt.loglog(m13[0], m13[1])\n",
    "plt.loglog(m12[0], m12[1])\n",
    "plt.loglog(m11[0], m11[1])\n",
    "plt.loglog(m10[0], m10[1])"
   ]
  },
  {
   "cell_type": "markdown",
   "metadata": {},
   "source": [
    "#What the profile looks like making differnet assumptions\n",
    "m13 = nePercipitation(13)\n",
    "m12 = nePercipitation(12)\n",
    "m13p5 = nePercipitation(13., .5)\n",
    "m12p5 = nePercipitation(12, .5)\n",
    "m1320 = nePercipitation(13, .3, 20)\n",
    "m1220 = nePercipitation(12, .3, 20)\n",
    "\n",
    "plt.loglog(m13[0], m13[1])\n",
    "plt.loglog(m12[0], m12[1])\n",
    "\n",
    "plt.loglog(m13p5[0], m13p5[1])\n",
    "plt.loglog(m12p5[0], m12p5[1])\n",
    "\n",
    "plt.loglog(m1320[0], m1320[1])\n",
    "plt.loglog(m1220[0], m1220[1])"
   ]
  }
 ],
 "metadata": {
  "kernelspec": {
   "display_name": "Python 3",
   "language": "python",
   "name": "python3"
  },
  "language_info": {
   "codemirror_mode": {
    "name": "ipython",
    "version": 3
   },
   "file_extension": ".py",
   "mimetype": "text/x-python",
   "name": "python",
   "nbconvert_exporter": "python",
   "pygments_lexer": "ipython3",
   "version": "3.7.6"
  }
 },
 "nbformat": 4,
 "nbformat_minor": 4
}
