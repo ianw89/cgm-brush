{
 "cells": [
  {
   "cell_type": "markdown",
   "metadata": {},
   "source": [
    "# These are routines to put in physically motivated profiles --- either that match the X-ray data or simulations"
   ]
  },
  {
   "cell_type": "code",
   "execution_count": 4,
   "metadata": {},
   "outputs": [],
   "source": [
    "from __future__ import division\n",
    "import numpy as np\n",
    "import matplotlib.pyplot as plt\n",
    "import numpy as np\n",
    "%matplotlib inline\n",
    "from scipy.interpolate import interp1d\n",
    "import scipy.special as sc\n",
    "import scipy.integrate as integrate\n"
   ]
  },
  {
   "cell_type": "code",
   "execution_count": 5,
   "metadata": {},
   "outputs": [],
   "source": [
    "#fundamental constants\n",
    "mp = 1.6726216e-24  #proton mass in gr\n",
    "# KPCTOCM = 3.086e21\n",
    "MPCTOCM = 3.086e24\n",
    "Msun =  1.9889e33  # gr \n",
    "\n",
    "#cosmology \"constants\"\n",
    "Omegab = 0.045\n",
    "OmegaM=0.3 \n",
    "fb = Omegab/OmegaM #fraction of matter in baryons\n",
    "h = 0.7\n",
    "rhocrit = 2.7755e11*h*h\n",
    "YHE = 0.25 #helium mass fraction\n",
    "mu = 1/((1-YHE) + 2.*YHE/4)  #mean molecular weight to give number of electrons assuming helium doubly ionized\n"
   ]
  },
  {
   "cell_type": "code",
   "execution_count": 6,
   "metadata": {},
   "outputs": [],
   "source": [
    "#from memory.  Adnan, substitute your expression \n",
    "# def rvir(M, z):\n",
    "#     return 280*(M/1e12)**(.33)/(1+z) #kpc\n",
    "\n",
    "# def rvir(M, z):\n",
    "#     return .001*280*(M/1e12)**(.33)/(1+z) #Mpc\n",
    "\n",
    "\n",
    "#radius that is 200 times the matter density in Mpc  (very similar to rvir)\n",
    "def r200Mz(Mhalo, z):\n",
    "    rhomatter = rhocrit*OmegaM\n",
    "    return (Mhalo/((4*np.pi/3)*200.*rhomatter))**(1./3.);\n",
    "\n",
    "# I'm not sure I'm using this\n",
    "def rhoNFW(r, rs):\n",
    "    return 1/(r/rs)/(1+(r/rs))**2"
   ]
  },
  {
   "cell_type": "markdown",
   "metadata": {},
   "source": [
    " # This is FIRE simulation profile (from eyeballing https://arxiv.org/pdf/1811.11753.pdf and using their $r^{-2}$ scaling)"
   ]
  },
  {
   "cell_type": "markdown",
   "metadata": {},
   "source": [
    " I'm using the $r^{-2}$ profile they find, with an exponetial cutoff at rmax, where we use conservation of mass to determine rmax.  So\n",
    " \n",
    " $$\\rho = \\rho_{0}\\left(\\frac{r}{r_*} \\right)^{-2} \\exp[-r/r_{\\rm max}]$$\n",
    " \n",
    " They results technically hold for $10^{10} - 10^{12} M_\\odot$ and $z=0$, but I think it's reasonable to assume they extrapolate to other moderate redshifts and somewhat more massive halos.\n",
    " \n",
    " To normalize things we are using that \n",
    " $$M_{\\rm gas} = \\int 4 \\pi r^2 dr \\rho_{0} \\left(\\frac{r}{r_*} \\right)^{-2} \\exp[-r/r_{\\rm max}] = 4 \\pi r_{\\rm max} \\rho_0 r_*^2$$\n",
    " \n",
    " Note that sometimes I'm working with number densities and sometimes mass densities"
   ]
  },
  {
   "cell_type": "code",
   "execution_count": 1,
   "metadata": {},
   "outputs": [
    {
     "ename": "NameError",
     "evalue": "name 'np' is not defined",
     "output_type": "error",
     "traceback": [
      "\u001b[0;31m---------------------------------------------------------------------------\u001b[0m",
      "\u001b[0;31mNameError\u001b[0m                                 Traceback (most recent call last)",
      "\u001b[0;32m<ipython-input-1-c6560b2e19dc>\u001b[0m in \u001b[0;36m<module>\u001b[0;34m\u001b[0m\n\u001b[1;32m      4\u001b[0m \u001b[0;31m#These are specifications taken from the fire simulations\u001b[0m\u001b[0;34m\u001b[0m\u001b[0;34m\u001b[0m\u001b[0;34m\u001b[0m\u001b[0m\n\u001b[1;32m      5\u001b[0m \u001b[0mRinterpinRvir\u001b[0m \u001b[0;34m=\u001b[0m \u001b[0;36m0.3\u001b[0m  \u001b[0;31m# this is the point where I read off the density nrmalization\u001b[0m\u001b[0;34m\u001b[0m\u001b[0;34m\u001b[0m\u001b[0m\n\u001b[0;32m----> 6\u001b[0;31m \u001b[0mlogMinterp\u001b[0m \u001b[0;34m=\u001b[0m \u001b[0mnp\u001b[0m\u001b[0;34m.\u001b[0m\u001b[0marray\u001b[0m\u001b[0;34m(\u001b[0m\u001b[0;34m[\u001b[0m\u001b[0;36m10.\u001b[0m\u001b[0;34m,\u001b[0m \u001b[0;36m11.\u001b[0m\u001b[0;34m,\u001b[0m \u001b[0;36m12.\u001b[0m\u001b[0;34m]\u001b[0m\u001b[0;34m)\u001b[0m  \u001b[0;31m# these are log10 of the halo masses they consider\u001b[0m\u001b[0;34m\u001b[0m\u001b[0;34m\u001b[0m\u001b[0m\n\u001b[0m\u001b[1;32m      7\u001b[0m \u001b[0mnHinterp\u001b[0m \u001b[0;34m=\u001b[0m \u001b[0mnp\u001b[0m\u001b[0;34m.\u001b[0m\u001b[0marray\u001b[0m\u001b[0;34m(\u001b[0m\u001b[0;34m[\u001b[0m\u001b[0;36m0.5e-4\u001b[0m\u001b[0;34m,\u001b[0m \u001b[0;36m0.8e-4\u001b[0m\u001b[0;34m,\u001b[0m \u001b[0;36m1e-4\u001b[0m\u001b[0;34m]\u001b[0m\u001b[0;34m)\u001b[0m  \u001b[0;31m#these are their number densities in cubic cm\u001b[0m\u001b[0;34m\u001b[0m\u001b[0;34m\u001b[0m\u001b[0m\n\u001b[1;32m      8\u001b[0m \u001b[0;34m\u001b[0m\u001b[0m\n",
      "\u001b[0;31mNameError\u001b[0m: name 'np' is not defined"
     ]
    }
   ],
   "source": [
    "adjustmentfactor = 1  #probably we want to range between 0.5-2 as the numbers look sensible in this range\n",
    "\n",
    "\n",
    "#These are specifications taken from the fire simulations\n",
    "RinterpinRvir = 0.3  # this is the point where I read off the density nrmalization\n",
    "logMinterp = np.array([10., 11., 12.])  # these are log10 of the halo masses they consider\n",
    "nHinterp = np.array([0.5e-4, 0.8e-4, 1e-4])  #these are their number densities in cubic cm\n",
    "\n",
    "\n",
    "\n",
    "    \n",
    "nHinterp = interp1d(logMinterp, nHinterp, fill_value=\"extrapolate\")\n",
    "\n",
    "\n",
    "#The density of \n",
    "def rhogasFire(Mhalo,Rvir, z, adjustmentfactor,res):\n",
    "    \n",
    "    # Simulation details\n",
    "    \n",
    "    h=.7\n",
    "    L=250/h #Mpc\n",
    "    resolution=1024*res\n",
    "    cellsize = L/resolution\n",
    "    y,x = np.ogrid[-20*res: 20*res, -20*res:20*res]\n",
    "\n",
    "\n",
    "    \n",
    "    \n",
    "    \n",
    "    rho0 = adjustmentfactor*nHinterp(np.log10(Mhalo))\n",
    "    Rinterp = RinterpinRvir* Rvir #rvir(Mhalo, z)\n",
    "    \n",
    "    \n",
    "#     Rinterp = RinterpinRvir*rvir(Mhalo, z)\n",
    "    \n",
    "#     Ntot = Mhalo*Msun*fb/(mu*mp)/(KPCTOCM**3)\n",
    "    Ntot = Mhalo*Msun*fb/(mu*mp)/(MPCTOCM**3)\n",
    "    rmax = Ntot/(4.*np.pi*rho0*Rinterp**2 )  #from integrating above expression for rho\n",
    "#     print(\"rho0 = \", rho0, \"rmax = \", rmax, \"rmax/rvir = \", rmax/rvir(Mhalo, z), \"[don't want last to be much smaller than virial radius]\")\n",
    "    \n",
    "    \n",
    "    rarr = np.logspace(-2, np.log10(5*rmax), 100) # Cut off at 5 times exponential cutoff\n",
    "    rhoarr = rho0*(rarr/Rinterp)**-2*np.exp(-rarr/rmax) #number density: per cm3\n",
    "    #rhoarr[rarr > rmax] = 0\n",
    "    \n",
    "    \n",
    "    ## creating a mask\n",
    "    f1= lambda x, y, z: my_func(((x**2+y**2+z**2)**.5), rmax,Rinterp,rho0,cellsize)\n",
    "\n",
    "\n",
    "    \n",
    "    vec_integral=np.vectorize(func3Dto2D)\n",
    "    \n",
    "    \n",
    "\n",
    "    mask1 = vec_integral(f1,x,y,rmax/cellsize)\n",
    "#     mask1 = vec_integral(f1,x,y,Rvir/cellsize)\n",
    "    r=(x**2+y**2)**.5 # * scale_down\n",
    "    mask1=mask1.astype(float)\n",
    "#     mask1[r > (rmax/cellsize)]=0        \n",
    "    \n",
    "    \n",
    "    return [rarr, rhoarr,mask1]\n",
    "    \n",
    "    "
   ]
  },
  {
   "cell_type": "code",
   "execution_count": 31,
   "metadata": {},
   "outputs": [],
   "source": [
    "# The user can create their own function\n",
    "# All length scales have to be converted into units of cellsize\n",
    "def my_func(r, rmax,Rinterp,rho0,cellsize):\n",
    "    R1 = rmax/cellsize  # Convert length scale into units of cellsize\n",
    "    R2 = Rinterp/cellsize\n",
    "    return rho0*np.exp(-r/R1)*  ((r+.5)/R2)**-2\n",
    "           \n"
   ]
  },
  {
   "cell_type": "code",
   "execution_count": 32,
   "metadata": {},
   "outputs": [],
   "source": [
    "def radial_profile(data, center_x,center_y):\n",
    "    y, x = np.indices((data.shape))\n",
    "    r = np.sqrt((x - center_x)**2 + (y - center_y)**2)\n",
    "    r = r.astype(np.int)\n",
    "\n",
    "    tbin = np.bincount(r.ravel(), data.ravel())\n",
    "    nr = np.bincount(r.ravel())\n",
    "    radialprofile = tbin / nr\n",
    "    return radialprofile "
   ]
  },
  {
   "cell_type": "code",
   "execution_count": 33,
   "metadata": {},
   "outputs": [],
   "source": [
    "def func3Dto2D(f,x,y,Rvir):\n",
    "    \n",
    "    return integrate.quad(f,-1*np.real((Rvir**2-(x**2+y**2))**.5),np.real((Rvir**2-(x**2+y**2))**.5),args=(x,y))[0] \n",
    "    \n"
   ]
  },
  {
   "cell_type": "markdown",
   "metadata": {},
   "source": [
    "rm10 = rhogasFire(1e14, .2, adjustmentfactor,1,1)\n",
    "# rm40 = rhogasFire(1e10, 0, adjustmentfactor,2)"
   ]
  },
  {
   "cell_type": "markdown",
   "metadata": {},
   "source": [
    "plt.imshow(rm10[2])"
   ]
  },
  {
   "cell_type": "markdown",
   "metadata": {},
   "source": [
    "plt.imshow(rm10[2])"
   ]
  },
  {
   "cell_type": "markdown",
   "metadata": {},
   "source": [
    "plt.imshow(rm10[2])"
   ]
  },
  {
   "cell_type": "markdown",
   "metadata": {},
   "source": []
  },
  {
   "cell_type": "markdown",
   "metadata": {},
   "source": []
  },
  {
   "cell_type": "markdown",
   "metadata": {},
   "source": []
  },
  {
   "cell_type": "markdown",
   "metadata": {},
   "source": []
  },
  {
   "cell_type": "markdown",
   "metadata": {},
   "source": []
  },
  {
   "cell_type": "markdown",
   "metadata": {},
   "source": []
  },
  {
   "cell_type": "markdown",
   "metadata": {},
   "source": [
    "rm10 = rhogasFire(1e10, 0, adjustmentfactor,1)"
   ]
  },
  {
   "cell_type": "markdown",
   "metadata": {},
   "source": [
    "np.max(rm10[2])"
   ]
  },
  {
   "cell_type": "markdown",
   "metadata": {},
   "source": [
    "np.max(rm40[2])"
   ]
  },
  {
   "cell_type": "markdown",
   "metadata": {},
   "source": [
    "plt.imshow(rm10[2],vmin=np.min(rm10[2]),vmax=np.max(rm10[2]))\n",
    "np.mean(rm10[2])\n",
    "plt.show()\n",
    "\n",
    "plt.imshow(rm40[2],vmin=np.min(rm40[2]),vmax=np.max(rm40[2]))\n",
    "np.mean(rm40[2])\n",
    "plt.show()\n"
   ]
  },
  {
   "cell_type": "markdown",
   "metadata": {},
   "source": [
    "rad10=radial_profile(rm10[2], 5,5)\n",
    "rad40=radial_profile(rm40[2], 10,10)"
   ]
  },
  {
   "cell_type": "markdown",
   "metadata": {},
   "source": [
    "plt.plot(rad10)\n",
    "plt.plot(rad40)"
   ]
  },
  {
   "cell_type": "markdown",
   "metadata": {},
   "source": [
    "# Test: General case of analytic function"
   ]
  },
  {
   "cell_type": "markdown",
   "metadata": {},
   "source": [
    "%run FRBProject-Chap1-ParametersAndFunctions.ipynb\n",
    "%run FRBProject-Chap2-ExtractData-Halos.ipynb\n",
    "%run FRBProject-Chap3-Convolution.ipynb\n"
   ]
  },
  {
   "cell_type": "markdown",
   "metadata": {},
   "source": [
    "current_halo_file = extract_halos(0)"
   ]
  },
  {
   "cell_type": "markdown",
   "metadata": {},
   "source": [
    "resolution = 1\n",
    "\n",
    "\n",
    "\n",
    "min_mass=10**12\n",
    "max_mass=10**14\n",
    "log_bins=10\n",
    "\n",
    "subtraction_halo_profile = 'NFW'\n",
    "addition_halo_profile = 'tophat' \n",
    "scaling_radius = 1\n",
    "redshift=0\n",
    "\n",
    "\n",
    "halo_array_for_convolution = create_halo_array_for_convolution(current_halo_file,min_mass,max_mass,log_bins)\n",
    "df= halo_array_for_convolution[0]\n",
    "binz= halo_array_for_convolution[1]\n",
    "    \n",
    "\n",
    "    \n",
    "    \n",
    "    # convolve halos\n",
    "profile = add_halos(df,resolution,len(binz)-1,binz,subtraction_halo_profile,scaling_radius,redshift)"
   ]
  },
  {
   "cell_type": "markdown",
   "metadata": {},
   "source": [
    "plt.imshow(profile[4])\n",
    "print(np.mean(profile[0]))"
   ]
  },
  {
   "cell_type": "markdown",
   "metadata": {},
   "source": [
    "resolution = 2\n",
    "\n",
    "\n",
    "\n",
    "min_mass=10**12\n",
    "max_mass=10**14\n",
    "log_bins=10\n",
    "\n",
    "subtraction_halo_profile = 'NFW'\n",
    "addition_halo_profile = 'tophat' \n",
    "scaling_radius = 1\n",
    "redshift=0\n",
    "\n",
    "\n",
    "halo_array_for_convolution = create_halo_array_for_convolution(current_halo_file,min_mass,max_mass,log_bins)\n",
    "df= halo_array_for_convolution[0]\n",
    "binz= halo_array_for_convolution[1]\n",
    "    \n",
    "\n",
    "    \n",
    "    \n",
    "    # convolve halos\n",
    "profile1_2 = add_halos(df,resolution,len(binz)-1,binz,subtraction_halo_profile,scaling_radius,redshift)"
   ]
  },
  {
   "cell_type": "markdown",
   "metadata": {},
   "source": [
    "plt.imshow(profile1_2[4])\n",
    "print(np.mean(profile1_2[0]))"
   ]
  },
  {
   "cell_type": "markdown",
   "metadata": {},
   "source": [
    "resolution = 1\n",
    "\n",
    "current_halo_file = extract_halos(0)\n",
    "\n",
    "min_mass=10**12\n",
    "max_mass=10**14\n",
    "log_bins=10\n",
    "\n",
    "subtraction_halo_profile = 'NFW'\n",
    "addition_halo_profile = 'fire' \n",
    "scaling_radius = 1\n",
    "redshift=0\n",
    "\n",
    "\n",
    "halo_array_for_convolution = create_halo_array_for_convolution(current_halo_file,min_mass,max_mass,log_bins)\n",
    "df= halo_array_for_convolution[0]\n",
    "binz= halo_array_for_convolution[1]\n",
    "    \n",
    "\n",
    "    \n",
    "    \n",
    "    # convolve halos\n",
    "profile_fire = add_halos_test(df,resolution,len(binz)-1,binz,subtraction_halo_profile,scaling_radius,redshift)"
   ]
  },
  {
   "cell_type": "markdown",
   "metadata": {},
   "source": [
    "plt.imshow(profile_fire[4])\n",
    "print(np.mean(profile_fire[0]))"
   ]
  },
  {
   "cell_type": "markdown",
   "metadata": {},
   "source": [
    "resolution = 2\n",
    "\n",
    "\n",
    "min_mass=10**12\n",
    "max_mass=10**14\n",
    "log_bins=10\n",
    "\n",
    "subtraction_halo_profile = 'NFW'\n",
    "addition_halo_profile = 'fire' \n",
    "scaling_radius = 1\n",
    "redshift=0\n",
    "\n",
    "\n",
    "halo_array_for_convolution = create_halo_array_for_convolution(current_halo_file,min_mass,max_mass,log_bins)\n",
    "df= halo_array_for_convolution[0]\n",
    "binz= halo_array_for_convolution[1]\n",
    "    \n",
    "\n",
    "    \n",
    "    \n",
    "    # convolve halos\n",
    "profile_fire_2 = add_halos_test(df,resolution,len(binz)-1,binz,subtraction_halo_profile,scaling_radius,redshift)"
   ]
  },
  {
   "cell_type": "markdown",
   "metadata": {},
   "source": [
    "plt.imshow(profile_fire_2[4])\n",
    "print(np.mean(profile_fire_2[0]))"
   ]
  }
 ],
 "metadata": {
  "kernelspec": {
   "display_name": "Python 3",
   "language": "python",
   "name": "python3"
  },
  "language_info": {
   "codemirror_mode": {
    "name": "ipython",
    "version": 3
   },
   "file_extension": ".py",
   "mimetype": "text/x-python",
   "name": "python",
   "nbconvert_exporter": "python",
   "pygments_lexer": "ipython3",
   "version": "3.7.6"
  }
 },
 "nbformat": 4,
 "nbformat_minor": 4
}
