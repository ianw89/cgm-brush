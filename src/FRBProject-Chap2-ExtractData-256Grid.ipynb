{
 "cells": [
  {
   "cell_type": "markdown",
   "source": [
    "# This notebook extracts the density field of the 256 grid from the simulation tables"
   ],
   "metadata": {}
  },
  {
   "cell_type": "code",
   "execution_count": 7,
   "source": [
    "# imports packages\n",
    "from __future__ import print_function \n",
    "import matplotlib.pyplot as plt\n",
    "import numpy as np\n",
    "%matplotlib inline\n",
    "import pandas as pd\n",
    "#import csv\n",
    "import os.path\n",
    "import random\n",
    "import scipy.integrate as integrate\n",
    "from numpy import genfromtxt\n",
    "from random import randrange\n",
    "from numpy.polynomial import Polynomial as P\n",
    "from IPython.display import Latex\n",
    "from cgmbrush import *"
   ],
   "outputs": [],
   "metadata": {}
  },
  {
   "cell_type": "markdown",
   "source": [
    "## Main steps"
   ],
   "metadata": {}
  },
  {
   "cell_type": "markdown",
   "source": [
    "### Have to hardcode z=0 table because of the unique column names"
   ],
   "metadata": {}
  },
  {
   "cell_type": "code",
   "execution_count": 9,
   "source": [
    "# reading density field and halos data\n",
    "file_path= os.path.join(sims_folder, 'dens256-z-0.csv.gz')\n",
    "pdDens=pd.read_csv(file_path)\n",
    "\n",
    "\n",
    "# extracting columns\n",
    "pdDensN=pdDens[['Bolshoi__Dens256_z0__ix','Bolshoi__Dens256_z0__iy','Bolshoi__Dens256_z0__iz','Bolshoi__Dens256_z0__dens']]\n",
    "\n",
    "\n",
    "# 3D density array\n",
    "pdDensN=pdDensN.sort_values(['Bolshoi__Dens256_z0__ix','Bolshoi__Dens256_z0__iy','Bolshoi__Dens256_z0__iz'])\n",
    "tden = pdDensN['Bolshoi__Dens256_z0__dens'].values\n",
    "tden2=np.reshape(tden,(256,256,256))\n",
    "\n",
    "\n",
    "# extracting columns\n",
    "pdDensN=pdDens[['Bolshoi__Dens256_z0__ix','Bolshoi__Dens256_z0__iy','Bolshoi__Dens256_z0__iz','Bolshoi__Dens256_z0__dens']]\n",
    "\n"
   ],
   "outputs": [],
   "metadata": {}
  },
  {
   "cell_type": "code",
   "execution_count": 10,
   "source": [
    "# status: looks good, can see the cosmic web of halos and strings\n",
    "# image plot of the given density field\n",
    "\n",
    "\n",
    "orig_den_256= ((tden2+1).sum(2))*10**6* dx* elecD(z) /(1+z)**2\n",
    "# plt.imshow(orig_den_256,vmin=0,vmax=100)\n",
    "# plt.colorbar()\n",
    "# plt.show()\n",
    "#print('The file name is: ', str(orig_den_256))"
   ],
   "outputs": [],
   "metadata": {}
  },
  {
   "cell_type": "markdown",
   "source": [
    "# Function to import density and halo tables for a given redshift"
   ],
   "metadata": {}
  },
  {
   "cell_type": "code",
   "execution_count": 11,
   "source": [
    "def import_density_field_256(redshift):\n",
    "    name = 'dens256-z-0.'+str(redshift)+'.csv.gz'\n",
    "    den = pd.read_csv(name)\n",
    "    den2=den[['Bolshoi__Dens256__ix','Bolshoi__Dens256__iy','Bolshoi__Dens256__iz','Bolshoi__Dens256__dens']]\n",
    "\n",
    "\n",
    "    # 3D density array\n",
    "    den_sorted=den2.sort_values(['Bolshoi__Dens256__ix','Bolshoi__Dens256__iy','Bolshoi__Dens256__iz'])\n",
    "    den_vals = den_sorted['Bolshoi__Dens256__dens'].values\n",
    "    den256=np.reshape(den_vals,(256,256,256))\n",
    "    \n",
    "    \n",
    "    \n",
    "    return normDM((den256+1).sum(2),0)\n",
    "#     return normDM((den256+1).sum(random.randint(0,1)),0)\n",
    "\n",
    "\n",
    "    "
   ],
   "outputs": [],
   "metadata": {}
  },
  {
   "cell_type": "markdown",
   "source": [
    "# Create a single array of density fields for various redshifts"
   ],
   "metadata": {}
  },
  {
   "cell_type": "code",
   "execution_count": 12,
   "source": [
    "# Density fields: Choose 256 or 512 field\n",
    "\n",
    "def extract_all_den_fields(RS_array,den_grid_size):\n",
    "\n",
    "\n",
    "    all_den_fields = np.zeros([len(RS_array),den_grid_size,den_grid_size])\n",
    "\n",
    "    if den_grid_size == 256:\n",
    "        all_den_fields[0,:,:] = orig_den_256\n",
    "    elif den_grid_size == 512:\n",
    "        all_den_fields[0,:,:] = orig_den_512\n",
    "\n",
    "    for i in range(1, len(RS_array)):\n",
    "        if den_grid_size == 256:\n",
    "            all_den_fields[i,:,:]=import_density_field_256(i)\n",
    "        elif den_grid_size == 512:\n",
    "            all_den_fields[i,:,:]=import_density_field_512(i)\n",
    "    \n",
    "    return all_den_fields \n",
    "    \n",
    "    \n",
    "    \n",
    "    "
   ],
   "outputs": [],
   "metadata": {}
  }
 ],
 "metadata": {
  "kernelspec": {
   "display_name": "Python 3",
   "language": "python",
   "name": "python3"
  },
  "language_info": {
   "codemirror_mode": {
    "name": "ipython",
    "version": 3
   },
   "file_extension": ".py",
   "mimetype": "text/x-python",
   "name": "python",
   "nbconvert_exporter": "python",
   "pygments_lexer": "ipython3",
   "version": "3.7.1"
  }
 },
 "nbformat": 4,
 "nbformat_minor": 2
}