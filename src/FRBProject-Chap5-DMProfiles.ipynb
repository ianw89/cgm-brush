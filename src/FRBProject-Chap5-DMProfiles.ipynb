{
 "cells": [
  {
   "cell_type": "code",
   "execution_count": null,
   "metadata": {},
   "outputs": [],
   "source": [
    "# imports packages\n",
    "from __future__ import print_function \n",
    "import matplotlib.pyplot as plt\n",
    "import numpy as np\n",
    "%matplotlib inline\n",
    "import pandas as pd\n",
    "#import csv\n",
    "import random\n",
    "import scipy.integrate as integrate\n",
    "from numpy import genfromtxt\n",
    "from random import randrange\n",
    "from numpy.polynomial import Polynomial as P\n",
    "from IPython.display import Latex\n",
    "import time\n",
    "from decimal import Decimal"
   ]
  },
  {
   "cell_type": "markdown",
   "metadata": {},
   "source": [
    "# DM profile for a mass bin"
   ]
  },
  {
   "cell_type": "markdown",
   "metadata": {},
   "source": [
    "## Create radial profile of a field"
   ]
  },
  {
   "cell_type": "code",
   "execution_count": 14,
   "metadata": {},
   "outputs": [],
   "source": [
    "def radial_profile(data, center_x,center_y):\n",
    "    y, x = np.indices((data.shape))\n",
    "    r = np.sqrt((x - center_x)**2 + (y - center_y)**2)\n",
    "    r = r.astype(np.int)\n",
    "\n",
    "    tbin = np.bincount(r.ravel(), data.ravel())\n",
    "    nr = np.bincount(r.ravel())\n",
    "    radialprofile = tbin / nr\n",
    "    return radialprofile "
   ]
  },
  {
   "cell_type": "markdown",
   "metadata": {},
   "source": [
    "## Calculate Dispersion measure for each mass bin"
   ]
  },
  {
   "cell_type": "code",
   "execution_count": 4,
   "metadata": {},
   "outputs": [],
   "source": [
    "def DM_for_mass_bin(halo_array,df,crop_grid):\n",
    "    \n",
    "    res=halo_array.shape[0]\n",
    "    trim_dim=crop_grid\n",
    "#     DM_rad = np.zeros([len(df), 2*trim_dim+1,2*trim_dim+1])\n",
    "    \n",
    "    DM_rad = np.zeros([len(df), trim_dim,trim_dim])\n",
    "    \n",
    "#     ix = (df['ix'].values)\n",
    "#     iy = (df['iy'].values)\n",
    "    \n",
    "    \n",
    "    ix = ((np.around((4*res/1024)*((df['x'].values)/(250/256))))%(res)).astype(int)\n",
    "    iy = ((np.around((4*res/1024)*((df['y'].values)/(250/256))))%(res)).astype(int)\n",
    "#     print(ix)\n",
    "    \n",
    "    \n",
    "        \n",
    "    \n",
    "    for i in range(0,len(df)):            \n",
    "            \n",
    "        if ix[i] > int(trim_dim) and ix[i] < res - int(trim_dim) and iy[i] > int(trim_dim) and iy[i] < res- int(trim_dim):\n",
    "#             trimmed = halo_array[ix[i]-int(trim_dim):ix[i]+int(trim_dim+1),iy[i]-int(trim_dim):iy[i]+int(trim_dim +1)]\n",
    "            trimmed = halo_array[ix[i]-int(trim_dim/2):ix[i]+int(trim_dim/2),iy[i]-int(trim_dim/2):iy[i]+int(trim_dim/2)]\n",
    "            DM_rad[i,:,:] = trimmed\n",
    "    \n",
    "\n",
    "    return DM_rad\n",
    "        \n",
    "        "
   ]
  },
  {
   "cell_type": "code",
   "execution_count": 28,
   "metadata": {},
   "outputs": [],
   "source": [
    "# Function: calculates the radial profile for each mass bin\n",
    "\n",
    "def radial_profile_array(DM_halo_array,halos_per_mass_bin,len_rad_ar):\n",
    "    \n",
    "    trim_dim=DM_halo_array.shape[1]\n",
    "    center=int(trim_dim/2)\n",
    "    \n",
    "    DM_mass_bin= np.zeros([len(halos_per_mass_bin),trim_dim,trim_dim])\n",
    "    rad_prof_mass_bin = np.zeros([len(halos_per_mass_bin),len_rad_ar])\n",
    "\n",
    "    \n",
    "    # The -1 has to be thought more about\n",
    "    for i in range(0,len(halos_per_mass_bin)-1):\n",
    "        DM_mass_bin[i,:,:]= np.mean(DM_halo_array[halos_per_mass_bin[i]:halos_per_mass_bin[i+1],:,:],axis=0)\n",
    "        rad_prof_mass_bin[i,:] = radial_profile(DM_mass_bin[i,:,:],center,center)\n",
    "    \n",
    "    return rad_prof_mass_bin,DM_mass_bin\n",
    "    \n",
    "    \n",
    "    \n",
    "    "
   ]
  },
  {
   "cell_type": "code",
   "execution_count": 29,
   "metadata": {},
   "outputs": [],
   "source": [
    "# Function: plots radial profiles for different halo mass bins\n",
    "\n",
    "def plot_radial_profile(radial_profile_array,mass_array,radial_extent,num_of_plots):\n",
    "    \n",
    "    plt.figure(figsize=(10,10))\n",
    "    plot_x_dim = radial_profile_array.shape[1]\n",
    "    \n",
    "    for i in range(0,len(mass_array)-1,num_of_plots):\n",
    "        \n",
    "        plt.semilogx(np.linspace(0,radial_extent,plot_x_dim),radial_profile_array[i,:]-mean_DM, label= 'Mass = %.1E' % Decimal(mass_array[i]))\n",
    "        plt.legend(loc='upper right')\n",
    "        plt.xlabel('Radial distance (Mpc)')\n",
    "        plt.ylabel('DM - <DM>')\n",
    "    plt.savefig('DMvsRad_ImpactParam')"
   ]
  },
  {
   "cell_type": "code",
   "execution_count": 30,
   "metadata": {},
   "outputs": [],
   "source": [
    "# Function: plots radial profiles for different halo mass bins\n",
    "\n",
    "def plot_radial_profile_2(radial_profile_array_1,radial_profile_array_2,mass_array,radial_extent,num_of_plots):\n",
    "    \n",
    "    plt.figure(figsize=(10,10))\n",
    "    plot_x_dim_1 = radial_profile_array_1.shape[1]\n",
    "    print(plot_x_dim_1)\n",
    "    plot_x_dim_2 = radial_profile_array_2.shape[1]\n",
    "    print(plot_x_dim_2)\n",
    "    \n",
    "    for i in range(0,len(mass_array)-1,num_of_plots):\n",
    "        \n",
    "        plt.semilogx(np.linspace(0,radial_extent,plot_x_dim_1),radial_profile_array_1[i,:]-mean_DM, label= 'Mass = %.1E' % Decimal(mass_array[i]))\n",
    "        plt.semilogx(np.linspace(0,radial_extent,plot_x_dim_2),radial_profile_array_2[i,:], linestyle='--',label= 'Mass = %.1E' % Decimal(mass_array[i]))\n",
    "        plt.legend(loc='upper right')\n",
    "        plt.xlabel('Radial distance (Mpc)')\n",
    "        plt.ylabel('DM - <DM>')\n",
    "        plt.ylim(0,250)\n",
    "    plt.savefig('DMvsRad_ImpactParam')"
   ]
  },
  {
   "cell_type": "code",
   "execution_count": 31,
   "metadata": {},
   "outputs": [],
   "source": [
    "def plot_radial_profile_3(radial_profile_array_1,radial_profile_array_2,radial_profile_array_3,mass_array,radial_extent,num_of_plots):\n",
    "    \n",
    "    plt.figure(figsize=(10,10))\n",
    "    plot_x_dim_1 = radial_profile_array_1.shape[1]\n",
    "    plot_x_dim_2 = radial_profile_array_2.shape[1]\n",
    "    plot_x_dim_3 = radial_profile_array_3.shape[1]\n",
    "    \n",
    "    for i in range(0,len(mass_array)-1,num_of_plots):\n",
    "        \n",
    "        plt.semilogx(np.linspace(0,radial_extent,plot_x_dim_1),radial_profile_array_1[i,:]-75, label= 'Mass = %.1E' % Decimal(mass_array[i]))\n",
    "        plt.semilogx(np.linspace(0,radial_extent,plot_x_dim_2),radial_profile_array_2[i,:]-75, linestyle='--',label= 'Mass = %.1E' % Decimal(mass_array[i]))\n",
    "        plt.semilogx(np.linspace(0,radial_extent,plot_x_dim_3),radial_profile_array_3[i,:]-75, linestyle='-.',label= 'Mass = %.1E' % Decimal(mass_array[i]))\n",
    "        plt.legend(loc='upper right')\n",
    "        plt.xlabel('Radial distance (Mpc)')\n",
    "        plt.ylabel('DM - <DM>')\n",
    "        plt.ylim(0,300)\n",
    "    plt.savefig('DMvsRad_ImpactParam')"
   ]
  },
  {
   "cell_type": "markdown",
   "metadata": {},
   "source": [
    "## Single function for radial profile of DM for a given DM array and grid size"
   ]
  },
  {
   "cell_type": "code",
   "execution_count": 33,
   "metadata": {},
   "outputs": [],
   "source": [
    "# Function\n",
    "\n",
    "def DM_vs_radius(DM_array,halo_data_frame,crop_grid_dim, mass_bins, hist_mass_bins):\n",
    "    \n",
    "#     len_rad_ar = radial_profile(DM_for_mass_bin(DM_array,halo_data_frame,crop_grid_dim)[0,:,:],int(crop_grid_dim),int(crop_grid_dim)).shape[0]\n",
    "    \n",
    "    # I can run profile of masks function to get this instead of running the above function\n",
    "    len_rad_ar=15\n",
    "    \n",
    "    trimmed_ar = DM_for_mass_bin(DM_array,halo_data_frame,crop_grid_dim)\n",
    "#     print((trimmed_ar.shape)[-1])\n",
    "    \n",
    "    final_ar=radial_profile(trimmed_ar[0,:,:],(trimmed_ar.shape)[-1]/2,(trimmed_ar.shape)[-1]/2)\n",
    "        \n",
    "#     return radial_profile_array(DM_for_mass_bin(DM_array,halo_data_frame,crop_grid_dim),hist_mass_bins,((final_ar.shape)[0]))\n",
    "\n",
    "    output = radial_profile_array(trimmed_ar,hist_mass_bins,((final_ar.shape)[0]))\n",
    "    \n",
    "    return output[0],output[1],trimmed_ar\n",
    "    "
   ]
  },
  {
   "cell_type": "markdown",
   "metadata": {},
   "source": [
    "## Calculate profiles of masks "
   ]
  },
  {
   "cell_type": "code",
   "execution_count": 10,
   "metadata": {},
   "outputs": [],
   "source": [
    "def profile_of_masks(mask_array):\n",
    "    \n",
    "    mask_prof_ar_shape = mask_array.shape\n",
    "    prof_num=mask_prof_ar_shape[0]\n",
    "    mask_center=int(mask_prof_ar_shape[1]/2)\n",
    "    \n",
    "    dim_rad_ar=(radial_profile(mask_array[0,:,:], mask_center,mask_center)).shape[0]\n",
    "\n",
    "    prof_masks = np.zeros([prof_num,dim_rad_ar])\n",
    "    \n",
    "    for i in range(0,prof_num):\n",
    "    \n",
    "        prof_masks[i,:] = radial_profile(mask_array[i,:,:], mask_center,mask_center)\n",
    "        \n",
    "    \n",
    "    return prof_masks\n",
    "    \n",
    "    "
   ]
  },
  {
   "cell_type": "code",
   "execution_count": null,
   "metadata": {},
   "outputs": [],
   "source": []
  }
 ],
 "metadata": {
  "kernelspec": {
   "display_name": "Python 3",
   "language": "python",
   "name": "python3"
  },
  "language_info": {
   "codemirror_mode": {
    "name": "ipython",
    "version": 3
   },
   "file_extension": ".py",
   "mimetype": "text/x-python",
   "name": "python",
   "nbconvert_exporter": "python",
   "pygments_lexer": "ipython3",
   "version": "3.7.6"
  }
 },
 "nbformat": 4,
 "nbformat_minor": 2
}
