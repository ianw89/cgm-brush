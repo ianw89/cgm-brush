{
 "cells": [
  {
   "cell_type": "markdown",
   "source": [
    "# FRB Project\n",
    "\n",
    "This is the main file from which we run all the different parts of the project. \n",
    "\n",
    "The basic algorithm is as follows:\n",
    "\n",
    "- First we run the following chapters:\n",
    "    - Chapter 1 sets the parameters for the method. The cosmological parameters are set here, as well as the particular parameters for the simulation in use.\n",
    "    - Chapter 2 and 3 extract the density field and the halo tables from the downloaded csv files from the simulation website. The files must be named as described in the chapter to ensure that reading them in is automated.\n",
    "    - Chapter 4 contains the methods to remove and add halos from the density field using different profiles chosen by the user. If the profile is more specialized like FIRE or Precipitation, a separate python file is created with these profile which is called by \"add_halos\" method.\n",
    "    - Chapter 5 takes the final density field of the halos after they have been added back using a prescribed profile, and trims the halos to create an impact parameter plot.\n",
    "    - Chapter 6 stacks multiple boxes based on the redshift to which we want to evaluate the dispersion measure.\n",
    "\n",
    "\n",
    "- Then we set the specifications as given in the \"Specifications\" box below, and create a halo field for the chosen resolution and profile from the many choices in \"profiles\". This applies the functions from the chapters 1-6 and gives a final density field with the given choice of halo profile.\n",
    "- Impact parameter plots: from the final field we create plots for impact parameter for single simulation box\n",
    "- Redshift stacking: we take the final field and stack it on top of each other to calculate the dispersion measure out to a given redshift."
   ],
   "metadata": {}
  },
  {
   "cell_type": "code",
   "execution_count": 1,
   "source": [
    "# imports packages\n",
    "from __future__ import print_function \n",
    "import matplotlib.pyplot as plt\n",
    "import numpy as np\n",
    "%matplotlib inline\n",
    "import pandas as pd\n",
    "#import csv\n",
    "import random\n",
    "import os\n",
    "import scipy.integrate as integrate\n",
    "from numpy import genfromtxt\n",
    "from random import randrange\n",
    "from numpy.polynomial import Polynomial as P\n",
    "from IPython.display import Latex\n",
    "import time\n",
    "from decimal import Decimal\n",
    "from matplotlib.ticker import FormatStrFormatter\n",
    "from cgmbrush import *\n"
   ],
   "outputs": [],
   "metadata": {}
  },
  {
   "cell_type": "code",
   "execution_count": 2,
   "source": [
    "varFolder = \"../var\"\n",
    "\n",
    "# Intermediate numpy arrays get can be saved into var folder outside version control\n",
    "def saveArray(filename, *arrays):\n",
    "    file_path = os.path.join(varFolder, filename)\n",
    "    \n",
    "    if not(os.path.exists(varFolder)):\n",
    "        os.makedirs(varFolder)\n",
    "\n",
    "    np.save(file_path, arrays)\n",
    "    \n",
    "def loadArray(filename):\n",
    "    file_path = os.path.join(varFolder, filename)\n",
    "    return np.load(file_path, allow_pickle=True)\n"
   ],
   "outputs": [],
   "metadata": {}
  },
  {
   "cell_type": "markdown",
   "source": [
    "# 1: Method applied to a single box"
   ],
   "metadata": {}
  },
  {
   "cell_type": "markdown",
   "source": [
    "### Specifications"
   ],
   "metadata": {}
  },
  {
   "cell_type": "code",
   "execution_count": 3,
   "source": [
    "# Mass range of halos\n",
    "min_mass = 10**10\n",
    "max_mass = 10**14.5\n",
    "log_bins = 30\n",
    "\n",
    "# Configuration for a run\n",
    "class Configuration:\n",
    "\n",
    "    # Default options\n",
    "    def __init__(self, addition_halo_profile, scaling_radius, resolution=1, file_prefix=None, den_grid_size=256, RS_array=[0], load_from_files=False):\n",
    "        \n",
    "        # Profile to use for adding in CGM\n",
    "        self.addition_halo_profile = addition_halo_profile\n",
    "        self.file_prefix = file_prefix\n",
    "        if (self.file_prefix == None):\n",
    "            self.file_prefix = self.addition_halo_profile\n",
    "\n",
    "        self.scaling_radius = scaling_radius\n",
    "\n",
    "        # Resolution: choose between 256 and 512 grid\n",
    "        if den_grid_size != 256 and den_grid_size != 512:\n",
    "            raise ValueError(\"Only resolutions 256 and 512 are allowed\")\n",
    "        self.den_grid_size = den_grid_size \n",
    "\n",
    "        # User provides a redshift array\n",
    "        self.RS_array = RS_array # For a single box, we only use the redshift 0 box\n",
    "\n",
    "        # Profile used for subtracting halos from the density field\n",
    "        self.subtraction_halo_profile = 'NFW'\n",
    "\n",
    "        # Resolution\n",
    "        self.resolution = resolution # x1024\n",
    "\n",
    "        self.load_from_files = load_from_files\n",
    "        self.results = None\n"
   ],
   "outputs": [],
   "metadata": {}
  },
  {
   "cell_type": "markdown",
   "source": [
    "## 1.1 Profiles\n",
    "\n",
    "The user can choose from a range of profiles: 'NFW', 'tophat_spherical', 'fire', or make their own custom profile\n",
    "\n",
    "Outputs of the hist_profile function are: histogram of stacked field,halos-readded field, halo addition masks, halos removed coarse, halo addition field, halos removed field, stacked halo field, virial_radii of halos"
   ],
   "metadata": {}
  },
  {
   "cell_type": "code",
   "execution_count": 9,
   "source": [
    "# addition profile\n",
    "\n",
    "load_from_files = True\n",
    "\n",
    "configurations = [ \n",
    "    Configuration('tophat_spherical', 1, resolution=1, file_prefix='STH', load_from_files=load_from_files), \n",
    "    Configuration('tophat_spherical', 1, resolution=1, file_prefix='STH', den_grid_size = 512, load_from_files=load_from_files), \n",
    "    Configuration('tophat_spherical', 1, resolution=2, file_prefix='STH', load_from_files=load_from_files), \n",
    "    Configuration('tophat_spherical', 1, resolution=4, file_prefix='STH', load_from_files=load_from_files), \n",
    "    #Configuration('tophat_spherical', 1, resolution=8, file_prefix='STH', load_from_files=load_from_files), \n",
    "    #Configuration('tophat_spherical', 1, resolution=16, file_prefix='STH', load_from_files=load_from_files), \n",
    "    #Configuration('tophat_spherical', 1, resolution=32, file_prefix='STH', load_from_files=load_from_files), \n",
    "    #Configuration('tophat_spherical', 2, resolution=1, file_prefix='STH', load_from_files=load_from_files), \n",
    "    #Configuration('tophat_spherical', 2, resolution=2, file_prefix='STH', load_from_files=load_from_files), \n",
    "    #Configuration('tophat_spherical', 2, resolution=4, file_prefix='STH', load_from_files=load_from_files), \n",
    "    #Configuration('tophat_spherical', 2, resolution=8, file_prefix='STH', load_from_files=load_from_files), \n",
    "    #Configuration('tophat_spherical', 2, resolution=16, file_prefix='STH', load_from_files=load_from_files), \n",
    "    #Configuration('tophat_spherical', 2, resolution=32, file_prefix='STH', load_from_files=load_from_files), \n",
    "    #Configuration('NFW', 1, resolution=1, load_from_files=load_from_files),\n",
    "    #Configuration('fire', 1, resolution=1, load_from_files=load_from_files),\n",
    "    #Configuration('precipitation', 1, 'P', load_from_files=load_from_files)\n",
    "]\n",
    "\n",
    "\n",
    "for config in configurations:\n",
    "    filename = config.file_prefix + str(config.resolution) + '_' + str(config.den_grid_size)\n",
    "\n",
    "    # Load from saved off numpy files to avoid re-computing it all\n",
    "    if config.load_from_files:\n",
    "        try:\n",
    "            config.results = loadArray(filename + \".npy\")\n",
    "            \n",
    "        except IOError:\n",
    "            print(\"Cache miss: \" + filename)\n",
    "            #pass # File cache doesn't exist, swallow and compute it instead\n",
    "\n",
    "    if config.results == None:\n",
    "        # Create density field for the chosen resolution\n",
    "        config.all_den_fields = extract_all_den_fields(config.RS_array, config.den_grid_size)\n",
    "        \n",
    "        density_filename = 'all_den_fields_' + str(config.den_grid_size)\n",
    "        saveArray(density_filename, config.all_den_fields)\n",
    "                                    \n",
    "        # TODO when performing many runs, it might be better to only save it off and not hold in memory \n",
    "        # by attaching it to the configuration at all?\n",
    "        config.results = hist_profile(config.all_den_fields, config.den_grid_size, config.RS_array, min_mass, \n",
    "                                            max_mass, log_bins, config.subtraction_halo_profile, \n",
    "                                            config.addition_halo_profile, config.scaling_radius, config.resolution)\n",
    "\n",
    "        saveArray(filename, *config.results)\n"
   ],
   "outputs": [
    {
     "output_type": "stream",
     "name": "stderr",
     "text": [
      "/Library/Frameworks/Python.framework/Versions/3.7/lib/python3.7/site-packages/ipykernel_launcher.py:37: DeprecationWarning: elementwise == comparison failed; this will raise an error in the future.\n"
     ]
    },
    {
     "output_type": "stream",
     "name": "stdout",
     "text": [
      "Cache miss: STH2_256\n",
      "Cache miss: STH4_256\n"
     ]
    }
   ],
   "metadata": {}
  },
  {
   "cell_type": "markdown",
   "source": [
    "## 1.2 Can Load Profiles From Previous Runs\n"
   ],
   "metadata": {}
  },
  {
   "cell_type": "code",
   "execution_count": 5,
   "source": [
    "## Load profiles if not on file\n",
    "\n",
    "# STH1_256 = loadArray('STH1_256.npy')\n",
    "# STH2_256 = loadArray('STH2_256.npy')\n",
    "# STH4_256 = loadArray('STH4_256.npy')\n",
    "# STH8_256 = loadArray('STH8_256.npy')\n",
    "# STH16_256 = loadArray('STH16_256.npy')\n",
    "\n",
    "STH8_2_256 = loadArray('STH8_2_256.npy')\n",
    "NFW8_256 = loadArray('NFW8_256.npy')\n",
    "fire8_256 = loadArray('fire8_256.npy')\n",
    "P8_256 = loadArray('P8_256.npy')\n"
   ],
   "outputs": [
    {
     "output_type": "error",
     "ename": "FileNotFoundError",
     "evalue": "[Errno 2] No such file or directory: '../var/STH8_2_256.npy'",
     "traceback": [
      "\u001b[0;31m---------------------------------------------------------------------------\u001b[0m",
      "\u001b[0;31mFileNotFoundError\u001b[0m                         Traceback (most recent call last)",
      "\u001b[0;32m<ipython-input-5-eb58a70c9ad5>\u001b[0m in \u001b[0;36m<module>\u001b[0;34m\u001b[0m\n\u001b[1;32m      7\u001b[0m \u001b[0;31m# STH16_256 = loadArray('STH16_256.npy')\u001b[0m\u001b[0;34m\u001b[0m\u001b[0;34m\u001b[0m\u001b[0;34m\u001b[0m\u001b[0m\n\u001b[1;32m      8\u001b[0m \u001b[0;34m\u001b[0m\u001b[0m\n\u001b[0;32m----> 9\u001b[0;31m \u001b[0mSTH8_2_256\u001b[0m \u001b[0;34m=\u001b[0m \u001b[0mloadArray\u001b[0m\u001b[0;34m(\u001b[0m\u001b[0;34m'STH8_2_256.npy'\u001b[0m\u001b[0;34m)\u001b[0m\u001b[0;34m\u001b[0m\u001b[0;34m\u001b[0m\u001b[0m\n\u001b[0m\u001b[1;32m     10\u001b[0m \u001b[0mNFW8_256\u001b[0m \u001b[0;34m=\u001b[0m \u001b[0mloadArray\u001b[0m\u001b[0;34m(\u001b[0m\u001b[0;34m'NFW8_256.npy'\u001b[0m\u001b[0;34m)\u001b[0m\u001b[0;34m\u001b[0m\u001b[0;34m\u001b[0m\u001b[0m\n\u001b[1;32m     11\u001b[0m \u001b[0mfire8_256\u001b[0m \u001b[0;34m=\u001b[0m \u001b[0mloadArray\u001b[0m\u001b[0;34m(\u001b[0m\u001b[0;34m'fire8_256.npy'\u001b[0m\u001b[0;34m)\u001b[0m\u001b[0;34m\u001b[0m\u001b[0;34m\u001b[0m\u001b[0m\n",
      "\u001b[0;32m<ipython-input-2-13c6103d891b>\u001b[0m in \u001b[0;36mloadArray\u001b[0;34m(filename)\u001b[0m\n\u001b[1;32m     12\u001b[0m \u001b[0;32mdef\u001b[0m \u001b[0mloadArray\u001b[0m\u001b[0;34m(\u001b[0m\u001b[0mfilename\u001b[0m\u001b[0;34m)\u001b[0m\u001b[0;34m:\u001b[0m\u001b[0;34m\u001b[0m\u001b[0;34m\u001b[0m\u001b[0m\n\u001b[1;32m     13\u001b[0m     \u001b[0mfile_path\u001b[0m \u001b[0;34m=\u001b[0m \u001b[0mos\u001b[0m\u001b[0;34m.\u001b[0m\u001b[0mpath\u001b[0m\u001b[0;34m.\u001b[0m\u001b[0mjoin\u001b[0m\u001b[0;34m(\u001b[0m\u001b[0mvarFolder\u001b[0m\u001b[0;34m,\u001b[0m \u001b[0mfilename\u001b[0m\u001b[0;34m)\u001b[0m\u001b[0;34m\u001b[0m\u001b[0;34m\u001b[0m\u001b[0m\n\u001b[0;32m---> 14\u001b[0;31m     \u001b[0;32mreturn\u001b[0m \u001b[0mnp\u001b[0m\u001b[0;34m.\u001b[0m\u001b[0mload\u001b[0m\u001b[0;34m(\u001b[0m\u001b[0mfile_path\u001b[0m\u001b[0;34m,\u001b[0m \u001b[0mallow_pickle\u001b[0m\u001b[0;34m=\u001b[0m\u001b[0;32mTrue\u001b[0m\u001b[0;34m)\u001b[0m\u001b[0;34m\u001b[0m\u001b[0;34m\u001b[0m\u001b[0m\n\u001b[0m",
      "\u001b[0;32m/Library/Frameworks/Python.framework/Versions/3.7/lib/python3.7/site-packages/numpy/lib/npyio.py\u001b[0m in \u001b[0;36mload\u001b[0;34m(file, mmap_mode, allow_pickle, fix_imports, encoding)\u001b[0m\n\u001b[1;32m    382\u001b[0m     \u001b[0mown_fid\u001b[0m \u001b[0;34m=\u001b[0m \u001b[0;32mFalse\u001b[0m\u001b[0;34m\u001b[0m\u001b[0;34m\u001b[0m\u001b[0m\n\u001b[1;32m    383\u001b[0m     \u001b[0;32mif\u001b[0m \u001b[0misinstance\u001b[0m\u001b[0;34m(\u001b[0m\u001b[0mfile\u001b[0m\u001b[0;34m,\u001b[0m \u001b[0mbasestring\u001b[0m\u001b[0;34m)\u001b[0m\u001b[0;34m:\u001b[0m\u001b[0;34m\u001b[0m\u001b[0;34m\u001b[0m\u001b[0m\n\u001b[0;32m--> 384\u001b[0;31m         \u001b[0mfid\u001b[0m \u001b[0;34m=\u001b[0m \u001b[0mopen\u001b[0m\u001b[0;34m(\u001b[0m\u001b[0mfile\u001b[0m\u001b[0;34m,\u001b[0m \u001b[0;34m\"rb\"\u001b[0m\u001b[0;34m)\u001b[0m\u001b[0;34m\u001b[0m\u001b[0;34m\u001b[0m\u001b[0m\n\u001b[0m\u001b[1;32m    385\u001b[0m         \u001b[0mown_fid\u001b[0m \u001b[0;34m=\u001b[0m \u001b[0;32mTrue\u001b[0m\u001b[0;34m\u001b[0m\u001b[0;34m\u001b[0m\u001b[0m\n\u001b[1;32m    386\u001b[0m     \u001b[0;32melif\u001b[0m \u001b[0mis_pathlib_path\u001b[0m\u001b[0;34m(\u001b[0m\u001b[0mfile\u001b[0m\u001b[0;34m)\u001b[0m\u001b[0;34m:\u001b[0m\u001b[0;34m\u001b[0m\u001b[0;34m\u001b[0m\u001b[0m\n",
      "\u001b[0;31mFileNotFoundError\u001b[0m: [Errno 2] No such file or directory: '../var/STH8_2_256.npy'"
     ]
    }
   ],
   "metadata": {}
  },
  {
   "cell_type": "code",
   "execution_count": 22,
   "source": [
    "for c in configurations:\n",
    "    for t in c.results:\n",
    "        print(type(t))\n",
    "\n",
    "print(\"\\nnumpy saving test\")\n",
    "saveArray(\"testing\", np.ones((2,3)), [1,2,3], (\"foo\", 42))\n",
    "a=loadArray(\"testing.npy\")\n",
    "for b in a:\n",
    "  print(type(b))"
   ],
   "outputs": [
    {
     "output_type": "stream",
     "name": "stdout",
     "text": [
      "<class 'tuple'>\n",
      "<class 'numpy.ndarray'>\n",
      "<class 'numpy.ndarray'>\n",
      "<class 'numpy.ndarray'>\n",
      "<class 'numpy.ndarray'>\n",
      "<class 'numpy.ndarray'>\n",
      "<class 'numpy.ndarray'>\n",
      "<class 'numpy.ndarray'>\n",
      "<class 'numpy.ndarray'>\n",
      "<class 'tuple'>\n",
      "<class 'numpy.ndarray'>\n",
      "<class 'numpy.ndarray'>\n",
      "<class 'numpy.ndarray'>\n",
      "<class 'numpy.ndarray'>\n",
      "<class 'numpy.ndarray'>\n",
      "<class 'numpy.ndarray'>\n",
      "<class 'numpy.ndarray'>\n",
      "<class 'numpy.ndarray'>\n",
      "<class 'tuple'>\n",
      "<class 'numpy.ndarray'>\n",
      "<class 'numpy.ndarray'>\n",
      "<class 'numpy.ndarray'>\n",
      "<class 'numpy.ndarray'>\n",
      "<class 'numpy.ndarray'>\n",
      "<class 'numpy.ndarray'>\n",
      "<class 'numpy.ndarray'>\n",
      "<class 'numpy.ndarray'>\n",
      "<class 'tuple'>\n",
      "<class 'numpy.ndarray'>\n",
      "<class 'numpy.ndarray'>\n",
      "<class 'numpy.ndarray'>\n",
      "<class 'numpy.ndarray'>\n",
      "<class 'numpy.ndarray'>\n",
      "<class 'numpy.ndarray'>\n",
      "<class 'numpy.ndarray'>\n",
      "<class 'numpy.ndarray'>\n",
      "\n",
      "numpy saving test\n",
      "<class 'numpy.ndarray'>\n",
      "<class 'list'>\n",
      "<class 'tuple'>\n"
     ]
    }
   ],
   "metadata": {}
  },
  {
   "cell_type": "markdown",
   "source": [
    "## 1.3: Testing output files\n",
    "\n",
    "The output files can be viewed by creating image plots of the density field"
   ],
   "metadata": {}
  },
  {
   "cell_type": "markdown",
   "source": [
    "# 2. Impact parameter: Profiles of halos for DM vs Radius plot\n"
   ],
   "metadata": {}
  },
  {
   "cell_type": "markdown",
   "source": [
    "#### Specifications for DM-radius plots"
   ],
   "metadata": {}
  },
  {
   "cell_type": "code",
   "execution_count": 5,
   "source": [
    "# This function orders the halo array in ascending mass\n",
    "# Outputs: ordered dataframe of halos, mass bins\n",
    "\n",
    "df = create_halo_array_for_convolution(extract_halos(0),min_mass,max_mass,log_bins)\n",
    "# saveArray('df',df)\n",
    "# df_halos = loadArray('df.npy')\n",
    "\n",
    "# Mean DM of single box\n",
    "mean_DM = np.mean(import_density_field(0, 256))\n",
    "\n",
    "# Configuration for plots\n",
    "# Masses chosen from the array of 30 log bins\n",
    "M1=1\n",
    "M2=8\n",
    "M3=15\n",
    "M4=22\n",
    "M5=28\n",
    "M_chosen = [M1, M2, M3, M4, M5]\n"
   ],
   "outputs": [],
   "metadata": {}
  },
  {
   "cell_type": "code",
   "execution_count": 6,
   "source": [
    "# TODO These 3 functions have no callers right now? Dead code? They were in chapter 5 previously but dont' seem to belong in the module.\n",
    "\n",
    "# Function: plots radial profiles for different halo mass bins\n",
    "def plot_radial_profile(radial_profile_array,mass_array,radial_extent,num_of_plots):\n",
    "    \n",
    "    plt.figure(figsize=(10,10))\n",
    "    plot_x_dim = radial_profile_array.shape[1]\n",
    "    \n",
    "    for i in range(0,len(mass_array)-1,num_of_plots):\n",
    "        \n",
    "        plt.semilogx(np.linspace(0,radial_extent,plot_x_dim),radial_profile_array[i,:]-mean_DM, label= 'Mass = %.1E' % Decimal(mass_array[i]))\n",
    "        plt.legend(loc='upper right')\n",
    "        plt.xlabel('Radial distance (Mpc)')\n",
    "        plt.ylabel('DM - <DM>')\n",
    "    plt.savefig('DMvsRad_ImpactParam')\n",
    "\n",
    "# Function: plots radial profiles for different halo mass bins\n",
    "def plot_radial_profile_2(radial_profile_array_1,radial_profile_array_2,mass_array,radial_extent,num_of_plots):\n",
    "    \n",
    "    plt.figure(figsize=(10,10))\n",
    "    plot_x_dim_1 = radial_profile_array_1.shape[1]\n",
    "    print(plot_x_dim_1)\n",
    "    plot_x_dim_2 = radial_profile_array_2.shape[1]\n",
    "    print(plot_x_dim_2)\n",
    "    \n",
    "    for i in range(0,len(mass_array)-1,num_of_plots):\n",
    "        \n",
    "        plt.semilogx(np.linspace(0,radial_extent,plot_x_dim_1),radial_profile_array_1[i,:]-mean_DM, label= 'Mass = %.1E' % Decimal(mass_array[i]))\n",
    "        plt.semilogx(np.linspace(0,radial_extent,plot_x_dim_2),radial_profile_array_2[i,:], linestyle='--',label= 'Mass = %.1E' % Decimal(mass_array[i]))\n",
    "        plt.legend(loc='upper right')\n",
    "        plt.xlabel('Radial distance (Mpc)')\n",
    "        plt.ylabel('DM - <DM>')\n",
    "        plt.ylim(0,250)\n",
    "    plt.savefig('DMvsRad_ImpactParam')\n",
    "\n",
    "def plot_radial_profile_3(radial_profile_array_1,radial_profile_array_2,radial_profile_array_3,mass_array,radial_extent,num_of_plots):\n",
    "    \n",
    "    plt.figure(figsize=(10,10))\n",
    "    plot_x_dim_1 = radial_profile_array_1.shape[1]\n",
    "    plot_x_dim_2 = radial_profile_array_2.shape[1]\n",
    "    plot_x_dim_3 = radial_profile_array_3.shape[1]\n",
    "    \n",
    "    for i in range(0,len(mass_array)-1,num_of_plots):\n",
    "        \n",
    "        plt.semilogx(np.linspace(0,radial_extent,plot_x_dim_1),radial_profile_array_1[i,:]-75, label= 'Mass = %.1E' % Decimal(mass_array[i]))\n",
    "        plt.semilogx(np.linspace(0,radial_extent,plot_x_dim_2),radial_profile_array_2[i,:]-75, linestyle='--',label= 'Mass = %.1E' % Decimal(mass_array[i]))\n",
    "        plt.semilogx(np.linspace(0,radial_extent,plot_x_dim_3),radial_profile_array_3[i,:]-75, linestyle='-.',label= 'Mass = %.1E' % Decimal(mass_array[i]))\n",
    "        plt.legend(loc='upper right')\n",
    "        plt.xlabel('Radial distance (Mpc)')\n",
    "        plt.ylabel('DM - <DM>')\n",
    "        plt.ylim(0,300)\n",
    "    plt.savefig('DMvsRad_ImpactParam')"
   ],
   "outputs": [],
   "metadata": {}
  },
  {
   "cell_type": "code",
   "execution_count": null,
   "source": [
    "# Table of virial radii\n",
    "\n",
    "# vir_rad_ar = STH8_256[7]\n",
    "# saveArray('vir_rad_ar',vir_rad_ar)\n",
    "vir_rad_ar = loadArray('vir_rad_ar.npy')"
   ],
   "outputs": [],
   "metadata": {}
  },
  {
   "cell_type": "markdown",
   "source": [
    "#### Fiducial Resolution: 8 * 1024"
   ],
   "metadata": {}
  },
  {
   "cell_type": "code",
   "execution_count": null,
   "source": [
    "# Specify resolution\n",
    "resolution=8\n",
    "grid_size = resolution*1024\n",
    "trim_dim=int((10*resolution))\n",
    "\n",
    "# Radial extent of the plots in Mpc\n",
    "extent = (L/grid_size)*(trim_dim)"
   ],
   "outputs": [],
   "metadata": {}
  },
  {
   "cell_type": "markdown",
   "source": [
    "### Spherical tophat"
   ],
   "metadata": {}
  },
  {
   "cell_type": "code",
   "execution_count": null,
   "source": [
    "STH_DMvsR_1=DM_vs_radius(STH8_256[1][0,:,:],df[0],trim_dim, df[2], df[1])\n",
    "saveArray('STH_DMvsR_prof',STH_DMvsR_1[0])\n",
    "\n",
    "\n",
    "# STH16_DMvsR=DM_vs_radius(STH16_256[1][0,:,:],df[0],trim_dim, df[2], df[1])\n",
    "# saveArray('STH16_DMvsR_prof',STH16_DMvsR[0])"
   ],
   "outputs": [],
   "metadata": {}
  },
  {
   "cell_type": "markdown",
   "source": [
    "### Spherical tophat, scaling radius: 2"
   ],
   "metadata": {}
  },
  {
   "cell_type": "code",
   "execution_count": null,
   "source": [
    "STH8_2_DMvsR_1=DM_vs_radius(STH8_2_256[1][0,:,:],df[0],trim_dim, df[2], df[1])\n",
    "saveArray('STH8_2_DMvsR_prof',STH8_2_DMvsR_1[0])"
   ],
   "outputs": [],
   "metadata": {}
  },
  {
   "cell_type": "markdown",
   "source": [
    "### Fire"
   ],
   "metadata": {}
  },
  {
   "cell_type": "code",
   "execution_count": null,
   "source": [
    "# fire simulation\n",
    "fire8_DMvsR_1=DM_vs_radius(fire8_256[1][0,:,:],df[0],trim_dim, df[2], df[1])\n",
    "saveArray('fire8_DMvsR_prof',fire8_DMvsR_1[0])\n",
    "\n",
    "# fire16_DMvsR=DM_vs_radius(fire16_256[1][0,:,:],df[0],trim_dim, df[2], df[1])\n",
    "# saveArray('fire16_DMvsR_prof',fire16_DMvsR[0])"
   ],
   "outputs": [],
   "metadata": {}
  },
  {
   "cell_type": "markdown",
   "source": [
    "### NFW"
   ],
   "metadata": {}
  },
  {
   "cell_type": "code",
   "execution_count": null,
   "source": [
    "# NFW\n",
    "\n",
    "NFW_DMvsR_1=DM_vs_radius(NFW8_256[1][0,:,:],df[0],trim_dim, df[2], df[1])\n",
    "saveArray('NFW_DMvsR_prof',NFW_DMvsR_1[0])\n",
    "\n",
    "# NFW16_DMvsR=DM_vs_radius(NFW16_256[1][0,:,:],df[0],trim_dim, df[2], df[1])\n",
    "# saveArray('NFW16_DMvsR_prof',NFW16_DMvsR[0])\n"
   ],
   "outputs": [],
   "metadata": {}
  },
  {
   "cell_type": "markdown",
   "source": [
    "### Precipitation"
   ],
   "metadata": {}
  },
  {
   "cell_type": "code",
   "execution_count": null,
   "source": [
    "P_DMvsR_1=DM_vs_radius(P8_256[1][0,:,:],df[0],trim_dim, df[2], df[1])\n",
    "saveArray('P_DMvsR_prof',P_DMvsR_1[0])\n",
    "\n",
    "# P16_DMvsR=DM_vs_radius(P16_256[1][0,:,:],df[0],trim_dim, df[2], df[1])\n",
    "# saveArray('P16_DMvsR_prof',P16_DMvsR[0])"
   ],
   "outputs": [],
   "metadata": {}
  },
  {
   "cell_type": "markdown",
   "source": [
    "### Mask profiles"
   ],
   "metadata": {}
  },
  {
   "cell_type": "code",
   "execution_count": null,
   "source": [
    "# Create profiles of masks\n",
    "\n",
    "# STH8_masks_1=profile_of_masks(STH8_256[2][0,:,40:120,40:120])\n",
    "# STH8_2_masks_1 = profile_of_masks(STH8_2_256[2][0,:,40:120,40:120])\n",
    "# NFW8_masks_1=profile_of_masks(NFW8_256[2][0,:,40:120,40:120])\n",
    "# fire8_masks_1=profile_of_masks(fire8_256[2][0,:,40:120,40:120])\n",
    "# P8_masks_1=profile_of_masks(P8_256[2][0,:,40:120,40:120])\n",
    "\n",
    "# saveArray('STH_masks',STH8_masks_1)\n",
    "# saveArray('STH_2_masks',STH8_2_masks_1)\n",
    "# saveArray('NFW_masks',NFW8_masks_1)\n",
    "# saveArray('fire8_masks_1',fire8_masks_1)\n",
    "# saveArray('P_masks',P8_masks_1)\n"
   ],
   "outputs": [],
   "metadata": {}
  },
  {
   "cell_type": "markdown",
   "source": [
    "### Load saved files"
   ],
   "metadata": {}
  },
  {
   "cell_type": "code",
   "execution_count": null,
   "source": [
    "# Save DM vs Radius profiles\n",
    "\n",
    "# saveArray('ordered_halo_dataframe',df)\n",
    "\n",
    "# Load files\n",
    "\n",
    "STH8_DMvsR = loadArray('STH_DMvsR_prof.npy')\n",
    "STH8_2_DMvsR = loadArray('STH8_2_DMvsR_prof.npy')\n",
    "NFW8_DMvsR = loadArray('NFW_DMvsR_prof.npy')\n",
    "fire8_DMvsR = loadArray('fire8_DMvsR_prof.npy')\n",
    "P8_DMvsR = loadArray('P_DMvsR_prof.npy')\n",
    "\n",
    "\n",
    "STH8_masks = loadArray('STH_masks.npy')\n",
    "NFW8_masks = loadArray('NFW_masks.npy')\n",
    "fire8_masks = loadArray('fire8_masks_1.npy')\n",
    "STH8_2_masks = loadArray('STH8_2_masks.npy')\n",
    "P8_masks = loadArray('P_masks.npy')"
   ],
   "outputs": [],
   "metadata": {}
  },
  {
   "cell_type": "markdown",
   "source": [
    "### DM vs radius plots"
   ],
   "metadata": {}
  },
  {
   "cell_type": "code",
   "execution_count": null,
   "source": [
    "# figure and subplots\n",
    "\n",
    "\n",
    "MpctoKpc =1000\n",
    "x_start=40  #kpc: min impact parameter \n",
    "\n",
    "\n",
    "DM_Rad_fig, DM_Rad_axs = plt.subplots(3, 1,\n",
    "                        gridspec_kw={'hspace': 0.01, 'wspace': .2},figsize=(20,30))\n",
    "\n",
    "-\n",
    "# plt.rc('axes', titlesize=30)     # fontsize of the axes title\n",
    "# plt.rc('axes', labelsize=20)    # fontsize of the x and y labels\n",
    "\n",
    "\n",
    "\n",
    "# First plot\n",
    "\n",
    "# DM_Rad_axs[0].semilogx(np.linspace(0,extent,TH_DMvsR.shape[1]),TH_DMvsR[M_chosen[0],:]-mean_DM,'-', label= '2D tophat')\n",
    "DM_Rad_axs[0].semilogx(MpctoKpc*np.linspace(0,extent,STH8_DMvsR.shape[1]),STH8_DMvsR[M_chosen[1],:]-mean_DM,'-', label= '3D Tophat',lw=4,color= 'red')\n",
    "DM_Rad_axs[0].semilogx(MpctoKpc*np.linspace(0,extent,STH8_2_DMvsR.shape[1]),STH8_2_DMvsR[M_chosen[1],:]-mean_DM,'-', label= '3D Tophat 2$R_{vir}$',lw=4,color= 'orange')\n",
    "DM_Rad_axs[0].semilogx(MpctoKpc*np.linspace(0,extent,fire8_DMvsR.shape[1]),fire8_DMvsR[M_chosen[1],:]-mean_DM,'-', label= 'fire',lw=4,color='green')\n",
    "DM_Rad_axs[0].semilogx(MpctoKpc*np.linspace(0,extent,NFW8_DMvsR.shape[1]),NFW8_DMvsR[M_chosen[1],:]-mean_DM,'-' ,label= 'NFW',lw=4,color='blue')\n",
    "DM_Rad_axs[0].semilogx(MpctoKpc*np.linspace(0,extent,P8_DMvsR.shape[1]),P8_DMvsR[M_chosen[1],:]-mean_DM,'-' ,label= 'Precipitation',lw=4,color='c')\n",
    "\n",
    "\n",
    "# Masks\n",
    "DM_Rad_axs[0].semilogx(MpctoKpc*np.linspace(0,extent,STH8_masks.shape[1]),STH8_masks[M_chosen[1],:],'--', lw=2,color='red')\n",
    "DM_Rad_axs[0].semilogx(MpctoKpc*np.linspace(0,extent,STH8_2_masks.shape[1]),STH8_2_masks[M_chosen[1],:],'--', lw=2,color='orange')\n",
    "DM_Rad_axs[0].semilogx(MpctoKpc*np.linspace(0,extent,fire8_masks.shape[1]),fire8_masks[M_chosen[1],:],'--',lw=2,color='green')\n",
    "DM_Rad_axs[0].semilogx(MpctoKpc*np.linspace(0,extent,NFW8_masks.shape[1]),NFW8_masks[M_chosen[1],:],'--', lw=2,color='blue')\n",
    "\n",
    "\n",
    "DM_Rad_axs[0].semilogx(MpctoKpc*np.linspace(0,extent,P8_masks.shape[1]),P8_masks[M_chosen[1],:],'--', lw=2,color='c')\n",
    "\n",
    "\n",
    "\n",
    "\n",
    "# axis title\n",
    "# DM_Rad_axs[0].set_title('Mass = %.1E' % Decimal(df[2][M_chosen[1]]),fontsize=14)\n",
    "\n",
    "\n",
    "# Second plot\n",
    "\n",
    "\n",
    "DM_Rad_axs[1].semilogx(MpctoKpc*np.linspace(0,extent,STH8_DMvsR.shape[1]),STH8_DMvsR[M_chosen[2],:]-mean_DM,'-', label= '3D tophat',lw=4,color='red')\n",
    "DM_Rad_axs[1].semilogx(MpctoKpc*np.linspace(0,extent,STH8_2_DMvsR.shape[1]),STH8_2_DMvsR[M_chosen[2],:]-mean_DM,'-', label= '3D tophat',lw=4,color='orange')\n",
    "DM_Rad_axs[1].semilogx(MpctoKpc*np.linspace(0,extent,fire8_DMvsR.shape[1]),fire8_DMvsR[M_chosen[2],:]-mean_DM,'-' ,label= 'fire',lw=4,color='green')\n",
    "DM_Rad_axs[1].semilogx(MpctoKpc*np.linspace(0,extent,NFW8_DMvsR.shape[1]),NFW8_DMvsR[M_chosen[2],:]-mean_DM,'-', label= 'NFW',lw=4,color='blue')\n",
    "DM_Rad_axs[1].semilogx(MpctoKpc*np.linspace(0,extent,P8_DMvsR.shape[1]),P8_DMvsR[M_chosen[2],:]-mean_DM,'-' ,label= 'Precipitation',lw=4,color='c')\n",
    "\n",
    "\n",
    "# Masks\n",
    "DM_Rad_axs[1].semilogx(MpctoKpc*np.linspace(0,extent,STH8_masks.shape[1]),STH8_masks[M_chosen[2],:],'--', lw=1.5,color='red')\n",
    "DM_Rad_axs[1].semilogx(MpctoKpc*np.linspace(0,extent,STH8_2_masks.shape[1]),STH8_2_masks[M_chosen[2],:],'--', lw=1.5,color='orange')\n",
    "DM_Rad_axs[1].semilogx(MpctoKpc*np.linspace(0,extent,fire8_masks.shape[1]),fire8_masks[M_chosen[2],:],'--',lw=1.5,color='green')\n",
    "DM_Rad_axs[1].semilogx(MpctoKpc*np.linspace(0,extent,NFW8_masks.shape[1]),NFW8_masks[M_chosen[2],:],'--', lw=1.5,color='blue')\n",
    "\n",
    "DM_Rad_axs[1].semilogx(MpctoKpc*np.linspace(0,extent,P8_masks.shape[1]),P8_masks[M_chosen[2],:],'--', lw=2,color='c')\n",
    "\n",
    "\n",
    "\n",
    "\n",
    "# Error bar\n",
    "# STH\n",
    "# DM_Rad_axs[1].semilogx(r_star_ar*1000,error_1000_MW_STH,ls='--',drawstyle='steps',color='red',lw=.5)\n",
    "# DM_Rad_axs[1].semilogx(r_star_ar*1000,error_1000_MW_STH2,ls='--',drawstyle='steps',color='orange',lw=.5)\n",
    "# DM_Rad_axs[1].semilogx(r_star_ar*1000,error_1000_MW_fire,ls='--',drawstyle='steps',color='green',lw=.5)\n",
    "# DM_Rad_axs[1].semilogx(r_star_ar*1000,error_1000_MW_NFW,ls='--',drawstyle='steps',color='blue',lw=.5)\n",
    "\n",
    "\n",
    "\n",
    "\n",
    "# DM_Rad_axs[1].set_title('Mass = %.1E' % Decimal(df[2][M_chosen[2]]),fontsize=14)\n",
    "\n",
    "\n",
    "\n",
    "\n",
    "# Third plot\n",
    "\n",
    "\n",
    "DM_Rad_axs[2].semilogx(MpctoKpc*np.linspace(0,extent,STH8_DMvsR.shape[1]),STH8_DMvsR[M_chosen[3],:]-mean_DM,'-', label= '3D tophat',lw=4,color='red')\n",
    "DM_Rad_axs[2].semilogx(MpctoKpc*np.linspace(0,extent,STH8_2_DMvsR.shape[1]),STH8_2_DMvsR[M_chosen[3],:]-mean_DM,'-', label= '3D tophat',lw=4,color='orange')\n",
    "DM_Rad_axs[2].semilogx(MpctoKpc*np.linspace(0,extent,fire8_DMvsR.shape[1]),fire8_DMvsR[M_chosen[3],:]-mean_DM,'-', label= 'Fire',lw=4,color='green')\n",
    "DM_Rad_axs[2].semilogx(MpctoKpc*np.linspace(0,extent,NFW8_DMvsR.shape[1]),NFW8_DMvsR[M_chosen[3],:]-mean_DM, '-',label= 'NFW',lw=4,color='blue')\n",
    "DM_Rad_axs[2].semilogx(MpctoKpc*np.linspace(0,extent,P8_DMvsR.shape[1]),P8_DMvsR[M_chosen[3],:]-mean_DM,'-' ,label= 'Precipitation',lw=4,color='c')\n",
    "\n",
    "DM_Rad_axs[2].semilogx(MpctoKpc*np.linspace(0,extent,STH8_masks.shape[1]),STH8_masks[M_chosen[3],:],'--', lw=2,color='red')\n",
    "DM_Rad_axs[2].semilogx(MpctoKpc*np.linspace(0,extent,STH8_2_masks.shape[1]),STH8_2_masks[M_chosen[3],:],'--', lw=2,color='orange')\n",
    "DM_Rad_axs[2].semilogx(MpctoKpc*np.linspace(0,extent,fire8_masks.shape[1]),fire8_masks[M_chosen[3],:],'--',lw=2,color='green')\n",
    "DM_Rad_axs[2].semilogx(MpctoKpc*np.linspace(0,extent,NFW8_masks.shape[1]),NFW8_masks[M_chosen[3],:], '--',lw=2,color='blue')\n",
    "DM_Rad_axs[2].semilogx(MpctoKpc*np.linspace(0,extent,P8_masks.shape[1]),P8_masks[M_chosen[3],:],'--', lw=2,color='c')\n",
    "\n",
    "\n",
    "\n",
    "# DM_Rad_axs[2].set_title('Mass = %.1E' % Decimal(df[2][M_chosen[3]]),fontsize=14)\n",
    "\n",
    "\n",
    "\n",
    "\n",
    "# ticks\n",
    "\n",
    "# ax.xaxis.grid(True, which='minor')\n",
    "# DM_Rad_axs[0].xaxis.grid(axis='x', which='minor', bottom=True)\n",
    "\n",
    "# DM_Rad_axs[0].tick_params(axis='x', which='minor', bottom=True)\n",
    "# DM_Rad_axs[1].tick_params(axis='x', which='minor', bottom=True)\n",
    "\n",
    "DM_Rad_axs[0].tick_params(axis='x', which='minor')\n",
    "\n",
    "# legend\n",
    "\n",
    "DM_Rad_axs[0].legend(loc='upper right',prop={'size':24})\n",
    "# DM_Rad_axs[0].set_ylabel('DM - <DM> [pc $cm^{-3}$]',fontsize=30)\n",
    "DM_Rad_axs[1].set_ylabel('DM - <DM> [pc $cm^{-3}$]',fontsize=50)\n",
    "# DM_Rad_axs[2].set_ylabel('DM - <DM> [pc $cm^{-3}$]',fontsize=30)\n",
    "DM_Rad_axs[2].set_xlabel('Impact Parameter [kpc]',fontsize=50)\n",
    "\n",
    "\n",
    "\n",
    "# Adding virial radii\n",
    "\n",
    "DM_Rad_axs[0].axvline(h*MpctoKpc*(vir_rad_ar[M_chosen[1]]), color='k', linestyle='--', linewidth=1)\n",
    "DM_Rad_axs[1].axvline(h*MpctoKpc*(vir_rad_ar[M_chosen[2]]), color='k', linestyle='--', linewidth=1)\n",
    "DM_Rad_axs[2].axvline(h*MpctoKpc*(vir_rad_ar[M_chosen[3]]), color='k', linestyle='--', linewidth=1)\n",
    "\n",
    "\n",
    "# x and y axis limits\n",
    "DM_Rad_axs[0].set_ylim([0, 70])\n",
    "DM_Rad_axs[0].set_xlim([x_start, MpctoKpc*2])\n",
    "\n",
    "\n",
    "DM_Rad_axs[1].set_ylim(ymin=0,ymax=199)\n",
    "DM_Rad_axs[1].set_xlim([x_start, MpctoKpc*2])\n",
    "\n",
    "\n",
    "DM_Rad_axs[2].set_ylim(ymin=0,ymax=999)\n",
    "DM_Rad_axs[2].set_xlim([x_start, MpctoKpc*2])\n",
    "\n",
    "\n",
    "# mass labels\n",
    "DM_Rad_axs[0].text(2*MpctoKpc*.1, 65, 'Mass = %.1E $M_\\odot$' % Decimal(df[2][M_chosen[1]]),fontsize=30)\n",
    "DM_Rad_axs[1].text(2*MpctoKpc*.1, 180, 'Mass = %.1E $M_\\odot$' % Decimal(df[2][M_chosen[2]]),fontsize=30)\n",
    "DM_Rad_axs[2].text(2*MpctoKpc*.1, 925, 'Mass = %.1E $M_\\odot$' % Decimal(df[2][M_chosen[3]]),fontsize=30)\n",
    "\n",
    "# DM_Rad_axs[0].rc('xtick', labelsize=35)    # fontsize of the tick labels\n",
    "# # plt.rc('ytick', labelsize=35)    # fontsize of the tick labels\n",
    "\n",
    "\n",
    "\n",
    "DM_Rad_fig.savefig('DMvsRad_profiles_8.pdf',bbox_inches='tight')"
   ],
   "outputs": [],
   "metadata": {}
  },
  {
   "cell_type": "markdown",
   "source": [
    "### Resolution: 16"
   ],
   "metadata": {}
  },
  {
   "cell_type": "code",
   "execution_count": null,
   "source": [
    "# Specify resolution\n",
    "resolution=16\n",
    "grid_size = resolution*1024\n",
    "trim_dim=int((10*resolution))\n",
    "\n",
    "# Radial extent of the plots in Mpc\n",
    "extent = (L/grid_size)*(trim_dim)\n",
    "\n"
   ],
   "outputs": [],
   "metadata": {}
  },
  {
   "cell_type": "code",
   "execution_count": null,
   "source": [
    "STH16_masks=profile_of_masks(STH16_256[2][0,:,:,:])\n",
    "# STH16_2_masks = profile_of_masks(STH8_2_256[2][0,:,:,:])\n",
    "NFW16_masks=profile_of_masks(NFW16_256[2][0,:,:,:])\n",
    "fire16_masks=profile_of_masks(fire16_256[2][0,:,:,:])\n",
    "P16_masks=profile_of_masks(P16_256[2][0,:,:,:])"
   ],
   "outputs": [],
   "metadata": {}
  },
  {
   "cell_type": "markdown",
   "source": [
    "#### Save all arrays"
   ],
   "metadata": {}
  },
  {
   "cell_type": "code",
   "execution_count": null,
   "source": [
    "# Save DM vs Radius profiles\n",
    "\n",
    "\n",
    "\n",
    "# saveArray('STH_DMvsR_prof',STH_DMvsR[0])\n",
    "# saveArray('STH8_2_DMvsR_prof',STH8_2_DMvsR[0])\n",
    "# saveArray('NFW_DMvsR_prof',NFW_DMvsR[0])\n",
    "# saveArray('fire_DMvsR_prof',fire_DMvsR[0])\n",
    "# saveArray('P_DMvsR_prof',P_DMvsR[0])\n",
    "\n",
    "# # # Save masks\n",
    "\n",
    "# saveArray('STH16_masks',STH16_masks)\n",
    "# # saveArray('STH16_2_masks',STH16_2_masks)\n",
    "# saveArray('NFW16_masks',NFW16_masks)\n",
    "# saveArray('fire16_masks',fire16_masks)\n",
    "# saveArray('P16_masks',P16_masks)\n",
    "\n",
    "# saveArray('ordered_halo_dataframe',df)\n",
    "\n",
    "\n",
    "\n",
    "# Load files\n",
    "\n",
    "STH16_DMvsR = loadArray('STH16_DMvsR_prof.npy')\n",
    "# STH16_2_DMvsR = loadArray('STH16_2_DMvsR_prof.npy')\n",
    "NFW16_DMvsR = loadArray('NFW16_DMvsR_prof.npy')\n",
    "fire16_DMvsR = loadArray('fire16_DMvsR_prof.npy')\n",
    "P16_DMvsR = loadArray('P16_DMvsR_prof.npy')\n",
    "\n",
    "\n",
    "STH16_masks = loadArray('STH16_masks.npy')\n",
    "NFW16_masks = loadArray('NFW16_masks.npy')\n",
    "fire16_masks = loadArray('fire16_masks.npy')\n",
    "# STH16_2_masks = loadArray('STH8_2_masks.npy')\n",
    "P16_masks = loadArray('P16_masks.npy')"
   ],
   "outputs": [],
   "metadata": {}
  },
  {
   "cell_type": "code",
   "execution_count": null,
   "source": [
    "SMALL_SIZE = 8\n",
    "MEDIUM_SIZE = 10\n",
    "BIGGER_SIZE = 30\n",
    "XBIG_SIZE = 20\n",
    "axis_fontsize = 20\n",
    "curve_thickness = 2\n",
    "\n",
    "\n",
    "plt.rc('font', size=SMALL_SIZE)          # controls default text sizes\n",
    "plt.rc('axes', titlesize=SMALL_SIZE)     # fontsize of the axes title\n",
    "plt.rc('axes', labelsize=MEDIUM_SIZE)    # fontsize of the x and y labels\n",
    "plt.rc('xtick', labelsize=BIGGER_SIZE)    # fontsize of the tick labels\n",
    "plt.rc('ytick', labelsize=BIGGER_SIZE)    # fontsize of the tick labels\n",
    "plt.rc('legend', fontsize=XBIG_SIZE)    # legend fontsize\n",
    "plt.rc('figure', titlesize=BIGGER_SIZE)  # fontsize of the figure title"
   ],
   "outputs": [],
   "metadata": {}
  },
  {
   "cell_type": "code",
   "execution_count": null,
   "source": [
    "# figure and subplots\n",
    "\n",
    "\n",
    "MpctoKpc =1000\n",
    "x_start=40  #kpc: min impact parameter \n",
    "\n",
    "\n",
    "DM_Rad_fig, DM_Rad_axs = plt.subplots(3, 1,\n",
    "                        gridspec_kw={'hspace': 0.01, 'wspace': .2},figsize=(20,30))\n",
    "\n",
    "plt.rc('xtick', labelsize=25)    # fontsize of the tick labels\n",
    "plt.rc('ytick', labelsize=25)    # fontsize of the tick labels\n",
    "\n",
    "# plt.rc('axes', titlesize=30)     # fontsize of the axes title\n",
    "# plt.rc('axes', labelsize=20)    # fontsize of the x and y labels\n",
    "\n",
    "\n",
    "\n",
    "# First plot\n",
    "\n",
    "# DM_Rad_axs[0].semilogx(np.linspace(0,extent,TH_DMvsR.shape[1]),TH_DMvsR[M_chosen[0],:]-mean_DM,'-', label= '2D tophat')\n",
    "DM_Rad_axs[0].semilogx(MpctoKpc*np.linspace(0,extent,STH16_DMvsR.shape[1]),STH16_DMvsR[M_chosen[1],:]-mean_DM,'-', label= '3D Tophat',lw=4,color= 'red')\n",
    "# DM_Rad_axs[0].semilogx(MpctoKpc*np.linspace(0,extent,STH16_2_DMvsR.shape[1]),STH16_2_DMvsR[M_chosen[1],:]-mean_DM,'-', label= '3D Tophat 2Rvir',lw=4,color= 'orange')\n",
    "DM_Rad_axs[0].semilogx(MpctoKpc*np.linspace(0,extent,fire16_DMvsR.shape[1]),fire16_DMvsR[M_chosen[1],:]-mean_DM,'-', label= 'fire',lw=4,color='green')\n",
    "DM_Rad_axs[0].semilogx(MpctoKpc*np.linspace(0,extent,NFW16_DMvsR.shape[1]),NFW16_DMvsR[M_chosen[1],:]-mean_DM,'-' ,label= 'NFW',lw=4,color='blue')\n",
    "DM_Rad_axs[0].semilogx(MpctoKpc*np.linspace(0,extent,P16_DMvsR.shape[1]),P16_DMvsR[M_chosen[1],:]-mean_DM,'-' ,label= 'Precipitation',lw=4,color='c')\n",
    "\n",
    "\n",
    "# Masks\n",
    "DM_Rad_axs[0].semilogx(MpctoKpc*np.linspace(0,extent,STH16_masks.shape[1]),STH16_masks[M_chosen[1],:],'--', lw=2,color='red')\n",
    "# DM_Rad_axs[0].semilogx(MpctoKpc*np.linspace(0,extent,STH16_2_masks.shape[1]),STH16_2_masks[M_chosen[1],:],'--', lw=2,color='orange')\n",
    "DM_Rad_axs[0].semilogx(MpctoKpc*np.linspace(0,extent,fire16_masks.shape[1]),fire16_masks[M_chosen[1],:],'--',lw=2,color='green')\n",
    "DM_Rad_axs[0].semilogx(MpctoKpc*np.linspace(0,extent,NFW16_masks.shape[1]),NFW16_masks[M_chosen[1],:],'--', lw=2,color='blue')\n",
    "\n",
    "\n",
    "DM_Rad_axs[0].semilogx(MpctoKpc*np.linspace(0,extent,P16_masks.shape[1]),P16_masks[M_chosen[1],:],'--', lw=2,color='c')\n",
    "\n",
    "\n",
    "\n",
    "\n",
    "\n",
    "\n",
    "# Second plot\n",
    "\n",
    "\n",
    "DM_Rad_axs[1].semilogx(MpctoKpc*np.linspace(0,extent,STH16_DMvsR.shape[1]),STH16_DMvsR[M_chosen[2],:]-mean_DM,'-', label= '3D tophat',lw=4,color='red')\n",
    "# DM_Rad_axs[1].semilogx(MpctoKpc*np.linspace(0,extent,STH16_2_DMvsR.shape[1]),STH16_2_DMvsR[M_chosen[2],:]-mean_DM,'-', label= '3D tophat',lw=4,color='orange')\n",
    "DM_Rad_axs[1].semilogx(MpctoKpc*np.linspace(0,extent,fire16_DMvsR.shape[1]),fire16_DMvsR[M_chosen[2],:]-mean_DM,'-' ,label= 'fire',lw=4,color='green')\n",
    "DM_Rad_axs[1].semilogx(MpctoKpc*np.linspace(0,extent,NFW16_DMvsR.shape[1]),NFW16_DMvsR[M_chosen[2],:]-mean_DM,'-', label= 'NFW',lw=4,color='blue')\n",
    "DM_Rad_axs[1].semilogx(MpctoKpc*np.linspace(0,extent,P16_DMvsR.shape[1]),P16_DMvsR[M_chosen[2],:]-mean_DM,'-' ,label= 'Precipitation',lw=4,color='c')\n",
    "\n",
    "\n",
    "# Masks\n",
    "DM_Rad_axs[1].semilogx(MpctoKpc*np.linspace(0,extent,STH16_masks.shape[1]),STH16_masks[M_chosen[2],:],'--', lw=1.5,color='red')\n",
    "# DM_Rad_axs[1].semilogx(MpctoKpc*np.linspace(0,extent,STH16_2_masks.shape[1]),STH16_2_masks[M_chosen[2],:],'--', lw=1.5,color='orange')\n",
    "DM_Rad_axs[1].semilogx(MpctoKpc*np.linspace(0,extent,fire16_masks.shape[1]),fire16_masks[M_chosen[2],:],'--',lw=1.5,color='green')\n",
    "DM_Rad_axs[1].semilogx(MpctoKpc*np.linspace(0,extent,NFW16_masks.shape[1]),NFW16_masks[M_chosen[2],:],'--', lw=1.5,color='blue')\n",
    "\n",
    "DM_Rad_axs[1].semilogx(MpctoKpc*np.linspace(0,extent,P16_masks.shape[1]),P16_masks[M_chosen[2],:],'--', lw=2,color='c')\n",
    "\n",
    "\n",
    "\n",
    "\n",
    "# Error bar\n",
    "# STH\n",
    "# DM_Rad_axs[1].semilogx(r_star_ar*1000,error_1000_MW_STH,ls='--',drawstyle='steps',color='red',lw=.5)\n",
    "# DM_Rad_axs[1].semilogx(r_star_ar*1000,error_1000_MW_STH2,ls='--',drawstyle='steps',color='orange',lw=.5)\n",
    "# DM_Rad_axs[1].semilogx(r_star_ar*1000,error_1000_MW_fire,ls='--',drawstyle='steps',color='green',lw=.5)\n",
    "# DM_Rad_axs[1].semilogx(r_star_ar*1000,error_1000_MW_NFW,ls='--',drawstyle='steps',color='blue',lw=.5)\n",
    "\n",
    "\n",
    "\n",
    "\n",
    "\n",
    "\n",
    "\n",
    "# Third plot\n",
    "\n",
    "\n",
    "DM_Rad_axs[2].semilogx(MpctoKpc*np.linspace(0,extent,STH16_DMvsR.shape[1]),STH16_DMvsR[M_chosen[3],:]-mean_DM,'-', label= '3D tophat',lw=4,color='red')\n",
    "# DM_Rad_axs[2].semilogx(MpctoKpc*np.linspace(0,extent,STH16_2_DMvsR.shape[1]),STH16_2_DMvsR[M_chosen[3],:]-mean_DM,'-', label= '3D tophat',lw=4,color='orange')\n",
    "DM_Rad_axs[2].semilogx(MpctoKpc*np.linspace(0,extent,fire16_DMvsR.shape[1]),fire16_DMvsR[M_chosen[3],:]-mean_DM,'-', label= 'Fire',lw=4,color='green')\n",
    "DM_Rad_axs[2].semilogx(MpctoKpc*np.linspace(0,extent,NFW16_DMvsR.shape[1]),NFW16_DMvsR[M_chosen[3],:]-mean_DM, '-',label= 'NFW',lw=4,color='blue')\n",
    "DM_Rad_axs[2].semilogx(MpctoKpc*np.linspace(0,extent,P16_DMvsR.shape[1]),P16_DMvsR[M_chosen[3],:]-mean_DM,'-' ,label= 'Precipitation',lw=4,color='c')\n",
    "\n",
    "DM_Rad_axs[2].semilogx(MpctoKpc*np.linspace(0,extent,STH16_masks.shape[1]),STH16_masks[M_chosen[3],:],'--', lw=2,color='red')\n",
    "# DM_Rad_axs[2].semilogx(MpctoKpc*np.linspace(0,extent,STH16_2_masks.shape[1]),STH16_2_masks[M_chosen[3],:],'--', lw=2,color='orange')\n",
    "DM_Rad_axs[2].semilogx(MpctoKpc*np.linspace(0,extent,fire16_masks.shape[1]),fire16_masks[M_chosen[3],:],'--',lw=2,color='green')\n",
    "DM_Rad_axs[2].semilogx(MpctoKpc*np.linspace(0,extent,NFW16_masks.shape[1]),NFW16_masks[M_chosen[3],:], '--',lw=2,color='blue')\n",
    "DM_Rad_axs[2].semilogx(MpctoKpc*np.linspace(0,extent,P16_masks.shape[1]),P16_masks[M_chosen[3],:],'--', lw=2,color='c')\n",
    "\n",
    "\n",
    "\n",
    "\n",
    "\n",
    "\n",
    "# ticks\n",
    "\n",
    "# ax.xaxis.grid(True, which='minor')\n",
    "# DM_Rad_axs[0].xaxis.grid(axis='x', which='minor', bottom=True)\n",
    "\n",
    "# DM_Rad_axs[0].tick_params(axis='x', which='minor', bottom=True)\n",
    "# DM_Rad_axs[1].tick_params(axis='x', which='minor', bottom=True)\n",
    "\n",
    "DM_Rad_axs[0].tick_params(axis='x', which='minor')\n",
    "\n",
    "# legend\n",
    "\n",
    "DM_Rad_axs[0].legend(loc='upper right',prop={'size':18})\n",
    "# DM_Rad_axs[0].set_ylabel('DM - <DM> [pc $cm^{-3}$]',fontsize=30)\n",
    "DM_Rad_axs[1].set_ylabel('DM - <DM> [pc $cm^{-3}$]',fontsize=30)\n",
    "# DM_Rad_axs[2].set_ylabel('DM - <DM> [pc $cm^{-3}$]',fontsize=30)\n",
    "DM_Rad_axs[2].set_xlabel('Impact Parameter [kpc]',fontsize=30)\n",
    "\n",
    "\n",
    "\n",
    "# Adding virial radii\n",
    "\n",
    "DM_Rad_axs[0].axvline(h*MpctoKpc*(vir_rad_ar[M_chosen[1]]), color='k', linestyle='--', linewidth=1)\n",
    "DM_Rad_axs[1].axvline(h*MpctoKpc*(vir_rad_ar[M_chosen[2]]), color='k', linestyle='--', linewidth=1)\n",
    "DM_Rad_axs[2].axvline(h*MpctoKpc*(vir_rad_ar[M_chosen[3]]), color='k', linestyle='--', linewidth=1)\n",
    "\n",
    "\n",
    "# x and y axis limits\n",
    "DM_Rad_axs[0].set_ylim([0, 100])\n",
    "DM_Rad_axs[0].set_xlim([x_start, MpctoKpc*2])\n",
    "\n",
    "\n",
    "DM_Rad_axs[1].set_ylim(ymin=0,ymax=599)\n",
    "DM_Rad_axs[1].set_xlim([x_start, MpctoKpc*2])\n",
    "\n",
    "\n",
    "DM_Rad_axs[2].set_ylim(ymin=0,ymax=2999)\n",
    "DM_Rad_axs[2].set_xlim([x_start, MpctoKpc*2])\n",
    "\n",
    "\n",
    "\n",
    "# mass labels\n",
    "DM_Rad_axs[0].text(2*MpctoKpc*.1, 90, 'Mass = %.1E $M_\\odot$' % Decimal(df[2][M_chosen[1]]),fontsize=30)\n",
    "DM_Rad_axs[1].text(2*MpctoKpc*.1, 550, 'Mass = %.1E $M_\\odot$' % Decimal(df[2][M_chosen[2]]),fontsize=30)\n",
    "DM_Rad_axs[2].text(2*MpctoKpc*.1, 2800, 'Mass = %.1E $M_\\odot$' % Decimal(df[2][M_chosen[3]]),fontsize=30)\n",
    "\n",
    "\n",
    "DM_Rad_fig.savefig('DMvsRad_profiles_16.pdf',bbox_inches='tight')"
   ],
   "outputs": [],
   "metadata": {
    "scrolled": false
   }
  },
  {
   "cell_type": "markdown",
   "source": [
    "### DM vs radius: Error bar plot"
   ],
   "metadata": {}
  },
  {
   "cell_type": "code",
   "execution_count": null,
   "source": [
    "vir_rad_ar = STH8_256[7]\n",
    "avg_mass_ar = STH8_256[8]"
   ],
   "outputs": [],
   "metadata": {}
  },
  {
   "cell_type": "markdown",
   "source": [
    "### For a MW sized halo:"
   ],
   "metadata": {}
  },
  {
   "cell_type": "code",
   "execution_count": null,
   "source": [
    "# Array of radii for plotting\n",
    "r_star_ar = np.logspace(np.log10(vir_rad_ar[M_chosen[3]]/25),np.log10(2*vir_rad_ar[M_chosen[3]]),10)\n",
    "# r_star_ar_12 = np.logspace(np.log10(vir_rad_ar[M_chosen[2]]/10),np.log10(2*vir_rad_ar[M_chosen[2]]),10)\n",
    "# r_star_ar_13 = np.logspace(np.log10(vir_rad_ar[M_chosen[3]]/10),np.log10(2*vir_rad_ar[M_chosen[3]]),10)\n"
   ],
   "outputs": [],
   "metadata": {}
  },
  {
   "cell_type": "code",
   "execution_count": null,
   "source": [
    "# Variances should be extracted from the redshift plots at redshift =0.5\n",
    "var_STH_2 = 173\n",
    "var_STH2_2 = 141\n",
    "var_NFW_2 = 451\n",
    "var_fire_2 = 226\n"
   ],
   "outputs": [],
   "metadata": {}
  },
  {
   "cell_type": "code",
   "execution_count": null,
   "source": [
    "def error_bar_DMvsRad(sd,N_frb,radius_array,Rvir,avg_frbs):\n",
    "    error_bar = np.zeros([len(radius_array)])\n",
    "    for i in range(1,len(radius_array)):\n",
    "        error_bar[i-1] = sd/(np.sqrt(avg_frbs*2*0.5*N_frb*((radius_array[i]**2-radius_array[i-1]**2)/Rvir**2)))\n",
    "    \n",
    "    return error_bar"
   ],
   "outputs": [],
   "metadata": {}
  },
  {
   "cell_type": "code",
   "execution_count": null,
   "source": [
    "error_100_12M_STH = error_bar_DMvsRad(var_STH_2,100,r_star_ar,vir_rad_ar[M_chosen[2]],2)\n",
    "error_100_12M_fire = error_bar_DMvsRad(var_fire_2,100,r_star_ar,vir_rad_ar[M_chosen[2]],2)\n",
    "\n",
    "error_100_11M_STH = error_bar_DMvsRad(var_STH_2,100,r_star_ar,vir_rad_ar[M_chosen[1]],4)\n",
    "error_100_11M_fire = error_bar_DMvsRad(var_fire_2,100,r_star_ar,vir_rad_ar[M_chosen[1]],4)\n",
    "\n",
    "\n",
    "error_100_13M_STH = error_bar_DMvsRad(var_STH_2,100,r_star_ar,vir_rad_ar[M_chosen[3]],.2)\n",
    "error_100_13M_fire = error_bar_DMvsRad(var_fire_2,100,r_star_ar,vir_rad_ar[M_chosen[3]],.2)\n"
   ],
   "outputs": [],
   "metadata": {}
  },
  {
   "cell_type": "code",
   "execution_count": null,
   "source": [
    "error_100_12M_fire.shape"
   ],
   "outputs": [],
   "metadata": {}
  },
  {
   "cell_type": "code",
   "execution_count": null,
   "source": [
    "\n",
    "Nfrb =1000\n",
    "error_1000_MW_STH = var_STH_2/(np.sqrt(2*r_star_ar**2*.5*Nfrb/vir_rad_ar[12]**2))\n",
    "error_1000_MW_STH2 = var_STH2_2/(np.sqrt(2*r_star_ar**2*.5*Nfrb/vir_rad_ar[12]**2))\n",
    "error_1000_MW_NFW = var_NFW_2/(np.sqrt(2*r_star_ar**2*.5*Nfrb/vir_rad_ar[12]**2))\n",
    "error_1000_MW_fire = var_fire_2/(np.sqrt(2*r_star_ar**2*.5*Nfrb/vir_rad_ar[12]**2))\n",
    "# error_1000_MW_fire = var_fire_2/(np.sqrt(2*r_star_ar**2*.5*Nfrb/vir_rad_ar[12]**2))\n",
    "\n",
    "\n",
    "# Nfrb =100000\n",
    "# error_10000_MW_STH = var_STH_2/(np.sqrt(2*r_star_ar**2*.5*Nfrb/vir_rad_ar[12]**2))\n",
    "# error_10000_MW_STH2 = var_STH2_2/(np.sqrt(2*r_star_ar**2*.5*Nfrb/vir_rad_ar[12]**2))\n",
    "# error_10000_MW_NFW = var_NFW_2/(np.sqrt(2*r_star_ar**2*.5*Nfrb/vir_rad_ar[12]**2))\n",
    "# error_10000_MW_fire = var_fire_2/(np.sqrt(2*r_star_ar**2*.5*Nfrb/vir_rad_ar[12]**2))\n"
   ],
   "outputs": [],
   "metadata": {}
  },
  {
   "cell_type": "markdown",
   "source": [
    "### Error bar plot"
   ],
   "metadata": {}
  },
  {
   "cell_type": "code",
   "execution_count": null,
   "source": [
    "# figure and subplots\n",
    "\n",
    "\n",
    "MpctoKpc =1000\n",
    "x_start=40  #kpc: min impact parameter \n",
    "\n",
    "\n",
    "DM_Rad_fig, DM_Rad_axs = plt.subplots(3, 1,\n",
    "                        gridspec_kw={'hspace': 0.01, 'wspace': .2},figsize=(20,30))\n",
    "\n",
    "plt.rc('xtick', labelsize=35)    # fontsize of the tick labels\n",
    "plt.rc('ytick', labelsize=35)    # fontsize of the tick labels\n",
    "\n",
    "# plt.rc('axes', titlesize=30)     # fontsize of the axes title\n",
    "# plt.rc('axes', labelsize=20)    # fontsize of the x and y labels\n",
    "\n",
    "\n",
    "\n",
    "# First plot\n",
    "\n",
    "# DM_Rad_axs[0].semilogx(np.linspace(0,extent,TH_DMvsR.shape[1]),TH_DMvsR[M_chosen[0],:]-mean_DM,'-', label= '2D tophat')\n",
    "DM_Rad_axs[0].semilogx(MpctoKpc*np.linspace(0,extent,STH8_DMvsR.shape[1]),STH8_DMvsR[M_chosen[1],:]-mean_DM,'-', label= '3D Tophat',lw=4,color= 'red')\n",
    "# DM_Rad_axs[0].semilogx(MpctoKpc*np.linspace(0,extent,STH8_2_DMvsR.shape[1]),STH_2_DMvsR[M_chosen[1],:]-mean_DM,'-', label= '3D Tophat 2Rvir',lw=4,color= 'orange')\n",
    "DM_Rad_axs[0].semilogx(MpctoKpc*np.linspace(0,extent,fire8_DMvsR.shape[1]),fire8_DMvsR[M_chosen[1],:]-mean_DM,'-', label= 'fire',lw=4,color='green')\n",
    "# DM_Rad_axs[0].semilogx(MpctoKpc*np.linspace(0,extent,NFW8_DMvsR.shape[1]),NFW_DMvsR[M_chosen[1],:]-mean_DM,'-' ,label= 'NFW',lw=4,color='blue')\n",
    "# DM_Rad_axs[0].semilogx(MpctoKpc*np.linspace(0,extent,P8_DMvsR.shape[1]),P_DMvsR[M_chosen[1],:]-mean_DM,'-' ,label= 'Precipitation',lw=4,color='c')\n",
    "\n",
    "\n",
    "\n",
    "\n",
    "DM_Rad_axs[0].set_ylim([0, 70])\n",
    "DM_Rad_axs[0].set_xlim([x_start, MpctoKpc*2])\n",
    "\n",
    "\n",
    "\n",
    "\n",
    "# Second plot\n",
    "\n",
    "\n",
    "DM_Rad_axs[1].semilogx(MpctoKpc*np.linspace(0,extent,STH8_DMvsR.shape[1]),STH8_DMvsR[M_chosen[2],:]-mean_DM,'-', label= '3D tophat',lw=4,color='red')\n",
    "# DM_Rad_axs[1].semilogx(MpctoKpc*np.linspace(0,extent,STH_2_DMvsR.shape[1]),STH_2_DMvsR[M_chosen[2],:]-mean_DM,'-', label= '3D tophat',lw=4,color='orange')\n",
    "DM_Rad_axs[1].semilogx(MpctoKpc*np.linspace(0,extent,fire8_DMvsR.shape[1]),fire8_DMvsR[M_chosen[2],:]-mean_DM,'-' ,label= 'fire',lw=4,color='green')\n",
    "# DM_Rad_axs[1].semilogx(MpctoKpc*np.linspace(0,extent,NFW_DMvsR.shape[1]),NFW_DMvsR[M_chosen[2],:]-mean_DM,'-', label= 'NFW',lw=4,color='blue')\n",
    "# DM_Rad_axs[1].semilogx(MpctoKpc*np.linspace(0,extent,P_DMvsR.shape[1]),P_DMvsR[M_chosen[2],:]-mean_DM,'-' ,label= 'Precipitation',lw=4,color='c')\n",
    "\n",
    "\n",
    "\n",
    "\n",
    "DM_Rad_axs[1].set_ylim(ymin=0,ymax=199)\n",
    "DM_Rad_axs[1].set_xlim([x_start, MpctoKpc*2])\n",
    "\n",
    "\n",
    "# Error bar plots\n",
    "\n",
    "DM_Rad_axs[0].semilogx(r_star_ar*1000,error_100_11M_STH,ls='--',drawstyle='steps',color='red',lw=2)\n",
    "DM_Rad_axs[0].semilogx(r_star_ar*1000,error_100_11M_fire,ls='--',drawstyle='steps',color='green',lw=2)\n",
    "\n",
    "\n",
    "DM_Rad_axs[1].semilogx(r_star_ar*1000,error_100_12M_STH,ls='--',drawstyle='steps',color='red',lw=2)\n",
    "DM_Rad_axs[1].semilogx(r_star_ar*1000,error_100_12M_fire,ls='--',drawstyle='steps',color='green',lw=2)\n",
    "\n",
    "\n",
    "DM_Rad_axs[2].semilogx(r_star_ar*1000,error_100_13M_STH,ls='--',drawstyle='steps',color='red',lw=2)\n",
    "DM_Rad_axs[2].semilogx(r_star_ar*1000,error_100_13M_fire,ls='--',drawstyle='steps',color='green',lw=2)\n",
    "\n",
    "\n",
    "\n",
    "\n",
    "\n",
    "\n",
    "\n",
    "# Third plot\n",
    "\n",
    "\n",
    "DM_Rad_axs[2].semilogx(MpctoKpc*np.linspace(0,extent,STH8_DMvsR.shape[1]),STH8_DMvsR[M_chosen[3],:]-mean_DM,'-', label= '3D tophat',lw=4,color='red')\n",
    "# DM_Rad_axs[2].semilogx(MpctoKpc*np.linspace(0,extent,STH_2_DMvsR.shape[1]),STH_2_DMvsR[M_chosen[3],:]-mean_DM,'-', label= '3D tophat',lw=4,color='orange')\n",
    "DM_Rad_axs[2].semilogx(MpctoKpc*np.linspace(0,extent,fire8_DMvsR.shape[1]),fire8_DMvsR[M_chosen[3],:]-mean_DM,'-', label= 'Fire',lw=4,color='green')\n",
    "# DM_Rad_axs[2].semilogx(MpctoKpc*np.linspace(0,extent,NFW_DMvsR.shape[1]),NFW_DMvsR[M_chosen[3],:]-mean_DM, '-',label= 'NFW',lw=4,color='blue')\n",
    "# DM_Rad_axs[2].semilogx(MpctoKpc*np.linspace(0,extent,P_DMvsR.shape[1]),P_DMvsR[M_chosen[3],:]-mean_DM,'-' ,label= 'Precipitation',lw=4,color='c')\n",
    "\n",
    "\n",
    "DM_Rad_axs[2].set_ylim(ymin=0,ymax=999)\n",
    "DM_Rad_axs[2].set_xlim([x_start, MpctoKpc*2])\n",
    "\n",
    "\n",
    "\n",
    "\n",
    "# ticks\n",
    "\n",
    "\n",
    "# DM_Rad_axs[0].tick_params(axis='x', which='major', bottom=True)\n",
    "# DM_Rad_axs[1].tick_params(axis='x', which='minor', bottom=True)\n",
    "\n",
    "DM_Rad_axs[0].set_xticks([0])\n",
    "\n",
    "\n",
    "# legend\n",
    "DM_Rad_axs[0].legend(loc='upper right',prop={'size':24})\n",
    "# DM_Rad_axs[0].set_ylabel('DM - <DM> [pc $cm^{-3}$]',fontsize=30)\n",
    "DM_Rad_axs[1].set_ylabel('DM - <DM> [pc $cm^{-3}$]',fontsize=50)\n",
    "# DM_Rad_axs[2].set_ylabel('DM - <DM> [pc $cm^{-3}$]',fontsize=30)\n",
    "DM_Rad_axs[2].set_xlabel('Impact Parameter [kpc]',fontsize=50)\n",
    "\n",
    "\n",
    "\n",
    "# Adding virial radii\n",
    "\n",
    "DM_Rad_axs[0].axvline(h*MpctoKpc*(vir_rad_ar[M_chosen[1]]), color='k', linestyle='--', linewidth=1)\n",
    "DM_Rad_axs[1].axvline(h*MpctoKpc*(vir_rad_ar[M_chosen[2]]), color='k', linestyle='--', linewidth=1)\n",
    "DM_Rad_axs[2].axvline(h*MpctoKpc*(vir_rad_ar[M_chosen[3]]), color='k', linestyle='--', linewidth=1)\n",
    "\n",
    "\n",
    "# mass labels\n",
    "DM_Rad_axs[0].text(2*MpctoKpc*.1, 65, 'Mass = %.1E $M_\\odot$' % Decimal(df[2][M_chosen[1]]),fontsize=30)\n",
    "DM_Rad_axs[1].text(2*MpctoKpc*.1, 180, 'Mass = %.1E $M_\\odot$' % Decimal(df[2][M_chosen[2]]),fontsize=30)\n",
    "DM_Rad_axs[2].text(2*MpctoKpc*.1, 925, 'Mass = %.1E $M_\\odot$' % Decimal(df[2][M_chosen[3]]),fontsize=30)\n",
    "\n",
    "\n",
    "\n",
    "# legend\n",
    "\n",
    "DM_Rad_axs[0].legend(loc='upper right',prop={'size':24})\n",
    "# DM_Rad_axs[0].set_ylabel('DM - <DM> [pc $cm^{-3}$]',fontsize=30)\n",
    "DM_Rad_axs[1].set_ylabel('DM - <DM> [pc $cm^{-3}$]',fontsize=50)\n",
    "# DM_Rad_axs[2].set_ylabel('DM - <DM> [pc $cm^{-3}$]',fontsize=30)\n",
    "DM_Rad_axs[2].set_xlabel('Impact Parameter [kpc]',fontsize=50)\n",
    "\n",
    "\n",
    "\n",
    "# Adding virial radii\n",
    "\n",
    "DM_Rad_axs[0].axvline(h*MpctoKpc*(vir_rad_ar[M_chosen[1]]), color='k', linestyle='--', linewidth=1)\n",
    "DM_Rad_axs[1].axvline(h*MpctoKpc*(vir_rad_ar[M_chosen[2]]), color='k', linestyle='--', linewidth=1)\n",
    "DM_Rad_axs[2].axvline(h*MpctoKpc*(vir_rad_ar[M_chosen[3]]), color='k', linestyle='--', linewidth=1)\n",
    "\n",
    "\n",
    "# x and y axis limits\n",
    "DM_Rad_axs[0].set_ylim([0, 70])\n",
    "DM_Rad_axs[0].set_xlim([x_start, MpctoKpc*2])\n",
    "\n",
    "\n",
    "DM_Rad_axs[1].set_ylim(ymin=0,ymax=199)\n",
    "DM_Rad_axs[1].set_xlim([x_start, MpctoKpc*2])\n",
    "\n",
    "\n",
    "DM_Rad_axs[2].set_ylim(ymin=0,ymax=999)\n",
    "DM_Rad_axs[2].set_xlim([x_start, MpctoKpc*2])\n",
    "\n",
    "\n",
    "# mass labels\n",
    "DM_Rad_axs[0].text(2*MpctoKpc*.1, 65, 'Mass = %.1E $M_\\odot$' % Decimal(df[2][M_chosen[1]]),fontsize=30)\n",
    "DM_Rad_axs[1].text(2*MpctoKpc*.1, 180, 'Mass = %.1E $M_\\odot$' % Decimal(df[2][M_chosen[2]]),fontsize=30)\n",
    "DM_Rad_axs[2].text(2*MpctoKpc*.1, 925, 'Mass = %.1E $M_\\odot$' % Decimal(df[2][M_chosen[3]]),fontsize=30)\n",
    "\n",
    "\n",
    "DM_Rad_fig.savefig('DMvsRad_profiles_error.pdf',bbox_inches='tight')"
   ],
   "outputs": [],
   "metadata": {}
  },
  {
   "cell_type": "code",
   "execution_count": null,
   "source": [],
   "outputs": [],
   "metadata": {}
  },
  {
   "cell_type": "markdown",
   "source": [
    "# 3. Redshift stacking"
   ],
   "metadata": {}
  },
  {
   "cell_type": "markdown",
   "source": [
    "#### File naming convention for higher redshift files:\n",
    "\n",
    "##### density file name: dens256-z-0 , dens256-z-0.1, dens256-z-0.2, etc\n",
    "If you are using the same file, create as many copies of the first file as you need to go to the desired redshift using the above naming convention\n",
    "\n",
    "\n",
    "##### halos file name: halo-z-0.0 , halo-z-0.1, halo-z-0.1, etc\n",
    "If you are using the same file, create as many copies of the first file as you need to go to the desired redshift using the above naming convention\n",
    "\n"
   ],
   "metadata": {}
  },
  {
   "cell_type": "code",
   "execution_count": null,
   "source": [
    "# We can create different redshift arrays\n",
    "\n",
    "\n",
    "# RS_array = [avgZ(1),avgZ(2),avgZ(3)]\n",
    "# RS_array = [avgZ(1),avgZ(2),avgZ(3),avgZ(4),avgZ(5)]\n",
    "# RS_array = [avgZ(1),avgZ(2),avgZ(3),avgZ(4),avgZ(5),avgZ(6),avgZ(7),avgZ(8),avgZ(9)]\n",
    "\n",
    "# RS_array = RS_array_gen(1,L)\n",
    "\n",
    "RS_array = RS_array_gen(1,L)\n",
    "\n",
    "# subtraction profile\n",
    "subtraction_halo_profile = 'NFW'\n",
    "\n",
    "# resolution\n",
    "den_grid_size = 256\n",
    "\n",
    "# Mass range of halos\n",
    "min_mass=10**10\n",
    "max_mass=10**14.5\n",
    "log_bins=30\n"
   ],
   "outputs": [],
   "metadata": {}
  },
  {
   "cell_type": "code",
   "execution_count": null,
   "source": [
    "all_den_fields_RS = extract_all_den_fields(RS_array,den_grid_size)"
   ],
   "outputs": [],
   "metadata": {}
  },
  {
   "cell_type": "code",
   "execution_count": null,
   "source": [
    "# Smoothing the unsmoothed fields\n",
    "\n",
    "for i in range(1,len(RS_array)):\n",
    "    test_s = all_den_fields_RS[i,:,:]\n",
    "    test_l= (np.repeat((np.repeat(test_s,4,axis=0)),4,axis=1))\n",
    "\n",
    "    test_sm =  gauss_sinc_smoothing(test_l,4/np.sqrt(3),4,1)\n",
    "    all_den_fields_RS[i,:,:]= test_sm.reshape([256, 4, 256, 4]).mean(3).mean(1)"
   ],
   "outputs": [],
   "metadata": {}
  },
  {
   "cell_type": "code",
   "execution_count": null,
   "source": [
    "# saveArray('all_den_fields_RS',all_den_fields_RS)\n",
    "all_den_fields_RS = loadArray('all_den_fields_' + den_grid_size + '_RS.npy')"
   ],
   "outputs": [],
   "metadata": {}
  },
  {
   "cell_type": "code",
   "execution_count": null,
   "source": [
    "## Array for higher redshifts\n",
    "\n",
    "\n",
    "\n",
    "# STH1_256_RS_array = hist_profile(all_den_fields_RS,den_grid_size,RS_array,min_mass,max_mass,\n",
    "#                                  log_bins,subtraction_halo_profile,'tophat_spherical',1,1)\n",
    "\n",
    "\n",
    "# STH1_2_256_RS_array = hist_profile(all_den_fields_RS,den_grid_size,RS_array,min_mass,max_mass,\n",
    "#                                        log_bins,subtraction_halo_profile,'tophat_spherical',2,1)\n",
    "\n",
    "# NFW1_256_RS_array = hist_profile(all_den_fields_RS,den_grid_size,RS_array,min_mass,max_mass,\n",
    "#                                        log_bins,subtraction_halo_profile,'fire',1,1)\n",
    "# fire1_256_RS_array = hist_profile(all_den_fields_RS,den_grid_size,RS_array,min_mass,max_mass,\n",
    "#                                        log_bins,subtraction_halo_profile,'fire',1,1)\n",
    "\n",
    "\n",
    "\n",
    "\n",
    "\n",
    "\n",
    "\n",
    "\n",
    "\n",
    "\n",
    "\n",
    "\n"
   ],
   "outputs": [],
   "metadata": {
    "scrolled": true
   }
  },
  {
   "cell_type": "code",
   "execution_count": null,
   "source": [
    "STH8_256_RS_array = hist_profile(all_den_fields_RS,den_grid_size,RS_array,min_mass,max_mass,\n",
    "                                       log_bins,subtraction_halo_profile,'tophat_spherical',1,8)\n",
    "\n",
    "saveArray('STH8_256_RS_array',STH8_256_RS_array[6])"
   ],
   "outputs": [],
   "metadata": {
    "scrolled": true
   }
  },
  {
   "cell_type": "code",
   "execution_count": null,
   "source": [
    "STH8_2_256_RS_array = hist_profile(all_den_fields_RS,den_grid_size,RS_array,min_mass,max_mass,\n",
    "                                       log_bins,subtraction_halo_profile,'tophat_spherical',2,8)\n",
    "\n",
    "saveArray('STH8_2_256_RS_array',STH8_2_256_RS_array[6])"
   ],
   "outputs": [],
   "metadata": {
    "scrolled": false
   }
  },
  {
   "cell_type": "code",
   "execution_count": null,
   "source": [
    "NFW8_256_RS_array = hist_profile(all_den_fields_RS,den_grid_size,RS_array,min_mass,max_mass,\n",
    "                                       log_bins,subtraction_halo_profile,'NFW',1,8)\n",
    "\n",
    "saveArray('NFW8_256_RS_array',NFW8_256_RS_array[6])"
   ],
   "outputs": [],
   "metadata": {}
  },
  {
   "cell_type": "code",
   "execution_count": null,
   "source": [
    "fire8_256_RS_array = hist_profile(all_den_fields_RS,den_grid_size,RS_array,min_mass,max_mass,\n",
    "                                       log_bins,subtraction_halo_profile,'fire',1,8)\n",
    "\n",
    "saveArray('fire8_256_RS_array',fire8_256_RS_array[6])"
   ],
   "outputs": [],
   "metadata": {}
  },
  {
   "cell_type": "code",
   "execution_count": null,
   "source": [
    "P8_256_RS_array = hist_profile(all_den_fields_RS,den_grid_size,RS_array,min_mass,max_mass,\n",
    "                                       log_bins,subtraction_halo_profile,'precipitation',1,8)\n",
    "\n",
    "saveArray('P8_256_RS_array',P8_256_RS_array[6])\n",
    "\n"
   ],
   "outputs": [],
   "metadata": {}
  },
  {
   "cell_type": "code",
   "execution_count": null,
   "source": [
    "# Saving arrays of DM to high redshifts\n",
    "\n",
    "# saveArray('STH1_256_RS_array',STH1_256_RS_array[6])\n",
    "\n",
    "\n",
    "\n",
    "\n",
    "\n",
    "\n",
    "# Load arrays\n",
    "# STH1_256_RS_array_L = loadArray('STH1_256_RS_array.npy')\n",
    "STH8_256_RS_array_L = loadArray('STH8_256_RS_array.npy')\n",
    "STH8_2_256_RS_array_L = loadArray('STH8_2_256_RS_array.npy')\n",
    "NFW8_256_RS_array_L = loadArray('NFW8_256_RS_array.npy')\n",
    "fire8_256_RS_array_L = loadArray('fire8_256_RS_array.npy')\n",
    "# P8_256_RS_array_L = loadArray('P8_256_RS_array.npy')\n"
   ],
   "outputs": [],
   "metadata": {}
  },
  {
   "cell_type": "code",
   "execution_count": null,
   "source": [
    "# Creating histograms for desired redshift\n",
    "\n",
    "# To RS = .5\n",
    "STH_RS_tenth= create_histograms(STH8_256_RS_array_L[0:1,:,:],1024*8,0,3*np.mean(sum(STH8_256_RS_array_L[0:1,:,:])))\n",
    "STH_RS_half = create_histograms(STH8_256_RS_array_L[0:5,:,:],1024*8,0,3*np.mean(sum(STH8_256_RS_array_L[0:5,:,:])))\n",
    "STH_RS_one = create_histograms(STH8_256_RS_array_L[0:8,:,:],1024*8,0,3*np.mean(sum(STH8_256_RS_array_L[0:8,:,:])))\n",
    "\n",
    "\n",
    "\n",
    "\n",
    "NFW_RS_tenth= create_histograms(NFW8_256_RS_array_L[0:1,:,:],1024*8,0,3*np.mean(sum(NFW8_256_RS_array_L[0:1,:,:])))\n",
    "NFW_RS_half = create_histograms(NFW8_256_RS_array_L[0:5,:,:],1024*8,0,3*np.mean(sum(NFW8_256_RS_array_L[0:5,:,:])))\n",
    "NFW_RS_one = create_histograms(NFW8_256_RS_array_L[0:8,:,:],1024*8,0,3*np.mean(sum(NFW8_256_RS_array_L[0:8,:,:])))\n",
    "\n",
    "\n",
    "fire_RS_tenth= create_histograms(fire8_256_RS_array_L[0:1,:,:],1024*8,0,3*np.mean(sum(fire8_256_RS_array_L[0:1,:,:])))\n",
    "fire_RS_half = create_histograms(fire8_256_RS_array_L[0:5,:,:],1024*8,0,3*np.mean(sum(fire8_256_RS_array_L[0:5,:,:])))\n",
    "fire_RS_one = create_histograms(fire8_256_RS_array_L[0:8,:,:],1024*8,0,3*np.mean(sum(fire8_256_RS_array_L[0:8,:,:])))\n",
    "\n",
    "\n",
    "\n",
    "\n",
    "STH8_2_1 = create_histograms(STH8_2_256_RS_array_L[0:1,:,:],1024*8,0,3*np.mean(sum(STH8_2_256_RS_array_L[0:1,:,:])))\n",
    "STH8_2_5 = create_histograms(STH8_2_256_RS_array_L[0:5,:,:],1024*8,0,3*np.mean(sum(STH8_2_256_RS_array_L[0:5,:,:])))\n",
    "STH8_2_10 = create_histograms(STH8_2_256_RS_array_L[0:8,:,:],1024*8,0,3*np.mean(sum(STH8_2_256_RS_array_L[0:8,:,:])))\n",
    "\n",
    "\n",
    "# STH8_2_1 = create_histograms(STH8_2_256_L[0:1,:,:],1024*8)\n",
    "# STH8_2_5 = create_histograms(STH8_2_256_L[0:5,:,:],1024*8)\n",
    "# STH8_2_10 = create_histograms(STH8_2_256_L[0:8,:,:],1024*8)\n",
    "\n",
    "\n",
    "# P_RS_tenth= create_histograms(P8_256_RS_array[0:1,:,:],1024*8)\n",
    "# P_RS_half = create_histograms(P8_256_RS_array[0:5,:,:],1024*8)\n",
    "# P_RS_one = create_histograms(P8_256_RS_array[0:8,:,:],1024*8)\n"
   ],
   "outputs": [],
   "metadata": {}
  },
  {
   "cell_type": "markdown",
   "source": [
    "# 3. DM vs Redshift plots"
   ],
   "metadata": {}
  },
  {
   "cell_type": "markdown",
   "source": [
    "#### Specs for plots"
   ],
   "metadata": {}
  },
  {
   "cell_type": "code",
   "execution_count": null,
   "source": [
    "SMALL_SIZE = 8\n",
    "MEDIUM_SIZE = 10\n",
    "BIGGER_SIZE = 16\n",
    "XBIG_SIZE = 20\n",
    "axis_fontsize = 20\n",
    "curve_thickness = 2\n",
    "\n",
    "\n",
    "plt.rc('font', size=SMALL_SIZE)          # controls default text sizes\n",
    "plt.rc('axes', titlesize=SMALL_SIZE)     # fontsize of the axes title\n",
    "plt.rc('axes', labelsize=MEDIUM_SIZE)    # fontsize of the x and y labels\n",
    "plt.rc('xtick', labelsize=BIGGER_SIZE)    # fontsize of the tick labels\n",
    "plt.rc('ytick', labelsize=BIGGER_SIZE)    # fontsize of the tick labels\n",
    "plt.rc('legend', fontsize=XBIG_SIZE)    # legend fontsize\n",
    "plt.rc('figure', titlesize=BIGGER_SIZE)  # fontsize of the figure title"
   ],
   "outputs": [],
   "metadata": {}
  },
  {
   "cell_type": "code",
   "execution_count": null,
   "source": [
    "\n",
    "\n",
    "# figure and subplots\n",
    "fig, axs = plt.subplots(1, 3, sharex='col', sharey='row',\n",
    "                        gridspec_kw={'hspace': 0, 'wspace': 0},figsize=(45,15))\n",
    "\n",
    "curve_lw = 4\n",
    "\n",
    "\n",
    "axs[0].plot(STH_RS_tenth[0],STH_RS_tenth[0]*STH_RS_tenth[1],'-',label='3D Tophat',lw=curve_lw)\n",
    "axs[0].plot(STH8_2_1[0],STH8_2_1[0]*STH8_2_1[1],'-',label='3D Tophat 2$R_{vir}$',lw=curve_lw)\n",
    "axs[0].plot(NFW_RS_tenth[0],NFW_RS_tenth[0]*NFW_RS_tenth[1],'-',label='NFW',lw=curve_lw)\n",
    "axs[0].plot(fire_RS_tenth[0],fire_RS_tenth[0]*fire_RS_tenth[1],'-',label='Fire',lw=curve_lw)\n",
    "# axs[0].plot(P_RS_tenth[0],P_RS_tenth[0]*P_RS_tenth[1],'-',label='Precipitation',lw=curve_lw)\n",
    "\n",
    "\n",
    "\n",
    "\n",
    "\n",
    "# Second plot\n",
    "\n",
    "\n",
    "axs[1].plot(STH_RS_half[0],STH_RS_half[0]*STH_RS_half[1],'-',label='3D Tophat',lw=curve_lw)\n",
    "axs[1].plot(STH8_2_5[0],STH8_2_5[0]*STH8_2_5[1],'-',label='3D Tophat 2Rvir',lw=curve_lw)\n",
    "axs[1].plot(NFW_RS_half[0],NFW_RS_half[0]*NFW_RS_half[1],'-',label='NFW',lw=curve_lw)\n",
    "axs[1].plot(fire_RS_half[0],fire_RS_half[0]*fire_RS_half[1],'-',label='Fire',lw=curve_lw)\n",
    "# axs[0].plot(P_RS_half[0],P_RS_half[0]*P_RS_half[1],'-',label='Fire',lw=curve_lw)\n",
    "\n",
    "\n",
    "\n",
    "# Third plot\n",
    "\n",
    "axs[2].plot(STH_RS_one[0],STH_RS_one[0]*STH_RS_one[1],'-',label='3D Tophat',lw=curve_lw)\n",
    "axs[2].plot(STH8_2_10[0],STH8_2_10[0]*STH8_2_10[1],'-',label='3D Tophat 2Rvir',lw=curve_lw)\n",
    "axs[2].plot(NFW_RS_one[0],NFW_RS_one[0]*NFW_RS_one[1],'-',label='NFW',lw=curve_lw)\n",
    "axs[2].plot(fire_RS_one[0],fire_RS_one[0]*fire_RS_one[1],'-',label='Fire',lw=curve_lw)\n",
    "# axs[0].plot(P_RS_one[0],P_RS_one[0]*P_RS_one[1],'-',label='Fire',lw=curve_lw)\n",
    "\n",
    "\n",
    "# Axis range\n",
    "axs[0].set_xlim(xmin=0,xmax=199)\n",
    "axs[1].set_xlim(xmin=0,xmax=1499)\n",
    "axs[2].set_xlim(xmin=0,xmax=2500)\n",
    "\n",
    "\n",
    "# Subplot titles\n",
    "axs[0].set_title('Redshift = 0.1',fontsize=40)\n",
    "axs[1].set_title('Redshift = 0.5',fontsize=40)\n",
    "axs[2].set_title('Redshift = 1.0',fontsize=40)\n",
    "\n",
    "\n",
    "# Mean DM: set for the given redshift\n",
    "mean=axs[0].axvline(np.mean(STH8_256_RS_array_L[0,:,:]), color='k', linestyle='-', linewidth=1)\n",
    "axs[1].axvline(np.mean(sum(STH8_256_RS_array_L[0:5,:,:])), color='k', linestyle='-', linewidth=1)\n",
    "axs[2].axvline(np.mean(sum(STH8_256_RS_array_L[0:8,:,:])), color='k', linestyle='-', linewidth=1)\n",
    "# mean.set_label('Mean DM')\n",
    "\n",
    "\n",
    "\n",
    "# Axis labels\n",
    "fig.text(0.5, 0.04, 'DM [pc $cm^{-3}$]', ha='center',fontsize=60)\n",
    "axs[0].set_ylabel(r'$ P(DM) \\times DM$',fontsize=60)\n",
    "\n",
    "\n",
    "axs[0].ticklabel_format(useMathText=True)\n",
    "axs[1].ticklabel_format(useMathText=True)\n",
    "axs[2].ticklabel_format(useMathText=True)\n",
    "# axs[0].yaxis.set_major_formatter(FormatStrFormatter('%.2f'))\n",
    "# axs[0].ticker.LogFormatter(base=10.0)\n",
    "# import matplotlib.ticker as tick\n",
    "# axs[0].yaxis.set_major_formatter(tick.LogFormatter())\n",
    "\n",
    "\n",
    "# legend\n",
    "axs[0].legend(loc='upper right',prop={'size':40})\n",
    "\n",
    "\n",
    "\n",
    "fig.savefig('fiducial_profiles_RS_hist.pdf',bbox_inches='tight')\n"
   ],
   "outputs": [],
   "metadata": {}
  },
  {
   "cell_type": "markdown",
   "source": [
    "### We calculated the standard deviations of the redshift stack as follows:\n",
    "\n",
    "If you want to stack five boxes, in the sum, go from 0:5, etc"
   ],
   "metadata": {}
  },
  {
   "cell_type": "code",
   "execution_count": null,
   "source": [
    "var_STH_1 = np.round(np.sqrt((STH8_256_RS_array_L[0,:,:]).var()),2) \n",
    "var_STH_2 = np.round(np.sqrt((sum(STH8_256_RS_array_L[0:5,:,:])).var()),2) \n",
    "var_STH_3 = np.round(np.sqrt((sum(STH8_256_RS_array_L[0:8,:,:])).var()),2)\n",
    "print('Variance of Tophat','RS 0.1 = ',var_STH_1,' RS 0.5 = ', var_STH_2,' RS 1 = ',var_STH_3)\n"
   ],
   "outputs": [],
   "metadata": {}
  },
  {
   "cell_type": "code",
   "execution_count": null,
   "source": [
    "var_STH2_1 = np.round(np.sqrt((STH8_2_256_RS_array_L[0,:,:]).var()),2) \n",
    "var_STH2_2 = np.round(np.sqrt((sum(STH8_2_256_RS_array_L[0:5,:,:])).var()),2) \n",
    "var_STH2_3 = np.round(np.sqrt((sum(STH8_2_256_RS_array_L[0:8,:,:])).var()),2)\n",
    "print('Variance of Tophat','RS 0.1 = ',var_STH2_1,' RS 0.5 = ', var_STH2_2,' RS 1 = ',var_STH2_3)\n"
   ],
   "outputs": [],
   "metadata": {}
  },
  {
   "cell_type": "code",
   "execution_count": null,
   "source": [
    "var_fire_1 = np.round(np.sqrt((fire8_256_RS_array_L[0,:,:]).var()),2) \n",
    "var_fire_2 = np.round(np.sqrt((sum(fire8_256_RS_array_L[0:5,:,:])).var()),2) \n",
    "var_fire_3 = np.round(np.sqrt((sum(fire8_256_RS_array_L[0:8,:,:])).var()),2)\n",
    "print('Variance of Fire','RS 0.1 = ',var_fire_1,' RS 0.5 = ', var_fire_2,' RS 1 = ',var_fire_3)\n"
   ],
   "outputs": [],
   "metadata": {}
  },
  {
   "cell_type": "code",
   "execution_count": null,
   "source": [
    "var_NFW_1 = np.round(np.sqrt((NFW8_256_RS_array_L[0,:,:]).var()),2) \n",
    "var_NFW_2 = np.round(np.sqrt((sum(NFW8_256_RS_array_L[0:5,:,:])).var()),2) \n",
    "var_NFW_3 = np.round(np.sqrt((sum(NFW8_256_RS_array_L[0:8,:,:])).var()),2)\n",
    "print('Variance of NFW','RS 0.1 = ',var_NFW_1,' RS 0.5 = ', var_NFW_2,' RS 1 = ',var_NFW_3)\n"
   ],
   "outputs": [],
   "metadata": {}
  },
  {
   "cell_type": "code",
   "execution_count": null,
   "source": [
    "var_P_1 = np.round(np.sqrt((P8_256_RS_array_L[6][0,:,:]).var()),2) \n",
    "var_P_2 = np.round(np.sqrt((sum(P8_256_RS_array_L[6][0:5,:,:])).var()),2) \n",
    "var_P_3 = np.round(np.sqrt((sum(P8_256_RS_array_L[6][0:9,:,:])).var()),2)\n",
    "print('Variance of NFW','RS 0.1 = ',var_P_1,' RS 0.5 = ', var_P_2,' RS 1 = ',var_P_3)\n"
   ],
   "outputs": [],
   "metadata": {}
  },
  {
   "cell_type": "code",
   "execution_count": null,
   "source": [
    "plt.semilogx(r_star_ar*1000,error_1000_MW_STH,ls='--',drawstyle='steps',color='red',lw=1)\n",
    "# plt.semilogx(r_star_ar*1000,error_1000_MW_STH2,ls='--',drawstyle='steps',color='red',lw=1)\n",
    "# plt.semilogx(r_star_ar*1000,error_1000_MW_NFW,ls='--',drawstyle='steps',color='red',lw=1)\n",
    "plt.semilogx(r_star_ar*1000,error_1000_MW_fire,ls='--',drawstyle='steps',color='red',lw=1)\n",
    "\n",
    "\n",
    "\n",
    "# plt.semilogx(r_star_ar*1000,error_10000_MW_STH,ls='-.',drawstyle='steps',color='red',lw=1)\n",
    "# plt.semilogx(r_star_ar*1000,error_10000_MW_STH2,ls='-.',drawstyle='steps',color='red',lw=1)\n",
    "# plt.semilogx(r_star_ar*1000,error_10000_MW_NFW,ls='-.',drawstyle='steps',color='red',lw=1)\n",
    "# plt.semilogx(r_star_ar*1000,error_10000_MW_fire,ls='-.',drawstyle='steps',color='red',lw=1)"
   ],
   "outputs": [],
   "metadata": {
    "scrolled": false
   }
  },
  {
   "cell_type": "markdown",
   "source": [
    "# Two different profiles for different mass bins"
   ],
   "metadata": {}
  },
  {
   "cell_type": "code",
   "execution_count": null,
   "source": [
    "\n",
    "# Cuttoff 12.5\n",
    "# STH_NFW_1 = hist_profile(all_den_fields_RS,den_grid_size,RS_array,min_mass,max_mass,\n",
    "#                                        log_bins,subtraction_halo_profile,'2RVSTH_and_NFW_12.5',1,1)\n",
    "\n",
    "# NFW_1 = hist_profile(all_den_fields_RS,den_grid_size,RS_array,min_mass,max_mass,\n",
    "#                                  log_bins,subtraction_halo_profile,'NFW',1,1)\n",
    "\n",
    "\n",
    "\n",
    "\n",
    "\n",
    "\n",
    "\n",
    "\n",
    "\n",
    "\n"
   ],
   "outputs": [],
   "metadata": {}
  },
  {
   "cell_type": "code",
   "execution_count": null,
   "source": [
    "STH_NFW_1 = hist_profile(all_den_fields_RS,den_grid_size,RS_array,min_mass,max_mass,\n",
    "                                 log_bins,subtraction_halo_profile,'2RVSTH_and_NFW_11',1,8)\n",
    "\n",
    "saveArray('STH_NFW_1',STH_NFW_1[6])"
   ],
   "outputs": [],
   "metadata": {}
  },
  {
   "cell_type": "code",
   "execution_count": null,
   "source": [
    "STH_NFW_2 = hist_profile(all_den_fields_RS,den_grid_size,RS_array,min_mass,max_mass,\n",
    "                                 log_bins,subtraction_halo_profile,'2RVSTH_and_NFW_11.5',1,8)\n",
    "\n",
    "saveArray('STH_NFW_2',STH_NFW_2[6])\n"
   ],
   "outputs": [],
   "metadata": {}
  },
  {
   "cell_type": "code",
   "execution_count": null,
   "source": [
    "STH_NFW_3 = hist_profile(all_den_fields_RS,den_grid_size,RS_array,min_mass,max_mass,\n",
    "                                 log_bins,subtraction_halo_profile,'2RVSTH_and_NFW_12.5',1,8)\n",
    "\n",
    "saveArray('STH_NFW_3',STH_NFW_3[6])\n"
   ],
   "outputs": [],
   "metadata": {}
  },
  {
   "cell_type": "code",
   "execution_count": null,
   "source": [
    "STH_NFW_4 = hist_profile(all_den_fields_RS,den_grid_size,RS_array,min_mass,max_mass,\n",
    "                                 log_bins,subtraction_halo_profile,'2RVSTH_and_NFW_12.5',1,8)\n",
    "\n",
    "saveArray('STH_NFW_4',STH_NFW_4[6])\n"
   ],
   "outputs": [],
   "metadata": {}
  },
  {
   "cell_type": "code",
   "execution_count": null,
   "source": [
    "# Cuttoff 13\n",
    "STH_NFW_5 = hist_profile(all_den_fields_RS,den_grid_size,RS_array,min_mass,max_mass,\n",
    "                                       log_bins,subtraction_halo_profile,'2RVSTH_and_NFW_13',1,8)\n",
    "\n",
    "saveArray('STH_NFW_5',STH_NFW_5[6])\n",
    "\n"
   ],
   "outputs": [],
   "metadata": {}
  },
  {
   "cell_type": "code",
   "execution_count": null,
   "source": [
    "# Cuttoff 12.5\n",
    "STH_NFW_6 = hist_profile(all_den_fields_RS,den_grid_size,RS_array,min_mass,max_mass,\n",
    "                                       log_bins,subtraction_halo_profile,'2RVSTH_and_NFW_13.5',1,8)\n",
    "\n",
    "saveArray('STH_NFW_6',STH_NFW_6[6])\n"
   ],
   "outputs": [],
   "metadata": {}
  },
  {
   "cell_type": "code",
   "execution_count": null,
   "source": [
    "STH_NFW_1= loadArray('STH_NFW_1.npy')\n",
    "STH_NFW_2= loadArray('STH_NFW_2.npy')\n",
    "STH_NFW_3= loadArray('STH_NFW_3.npy')\n",
    "STH_NFW_4= loadArray('STH_NFW_4.npy')\n",
    "STH_NFW_5= loadArray('STH_NFW_5.npy')\n",
    "STH_NFW_6= loadArray('STH_NFW_6.npy')\n"
   ],
   "outputs": [],
   "metadata": {}
  },
  {
   "cell_type": "markdown",
   "source": [
    "### PDFs for STH_NFW"
   ],
   "metadata": {}
  },
  {
   "cell_type": "code",
   "execution_count": null,
   "source": [
    "# !Add min and max to argument before running!\n",
    "\n",
    "# STH_NFW_1_1= create_histograms(STH_NFW_1[0:1,:,:],1024*8)\n",
    "# STH_NFW_1_2= create_histograms(STH_NFW_2[0:1,:,:],1024*8)\n",
    "# STH_NFW_1_3= create_histograms(STH_NFW_3[0:1,:,:],1024*8)\n",
    "# STH_NFW_1_4= create_histograms(STH_NFW_4[0:1,:,:],1024*8)\n",
    "# STH_NFW_1_5= create_histograms(STH_NFW_5[0:1,:,:],1024*8)\n",
    "# STH_NFW_1_6= create_histograms(STH_NFW_6[0:1,:,:],1024*8)\n",
    "\n",
    "\n",
    "# STH_NFW_2_1= create_histograms(STH_NFW_1[0:5,:,:],1024*8)\n",
    "# STH_NFW_2_2= create_histograms(STH_NFW_2[0:5,:,:],1024*8)\n",
    "# STH_NFW_2_3= create_histograms(STH_NFW_3[0:5,:,:],1024*8)\n",
    "# STH_NFW_2_4= create_histograms(STH_NFW_4[0:5,:,:],1024*8)\n",
    "# STH_NFW_2_5= create_histograms(STH_NFW_5[0:5,:,:],1024*8)\n",
    "# STH_NFW_2_6= create_histograms(STH_NFW_6[0:5,:,:],1024*8)\n",
    "\n",
    "\n",
    "# STH_NFW_3_1= create_histograms(STH_NFW_1[0:8,:,:],1024*8)\n",
    "# STH_NFW_3_2= create_histograms(STH_NFW_2[0:8,:,:],1024*8)\n",
    "# STH_NFW_3_3= create_histograms(STH_NFW_3[0:8,:,:],1024*8)\n",
    "# STH_NFW_3_4= create_histograms(STH_NFW_4[0:8,:,:],1024*8)\n",
    "# STH_NFW_3_5= create_histograms(STH_NFW_5[0:8,:,:],1024*8)\n",
    "# STH_NFW_3_6= create_histograms(STH_NFW_6[0:8,:,:],1024*8)\n",
    "\n",
    "\n",
    "\n"
   ],
   "outputs": [],
   "metadata": {}
  },
  {
   "cell_type": "code",
   "execution_count": null,
   "source": [
    "\n",
    "\n",
    "# figure and subplots\n",
    "fig, axs = plt.subplots(1, 3, sharex='col', sharey='row',\n",
    "                        gridspec_kw={'hspace': 0, 'wspace': 0},figsize=(45,15))\n",
    "\n",
    "\n",
    "curve_lw=3\n",
    "\n",
    "axs[0].plot(STH_NFW_1_1[0],STH_NFW_1_1[0]*STH_NFW_1_1[1],'-',label='11 $M_\\odot$',lw=curve_lw)\n",
    "axs[0].plot(STH_NFW_1_2[0],STH_NFW_1_2[0]*STH_NFW_1_2[1],'-',label='11.5 $M_\\odot$',lw=curve_lw)\n",
    "axs[0].plot(STH_NFW_1_3[0],STH_NFW_1_3[0]*STH_NFW_1_3[1],'-',label='12 $M_\\odot$',lw=curve_lw)\n",
    "axs[0].plot(STH_NFW_1_4[0],STH_NFW_1_4[0]*STH_NFW_1_4[1],'-',label='12.5 $M_\\odot$',lw=curve_lw)\n",
    "axs[0].plot(STH_NFW_1_5[0],STH_NFW_1_5[0]*STH_NFW_1_5[1],'-',label='13 $M_\\odot$',lw=curve_lw)\n",
    "axs[0].plot(STH_NFW_1_6[0],STH_NFW_1_6[0]*STH_NFW_1_6[1],'-',label='13.5 $M_\\odot$',lw=curve_lw)\n",
    "\n",
    "\n",
    "\n",
    "\n",
    "# Second plot\n",
    "\n",
    "axs[1].plot(STH_NFW_2_1[0],STH_NFW_2_1[0]*STH_NFW_2_1[1],'-',label='Cutoff 12.5',lw=curve_lw)\n",
    "axs[1].plot(STH_NFW_2_2[0],STH_NFW_2_2[0]*STH_NFW_2_2[1],'-',label='Cutoff 13',lw=curve_lw)\n",
    "axs[1].plot(STH_NFW_2_3[0],STH_NFW_2_3[0]*STH_NFW_2_3[1],'-',label='Cutoff 13.5',lw=curve_lw)\n",
    "axs[1].plot(STH_NFW_2_4[0],STH_NFW_2_4[0]*STH_NFW_2_4[1],'-',label='12.5 $M_\\odot$',lw=curve_lw)\n",
    "axs[1].plot(STH_NFW_2_5[0],STH_NFW_2_5[0]*STH_NFW_2_5[1],'-',label='13 $M_\\odot$',lw=curve_lw)\n",
    "axs[1].plot(STH_NFW_2_6[0],STH_NFW_2_6[0]*STH_NFW_2_6[1],'-',label='13.5 $M_\\odot$',lw=curve_lw)\n",
    "\n",
    "\n",
    "\n",
    "\n",
    "# # Third plot\n",
    "\n",
    "axs[2].plot(STH_NFW_3_1[0],STH_NFW_3_1[0]*STH_NFW_3_1[1],'-',label='Cutoff 12.5',lw=curve_lw)\n",
    "axs[2].plot(STH_NFW_3_2[0],STH_NFW_3_2[0]*STH_NFW_3_2[1],'-',label='Cutoff 13',lw=curve_lw)\n",
    "axs[2].plot(STH_NFW_3_3[0],STH_NFW_3_3[0]*STH_NFW_3_3[1],'-',label='Cutoff 13.5',lw=curve_lw)\n",
    "axs[2].plot(STH_NFW_3_4[0],STH_NFW_3_4[0]*STH_NFW_3_4[1],'-',label='12.5 $M_\\odot$',lw=curve_lw)\n",
    "axs[2].plot(STH_NFW_3_5[0],STH_NFW_3_5[0]*STH_NFW_3_5[1],'-',label='13 $M_\\odot$',lw=curve_lw)\n",
    "axs[2].plot(STH_NFW_3_6[0],STH_NFW_3_6[0]*STH_NFW_3_6[1],'-',label='13.5 $M_\\odot$',lw=curve_lw)\n",
    "\n",
    "\n",
    "\n",
    "# Axis range\n",
    "axs[0].set_xlim(xmin=0,xmax=199)\n",
    "axs[1].set_xlim(xmin=0,xmax=1299)\n",
    "axs[2].set_xlim(xmin=0,xmax=2500)\n",
    "\n",
    "\n",
    "# Subplot titles\n",
    "axs[0].set_title('Redshift = 0.1',fontsize=40)\n",
    "axs[1].set_title('Redshift = 0.5',fontsize=40)\n",
    "axs[2].set_title('Redshift = 0.9',fontsize=40)\n",
    "\n",
    "\n",
    "# Mean DM: set for the given redshift\n",
    "mean=axs[0].axvline(np.mean(STH_NFW_1[0,:,:]), color='k', linestyle='-', linewidth=1)\n",
    "axs[1].axvline(np.mean(sum(STH_NFW_1[0:5,:,:])), color='k', linestyle='-', linewidth=1)\n",
    "axs[2].axvline(np.mean(sum(STH_NFW_1[0:8,:,:])), color='k', linestyle='-', linewidth=1)\n",
    "# mean.set_label('Mean DM')\n",
    "\n",
    "\n",
    "\n",
    "# Axis labels\n",
    "fig.text(0.5, 0.04, 'DM [pc $cm^{-3}$]', ha='center',fontsize=60)\n",
    "axs[0].set_ylabel(r'$P(DM) \\times DM$ ',fontsize=60)\n",
    "\n",
    "\n",
    "axs[0].ticklabel_format(useMathText=True)\n",
    "axs[1].ticklabel_format(useMathText=True)\n",
    "axs[2].ticklabel_format(useMathText=True)\n",
    "# axs[0].yaxis.set_major_formatter(FormatStrFormatter('%.2f'))\n",
    "# axs[0].ticker.LogFormatter(base=10.0)\n",
    "# import matplotlib.ticker as tick\n",
    "# axs[0].yaxis.set_major_formatter(tick.LogFormatter())\n",
    "\n",
    "\n",
    "# legend\n",
    "legend=axs[0].legend(title = 'STH to NFW transition at',fontsize='xlarge',loc='upper right',prop={'size':35})\n",
    "legend.get_title().set_fontsize('35') #legend 'Title' fontsize\n",
    "\n",
    "\n",
    "fig.savefig('STH_NFW_transition.pdf',bbox_inches='tight')\n"
   ],
   "outputs": [],
   "metadata": {}
  },
  {
   "cell_type": "markdown",
   "source": [
    "# Below is the test code for higher resolutions"
   ],
   "metadata": {}
  },
  {
   "cell_type": "markdown",
   "source": [
    "## DM vs radius test for Resolution 16"
   ],
   "metadata": {}
  },
  {
   "cell_type": "code",
   "execution_count": null,
   "source": [
    "resolution=16\n",
    "\n",
    "grid_size = resolution*1024\n",
    "\n",
    "trim_dim=int((10*resolution)/2+1)  # Need +1 to match the dimensions of the mask grids\n",
    "\n",
    "# Radial extent of the plots in Mpc\n",
    "extent = (L/grid_size)*(trim_dim)\n"
   ],
   "outputs": [],
   "metadata": {}
  },
  {
   "cell_type": "code",
   "execution_count": null,
   "source": [
    "# Spherical tophat\n",
    "# STH_DMvsR=DM_vs_radius(STH8_256[1][0,:,:],df,trim_dim, mass_bins, halos_per_mass_bin)\n",
    "STH_DMvsR_16=DM_vs_radius(STH16_256[1][0,:,:],df[0],trim_dim, df[2], df[1])"
   ],
   "outputs": [],
   "metadata": {}
  },
  {
   "cell_type": "code",
   "execution_count": null,
   "source": [
    "STH8_2_DMvsR_16=DM_vs_radius(STH16_256[1][0,:,:],df[0],trim_dim, df[2], df[1])"
   ],
   "outputs": [],
   "metadata": {}
  },
  {
   "cell_type": "code",
   "execution_count": null,
   "source": [
    "# fire simulation\n",
    "fire_DMvsR_16=DM_vs_radius(fire16_256[1][0,:,:],df[0],trim_dim, df[2], df[1])\n",
    "# fire_DMvsR=DM_vs_radius(fire8_256[1][0,:,:],df,trim_dim, mass_bins, halos_per_mass_bin)"
   ],
   "outputs": [],
   "metadata": {}
  },
  {
   "cell_type": "code",
   "execution_count": null,
   "source": [
    "# NFW\n",
    "NFW_DMvsR_16=DM_vs_radius(NFW16_256[1][0,:,:],df[0],trim_dim, df[2], df[1])\n",
    "# NFW_DMvsR=DM_vs_radius(NFW8_256[1][0,:,:],df,trim_dim, mass_bins, halos_per_mass_bin)\n"
   ],
   "outputs": [],
   "metadata": {}
  },
  {
   "cell_type": "code",
   "execution_count": null,
   "source": [
    "# Create profiles of masks\n",
    "\n",
    "STH_masks_16=profile_of_masks(STH16_256[2][0,:,:,:])\n",
    "NFW_masks_16=profile_of_masks(NFW16_256[2][0,:,:,:])\n",
    "fire_masks_16=profile_of_masks(fire16_256[2][0,:,:,:])"
   ],
   "outputs": [],
   "metadata": {}
  },
  {
   "cell_type": "code",
   "execution_count": null,
   "source": [
    "# Save DM vs Radius profiles\n",
    "\n",
    "# saveArray('STH_DMvsR_16',STH_DMvsR_16)\n",
    "# saveArray('NFW_DMvsR_16',NFW_DMvsR_16)\n",
    "saveArray('fire_DMvsR_16',fire_DMvsR_16)\n",
    "\n",
    "\n",
    "# # Save masks\n",
    "\n",
    "# saveArray('STH_masks_16',STH_masks_16)\n",
    "# saveArray('NFW_masks_16',NFW_masks_16)\n",
    "saveArray('fire_masks_16',fire_masks_16)\n",
    "\n",
    "# saveArray('ordered_halo_dataframe',df)\n"
   ],
   "outputs": [],
   "metadata": {}
  },
  {
   "cell_type": "code",
   "execution_count": null,
   "source": [
    "# figure and subplots\n",
    "\n",
    "MpctoKpc =1000\n",
    "x_start=40  #kpc: min impact parameter \n",
    "\n",
    "\n",
    "DM_Rad_fig_16, DM_Rad_axs = plt.subplots(3, 1,\n",
    "                        gridspec_kw={'hspace': 0, 'wspace': .2},figsize=(10,30))\n",
    "\n",
    "plt.rc('xtick', labelsize=25)    # fontsize of the tick labels\n",
    "plt.rc('ytick', labelsize=25)    # fontsize of the tick labels\n",
    "\n",
    "# plt.rc('axes', titlesize=30)     # fontsize of the axes title\n",
    "# plt.rc('axes', labelsize=20)    # fontsize of the x and y labels\n",
    "\n",
    "\n",
    "\n",
    "# First plot\n",
    "\n",
    "# DM_Rad_axs[0].semilogx(np.linspace(0,extent,TH_DMvsR.shape[1]),TH_DMvsR[M_chosen[0],:]-mean_DM,'-', label= '2D tophat')\n",
    "DM_Rad_axs[0].semilogx(MpctoKpc*np.linspace(0,extent,STH_DMvsR_16.shape[1]),STH_DMvsR_16[M_chosen[1],:]-mean_DM,'-', label= '3D Tophat',lw=3,color= 'red')\n",
    "DM_Rad_axs[0].semilogx(MpctoKpc*np.linspace(0,extent,fire_DMvsR_16.shape[1]),fire_DMvsR_16[M_chosen[1],:]-mean_DM,'-', label= 'fire',lw=3,color='green')\n",
    "DM_Rad_axs[0].semilogx(MpctoKpc*np.linspace(0,extent,NFW_DMvsR_16.shape[1]),NFW_DMvsR_16[M_chosen[1],:]-mean_DM,'-' ,label= 'NFW',lw=3,color='blue')\n",
    "\n",
    "\n",
    "# Masks\n",
    "DM_Rad_axs[0].semilogx(MpctoKpc*np.linspace(0,extent,STH_masks_16.shape[1]),STH_masks_16[M_chosen[1],:],'--', lw=2,color='red')\n",
    "DM_Rad_axs[0].semilogx(MpctoKpc*np.linspace(0,extent,fire_masks_16.shape[1]),fire_masks_16[M_chosen[1],:],'--',lw=2,color='green')\n",
    "DM_Rad_axs[0].semilogx(MpctoKpc*np.linspace(0,extent,NFW_masks_16.shape[1]),NFW_masks_16[M_chosen[1],:],'--', lw=2,color='blue')\n",
    "\n",
    "\n",
    "DM_Rad_axs[0].set_ylim([0, 60])\n",
    "DM_Rad_axs[0].set_xlim([x_start, MpctoKpc*2])\n",
    "\n",
    "\n",
    "# axis title\n",
    "# DM_Rad_axs[0].set_title('Mass = %.1E' % Decimal(df[2][M_chosen[1]]),fontsize=14)\n",
    "DM_Rad_axs[0].text(MpctoKpc*.1, 55, 'Mass = %.1E $M_\\odot$' % Decimal(df[2][M_chosen[1]]),fontsize=20)\n",
    "\n",
    "\n",
    "# Second plot\n",
    "\n",
    "# DM_Rad_axs[1].semilogx(np.linspace(0,extent,TH_DMvsR.shape[1]),TH_DMvsR[M_chosen[2],:]-mean_DM,'-', label= '2D tophat',)\n",
    "DM_Rad_axs[1].semilogx(MpctoKpc*np.linspace(0,extent,STH_DMvsR_16.shape[1]),STH_DMvsR_16[M_chosen[2],:]-mean_DM,'-', label= '3D tophat',lw=3,color='red')\n",
    "DM_Rad_axs[1].semilogx(MpctoKpc*np.linspace(0,extent,fire_DMvsR_16.shape[1]),fire_DMvsR_16[M_chosen[2],:]-mean_DM,'-' ,label= 'fire',lw=3,color='green')\n",
    "DM_Rad_axs[1].semilogx(MpctoKpc*np.linspace(0,extent,NFW_DMvsR_16.shape[1]),NFW_DMvsR_16[M_chosen[2],:]-mean_DM,'-', label= 'NFW',lw=3,color='blue')\n",
    "\n",
    "# Masks\n",
    "DM_Rad_axs[1].semilogx(MpctoKpc*np.linspace(0,extent,STH_masks_16.shape[1]),STH_masks_16[M_chosen[2],:],'--', lw=2,color='red')\n",
    "DM_Rad_axs[1].semilogx(MpctoKpc*np.linspace(0,extent,fire_masks_16.shape[1]),fire_masks_16[M_chosen[2],:],'--',lw=2,color='green')\n",
    "DM_Rad_axs[1].semilogx(MpctoKpc*np.linspace(0,extent,NFW_masks_16.shape[1]),NFW_masks_16[M_chosen[2],:],'--', lw=2,color='blue')\n",
    "\n",
    "DM_Rad_axs[1].set_ylim(ymin=0,ymax=199)\n",
    "DM_Rad_axs[1].set_xlim([x_start, MpctoKpc*2])\n",
    "\n",
    "\n",
    "# DM_Rad_axs[1].set_title('Mass = %.1E' % Decimal(df[2][M_chosen[2]]),fontsize=14)\n",
    "DM_Rad_axs[1].text(MpctoKpc*.1, 180, 'Mass = %.1E $M_\\odot$' % Decimal(df[2][M_chosen[2]]),fontsize=20)\n",
    "\n",
    "\n",
    "\n",
    "# Third plot\n",
    "\n",
    "\n",
    "DM_Rad_axs[2].semilogx(MpctoKpc*np.linspace(0,extent,STH_DMvsR_16.shape[1]),STH_DMvsR_16[M_chosen[3],:]-mean_DM,'-', label= '3D tophat',lw=3,color='red')\n",
    "DM_Rad_axs[2].semilogx(MpctoKpc*np.linspace(0,extent,fire_DMvsR_16.shape[1]),fire_DMvsR_16[M_chosen[3],:]-mean_DM,'-', label= 'Fire',lw=3,color='green')\n",
    "DM_Rad_axs[2].semilogx(MpctoKpc*np.linspace(0,extent,NFW_DMvsR_16.shape[1]),NFW_DMvsR_16[M_chosen[3],:]-mean_DM, '-',label= 'NFW',lw=3,color='blue')\n",
    "\n",
    "\n",
    "DM_Rad_axs[2].semilogx(MpctoKpc*np.linspace(0,extent,STH_masks_16.shape[1]),STH_masks_16[M_chosen[3],:],'--', lw=2,color='red')\n",
    "DM_Rad_axs[2].semilogx(MpctoKpc*np.linspace(0,extent,fire_masks_16.shape[1]),fire_masks_16[M_chosen[3],:],'--',lw=2,color='green')\n",
    "DM_Rad_axs[2].semilogx(MpctoKpc*np.linspace(0,extent,NFW_masks_16.shape[1]),NFW_masks_16[M_chosen[3],:], '--',lw=2,color='blue')\n",
    "\n",
    "\n",
    "\n",
    "\n",
    "DM_Rad_axs[2].set_ylim(ymin=0,ymax=999)\n",
    "DM_Rad_axs[2].set_xlim([x_start, MpctoKpc*2])\n",
    "\n",
    "# DM_Rad_axs[2].set_title('Mass = %.1E' % Decimal(df[2][M_chosen[3]]),fontsize=14)\n",
    "DM_Rad_axs[2].text(MpctoKpc*.1, 925, 'Mass = %.1E $M_\\odot$' % Decimal(df[2][M_chosen[3]]),fontsize=20)\n",
    "\n",
    "\n",
    "\n",
    "# ticks\n",
    "\n",
    "# ax.xaxis.grid(True, which='minor')\n",
    "# DM_Rad_axs[0].xaxis.grid(axis='x', which='minor', bottom=True)\n",
    "\n",
    "# DM_Rad_axs[0].tick_params(axis='x', which='minor', bottom=True)\n",
    "# DM_Rad_axs[1].tick_params(axis='x', which='minor', bottom=True)\n",
    "\n",
    "DM_Rad_axs[0].tick_params(axis='x', which='minor')\n",
    "\n",
    "# legend\n",
    "\n",
    "DM_Rad_axs[0].legend(loc='upper right',prop={'size':18})\n",
    "# DM_Rad_axs[0].set_ylabel('DM - <DM> [pc $cm^{-3}$]',fontsize=30)\n",
    "DM_Rad_axs[1].set_ylabel('DM - <DM> [pc $cm^{-3}$]',fontsize=30)\n",
    "# DM_Rad_axs[2].set_ylabel('DM - <DM> [pc $cm^{-3}$]',fontsize=30)\n",
    "DM_Rad_axs[2].set_xlabel('Impact Parameter [kpc]',fontsize=30)\n",
    "\n",
    "\n",
    "\n",
    "\n",
    "DM_Rad_fig_16.savefig('DMvsRad_profiles_16.pdf',bbox_inches='tight')"
   ],
   "outputs": [],
   "metadata": {
    "scrolled": false
   }
  },
  {
   "cell_type": "markdown",
   "source": [
    "# Rough work"
   ],
   "metadata": {}
  },
  {
   "cell_type": "markdown",
   "source": [
    "## Rough work for STH+ NFW"
   ],
   "metadata": {}
  },
  {
   "cell_type": "code",
   "execution_count": null,
   "source": [
    "# Resolution: choose between 256 and 512 grid\n",
    "den_grid_size = 256\n",
    "\n",
    "\n",
    "# User provides a redshift array\n",
    "# RS_array = [0] # For a single box, we only use the redshift 0 box\n",
    "RS_array = [avgZ(1),avgZ(2),avgZ(3),avgZ(4),avgZ(5)]\n",
    "\n",
    "\n",
    "# Profile used for subtracting halos from the density field\n",
    "subtraction_halo_profile = 'NFW'\n",
    "\n"
   ],
   "outputs": [],
   "metadata": {}
  },
  {
   "cell_type": "code",
   "execution_count": null,
   "source": [
    "# Create density field for the chosen resolution\n",
    "\n",
    "# all_den_fields_512 = extract_all_den_fields(RS_array,den_grid_size)\n",
    "# all_den_fields_RS = extract_all_den_fields(RS_array,den_grid_size)"
   ],
   "outputs": [],
   "metadata": {}
  },
  {
   "cell_type": "code",
   "execution_count": null,
   "source": [
    "# Mass range of halos\n",
    "min_mass=10**10\n",
    "max_mass=10**14.5\n",
    "log_bins=30\n",
    "\n",
    "\n",
    "addition_halo_profile = '2RVSTH_and_NFW' \n",
    "scaling_radius=1\n",
    "\n",
    "bin1_STH1_256 = hist_profile(all_den_fields_RS,den_grid_size,RS_array,min_mass,max_mass,\n",
    "                                       log_bins,subtraction_halo_profile,addition_halo_profile,scaling_radius,1)\n"
   ],
   "outputs": [],
   "metadata": {}
  },
  {
   "cell_type": "code",
   "execution_count": null,
   "source": [
    "all_bins= bin1_STH1_256[1][0,:,:]#+bin2_NFW1_256[1][0,:,:]\n",
    "\n",
    "def histArray_with_range(arr,nbin,Ncel,DMmin,DMmax):\n",
    "    hist, bins = np.histogram(arr,bins=nbin,range=(DMmin, DMmax))\n",
    "    dv=bins[1]-bins[0]\n",
    "    hist=(hist)/(dv*Ncel**2)\n",
    "    cumulative = (np.cumsum(hist)*dv)\n",
    "    center = (bins[:-1] + bins[1:]) / 2\n",
    "    return center, hist, cumulative[-1]\n",
    "\n",
    "\n",
    "STH_NFW = histArray_with_range(all_bins,500,1024,0,400)\n",
    "STH1R = histArray_with_range(STH1_256[1],500,1024,0,400)\n",
    "STH2R = histArray_with_range(STH1_2_256[1],500,1024,0,400)\n",
    "NFW = histArray_with_range(NFW1_256[1],500,1024,0,400)\n",
    "fire = histArray_with_range(fire1_256[1],500,1024,0,400)"
   ],
   "outputs": [],
   "metadata": {}
  },
  {
   "cell_type": "code",
   "execution_count": null,
   "source": [
    "plt.rcParams[\"figure.figsize\"] = (15,15)\n",
    "# plt.plot(STH_NFW[0],STH_NFW[1],'.',label='STH2Rv_NFW')\n",
    "plt.plot(STH4_NFW_hist[0],STH4_NFW_hist[1],'k',label='STH2Rv_NFW transition at 10^13.5')\n",
    "plt.plot(STH4_NFW_14_hist[0],STH4_NFW_14_hist[1],'r',label='STH2Rv_NFW transition at 10^14')\n",
    "plt.plot(STH1R[0],STH1R[1],'b',label='STH1Rv')\n",
    "plt.plot(STH2R[0],STH2R[1],'g',label='STH2Rv')\n",
    "plt.plot(NFW[0],NFW[1],'y',label='NFW')\n",
    "plt.plot(fire[0],fire[1],'c',label='fire')\n",
    "\n",
    "\n",
    "plt.legend(loc='upper right')\n",
    "plt.xlim(0,200)\n",
    "plt.savefig('NFW_Tophat_combined.pdf',bbox_inches='tight')"
   ],
   "outputs": [],
   "metadata": {}
  },
  {
   "cell_type": "code",
   "execution_count": null,
   "source": [
    "# This one is where we transition at 10**13.5\n",
    "\n",
    "# Mass range of halos\n",
    "min_mass=10**10\n",
    "max_mass=10**14.5\n",
    "log_bins=30\n",
    "\n",
    "\n",
    "addition_halo_profile = '2RVSTH_and_NFW' \n",
    "scaling_radius=1\n",
    "\n",
    "STH4_NFW_256 = hist_profile(all_den_fields,den_grid_size,RS_array,min_mass,max_mass,\n",
    "                                       log_bins,subtraction_halo_profile,addition_halo_profile,scaling_radius,1)\n",
    "\n",
    "\n"
   ],
   "outputs": [],
   "metadata": {}
  },
  {
   "cell_type": "code",
   "execution_count": null,
   "source": [
    "STH4_NFW_hist= histArray_with_range(STH4_NFW_256[1][0,:,:],500,1024,0,400)"
   ],
   "outputs": [],
   "metadata": {}
  },
  {
   "cell_type": "code",
   "execution_count": null,
   "source": [
    "# This one is where we transition at 10**14\n",
    "\n",
    "# Mass range of halos\n",
    "min_mass=10**10\n",
    "max_mass=10**14.5\n",
    "log_bins=30\n",
    "\n",
    "\n",
    "addition_halo_profile = '2RVSTH_and_NFW' \n",
    "scaling_radius=1\n",
    "\n",
    "STH4_NFW_14 = hist_profile(all_den_fields,den_grid_size,RS_array,min_mass,max_mass,\n",
    "                                       log_bins,subtraction_halo_profile,addition_halo_profile,scaling_radius,1)\n",
    "\n",
    "STH4_NFW_14_hist= histArray_with_range(STH4_NFW_14[1][0,:,:],500,1024,0,400)\n"
   ],
   "outputs": [],
   "metadata": {}
  },
  {
   "cell_type": "code",
   "execution_count": null,
   "source": [],
   "outputs": [],
   "metadata": {}
  },
  {
   "cell_type": "code",
   "execution_count": null,
   "source": [
    "# Compare things at RS =.5 for each profile\n",
    "STH_NFW_RShalf = histArray_with_range(sum(bin1_STH1_256[6][0:5,:,:]),100,1024,0,1000)\n",
    "STH_RShalf = histArray_with_range(sum(STH1_256_RS_array[6][0:5,:,:]),100,1024,0,1000)\n",
    "STH_2_RShalf = histArray_with_range(sum(STH1_2_256_RS_array[6][0:5,:,:]),100,1024,0,1000)\n",
    "NFW_RShalf = histArray_with_range(sum(NFW1_256_RS_array[6][0:5,:,:]),100,1024,0,1000)\n",
    "fire_RShalf = histArray_with_range(sum(fire1_256_RS_array[6][0:5,:,:]),100,1024,0,1000)\n",
    "\n"
   ],
   "outputs": [],
   "metadata": {}
  },
  {
   "cell_type": "code",
   "execution_count": null,
   "source": [
    "plt.rcParams[\"figure.figsize\"] = (15,15)\n",
    "# plt.plot(STH_NFW[0],STH_NFW[1],'.',label='STH2Rv_NFW')\n",
    "plt.plot(STH_NFW_RShalf[0],STH_NFW_RShalf[1],'k',label='STH2Rv_NFW transition at 10^14')\n",
    "plt.plot(STH_RShalf[0],STH_RShalf[1],'b',label='STH1Rv')\n",
    "plt.plot(STH_2_RShalf[0],STH_2_RShalf[1],'g',label='STH2Rv')\n",
    "plt.plot(NFW_RShalf[0],NFW_RShalf[1],'y',label='NFW')\n",
    "plt.plot(fire_RShalf[0],fire_RShalf[1],'c',label='fire')\n",
    "\n",
    "\n",
    "plt.legend(loc='upper right')\n",
    "plt.xlim(0,1000)\n",
    "plt.savefig('NFW_Tophat_combined_RS.pdf',bbox_inches='tight')"
   ],
   "outputs": [],
   "metadata": {}
  },
  {
   "cell_type": "code",
   "execution_count": null,
   "source": [],
   "outputs": [],
   "metadata": {}
  },
  {
   "cell_type": "code",
   "execution_count": null,
   "source": [],
   "outputs": [],
   "metadata": {}
  },
  {
   "cell_type": "code",
   "execution_count": null,
   "source": [],
   "outputs": [],
   "metadata": {}
  },
  {
   "cell_type": "markdown",
   "source": [
    "# Testing precipitation model\n",
    "\n",
    "\n",
    "### When testing, from the files below, only run the ones that you change"
   ],
   "metadata": {}
  },
  {
   "cell_type": "code",
   "execution_count": null,
   "source": [
    "# This chapter contains contains all cosmological parameters, as well as other basic functions \n",
    "%run FRBProject-Chap1-ParametersAndFunctions.ipynb\n",
    "\n",
    "# These chapters extracts data from simulation files \n",
    "%run FRBProject-Chap2-ExtractData-256Grid.ipynb\n",
    "#%run FRBProject-Chap2-ExtractData-512Grid.ipynb\n",
    "\n",
    "\n",
    "# This chapter is the core of the method developed in this project\n",
    "%run FRBProject-Chap4-Convolution.ipynb\n",
    "\n",
    "\n",
    "# This chapter contains functions for creating dispersion measure profiles of halos\n",
    "%run FRBProject-Chap5-DMProfiles.ipynb\n",
    "\n",
    "\n",
    "# This chapter contains functions to stack boxes to project a sightline to higher redshifts\n",
    "%run FRBProject-Chap6-Stacking.ipynb\n",
    "\n"
   ],
   "outputs": [],
   "metadata": {}
  },
  {
   "cell_type": "code",
   "execution_count": null,
   "source": [
    "# Create a data frame of halos\n",
    "df= create_halo_array_for_convolution(extract_halos(0),min_mass,max_mass,log_bins)"
   ],
   "outputs": [],
   "metadata": {}
  },
  {
   "cell_type": "code",
   "execution_count": null,
   "source": [
    "# Resolution: choose between 256 and 512 grid\n",
    "den_grid_size = 256\n",
    "\n",
    "\n",
    "\n",
    "# User provides a redshift array\n",
    "RS_array_1 = [0] # For a single box, we only use the redshift 0 box\n",
    "\n",
    "\n",
    "\n",
    "# Profile used for subtracting halos from the density field\n",
    "subtraction_halo_profile = 'NFW'\n",
    "\n",
    "\n",
    "# Mass range of halos\n",
    "min_mass=10**10\n",
    "max_mass=10**14.5\n",
    "log_bins=30\n"
   ],
   "outputs": [],
   "metadata": {}
  },
  {
   "cell_type": "code",
   "execution_count": null,
   "source": [
    "# Create density field for the chosen resolution\n",
    "\n",
    "# all_den_fields_512 = extract_all_den_fields(RS_array,den_grid_size)\n",
    "all_den_fields_256 = extract_all_den_fields(RS_array_1,den_grid_size)"
   ],
   "outputs": [],
   "metadata": {}
  },
  {
   "cell_type": "code",
   "execution_count": null,
   "source": [
    "### Tophat 256 fieild\n",
    "\n",
    "\n",
    "addition_halo_profile = 'precipitation'\n",
    "\n",
    "scaling_radius = 1 \n",
    "\n",
    "# p1 = hist_profile(all_den_fields,den_grid_size,RS_array_1,min_mass,max_mass,\n",
    "#                                        log_bins,subtraction_halo_profile,addition_halo_profile,scaling_radius,1)\n",
    "\n",
    "\n",
    "# addition_halo_profile = 'fire'\n",
    "\n",
    "# fire1 = hist_profile(all_den_fields,den_grid_size,RS_array,min_mass,max_mass,\n",
    "#                                        log_bins,subtraction_halo_profile,addition_halo_profile,scaling_radius,1)\n",
    "\n",
    "\n",
    "\n",
    "\n",
    "p8 = hist_profile(all_den_fields,den_grid_size,RS_array_1,min_mass,max_mass,\n",
    "                                       log_bins,subtraction_halo_profile,addition_halo_profile,scaling_radius,8)\n",
    "\n"
   ],
   "outputs": [],
   "metadata": {
    "scrolled": true
   }
  },
  {
   "cell_type": "code",
   "execution_count": null,
   "source": [
    "saveArray('p8',p8)"
   ],
   "outputs": [],
   "metadata": {}
  },
  {
   "cell_type": "code",
   "execution_count": null,
   "source": [
    "p8_hist = histArray(p8[6][0,:,:],1000,1024*8)"
   ],
   "outputs": [],
   "metadata": {}
  },
  {
   "cell_type": "code",
   "execution_count": null,
   "source": [
    "plt.plot(p8_hist[0],p8_hist[1])"
   ],
   "outputs": [],
   "metadata": {}
  },
  {
   "cell_type": "markdown",
   "source": [
    "# Rough work"
   ],
   "metadata": {}
  },
  {
   "cell_type": "markdown",
   "source": [
    "## Mask analysis"
   ],
   "metadata": {}
  },
  {
   "cell_type": "code",
   "execution_count": null,
   "source": [
    "# Specify resolution\n",
    "resolution=1\n",
    "grid_size = resolution*1024\n",
    "# trim_dim=int((10*resolution)/2+1)  # Need +1 to match the dimensions of the mask grids\n",
    "# trim_dim=int((10*resolution)+1)  # Need +1 to match the dimensions of the mask grids\n",
    "\n",
    "trim_dim=int((20*resolution))\n",
    "\n",
    "# Radial extent of the plots in Mpc\n",
    "extent = (L/grid_size)*(trim_dim)\n",
    "\n",
    "\n",
    "\n",
    "# # STH_DMvsR=DM_vs_radius(STH8_256[1][0,:,:],df,trim_dim, mass_bins, halos_per_mass_bin)\n",
    "# STH1_rad=DM_vs_radius(STH1_256[1][0,:,:],df[0],trim_dim, df[2], df[1])\n",
    "\n",
    "\n",
    "p1_rad=DM_vs_radius(p1[1][0,:,:],df[0],trim_dim, df[2], df[1])\n",
    "p1_masks = profile_of_masks(p1[2][0,:,:,:])\n",
    "\n",
    "\n",
    "\n",
    "\n",
    "# fire1_rad=DM_vs_radius(fire1[1][0,:,:],df[0],trim_dim, df[2], df[1])\n",
    "# fire1_masks = profile_of_masks(fire1[2][0,:,:,:])\n",
    "\n"
   ],
   "outputs": [],
   "metadata": {}
  },
  {
   "cell_type": "code",
   "execution_count": null,
   "source": [
    "plt.plot(p1_rad[0][22,:],'r')\n",
    "plt.plot(p1_masks[22,:],'b')\n"
   ],
   "outputs": [],
   "metadata": {}
  },
  {
   "cell_type": "code",
   "execution_count": null,
   "source": [
    "plt.imshow(p1_rad[1][28,:,:],vmin=0,vmax=200)\n",
    "np.mean(p1_rad[1][28,:,:])"
   ],
   "outputs": [],
   "metadata": {}
  },
  {
   "cell_type": "code",
   "execution_count": null,
   "source": [
    "plt.imshow(p1[2][0,28,:,:],vmin=0,vmax=200)\n",
    "np.mean(p1[2][0,28,:,:])"
   ],
   "outputs": [],
   "metadata": {}
  },
  {
   "cell_type": "code",
   "execution_count": null,
   "source": [],
   "outputs": [],
   "metadata": {}
  },
  {
   "cell_type": "code",
   "execution_count": null,
   "source": [],
   "outputs": [],
   "metadata": {}
  },
  {
   "cell_type": "code",
   "execution_count": null,
   "source": [
    "# Specify resolution\n",
    "resolution=8\n",
    "grid_size = resolution*1024\n",
    "# trim_dim=int((10*resolution)/2+1)  # Need +1 to match the dimensions of the mask grids\n",
    "# trim_dim=int((10*resolution)+1)  # Need +1 to match the dimensions of the mask grids\n",
    "\n",
    "trim_dim=int((20*resolution))\n",
    "\n",
    "# Radial extent of the plots in Mpc\n",
    "extent = (L/grid_size)*(trim_dim)\n",
    "\n",
    "\n",
    "\n",
    "# # STH_DMvsR=DM_vs_radius(STH8_256[1][0,:,:],df,trim_dim, mass_bins, halos_per_mass_bin)\n",
    "# STH1_rad=DM_vs_radius(STH1_256[1][0,:,:],df[0],trim_dim, df[2], df[1])\n",
    "\n",
    "\n",
    "p8_rad=DM_vs_radius(p8[1][0,:,:],df[0],trim_dim, df[2], df[1])\n",
    "p8_masks = profile_of_masks(p8[2][0,:,:,:])\n",
    " \n",
    "\n",
    "\n",
    "\n",
    "# fire1_rad=DM_vs_radius(fire1[1][0,:,:],df[0],trim_dim, df[2], df[1])\n",
    "# fire1_masks = profile_of_masks(fire1[2][0,:,:,:])\n",
    "\n"
   ],
   "outputs": [],
   "metadata": {}
  },
  {
   "cell_type": "code",
   "execution_count": null,
   "source": [
    "plt.plot(p8_rad[0][18,:],'r')\n",
    "plt.plot(p8_masks[18,:],'b')\n"
   ],
   "outputs": [],
   "metadata": {}
  },
  {
   "cell_type": "code",
   "execution_count": null,
   "source": [
    "orig_den_256 = import_density_field(0, 256)\n",
    "orig_den_256.shape"
   ],
   "outputs": [],
   "metadata": {}
  },
  {
   "cell_type": "code",
   "execution_count": null,
   "source": [
    "orig_den_256\n",
    "# plt.imshow(orig_den_256,vmin=0,vmax=100)\n",
    "# plt.colorbar()\n",
    "# plt.show()\n",
    "#print('The file name is: ', str(orig_den_256))"
   ],
   "outputs": [],
   "metadata": {}
  },
  {
   "cell_type": "code",
   "execution_count": null,
   "source": [
    "orig2=np.transpose(orig_den_256, axes=0)\n"
   ],
   "outputs": [],
   "metadata": {}
  },
  {
   "cell_type": "code",
   "execution_count": null,
   "source": [],
   "outputs": [],
   "metadata": {}
  }
 ],
 "metadata": {
  "@webio": {
   "lastCommId": null,
   "lastKernelId": null
  },
  "kernelspec": {
   "name": "python3",
   "display_name": "Python 3.7.1 64-bit"
  },
  "language_info": {
   "codemirror_mode": {
    "name": "ipython",
    "version": 3
   },
   "file_extension": ".py",
   "mimetype": "text/x-python",
   "name": "python",
   "nbconvert_exporter": "python",
   "pygments_lexer": "ipython3",
   "version": "3.7.1"
  },
  "interpreter": {
   "hash": "aee8b7b246df8f9039afb4144a1f6fd8d2ca17a180786b69acc140d282b71a49"
  }
 },
 "nbformat": 4,
 "nbformat_minor": 2
}