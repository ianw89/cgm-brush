{
 "cells": [
  {
   "cell_type": "markdown",
   "source": [
    "# FRB Project\n",
    "\n",
    "This is the main file from which we run all the different parts of the project. \n",
    "\n",
    "The basic algorithm is as follows:\n",
    "\n",
    "- First we run the following chapters:\n",
    "    - Chapter 1 sets the parameters for the method. The cosmological parameters are set here, as well as the particular parameters for the simulation in use.\n",
    "    - Chapter 2 and 3 extract the density field and the halo tables from the downloaded csv files from the simulation website. The files must be named as described in the chapter to ensure that reading them in is automated.\n",
    "    - Chapter 4 contains the methods to remove and add halos from the density field using different profiles chosen by the user. If the profile is more specialized like FIRE or Precipitation, a separate python file is created with these profile which is called by \"add_halos\" method.\n",
    "    - Chapter 5 takes the final density field of the halos after they have been added back using a prescribed profile, and trims the halos to create an impact parameter plot.\n",
    "    - Chapter 6 stacks multiple boxes based on the redshift to which we want to evaluate the dispersion measure.\n",
    "\n",
    "\n",
    "- Then we set the specifications as given in the \"Specifications\" box below, and create a halo field for the chosen resolution and profile from the many choices in \"profiles\". This applies the functions from the chapters 1-6 and gives a final density field with the given choice of halo profile.\n",
    "- Impact parameter plots: from the final field we create plots for impact parameter for single simulation box\n",
    "- Redshift stacking: we take the final field and stack it on top of each other to calculate the dispersion measure out to a given redshift."
   ],
   "metadata": {}
  },
  {
   "cell_type": "code",
   "execution_count": 1,
   "source": [
    "# imports packages\n",
    "from __future__ import print_function \n",
    "import matplotlib.pyplot as plt\n",
    "import numpy as np\n",
    "%matplotlib inline\n",
    "import pandas as pd\n",
    "#import csv\n",
    "import random\n",
    "import scipy.integrate as integrate\n",
    "from numpy import genfromtxt\n",
    "from random import randrange\n",
    "from numpy.polynomial import Polynomial as P\n",
    "from IPython.display import Latex\n",
    "import time\n",
    "from decimal import Decimal\n",
    "from matplotlib.ticker import FormatStrFormatter"
   ],
   "outputs": [],
   "metadata": {}
  },
  {
   "cell_type": "code",
   "execution_count": 2,
   "source": [
    "# Since we are not working with 512 grid all that much it's okay to skip Chapt 512 grid\n",
    "\n",
    "# This chapter contains contains all cosmological parameters, as well as other basic functions \n",
    "%run FRBProject-Chap1-ParametersAndFunctions.ipynb\n",
    "\n",
    "# These chapters extracts data from simulation files \n",
    "%run FRBProject-Chap2-ExtractData-256Grid.ipynb\n",
    "%run FRBProject-Chap3-ExtractData-Halos.ipynb\n",
    "#%run FRBProject-Chap2-ExtractData-512Grid.ipynb\n",
    "\n",
    "\n",
    "# This chapter is the core of the method developed in this project\n",
    "%run FRBProject-Chap4-Convolution.ipynb\n",
    "\n",
    "\n",
    "# This chapter contains functions for creating dispersion measure profiles of halos\n",
    "%run FRBProject-Chap5-DMProfiles.ipynb\n",
    "\n",
    "\n",
    "# This chapter contains functions to stack boxes to project a sightline to higher redshifts\n",
    "%run FRBProject-Chap6-Stacking.ipynb"
   ],
   "outputs": [],
   "metadata": {}
  },
  {
   "cell_type": "code",
   "execution_count": 3,
   "source": [
    "varFolder = \"../var\"\n",
    "\n",
    "# Intermediate numpy arrays get can be saved into var folder outside version control\n",
    "def saveArray(filename, array):\n",
    "    file_path = os.path.join(varFolder, filename)\n",
    "    \n",
    "    if not(os.path.exists(varFolder)):\n",
    "        os.makedirs(varFolder)\n",
    "\n",
    "    np.save(file_path, array)\n",
    "    \n",
    "def loadArray(filename):\n",
    "    file_path = os.path.join(varFolder, filename)\n",
    "    return np.load(file_path, allow_pickle=True)\n"
   ],
   "outputs": [],
   "metadata": {}
  },
  {
   "cell_type": "markdown",
   "source": [
    "# The following chapters must be executed first:"
   ],
   "metadata": {}
  },
  {
   "cell_type": "markdown",
   "source": [
    "# 1: Method applied to a single box"
   ],
   "metadata": {}
  },
  {
   "cell_type": "markdown",
   "source": [
    "### Specifications"
   ],
   "metadata": {}
  },
  {
   "cell_type": "code",
   "execution_count": 4,
   "source": [
    "# Resolution: choose between 256 and 512 grid\n",
    "den_grid_size = 256\n",
    "\n",
    "\n",
    "\n",
    "# User provides a redshift array\n",
    "RS_array = [0] # For a single box, we only use the redshift 0 box\n",
    "\n",
    "\n",
    "\n",
    "# Profile used for subtracting halos from the density field\n",
    "subtraction_halo_profile = 'NFW'\n",
    "\n",
    "\n",
    "# Mass range of halos\n",
    "min_mass=10**10\n",
    "max_mass=10**14.5\n",
    "log_bins=30\n"
   ],
   "outputs": [],
   "metadata": {}
  },
  {
   "cell_type": "code",
   "execution_count": 5,
   "source": [
    "# Create density field for the chosen resolution\n",
    "\n",
    "# all_den_fields_512 = extract_all_den_fields(RS_array,den_grid_size)\n",
    "all_den_fields_256 = extract_all_den_fields(RS_array,den_grid_size)"
   ],
   "outputs": [],
   "metadata": {}
  },
  {
   "cell_type": "markdown",
   "source": [
    "## 1.1 Profiles\n",
    "\n",
    "The user can choose from a range of profiles: 'NFW', 'tophat_spherical', 'fire', or make their own custom profile\n",
    "\n",
    "Outputs of the hist_profile function are: histogram of stacked field,halos-readded field, halo addition masks, halos removed coarse, halo addition field, halos removed field, stacked halo field, virial_radii of halos"
   ],
   "metadata": {}
  },
  {
   "cell_type": "markdown",
   "source": [
    "#### Tophat 512 field"
   ],
   "metadata": {}
  },
  {
   "cell_type": "code",
   "execution_count": 11,
   "source": [
    "# addition profile\n",
    "\n",
    "addition_halo_profile = 'tophat_spherical'\n",
    "scaling_radius = 1\n",
    "\n",
    "\n",
    "\n",
    "# STH1_512 = hist_profile(all_den_fields,den_grid_size,RS_array,min_mass,max_mass,\n",
    "#                                        log_bins,subtraction_halo_profile,addition_halo_profile,1)\n",
    "\n",
    "\n",
    "# STH2_512 = hist_profile(all_den_fields,den_grid_size,RS_array,min_mass,max_mass,\n",
    "#                                        log_bins,subtraction_halo_profile,addition_halo_profile,2)\n",
    "\n",
    "\n",
    "# STH4_512 = hist_profile(all_den_fields,den_grid_size,RS_array,min_mass,max_mass,\n",
    "#                                        log_bins,subtraction_halo_profile,addition_halo_profile,4)\n",
    "\n",
    "\n",
    "# STH8_512 = hist_profile(all_den_fields,den_grid_size,RS_array,min_mass,max_mass,\n",
    "#                                        log_bins,subtraction_halo_profile,addition_halo_profile,8)\n",
    "\n",
    "\n"
   ],
   "outputs": [],
   "metadata": {}
  },
  {
   "cell_type": "markdown",
   "source": [
    "#### Tophat 256 field, scaling radius 1"
   ],
   "metadata": {}
  },
  {
   "cell_type": "code",
   "execution_count": 6,
   "source": [
    "### Tophat 256 fieild\n",
    "\n",
    "\n",
    "addition_halo_profile = 'tophat_spherical'\n",
    "scaling_radius = 1 \n",
    "\n",
    "# Resolution: 1*1024\n",
    "\n",
    "STH1_256 = hist_profile(all_den_fields_256,den_grid_size,RS_array,min_mass,max_mass,\n",
    "                                       log_bins,subtraction_halo_profile,addition_halo_profile,scaling_radius,1)\n",
    "\n",
    "\n",
    "# STH2_256 = hist_profile(all_den_fields_256,den_grid_size,RS_array,min_mass,max_mass,\n",
    "#                                        log_bins,subtraction_halo_profile,addition_halo_profile,scaling_radius,2)\n",
    "\n",
    "\n",
    "# STH4_256 = hist_profile(all_den_fields_256,den_grid_size,RS_array,min_mass,max_mass,\n",
    "#                                        log_bins,subtraction_halo_profile,addition_halo_profile,scaling_radius,4)\n",
    "\n",
    "\n",
    "# STH8_256 = hist_profile(all_den_fields_256,den_grid_size,RS_array,min_mass,max_mass,\n",
    "#                                        log_bins,subtraction_halo_profile,addition_halo_profile,scaling_radius,8)\n",
    "\n",
    "\n",
    "# STH16_256 = hist_profile(all_den_fields_256,den_grid_size,RS_array,min_mass,max_mass,\n",
    "#                                        log_bins,subtraction_halo_profile,addition_halo_profile,scaling_radius,16)\n",
    "\n",
    "# saveArray('STH16_256',STH16_256)\n",
    "\n",
    "\n",
    "\n",
    "# STH32_256 = hist_profile(all_den_fields_256,den_grid_size,RS_array,min_mass,max_mass,\n",
    "#                                        log_bins,subtraction_halo_profile,addition_halo_profile,scaling_radius,32)\n"
   ],
   "outputs": [
    {
     "output_type": "stream",
     "name": "stderr",
     "text": [
      "/Library/Frameworks/Python.framework/Versions/3.7/lib/python3.7/site-packages/ipykernel_launcher.py:4: RuntimeWarning: invalid value encountered in double_scalars\n",
      "  after removing the cwd from sys.path.\n",
      "/Library/Frameworks/Python.framework/Versions/3.7/lib/python3.7/site-packages/scipy/integrate/quadpack.py:385: IntegrationWarning: The occurrence of roundoff error is detected, which prevents \n",
      "  the requested tolerance from being achieved.  The error may be \n",
      "  underestimated.\n",
      "  warnings.warn(msg, IntegrationWarning)\n"
     ]
    }
   ],
   "metadata": {}
  },
  {
   "cell_type": "markdown",
   "source": [
    "#### Tophat 256 field, scaling radius 2"
   ],
   "metadata": {}
  },
  {
   "cell_type": "code",
   "execution_count": null,
   "source": [
    "\n",
    "\n",
    "addition_halo_profile = 'tophat_spherical'\n",
    "scaling_radius = 2 \n",
    "\n",
    "# STH1_2_256 = hist_profile(all_den_fields_256,den_grid_size,RS_array,min_mass,max_mass,\n",
    "#                                        log_bins,subtraction_halo_profile,addition_halo_profile,scaling_radius,1)\n",
    "\n",
    "\n",
    "# STH2_2_256 = hist_profile(all_den_fields_256,den_grid_size,RS_array,min_mass,max_mass,\n",
    "#                                        log_bins,subtraction_halo_profile,addition_halo_profile,scaling_radius,2)\n",
    "\n",
    "\n",
    "# STH4_2_256 = hist_profile(all_den_fields_256,den_grid_size,RS_array,min_mass,max_mass,\n",
    "#                                        log_bins,subtraction_halo_profile,addition_halo_profile,scaling_radius,4)\n",
    "\n",
    "\n",
    "STH8_2_256 = hist_profile(all_den_fields_256,den_grid_size,RS_array,min_mass,max_mass,\n",
    "                                       log_bins,subtraction_halo_profile,addition_halo_profile,scaling_radius,8)\n",
    "\n",
    "\n",
    "# STH16_2_256 = hist_profile(all_den_fields_256,den_grid_size,RS_array,min_mass,max_mass,\n",
    "#                                        log_bins,subtraction_halo_profile,addition_halo_profile,scaling_radius,16)\n"
   ],
   "outputs": [],
   "metadata": {}
  },
  {
   "cell_type": "markdown",
   "source": [
    "#### NFW"
   ],
   "metadata": {}
  },
  {
   "cell_type": "code",
   "execution_count": null,
   "source": [
    "# addition profile\n",
    "scaling_radius = 1\n",
    "addition_halo_profile = 'NFW'\n",
    "\n",
    "\n",
    "# NFW1_256 = hist_profile(all_den_fields_256,den_grid_size,RS_array,min_mass,max_mass,\n",
    "#                                        log_bins,subtraction_halo_profile,addition_halo_profile,scaling_radius,1)\n",
    "\n",
    "# NFW2_256 = hist_profile(all_den_fields_256,den_grid_size,RS_array,min_mass,max_mass,\n",
    "#                                        log_bins,subtraction_halo_profile,addition_halo_profile,scaling_radius,2)\n",
    "\n",
    "# NFW4_256 = hist_profile(all_den_fields_256,den_grid_size,RS_array,min_mass,max_mass,\n",
    "#                                        log_bins,subtraction_halo_profile,addition_halo_profile,scaling_radius,4)\n",
    "\n",
    "\n",
    "# NFW8_256 = hist_profile(all_den_fields_256,den_grid_size,RS_array,min_mass,max_mass,\n",
    "#                                        log_bins,subtraction_halo_profile,addition_halo_profile,scaling_radius,8)\n",
    "\n",
    "\n",
    "NFW16_256 = hist_profile(all_den_fields_256,den_grid_size,RS_array,min_mass,max_mass,\n",
    "                                       log_bins,subtraction_halo_profile,addition_halo_profile,scaling_radius,16)\n",
    "\n",
    "saveArray('NFW16_256',NFW16_256)"
   ],
   "outputs": [],
   "metadata": {
    "scrolled": true
   }
  },
  {
   "cell_type": "markdown",
   "source": [
    "#### Fire"
   ],
   "metadata": {}
  },
  {
   "cell_type": "code",
   "execution_count": null,
   "source": [
    "# addition profile\n",
    "scaling_radius = 1\n",
    "addition_halo_profile = 'fire'\n",
    "\n",
    "# fire1_256 = hist_profile(all_den_fields_256,den_grid_size,RS_array,min_mass,max_mass,\n",
    "#                                        log_bins,subtraction_halo_profile,addition_halo_profile,scaling_radius,1)\n",
    "\n",
    "\n",
    "# fire2_256 = hist_profile(all_den_fields_256,den_grid_size,RS_array,min_mass,max_mass,\n",
    "#                                        log_bins,subtraction_halo_profile,addition_halo_profile,scaling_radius,2)\n",
    "\n",
    "\n",
    "# fire4_256 = hist_profile(all_den_fields_256,den_grid_size,RS_array,min_mass,max_mass,\n",
    "#                                        log_bins,subtraction_halo_profile,addition_halo_profile,scaling_radius,4)\n",
    "\n",
    "\n",
    "# fire8_256 = hist_profile(all_den_fields_256,den_grid_size,RS_array,min_mass,max_mass,\n",
    "#                                        log_bins,subtraction_halo_profile,addition_halo_profile,scaling_radius,8)\n",
    "\n",
    "# saveArray('fire8_256',fire8_256)\n",
    "\n",
    "\n",
    "# fire16_256 = hist_profile(all_den_fields_256,den_grid_size,RS_array,min_mass,max_mass,\n",
    "#                                        log_bins,subtraction_halo_profile,addition_halo_profile,scaling_radius,16)\n",
    "\n",
    "# saveArray('fire16_256',fire16_256)\n",
    "\n",
    "\n",
    "# fire32_256 = hist_profile(all_den_fields_256,den_grid_size,RS_array,min_mass,max_mass,\n",
    "#                                        log_bins,subtraction_halo_profile,addition_halo_profile,scaling_radius,32)"
   ],
   "outputs": [],
   "metadata": {}
  },
  {
   "cell_type": "markdown",
   "source": [
    "#### Precipitation"
   ],
   "metadata": {}
  },
  {
   "cell_type": "code",
   "execution_count": null,
   "source": [
    "\n",
    "\n",
    "\n",
    "addition_halo_profile = 'precipitation'\n",
    "scaling_radius = 1 \n",
    "\n",
    "# P1_256 = hist_profile(all_den_fields_256,den_grid_size,RS_array,min_mass,max_mass,\n",
    "#                                        log_bins,subtraction_halo_profile,addition_halo_profile,scaling_radius,1)\n",
    "\n",
    "\n",
    "# P2_256 = hist_profile(all_den_fields_256,den_grid_size,RS_array,min_mass,max_mass,\n",
    "#                                        log_bins,subtraction_halo_profile,addition_halo_profile,scaling_radius,2)\n",
    "\n",
    "\n",
    "# P4_256 = hist_profile(all_den_fields_256,den_grid_size,RS_array,min_mass,max_mass,\n",
    "#                                        log_bins,subtraction_halo_profile,addition_halo_profile,scaling_radius,4)\n",
    "\n",
    "\n",
    "# P8_256 = hist_profile(all_den_fields_256,den_grid_size,RS_array,min_mass,max_mass,\n",
    "#                                        log_bins,subtraction_halo_profile,addition_halo_profile,scaling_radius,8)\n",
    "\n",
    "\n",
    "P16_256 = hist_profile(all_den_fields_256,den_grid_size,RS_array,min_mass,max_mass,\n",
    "                                       log_bins,subtraction_halo_profile,addition_halo_profile,scaling_radius,16)\n",
    "\n",
    "saveArray('P16_256',P16_256)\n",
    "\n",
    "# P32_256 = hist_profile(all_den_fields_256,den_grid_size,RS_array,min_mass,max_mass,\n",
    "#                                        log_bins,subtraction_halo_profile,addition_halo_profile,scaling_radius,32)\n"
   ],
   "outputs": [],
   "metadata": {}
  },
  {
   "cell_type": "markdown",
   "source": [
    "## 1.2 Save all arrays generated above\n"
   ],
   "metadata": {}
  },
  {
   "cell_type": "code",
   "execution_count": 7,
   "source": [
    "# All density files\n",
    "saveArray('all_den_fields_256',all_den_fields_256)\n",
    "# saveArray('all_den_fields_512',all_den_fields)"
   ],
   "outputs": [],
   "metadata": {}
  },
  {
   "cell_type": "code",
   "execution_count": 9,
   "source": [
    "## Save Spherical tophat profiles\n",
    "\n",
    "# BUG saving with np.array expects a numpty array but the hist_profile method returns a tuple with a bunch of np arrays\n",
    "#     Could use pickle.dump(array,open(\"file\",\"w\"))\n",
    "saveArray('STH1_256',STH1_256[1])\n",
    "# saveArray('STH2_256',STH2_256)\n",
    "# saveArray('STH4_256',STH4_256)\n",
    "# saveArray('STH8_256',STH8_256)\n",
    "# saveArray('STH16_256',STH16_256)\n",
    "\n",
    "\n",
    "## Load profiles if not on file\n",
    "\n",
    "#STH1_256 = loadArray('STH1_256.npy')\n",
    "# STH2_256 = loadArray('STH2_256.npy')\n",
    "# STH4_256 = loadArray('STH4_256.npy')\n",
    "# STH8_256 = loadArray('STH8_256.npy')\n",
    "# STH16_256 = loadArray('STH16_256.npy')\n",
    "\n",
    "\n",
    "\n",
    "# saveArray('STH1_512',STH1_512)\n",
    "# saveArray('STH2_512',STH2_512)\n",
    "# saveArray('STH4_512',STH4_512)\n",
    "# saveArray('STH8_512',STH8_512)\n"
   ],
   "outputs": [
    {
     "output_type": "stream",
     "name": "stdout",
     "text": [
      "(1, array([[[ 78.06485453,  79.80382355,  79.20223595, ...,  64.51949603,\n",
      "          74.35889482,  76.09786384],\n",
      "        [ 74.35889482,  84.92699185, 100.37437219, ...,  59.92537224,\n",
      "          74.35889482,  82.03270063],\n",
      "        [126.98016784, 131.95962359, 120.45216988, ...,  88.73270022,\n",
      "         108.107339  , 110.14728028],\n",
      "        ...,\n",
      "        [156.42719637,  72.14749889,  50.10773439, ...,  42.26087174,\n",
      "          58.30991278,  48.89414948],\n",
      "        [113.25290151,  83.10034545,  90.41929523, ...,  64.15859915,\n",
      "          79.65714102,  78.16550395],\n",
      "        [ 78.58698838,  78.16550395,  86.27497112, ...,  61.56369184,\n",
      "          74.35889482,  85.58983291]]]), array([[[[0., 0., 0., ..., 0., 0., 0.],\n",
      "         [0., 0., 0., ..., 0., 0., 0.],\n",
      "         [0., 0., 0., ..., 0., 0., 0.],\n",
      "         ...,\n",
      "         [0., 0., 0., ..., 0., 0., 0.],\n",
      "         [0., 0., 0., ..., 0., 0., 0.],\n",
      "         [0., 0., 0., ..., 0., 0., 0.]],\n",
      "\n",
      "        [[0., 0., 0., ..., 0., 0., 0.],\n",
      "         [0., 0., 0., ..., 0., 0., 0.],\n",
      "         [0., 0., 0., ..., 0., 0., 0.],\n",
      "         ...,\n",
      "         [0., 0., 0., ..., 0., 0., 0.],\n",
      "         [0., 0., 0., ..., 0., 0., 0.],\n",
      "         [0., 0., 0., ..., 0., 0., 0.]],\n",
      "\n",
      "        [[0., 0., 0., ..., 0., 0., 0.],\n",
      "         [0., 0., 0., ..., 0., 0., 0.],\n",
      "         [0., 0., 0., ..., 0., 0., 0.],\n",
      "         ...,\n",
      "         [0., 0., 0., ..., 0., 0., 0.],\n",
      "         [0., 0., 0., ..., 0., 0., 0.],\n",
      "         [0., 0., 0., ..., 0., 0., 0.]],\n",
      "\n",
      "        ...,\n",
      "\n",
      "        [[0., 0., 0., ..., 0., 0., 0.],\n",
      "         [0., 0., 0., ..., 0., 0., 0.],\n",
      "         [0., 0., 0., ..., 0., 0., 0.],\n",
      "         ...,\n",
      "         [0., 0., 0., ..., 0., 0., 0.],\n",
      "         [0., 0., 0., ..., 0., 0., 0.],\n",
      "         [0., 0., 0., ..., 0., 0., 0.]],\n",
      "\n",
      "        [[0., 0., 0., ..., 0., 0., 0.],\n",
      "         [0., 0., 0., ..., 0., 0., 0.],\n",
      "         [0., 0., 0., ..., 0., 0., 0.],\n",
      "         ...,\n",
      "         [0., 0., 0., ..., 0., 0., 0.],\n",
      "         [0., 0., 0., ..., 0., 0., 0.],\n",
      "         [0., 0., 0., ..., 0., 0., 0.]],\n",
      "\n",
      "        [[0., 0., 0., ..., 0., 0., 0.],\n",
      "         [0., 0., 0., ..., 0., 0., 0.],\n",
      "         [0., 0., 0., ..., 0., 0., 0.],\n",
      "         ...,\n",
      "         [0., 0., 0., ..., 0., 0., 0.],\n",
      "         [0., 0., 0., ..., 0., 0., 0.],\n",
      "         [0., 0., 0., ..., 0., 0., 0.]]]]), array([[[ 14.41779359,  18.51430664,  13.82658511, ...,  18.44429836,\n",
      "          14.04570207,   7.61869284],\n",
      "        [ 29.94077228,  85.24296629,  44.409487  , ...,  29.11810609,\n",
      "          22.1853249 ,  10.45513897],\n",
      "        [ 60.41494192, 188.83690127,  83.86119052, ...,  16.78687143,\n",
      "          12.7882013 ,  14.16056157],\n",
      "        ...,\n",
      "        [ 10.44783179,  20.20810416,  23.82182141, ...,  27.55098037,\n",
      "           9.54949346,   8.44859713],\n",
      "        [  7.48981922,  13.79611819,  14.71420602, ...,  24.5626265 ,\n",
      "          17.50279521,   7.90368212],\n",
      "        [ 12.77869075,  10.58342206,   8.87851336, ...,  14.22112315,\n",
      "          16.09737675,   9.63590017]]]), array([[[  3.70595971,   5.44492873,   3.33992947, ...,   5.44492873,\n",
      "           0.        ,   1.73896902],\n",
      "        [  0.        ,  10.56809703,  24.51206571, ...,   0.85080493,\n",
      "           0.        ,   7.67380581],\n",
      "        [ 26.39474727,  31.37420303,  69.66468018, ...,   7.26580052,\n",
      "           7.52191843,   9.56185971],\n",
      "        ...,\n",
      "        [113.5814486 ,  29.30175112,   1.21683518, ...,   3.80660913,\n",
      "          15.46416501,   6.04840171],\n",
      "        [ 38.89400669,   8.74145063,  14.55698875, ...,   5.08403185,\n",
      "           5.2982462 ,   3.80660913],\n",
      "        [  4.22809356,   3.80660913,  10.41266465, ...,   2.48912454,\n",
      "           0.        ,  11.23093809]]]), array([[[ 74.35889482,  75.86230648,  61.59802155, ...,  43.37983928,\n",
      "          45.29007123,  59.0745673 ],\n",
      "        [100.58542057,  50.7874897 ,  55.97720089, ...,  38.13670901,\n",
      "          48.9118527 ,  81.46689969],\n",
      "        [ 77.59789524, -51.72338971,  15.09305558, ...,  53.64559924,\n",
      "          68.79742985,  90.76594614],\n",
      "        ...,\n",
      "        [ 40.40693274,  37.71937933,  28.9112758 , ...,  39.59465605,\n",
      "          40.23062285,  35.29113941],\n",
      "        [ 39.83112247,  38.47780887,  35.06361546, ...,  36.39541023,\n",
      "          31.6717963 ,  35.15011666],\n",
      "        [ 42.84574777,  48.89089921,  44.49197778, ...,  41.7212622 ,\n",
      "          33.99430257,  38.45426261]]]), array([[[ 78.06485453,  79.80382355,  79.20223595, ...,  64.51949603,\n",
      "          74.35889482,  76.09786384],\n",
      "        [ 74.35889482,  84.92699185, 100.37437219, ...,  59.92537224,\n",
      "          74.35889482,  82.03270063],\n",
      "        [126.98016784, 131.95962359, 120.45216988, ...,  88.73270022,\n",
      "         108.107339  , 110.14728028],\n",
      "        ...,\n",
      "        [156.42719637,  72.14749889,  50.10773439, ...,  42.26087174,\n",
      "          58.30991278,  48.89414948],\n",
      "        [113.25290151,  83.10034545,  90.41929523, ...,  64.15859915,\n",
      "          79.65714102,  78.16550395],\n",
      "        [ 78.58698838,  78.16550395,  86.27497112, ...,  61.56369184,\n",
      "          74.35889482,  85.58983291]]]), array([0.06702141, 0.07551168, 0.0850552 , 0.09585596, 0.10799182,\n",
      "       0.12162037, 0.1369929 , 0.15429004, 0.17381384, 0.19579146,\n",
      "       0.22060145, 0.24848065, 0.27998442, 0.31521402, 0.35517388,\n",
      "       0.39966084, 0.45036638, 0.50742224, 0.57206341, 0.64290482,\n",
      "       0.72688498, 0.81598191, 0.92361511, 1.03742885, 1.16921961,\n",
      "       1.31967785, 1.47628018, 1.66416394, 1.88196567]), array([1.69918596e+10, 2.43020363e+10, 3.47298378e+10, 4.97115765e+10,\n",
      "       7.10841410e+10, 1.01535795e+11, 1.45109010e+11, 2.07306937e+11,\n",
      "       2.96382964e+11, 4.23624866e+11, 6.05933955e+11, 8.65920298e+11,\n",
      "       1.23880164e+12, 1.76773349e+12, 2.52885111e+12, 3.60308908e+12,\n",
      "       5.15582411e+12, 7.37409426e+12, 1.05665377e+13, 1.49982379e+13,\n",
      "       2.16769050e+13, 3.06649170e+13, 4.44706304e+13, 6.30195308e+13,\n",
      "       9.02170187e+13, 1.29719115e+14, 1.81596120e+14, 2.60128851e+14,\n",
      "       3.76214289e+14]))\n"
     ]
    }
   ],
   "metadata": {}
  },
  {
   "cell_type": "code",
   "execution_count": null,
   "source": [
    "# #Tophat profile with scaling radius = 2\n",
    "\n",
    "# saveArray('STH1_2_256',STH1_2_256)\n",
    "# saveArray('STH2_2_256',STH2_2_256)\n",
    "# saveArray('STH4_2_256',STH4_2_256)\n",
    "# saveArray('STH8_2_256',STH8_2_256)\n",
    "# saveArray('STH16_2_256',STH16_2_256)\n",
    "\n",
    "\n",
    "\n",
    "# Load files\n",
    "\n",
    "STH8_2_256 = loadArray('STH8_2_256.npy')"
   ],
   "outputs": [],
   "metadata": {}
  },
  {
   "cell_type": "code",
   "execution_count": null,
   "source": [
    "# #Save NFW profiles\n",
    "\n",
    "# saveArray('NFW1_256',NFW1_256)\n",
    "# saveArray('NFW2_256',NFW2_256)\n",
    "# saveArray('NFW4_256',NFW4_256)\n",
    "# saveArray('NFW8_256',NFW8_256)\n",
    "# saveArray('NFW16_256',NFW16_256)\n",
    "\n",
    "\n",
    "## Load profiles if not on file\n",
    "NFW8_256 = loadArray('NFW8_256.npy')\n",
    "# NFW16_256 = loadArray('NFW16_256.npy')\n",
    "\n",
    "\n",
    "\n",
    "# saveArray('NFW1_512',NFW1_512)\n",
    "# saveArray('NFW2_512',NFW2_512)\n",
    "# saveArray('NFW4_512',NFW4_512)\n",
    "# saveArray('NFW8_512',NFW8_512)\n"
   ],
   "outputs": [],
   "metadata": {}
  },
  {
   "cell_type": "code",
   "execution_count": null,
   "source": [
    "# Save fire profiles\n",
    "\n",
    "# saveArray('fire1_256',fire1_256)\n",
    "# saveArray('fire2_256',fire2_256)\n",
    "# saveArray('fire4_256',fire4_256)\n",
    "# saveArray('fire8_256',fire8_256)\n",
    "# saveArray('fire16_256',fire16_256)\n",
    "\n",
    "\n",
    "# load arrays if not on file\n",
    "\n",
    "# fire1_256 = loadArray('fire1_256.npy')\n",
    "# fire2_256 = loadArray('fire2_256.npy')\n",
    "# fire4_256 = loadArray('fire4_256.npy')\n",
    "fire8_256 = loadArray('fire8_256.npy')\n",
    "# fire16_256 = loadArray('fire16_256.npy')\n"
   ],
   "outputs": [],
   "metadata": {}
  },
  {
   "cell_type": "code",
   "execution_count": null,
   "source": [
    "# saveArray('P1_256',P1_256)\n",
    "# saveArray('P2_256',P2_256)\n",
    "# saveArray('P4_256',P4_256)\n",
    "# saveArray('P8_256',P8_256)\n",
    "# saveArray('P16_256',P16_256)\n",
    "\n",
    "\n",
    "## Load profiles if not on file\n",
    "\n",
    "# P1_256 = loadArray('P1_256.npy')\n",
    "# P2_256 = loadArray('P2_256.npy')\n",
    "# P4_256 = loadArray('P4_256.npy')\n",
    "P8_256 = loadArray('P8_256.npy')\n",
    "# P16_256 = loadArray('P16_256.npy')"
   ],
   "outputs": [],
   "metadata": {}
  },
  {
   "cell_type": "markdown",
   "source": [
    "## 1.3: Testing output files\n",
    "\n",
    "The output files can be viewed by creating image plots of the density field"
   ],
   "metadata": {}
  },
  {
   "cell_type": "code",
   "execution_count": 9,
   "source": [
    "plt.imshow(STH1_256[1])"
   ],
   "outputs": [
    {
     "output_type": "error",
     "ename": "TypeError",
     "evalue": "Invalid dimensions for image data",
     "traceback": [
      "\u001b[0;31m---------------------------------------------------------------------------\u001b[0m",
      "\u001b[0;31mTypeError\u001b[0m                                 Traceback (most recent call last)",
      "\u001b[0;32m<ipython-input-9-fe7b8ec4240b>\u001b[0m in \u001b[0;36m<module>\u001b[0;34m\u001b[0m\n\u001b[0;32m----> 1\u001b[0;31m \u001b[0mplt\u001b[0m\u001b[0;34m.\u001b[0m\u001b[0mimshow\u001b[0m\u001b[0;34m(\u001b[0m\u001b[0mSTH1_256\u001b[0m\u001b[0;34m[\u001b[0m\u001b[0;36m1\u001b[0m\u001b[0;34m]\u001b[0m\u001b[0;34m)\u001b[0m\u001b[0;34m\u001b[0m\u001b[0;34m\u001b[0m\u001b[0m\n\u001b[0m",
      "\u001b[0;32m/Library/Frameworks/Python.framework/Versions/3.7/lib/python3.7/site-packages/matplotlib/pyplot.py\u001b[0m in \u001b[0;36mimshow\u001b[0;34m(X, cmap, norm, aspect, interpolation, alpha, vmin, vmax, origin, extent, shape, filternorm, filterrad, imlim, resample, url, data, **kwargs)\u001b[0m\n\u001b[1;32m   2699\u001b[0m         \u001b[0mfilternorm\u001b[0m\u001b[0;34m=\u001b[0m\u001b[0mfilternorm\u001b[0m\u001b[0;34m,\u001b[0m \u001b[0mfilterrad\u001b[0m\u001b[0;34m=\u001b[0m\u001b[0mfilterrad\u001b[0m\u001b[0;34m,\u001b[0m \u001b[0mimlim\u001b[0m\u001b[0;34m=\u001b[0m\u001b[0mimlim\u001b[0m\u001b[0;34m,\u001b[0m\u001b[0;34m\u001b[0m\u001b[0;34m\u001b[0m\u001b[0m\n\u001b[1;32m   2700\u001b[0m         resample=resample, url=url, **({\"data\": data} if data is not\n\u001b[0;32m-> 2701\u001b[0;31m         None else {}), **kwargs)\n\u001b[0m\u001b[1;32m   2702\u001b[0m     \u001b[0msci\u001b[0m\u001b[0;34m(\u001b[0m\u001b[0m__ret\u001b[0m\u001b[0;34m)\u001b[0m\u001b[0;34m\u001b[0m\u001b[0;34m\u001b[0m\u001b[0m\n\u001b[1;32m   2703\u001b[0m     \u001b[0;32mreturn\u001b[0m \u001b[0m__ret\u001b[0m\u001b[0;34m\u001b[0m\u001b[0;34m\u001b[0m\u001b[0m\n",
      "\u001b[0;32m/Library/Frameworks/Python.framework/Versions/3.7/lib/python3.7/site-packages/matplotlib/__init__.py\u001b[0m in \u001b[0;36minner\u001b[0;34m(ax, data, *args, **kwargs)\u001b[0m\n\u001b[1;32m   1808\u001b[0m                         \u001b[0;34m\"the Matplotlib list!)\"\u001b[0m \u001b[0;34m%\u001b[0m \u001b[0;34m(\u001b[0m\u001b[0mlabel_namer\u001b[0m\u001b[0;34m,\u001b[0m \u001b[0mfunc\u001b[0m\u001b[0;34m.\u001b[0m\u001b[0m__name__\u001b[0m\u001b[0;34m)\u001b[0m\u001b[0;34m,\u001b[0m\u001b[0;34m\u001b[0m\u001b[0;34m\u001b[0m\u001b[0m\n\u001b[1;32m   1809\u001b[0m                         RuntimeWarning, stacklevel=2)\n\u001b[0;32m-> 1810\u001b[0;31m             \u001b[0;32mreturn\u001b[0m \u001b[0mfunc\u001b[0m\u001b[0;34m(\u001b[0m\u001b[0max\u001b[0m\u001b[0;34m,\u001b[0m \u001b[0;34m*\u001b[0m\u001b[0margs\u001b[0m\u001b[0;34m,\u001b[0m \u001b[0;34m**\u001b[0m\u001b[0mkwargs\u001b[0m\u001b[0;34m)\u001b[0m\u001b[0;34m\u001b[0m\u001b[0;34m\u001b[0m\u001b[0m\n\u001b[0m\u001b[1;32m   1811\u001b[0m \u001b[0;34m\u001b[0m\u001b[0m\n\u001b[1;32m   1812\u001b[0m         inner.__doc__ = _add_data_doc(inner.__doc__,\n",
      "\u001b[0;32m/Library/Frameworks/Python.framework/Versions/3.7/lib/python3.7/site-packages/matplotlib/axes/_axes.py\u001b[0m in \u001b[0;36mimshow\u001b[0;34m(self, X, cmap, norm, aspect, interpolation, alpha, vmin, vmax, origin, extent, shape, filternorm, filterrad, imlim, resample, url, **kwargs)\u001b[0m\n\u001b[1;32m   5492\u001b[0m                               resample=resample, **kwargs)\n\u001b[1;32m   5493\u001b[0m \u001b[0;34m\u001b[0m\u001b[0m\n\u001b[0;32m-> 5494\u001b[0;31m         \u001b[0mim\u001b[0m\u001b[0;34m.\u001b[0m\u001b[0mset_data\u001b[0m\u001b[0;34m(\u001b[0m\u001b[0mX\u001b[0m\u001b[0;34m)\u001b[0m\u001b[0;34m\u001b[0m\u001b[0;34m\u001b[0m\u001b[0m\n\u001b[0m\u001b[1;32m   5495\u001b[0m         \u001b[0mim\u001b[0m\u001b[0;34m.\u001b[0m\u001b[0mset_alpha\u001b[0m\u001b[0;34m(\u001b[0m\u001b[0malpha\u001b[0m\u001b[0;34m)\u001b[0m\u001b[0;34m\u001b[0m\u001b[0;34m\u001b[0m\u001b[0m\n\u001b[1;32m   5496\u001b[0m         \u001b[0;32mif\u001b[0m \u001b[0mim\u001b[0m\u001b[0;34m.\u001b[0m\u001b[0mget_clip_path\u001b[0m\u001b[0;34m(\u001b[0m\u001b[0;34m)\u001b[0m \u001b[0;32mis\u001b[0m \u001b[0;32mNone\u001b[0m\u001b[0;34m:\u001b[0m\u001b[0;34m\u001b[0m\u001b[0;34m\u001b[0m\u001b[0m\n",
      "\u001b[0;32m/Library/Frameworks/Python.framework/Versions/3.7/lib/python3.7/site-packages/matplotlib/image.py\u001b[0m in \u001b[0;36mset_data\u001b[0;34m(self, A)\u001b[0m\n\u001b[1;32m    644\u001b[0m         if not (self._A.ndim == 2\n\u001b[1;32m    645\u001b[0m                 or self._A.ndim == 3 and self._A.shape[-1] in [3, 4]):\n\u001b[0;32m--> 646\u001b[0;31m             \u001b[0;32mraise\u001b[0m \u001b[0mTypeError\u001b[0m\u001b[0;34m(\u001b[0m\u001b[0;34m\"Invalid dimensions for image data\"\u001b[0m\u001b[0;34m)\u001b[0m\u001b[0;34m\u001b[0m\u001b[0;34m\u001b[0m\u001b[0m\n\u001b[0m\u001b[1;32m    647\u001b[0m \u001b[0;34m\u001b[0m\u001b[0m\n\u001b[1;32m    648\u001b[0m         \u001b[0;32mif\u001b[0m \u001b[0mself\u001b[0m\u001b[0;34m.\u001b[0m\u001b[0m_A\u001b[0m\u001b[0;34m.\u001b[0m\u001b[0mndim\u001b[0m \u001b[0;34m==\u001b[0m \u001b[0;36m3\u001b[0m\u001b[0;34m:\u001b[0m\u001b[0;34m\u001b[0m\u001b[0;34m\u001b[0m\u001b[0m\n",
      "\u001b[0;31mTypeError\u001b[0m: Invalid dimensions for image data"
     ]
    },
    {
     "output_type": "display_data",
     "data": {
      "text/plain": [
       "<Figure size 432x288 with 1 Axes>"
      ],
      "image/png": "[encoded data removed]"
     },
     "metadata": {
      "needs_background": "light"
     }
    }
   ],
   "metadata": {}
  },
  {
   "cell_type": "markdown",
   "source": [
    "# 2. Impact parameter: Profiles of halos for DM vs Radius plot\n"
   ],
   "metadata": {}
  },
  {
   "cell_type": "markdown",
   "source": [
    "#### Specifications for DM-radius plots"
   ],
   "metadata": {}
  },
  {
   "cell_type": "code",
   "execution_count": null,
   "source": [
    "# This function orders the halo array in ascending mass\n",
    "# Outputs: ordered dataframe of halos, mass bins\n",
    "\n",
    "df= create_halo_array_for_convolution(extract_halos(0),min_mass,max_mass,log_bins)\n",
    "# saveArray('df',df)\n",
    "# df_halos = loadArray('df.npy')\n",
    "\n",
    "# Mean DM of single box\n",
    "mean_DM=np.mean(orig_den_256)\n",
    "\n",
    "# Configuration for plots\n",
    "# Masses chosen from the array of 30 log bins\n",
    "M1=1\n",
    "M2=8\n",
    "M3=15\n",
    "M4=22\n",
    "M5=28\n",
    "M_chosen = [M1, M2, M3, M4, M5]\n",
    "\n",
    "\n"
   ],
   "outputs": [],
   "metadata": {}
  },
  {
   "cell_type": "code",
   "execution_count": null,
   "source": [
    "# Table of virial radii\n",
    "\n",
    "# vir_rad_ar = STH8_256[7]\n",
    "# saveArray('vir_rad_ar',vir_rad_ar)\n",
    "vir_rad_ar = loadArray('vir_rad_ar.npy')"
   ],
   "outputs": [],
   "metadata": {}
  },
  {
   "cell_type": "markdown",
   "source": [
    "#### Fiducial Resolution: 8 * 1024"
   ],
   "metadata": {}
  },
  {
   "cell_type": "code",
   "execution_count": null,
   "source": [
    "# Specify resolution\n",
    "resolution=8\n",
    "grid_size = resolution*1024\n",
    "trim_dim=int((10*resolution))\n",
    "\n",
    "# Radial extent of the plots in Mpc\n",
    "extent = (L/grid_size)*(trim_dim)\n",
    "\n"
   ],
   "outputs": [],
   "metadata": {}
  },
  {
   "cell_type": "markdown",
   "source": [
    "### Spherical tophat"
   ],
   "metadata": {}
  },
  {
   "cell_type": "code",
   "execution_count": null,
   "source": [
    "STH_DMvsR_1=DM_vs_radius(STH8_256[1][0,:,:],df[0],trim_dim, df[2], df[1])\n",
    "saveArray('STH_DMvsR_prof',STH_DMvsR_1[0])\n",
    "\n",
    "\n",
    "# STH16_DMvsR=DM_vs_radius(STH16_256[1][0,:,:],df[0],trim_dim, df[2], df[1])\n",
    "# saveArray('STH16_DMvsR_prof',STH16_DMvsR[0])"
   ],
   "outputs": [],
   "metadata": {}
  },
  {
   "cell_type": "markdown",
   "source": [
    "### Spherical tophat, scaling radius: 2"
   ],
   "metadata": {}
  },
  {
   "cell_type": "code",
   "execution_count": null,
   "source": [
    "STH8_2_DMvsR_1=DM_vs_radius(STH8_2_256[1][0,:,:],df[0],trim_dim, df[2], df[1])\n",
    "saveArray('STH8_2_DMvsR_prof',STH8_2_DMvsR_1[0])\n"
   ],
   "outputs": [],
   "metadata": {}
  },
  {
   "cell_type": "markdown",
   "source": [
    "### Fire"
   ],
   "metadata": {}
  },
  {
   "cell_type": "code",
   "execution_count": null,
   "source": [
    "# fire simulation\n",
    "fire8_DMvsR_1=DM_vs_radius(fire8_256[1][0,:,:],df[0],trim_dim, df[2], df[1])\n",
    "saveArray('fire8_DMvsR_prof',fire8_DMvsR_1[0])\n",
    "\n",
    "\n",
    "# fire16_DMvsR=DM_vs_radius(fire16_256[1][0,:,:],df[0],trim_dim, df[2], df[1])\n",
    "# saveArray('fire16_DMvsR_prof',fire16_DMvsR[0])"
   ],
   "outputs": [],
   "metadata": {}
  },
  {
   "cell_type": "markdown",
   "source": [
    "### NFW"
   ],
   "metadata": {}
  },
  {
   "cell_type": "code",
   "execution_count": null,
   "source": [
    "# NFW\n",
    "\n",
    "NFW_DMvsR_1=DM_vs_radius(NFW8_256[1][0,:,:],df[0],trim_dim, df[2], df[1])\n",
    "saveArray('NFW_DMvsR_prof',NFW_DMvsR_1[0])\n",
    "\n",
    "\n",
    "# NFW16_DMvsR=DM_vs_radius(NFW16_256[1][0,:,:],df[0],trim_dim, df[2], df[1])\n",
    "# saveArray('NFW16_DMvsR_prof',NFW16_DMvsR[0])\n",
    "\n"
   ],
   "outputs": [],
   "metadata": {}
  },
  {
   "cell_type": "markdown",
   "source": [
    "### Precipitation"
   ],
   "metadata": {}
  },
  {
   "cell_type": "code",
   "execution_count": null,
   "source": [
    "P_DMvsR_1=DM_vs_radius(P8_256[1][0,:,:],df[0],trim_dim, df[2], df[1])\n",
    "saveArray('P_DMvsR_prof',P_DMvsR_1[0])\n",
    "\n",
    "\n",
    "# P16_DMvsR=DM_vs_radius(P16_256[1][0,:,:],df[0],trim_dim, df[2], df[1])\n",
    "# saveArray('P16_DMvsR_prof',P16_DMvsR[0])"
   ],
   "outputs": [],
   "metadata": {}
  },
  {
   "cell_type": "markdown",
   "source": [
    "### Mask profiles"
   ],
   "metadata": {}
  },
  {
   "cell_type": "code",
   "execution_count": null,
   "source": [
    "# Create profiles of masks\n",
    "\n",
    "\n",
    "# STH8_masks_1=profile_of_masks(STH8_256[2][0,:,40:120,40:120])\n",
    "# STH8_2_masks_1 = profile_of_masks(STH8_2_256[2][0,:,40:120,40:120])\n",
    "# NFW8_masks_1=profile_of_masks(NFW8_256[2][0,:,40:120,40:120])\n",
    "# fire8_masks_1=profile_of_masks(fire8_256[2][0,:,40:120,40:120])\n",
    "# P8_masks_1=profile_of_masks(P8_256[2][0,:,40:120,40:120])\n",
    "\n",
    "\n",
    "\n",
    "# saveArray('STH_masks',STH8_masks_1)\n",
    "# saveArray('STH_2_masks',STH8_2_masks_1)\n",
    "# saveArray('NFW_masks',NFW8_masks_1)\n",
    "# saveArray('fire8_masks_1',fire8_masks_1)\n",
    "# saveArray('P_masks',P8_masks_1)\n"
   ],
   "outputs": [],
   "metadata": {}
  },
  {
   "cell_type": "markdown",
   "source": [
    "### Load saved files"
   ],
   "metadata": {}
  },
  {
   "cell_type": "code",
   "execution_count": null,
   "source": [
    "# Save DM vs Radius profiles\n",
    "\n",
    "# saveArray('ordered_halo_dataframe',df)\n",
    "\n",
    "\n",
    "\n",
    "# Load files\n",
    "\n",
    "STH8_DMvsR = loadArray('STH_DMvsR_prof.npy')\n",
    "STH8_2_DMvsR = loadArray('STH8_2_DMvsR_prof.npy')\n",
    "NFW8_DMvsR = loadArray('NFW_DMvsR_prof.npy')\n",
    "fire8_DMvsR = loadArray('fire8_DMvsR_prof.npy')\n",
    "P8_DMvsR = loadArray('P_DMvsR_prof.npy')\n",
    "\n",
    "\n",
    "STH8_masks = loadArray('STH_masks.npy')\n",
    "NFW8_masks = loadArray('NFW_masks.npy')\n",
    "fire8_masks = loadArray('fire8_masks_1.npy')\n",
    "STH8_2_masks = loadArray('STH8_2_masks.npy')\n",
    "P8_masks = loadArray('P_masks.npy')"
   ],
   "outputs": [],
   "metadata": {}
  },
  {
   "cell_type": "markdown",
   "source": [
    "### DM vs radius plots"
   ],
   "metadata": {}
  },
  {
   "cell_type": "code",
   "execution_count": null,
   "source": [
    "# figure and subplots\n",
    "\n",
    "\n",
    "MpctoKpc =1000\n",
    "x_start=40  #kpc: min impact parameter \n",
    "\n",
    "\n",
    "DM_Rad_fig, DM_Rad_axs = plt.subplots(3, 1,\n",
    "                        gridspec_kw={'hspace': 0.01, 'wspace': .2},figsize=(20,30))\n",
    "\n",
    "-\n",
    "# plt.rc('axes', titlesize=30)     # fontsize of the axes title\n",
    "# plt.rc('axes', labelsize=20)    # fontsize of the x and y labels\n",
    "\n",
    "\n",
    "\n",
    "# First plot\n",
    "\n",
    "# DM_Rad_axs[0].semilogx(np.linspace(0,extent,TH_DMvsR.shape[1]),TH_DMvsR[M_chosen[0],:]-mean_DM,'-', label= '2D tophat')\n",
    "DM_Rad_axs[0].semilogx(MpctoKpc*np.linspace(0,extent,STH8_DMvsR.shape[1]),STH8_DMvsR[M_chosen[1],:]-mean_DM,'-', label= '3D Tophat',lw=4,color= 'red')\n",
    "DM_Rad_axs[0].semilogx(MpctoKpc*np.linspace(0,extent,STH8_2_DMvsR.shape[1]),STH8_2_DMvsR[M_chosen[1],:]-mean_DM,'-', label= '3D Tophat 2$R_{vir}$',lw=4,color= 'orange')\n",
    "DM_Rad_axs[0].semilogx(MpctoKpc*np.linspace(0,extent,fire8_DMvsR.shape[1]),fire8_DMvsR[M_chosen[1],:]-mean_DM,'-', label= 'fire',lw=4,color='green')\n",
    "DM_Rad_axs[0].semilogx(MpctoKpc*np.linspace(0,extent,NFW8_DMvsR.shape[1]),NFW8_DMvsR[M_chosen[1],:]-mean_DM,'-' ,label= 'NFW',lw=4,color='blue')\n",
    "DM_Rad_axs[0].semilogx(MpctoKpc*np.linspace(0,extent,P8_DMvsR.shape[1]),P8_DMvsR[M_chosen[1],:]-mean_DM,'-' ,label= 'Precipitation',lw=4,color='c')\n",
    "\n",
    "\n",
    "# Masks\n",
    "DM_Rad_axs[0].semilogx(MpctoKpc*np.linspace(0,extent,STH8_masks.shape[1]),STH8_masks[M_chosen[1],:],'--', lw=2,color='red')\n",
    "DM_Rad_axs[0].semilogx(MpctoKpc*np.linspace(0,extent,STH8_2_masks.shape[1]),STH8_2_masks[M_chosen[1],:],'--', lw=2,color='orange')\n",
    "DM_Rad_axs[0].semilogx(MpctoKpc*np.linspace(0,extent,fire8_masks.shape[1]),fire8_masks[M_chosen[1],:],'--',lw=2,color='green')\n",
    "DM_Rad_axs[0].semilogx(MpctoKpc*np.linspace(0,extent,NFW8_masks.shape[1]),NFW8_masks[M_chosen[1],:],'--', lw=2,color='blue')\n",
    "\n",
    "\n",
    "DM_Rad_axs[0].semilogx(MpctoKpc*np.linspace(0,extent,P8_masks.shape[1]),P8_masks[M_chosen[1],:],'--', lw=2,color='c')\n",
    "\n",
    "\n",
    "\n",
    "\n",
    "# axis title\n",
    "# DM_Rad_axs[0].set_title('Mass = %.1E' % Decimal(df[2][M_chosen[1]]),fontsize=14)\n",
    "\n",
    "\n",
    "# Second plot\n",
    "\n",
    "\n",
    "DM_Rad_axs[1].semilogx(MpctoKpc*np.linspace(0,extent,STH8_DMvsR.shape[1]),STH8_DMvsR[M_chosen[2],:]-mean_DM,'-', label= '3D tophat',lw=4,color='red')\n",
    "DM_Rad_axs[1].semilogx(MpctoKpc*np.linspace(0,extent,STH8_2_DMvsR.shape[1]),STH8_2_DMvsR[M_chosen[2],:]-mean_DM,'-', label= '3D tophat',lw=4,color='orange')\n",
    "DM_Rad_axs[1].semilogx(MpctoKpc*np.linspace(0,extent,fire8_DMvsR.shape[1]),fire8_DMvsR[M_chosen[2],:]-mean_DM,'-' ,label= 'fire',lw=4,color='green')\n",
    "DM_Rad_axs[1].semilogx(MpctoKpc*np.linspace(0,extent,NFW8_DMvsR.shape[1]),NFW8_DMvsR[M_chosen[2],:]-mean_DM,'-', label= 'NFW',lw=4,color='blue')\n",
    "DM_Rad_axs[1].semilogx(MpctoKpc*np.linspace(0,extent,P8_DMvsR.shape[1]),P8_DMvsR[M_chosen[2],:]-mean_DM,'-' ,label= 'Precipitation',lw=4,color='c')\n",
    "\n",
    "\n",
    "# Masks\n",
    "DM_Rad_axs[1].semilogx(MpctoKpc*np.linspace(0,extent,STH8_masks.shape[1]),STH8_masks[M_chosen[2],:],'--', lw=1.5,color='red')\n",
    "DM_Rad_axs[1].semilogx(MpctoKpc*np.linspace(0,extent,STH8_2_masks.shape[1]),STH8_2_masks[M_chosen[2],:],'--', lw=1.5,color='orange')\n",
    "DM_Rad_axs[1].semilogx(MpctoKpc*np.linspace(0,extent,fire8_masks.shape[1]),fire8_masks[M_chosen[2],:],'--',lw=1.5,color='green')\n",
    "DM_Rad_axs[1].semilogx(MpctoKpc*np.linspace(0,extent,NFW8_masks.shape[1]),NFW8_masks[M_chosen[2],:],'--', lw=1.5,color='blue')\n",
    "\n",
    "DM_Rad_axs[1].semilogx(MpctoKpc*np.linspace(0,extent,P8_masks.shape[1]),P8_masks[M_chosen[2],:],'--', lw=2,color='c')\n",
    "\n",
    "\n",
    "\n",
    "\n",
    "# Error bar\n",
    "# STH\n",
    "# DM_Rad_axs[1].semilogx(r_star_ar*1000,error_1000_MW_STH,ls='--',drawstyle='steps',color='red',lw=.5)\n",
    "# DM_Rad_axs[1].semilogx(r_star_ar*1000,error_1000_MW_STH2,ls='--',drawstyle='steps',color='orange',lw=.5)\n",
    "# DM_Rad_axs[1].semilogx(r_star_ar*1000,error_1000_MW_fire,ls='--',drawstyle='steps',color='green',lw=.5)\n",
    "# DM_Rad_axs[1].semilogx(r_star_ar*1000,error_1000_MW_NFW,ls='--',drawstyle='steps',color='blue',lw=.5)\n",
    "\n",
    "\n",
    "\n",
    "\n",
    "# DM_Rad_axs[1].set_title('Mass = %.1E' % Decimal(df[2][M_chosen[2]]),fontsize=14)\n",
    "\n",
    "\n",
    "\n",
    "\n",
    "# Third plot\n",
    "\n",
    "\n",
    "DM_Rad_axs[2].semilogx(MpctoKpc*np.linspace(0,extent,STH8_DMvsR.shape[1]),STH8_DMvsR[M_chosen[3],:]-mean_DM,'-', label= '3D tophat',lw=4,color='red')\n",
    "DM_Rad_axs[2].semilogx(MpctoKpc*np.linspace(0,extent,STH8_2_DMvsR.shape[1]),STH8_2_DMvsR[M_chosen[3],:]-mean_DM,'-', label= '3D tophat',lw=4,color='orange')\n",
    "DM_Rad_axs[2].semilogx(MpctoKpc*np.linspace(0,extent,fire8_DMvsR.shape[1]),fire8_DMvsR[M_chosen[3],:]-mean_DM,'-', label= 'Fire',lw=4,color='green')\n",
    "DM_Rad_axs[2].semilogx(MpctoKpc*np.linspace(0,extent,NFW8_DMvsR.shape[1]),NFW8_DMvsR[M_chosen[3],:]-mean_DM, '-',label= 'NFW',lw=4,color='blue')\n",
    "DM_Rad_axs[2].semilogx(MpctoKpc*np.linspace(0,extent,P8_DMvsR.shape[1]),P8_DMvsR[M_chosen[3],:]-mean_DM,'-' ,label= 'Precipitation',lw=4,color='c')\n",
    "\n",
    "DM_Rad_axs[2].semilogx(MpctoKpc*np.linspace(0,extent,STH8_masks.shape[1]),STH8_masks[M_chosen[3],:],'--', lw=2,color='red')\n",
    "DM_Rad_axs[2].semilogx(MpctoKpc*np.linspace(0,extent,STH8_2_masks.shape[1]),STH8_2_masks[M_chosen[3],:],'--', lw=2,color='orange')\n",
    "DM_Rad_axs[2].semilogx(MpctoKpc*np.linspace(0,extent,fire8_masks.shape[1]),fire8_masks[M_chosen[3],:],'--',lw=2,color='green')\n",
    "DM_Rad_axs[2].semilogx(MpctoKpc*np.linspace(0,extent,NFW8_masks.shape[1]),NFW8_masks[M_chosen[3],:], '--',lw=2,color='blue')\n",
    "DM_Rad_axs[2].semilogx(MpctoKpc*np.linspace(0,extent,P8_masks.shape[1]),P8_masks[M_chosen[3],:],'--', lw=2,color='c')\n",
    "\n",
    "\n",
    "\n",
    "# DM_Rad_axs[2].set_title('Mass = %.1E' % Decimal(df[2][M_chosen[3]]),fontsize=14)\n",
    "\n",
    "\n",
    "\n",
    "\n",
    "# ticks\n",
    "\n",
    "# ax.xaxis.grid(True, which='minor')\n",
    "# DM_Rad_axs[0].xaxis.grid(axis='x', which='minor', bottom=True)\n",
    "\n",
    "# DM_Rad_axs[0].tick_params(axis='x', which='minor', bottom=True)\n",
    "# DM_Rad_axs[1].tick_params(axis='x', which='minor', bottom=True)\n",
    "\n",
    "DM_Rad_axs[0].tick_params(axis='x', which='minor')\n",
    "\n",
    "# legend\n",
    "\n",
    "DM_Rad_axs[0].legend(loc='upper right',prop={'size':24})\n",
    "# DM_Rad_axs[0].set_ylabel('DM - <DM> [pc $cm^{-3}$]',fontsize=30)\n",
    "DM_Rad_axs[1].set_ylabel('DM - <DM> [pc $cm^{-3}$]',fontsize=50)\n",
    "# DM_Rad_axs[2].set_ylabel('DM - <DM> [pc $cm^{-3}$]',fontsize=30)\n",
    "DM_Rad_axs[2].set_xlabel('Impact Parameter [kpc]',fontsize=50)\n",
    "\n",
    "\n",
    "\n",
    "# Adding virial radii\n",
    "\n",
    "DM_Rad_axs[0].axvline(h*MpctoKpc*(vir_rad_ar[M_chosen[1]]), color='k', linestyle='--', linewidth=1)\n",
    "DM_Rad_axs[1].axvline(h*MpctoKpc*(vir_rad_ar[M_chosen[2]]), color='k', linestyle='--', linewidth=1)\n",
    "DM_Rad_axs[2].axvline(h*MpctoKpc*(vir_rad_ar[M_chosen[3]]), color='k', linestyle='--', linewidth=1)\n",
    "\n",
    "\n",
    "# x and y axis limits\n",
    "DM_Rad_axs[0].set_ylim([0, 70])\n",
    "DM_Rad_axs[0].set_xlim([x_start, MpctoKpc*2])\n",
    "\n",
    "\n",
    "DM_Rad_axs[1].set_ylim(ymin=0,ymax=199)\n",
    "DM_Rad_axs[1].set_xlim([x_start, MpctoKpc*2])\n",
    "\n",
    "\n",
    "DM_Rad_axs[2].set_ylim(ymin=0,ymax=999)\n",
    "DM_Rad_axs[2].set_xlim([x_start, MpctoKpc*2])\n",
    "\n",
    "\n",
    "# mass labels\n",
    "DM_Rad_axs[0].text(2*MpctoKpc*.1, 65, 'Mass = %.1E $M_\\odot$' % Decimal(df[2][M_chosen[1]]),fontsize=30)\n",
    "DM_Rad_axs[1].text(2*MpctoKpc*.1, 180, 'Mass = %.1E $M_\\odot$' % Decimal(df[2][M_chosen[2]]),fontsize=30)\n",
    "DM_Rad_axs[2].text(2*MpctoKpc*.1, 925, 'Mass = %.1E $M_\\odot$' % Decimal(df[2][M_chosen[3]]),fontsize=30)\n",
    "\n",
    "# DM_Rad_axs[0].rc('xtick', labelsize=35)    # fontsize of the tick labels\n",
    "# # plt.rc('ytick', labelsize=35)    # fontsize of the tick labels\n",
    "\n",
    "\n",
    "\n",
    "DM_Rad_fig.savefig('DMvsRad_profiles_8.pdf',bbox_inches='tight')"
   ],
   "outputs": [],
   "metadata": {}
  },
  {
   "cell_type": "markdown",
   "source": [
    "### Resolution: 16"
   ],
   "metadata": {}
  },
  {
   "cell_type": "code",
   "execution_count": null,
   "source": [
    "# Specify resolution\n",
    "resolution=16\n",
    "grid_size = resolution*1024\n",
    "trim_dim=int((10*resolution))\n",
    "\n",
    "# Radial extent of the plots in Mpc\n",
    "extent = (L/grid_size)*(trim_dim)\n",
    "\n"
   ],
   "outputs": [],
   "metadata": {}
  },
  {
   "cell_type": "code",
   "execution_count": null,
   "source": [
    "STH16_masks=profile_of_masks(STH16_256[2][0,:,:,:])\n",
    "# STH16_2_masks = profile_of_masks(STH8_2_256[2][0,:,:,:])\n",
    "NFW16_masks=profile_of_masks(NFW16_256[2][0,:,:,:])\n",
    "fire16_masks=profile_of_masks(fire16_256[2][0,:,:,:])\n",
    "P16_masks=profile_of_masks(P16_256[2][0,:,:,:])"
   ],
   "outputs": [],
   "metadata": {}
  },
  {
   "cell_type": "markdown",
   "source": [
    "#### Save all arrays"
   ],
   "metadata": {}
  },
  {
   "cell_type": "code",
   "execution_count": null,
   "source": [
    "# Save DM vs Radius profiles\n",
    "\n",
    "\n",
    "\n",
    "# saveArray('STH_DMvsR_prof',STH_DMvsR[0])\n",
    "# saveArray('STH8_2_DMvsR_prof',STH8_2_DMvsR[0])\n",
    "# saveArray('NFW_DMvsR_prof',NFW_DMvsR[0])\n",
    "# saveArray('fire_DMvsR_prof',fire_DMvsR[0])\n",
    "# saveArray('P_DMvsR_prof',P_DMvsR[0])\n",
    "\n",
    "# # # Save masks\n",
    "\n",
    "# saveArray('STH16_masks',STH16_masks)\n",
    "# # saveArray('STH16_2_masks',STH16_2_masks)\n",
    "# saveArray('NFW16_masks',NFW16_masks)\n",
    "# saveArray('fire16_masks',fire16_masks)\n",
    "# saveArray('P16_masks',P16_masks)\n",
    "\n",
    "# saveArray('ordered_halo_dataframe',df)\n",
    "\n",
    "\n",
    "\n",
    "# Load files\n",
    "\n",
    "STH16_DMvsR = loadArray('STH16_DMvsR_prof.npy')\n",
    "# STH16_2_DMvsR = loadArray('STH16_2_DMvsR_prof.npy')\n",
    "NFW16_DMvsR = loadArray('NFW16_DMvsR_prof.npy')\n",
    "fire16_DMvsR = loadArray('fire16_DMvsR_prof.npy')\n",
    "P16_DMvsR = loadArray('P16_DMvsR_prof.npy')\n",
    "\n",
    "\n",
    "STH16_masks = loadArray('STH16_masks.npy')\n",
    "NFW16_masks = loadArray('NFW16_masks.npy')\n",
    "fire16_masks = loadArray('fire16_masks.npy')\n",
    "# STH16_2_masks = loadArray('STH8_2_masks.npy')\n",
    "P16_masks = loadArray('P16_masks.npy')"
   ],
   "outputs": [],
   "metadata": {}
  },
  {
   "cell_type": "code",
   "execution_count": null,
   "source": [
    "SMALL_SIZE = 8\n",
    "MEDIUM_SIZE = 10\n",
    "BIGGER_SIZE = 30\n",
    "XBIG_SIZE = 20\n",
    "axis_fontsize = 20\n",
    "curve_thickness = 2\n",
    "\n",
    "\n",
    "plt.rc('font', size=SMALL_SIZE)          # controls default text sizes\n",
    "plt.rc('axes', titlesize=SMALL_SIZE)     # fontsize of the axes title\n",
    "plt.rc('axes', labelsize=MEDIUM_SIZE)    # fontsize of the x and y labels\n",
    "plt.rc('xtick', labelsize=BIGGER_SIZE)    # fontsize of the tick labels\n",
    "plt.rc('ytick', labelsize=BIGGER_SIZE)    # fontsize of the tick labels\n",
    "plt.rc('legend', fontsize=XBIG_SIZE)    # legend fontsize\n",
    "plt.rc('figure', titlesize=BIGGER_SIZE)  # fontsize of the figure title"
   ],
   "outputs": [],
   "metadata": {}
  },
  {
   "cell_type": "code",
   "execution_count": null,
   "source": [
    "# figure and subplots\n",
    "\n",
    "\n",
    "MpctoKpc =1000\n",
    "x_start=40  #kpc: min impact parameter \n",
    "\n",
    "\n",
    "DM_Rad_fig, DM_Rad_axs = plt.subplots(3, 1,\n",
    "                        gridspec_kw={'hspace': 0.01, 'wspace': .2},figsize=(20,30))\n",
    "\n",
    "plt.rc('xtick', labelsize=25)    # fontsize of the tick labels\n",
    "plt.rc('ytick', labelsize=25)    # fontsize of the tick labels\n",
    "\n",
    "# plt.rc('axes', titlesize=30)     # fontsize of the axes title\n",
    "# plt.rc('axes', labelsize=20)    # fontsize of the x and y labels\n",
    "\n",
    "\n",
    "\n",
    "# First plot\n",
    "\n",
    "# DM_Rad_axs[0].semilogx(np.linspace(0,extent,TH_DMvsR.shape[1]),TH_DMvsR[M_chosen[0],:]-mean_DM,'-', label= '2D tophat')\n",
    "DM_Rad_axs[0].semilogx(MpctoKpc*np.linspace(0,extent,STH16_DMvsR.shape[1]),STH16_DMvsR[M_chosen[1],:]-mean_DM,'-', label= '3D Tophat',lw=4,color= 'red')\n",
    "# DM_Rad_axs[0].semilogx(MpctoKpc*np.linspace(0,extent,STH16_2_DMvsR.shape[1]),STH16_2_DMvsR[M_chosen[1],:]-mean_DM,'-', label= '3D Tophat 2Rvir',lw=4,color= 'orange')\n",
    "DM_Rad_axs[0].semilogx(MpctoKpc*np.linspace(0,extent,fire16_DMvsR.shape[1]),fire16_DMvsR[M_chosen[1],:]-mean_DM,'-', label= 'fire',lw=4,color='green')\n",
    "DM_Rad_axs[0].semilogx(MpctoKpc*np.linspace(0,extent,NFW16_DMvsR.shape[1]),NFW16_DMvsR[M_chosen[1],:]-mean_DM,'-' ,label= 'NFW',lw=4,color='blue')\n",
    "DM_Rad_axs[0].semilogx(MpctoKpc*np.linspace(0,extent,P16_DMvsR.shape[1]),P16_DMvsR[M_chosen[1],:]-mean_DM,'-' ,label= 'Precipitation',lw=4,color='c')\n",
    "\n",
    "\n",
    "# Masks\n",
    "DM_Rad_axs[0].semilogx(MpctoKpc*np.linspace(0,extent,STH16_masks.shape[1]),STH16_masks[M_chosen[1],:],'--', lw=2,color='red')\n",
    "# DM_Rad_axs[0].semilogx(MpctoKpc*np.linspace(0,extent,STH16_2_masks.shape[1]),STH16_2_masks[M_chosen[1],:],'--', lw=2,color='orange')\n",
    "DM_Rad_axs[0].semilogx(MpctoKpc*np.linspace(0,extent,fire16_masks.shape[1]),fire16_masks[M_chosen[1],:],'--',lw=2,color='green')\n",
    "DM_Rad_axs[0].semilogx(MpctoKpc*np.linspace(0,extent,NFW16_masks.shape[1]),NFW16_masks[M_chosen[1],:],'--', lw=2,color='blue')\n",
    "\n",
    "\n",
    "DM_Rad_axs[0].semilogx(MpctoKpc*np.linspace(0,extent,P16_masks.shape[1]),P16_masks[M_chosen[1],:],'--', lw=2,color='c')\n",
    "\n",
    "\n",
    "\n",
    "\n",
    "\n",
    "\n",
    "# Second plot\n",
    "\n",
    "\n",
    "DM_Rad_axs[1].semilogx(MpctoKpc*np.linspace(0,extent,STH16_DMvsR.shape[1]),STH16_DMvsR[M_chosen[2],:]-mean_DM,'-', label= '3D tophat',lw=4,color='red')\n",
    "# DM_Rad_axs[1].semilogx(MpctoKpc*np.linspace(0,extent,STH16_2_DMvsR.shape[1]),STH16_2_DMvsR[M_chosen[2],:]-mean_DM,'-', label= '3D tophat',lw=4,color='orange')\n",
    "DM_Rad_axs[1].semilogx(MpctoKpc*np.linspace(0,extent,fire16_DMvsR.shape[1]),fire16_DMvsR[M_chosen[2],:]-mean_DM,'-' ,label= 'fire',lw=4,color='green')\n",
    "DM_Rad_axs[1].semilogx(MpctoKpc*np.linspace(0,extent,NFW16_DMvsR.shape[1]),NFW16_DMvsR[M_chosen[2],:]-mean_DM,'-', label= 'NFW',lw=4,color='blue')\n",
    "DM_Rad_axs[1].semilogx(MpctoKpc*np.linspace(0,extent,P16_DMvsR.shape[1]),P16_DMvsR[M_chosen[2],:]-mean_DM,'-' ,label= 'Precipitation',lw=4,color='c')\n",
    "\n",
    "\n",
    "# Masks\n",
    "DM_Rad_axs[1].semilogx(MpctoKpc*np.linspace(0,extent,STH16_masks.shape[1]),STH16_masks[M_chosen[2],:],'--', lw=1.5,color='red')\n",
    "# DM_Rad_axs[1].semilogx(MpctoKpc*np.linspace(0,extent,STH16_2_masks.shape[1]),STH16_2_masks[M_chosen[2],:],'--', lw=1.5,color='orange')\n",
    "DM_Rad_axs[1].semilogx(MpctoKpc*np.linspace(0,extent,fire16_masks.shape[1]),fire16_masks[M_chosen[2],:],'--',lw=1.5,color='green')\n",
    "DM_Rad_axs[1].semilogx(MpctoKpc*np.linspace(0,extent,NFW16_masks.shape[1]),NFW16_masks[M_chosen[2],:],'--', lw=1.5,color='blue')\n",
    "\n",
    "DM_Rad_axs[1].semilogx(MpctoKpc*np.linspace(0,extent,P16_masks.shape[1]),P16_masks[M_chosen[2],:],'--', lw=2,color='c')\n",
    "\n",
    "\n",
    "\n",
    "\n",
    "# Error bar\n",
    "# STH\n",
    "# DM_Rad_axs[1].semilogx(r_star_ar*1000,error_1000_MW_STH,ls='--',drawstyle='steps',color='red',lw=.5)\n",
    "# DM_Rad_axs[1].semilogx(r_star_ar*1000,error_1000_MW_STH2,ls='--',drawstyle='steps',color='orange',lw=.5)\n",
    "# DM_Rad_axs[1].semilogx(r_star_ar*1000,error_1000_MW_fire,ls='--',drawstyle='steps',color='green',lw=.5)\n",
    "# DM_Rad_axs[1].semilogx(r_star_ar*1000,error_1000_MW_NFW,ls='--',drawstyle='steps',color='blue',lw=.5)\n",
    "\n",
    "\n",
    "\n",
    "\n",
    "\n",
    "\n",
    "\n",
    "# Third plot\n",
    "\n",
    "\n",
    "DM_Rad_axs[2].semilogx(MpctoKpc*np.linspace(0,extent,STH16_DMvsR.shape[1]),STH16_DMvsR[M_chosen[3],:]-mean_DM,'-', label= '3D tophat',lw=4,color='red')\n",
    "# DM_Rad_axs[2].semilogx(MpctoKpc*np.linspace(0,extent,STH16_2_DMvsR.shape[1]),STH16_2_DMvsR[M_chosen[3],:]-mean_DM,'-', label= '3D tophat',lw=4,color='orange')\n",
    "DM_Rad_axs[2].semilogx(MpctoKpc*np.linspace(0,extent,fire16_DMvsR.shape[1]),fire16_DMvsR[M_chosen[3],:]-mean_DM,'-', label= 'Fire',lw=4,color='green')\n",
    "DM_Rad_axs[2].semilogx(MpctoKpc*np.linspace(0,extent,NFW16_DMvsR.shape[1]),NFW16_DMvsR[M_chosen[3],:]-mean_DM, '-',label= 'NFW',lw=4,color='blue')\n",
    "DM_Rad_axs[2].semilogx(MpctoKpc*np.linspace(0,extent,P16_DMvsR.shape[1]),P16_DMvsR[M_chosen[3],:]-mean_DM,'-' ,label= 'Precipitation',lw=4,color='c')\n",
    "\n",
    "DM_Rad_axs[2].semilogx(MpctoKpc*np.linspace(0,extent,STH16_masks.shape[1]),STH16_masks[M_chosen[3],:],'--', lw=2,color='red')\n",
    "# DM_Rad_axs[2].semilogx(MpctoKpc*np.linspace(0,extent,STH16_2_masks.shape[1]),STH16_2_masks[M_chosen[3],:],'--', lw=2,color='orange')\n",
    "DM_Rad_axs[2].semilogx(MpctoKpc*np.linspace(0,extent,fire16_masks.shape[1]),fire16_masks[M_chosen[3],:],'--',lw=2,color='green')\n",
    "DM_Rad_axs[2].semilogx(MpctoKpc*np.linspace(0,extent,NFW16_masks.shape[1]),NFW16_masks[M_chosen[3],:], '--',lw=2,color='blue')\n",
    "DM_Rad_axs[2].semilogx(MpctoKpc*np.linspace(0,extent,P16_masks.shape[1]),P16_masks[M_chosen[3],:],'--', lw=2,color='c')\n",
    "\n",
    "\n",
    "\n",
    "\n",
    "\n",
    "\n",
    "# ticks\n",
    "\n",
    "# ax.xaxis.grid(True, which='minor')\n",
    "# DM_Rad_axs[0].xaxis.grid(axis='x', which='minor', bottom=True)\n",
    "\n",
    "# DM_Rad_axs[0].tick_params(axis='x', which='minor', bottom=True)\n",
    "# DM_Rad_axs[1].tick_params(axis='x', which='minor', bottom=True)\n",
    "\n",
    "DM_Rad_axs[0].tick_params(axis='x', which='minor')\n",
    "\n",
    "# legend\n",
    "\n",
    "DM_Rad_axs[0].legend(loc='upper right',prop={'size':18})\n",
    "# DM_Rad_axs[0].set_ylabel('DM - <DM> [pc $cm^{-3}$]',fontsize=30)\n",
    "DM_Rad_axs[1].set_ylabel('DM - <DM> [pc $cm^{-3}$]',fontsize=30)\n",
    "# DM_Rad_axs[2].set_ylabel('DM - <DM> [pc $cm^{-3}$]',fontsize=30)\n",
    "DM_Rad_axs[2].set_xlabel('Impact Parameter [kpc]',fontsize=30)\n",
    "\n",
    "\n",
    "\n",
    "# Adding virial radii\n",
    "\n",
    "DM_Rad_axs[0].axvline(h*MpctoKpc*(vir_rad_ar[M_chosen[1]]), color='k', linestyle='--', linewidth=1)\n",
    "DM_Rad_axs[1].axvline(h*MpctoKpc*(vir_rad_ar[M_chosen[2]]), color='k', linestyle='--', linewidth=1)\n",
    "DM_Rad_axs[2].axvline(h*MpctoKpc*(vir_rad_ar[M_chosen[3]]), color='k', linestyle='--', linewidth=1)\n",
    "\n",
    "\n",
    "# x and y axis limits\n",
    "DM_Rad_axs[0].set_ylim([0, 100])\n",
    "DM_Rad_axs[0].set_xlim([x_start, MpctoKpc*2])\n",
    "\n",
    "\n",
    "DM_Rad_axs[1].set_ylim(ymin=0,ymax=599)\n",
    "DM_Rad_axs[1].set_xlim([x_start, MpctoKpc*2])\n",
    "\n",
    "\n",
    "DM_Rad_axs[2].set_ylim(ymin=0,ymax=2999)\n",
    "DM_Rad_axs[2].set_xlim([x_start, MpctoKpc*2])\n",
    "\n",
    "\n",
    "\n",
    "# mass labels\n",
    "DM_Rad_axs[0].text(2*MpctoKpc*.1, 90, 'Mass = %.1E $M_\\odot$' % Decimal(df[2][M_chosen[1]]),fontsize=30)\n",
    "DM_Rad_axs[1].text(2*MpctoKpc*.1, 550, 'Mass = %.1E $M_\\odot$' % Decimal(df[2][M_chosen[2]]),fontsize=30)\n",
    "DM_Rad_axs[2].text(2*MpctoKpc*.1, 2800, 'Mass = %.1E $M_\\odot$' % Decimal(df[2][M_chosen[3]]),fontsize=30)\n",
    "\n",
    "\n",
    "DM_Rad_fig.savefig('DMvsRad_profiles_16.pdf',bbox_inches='tight')"
   ],
   "outputs": [],
   "metadata": {
    "scrolled": false
   }
  },
  {
   "cell_type": "markdown",
   "source": [
    "### DM vs radius: Error bar plot"
   ],
   "metadata": {}
  },
  {
   "cell_type": "code",
   "execution_count": null,
   "source": [
    "vir_rad_ar = STH8_256[7]\n",
    "avg_mass_ar = STH8_256[8]"
   ],
   "outputs": [],
   "metadata": {}
  },
  {
   "cell_type": "markdown",
   "source": [
    "### For a MW sized halo:"
   ],
   "metadata": {}
  },
  {
   "cell_type": "code",
   "execution_count": null,
   "source": [
    "# Array of radii for plotting\n",
    "r_star_ar = np.logspace(np.log10(vir_rad_ar[M_chosen[3]]/25),np.log10(2*vir_rad_ar[M_chosen[3]]),10)\n",
    "# r_star_ar_12 = np.logspace(np.log10(vir_rad_ar[M_chosen[2]]/10),np.log10(2*vir_rad_ar[M_chosen[2]]),10)\n",
    "# r_star_ar_13 = np.logspace(np.log10(vir_rad_ar[M_chosen[3]]/10),np.log10(2*vir_rad_ar[M_chosen[3]]),10)\n"
   ],
   "outputs": [],
   "metadata": {}
  },
  {
   "cell_type": "code",
   "execution_count": null,
   "source": [
    "# Variances should be extracted from the redshift plots at redshift =0.5\n",
    "var_STH_2 = 173\n",
    "var_STH2_2 = 141\n",
    "var_NFW_2 = 451\n",
    "var_fire_2 = 226\n"
   ],
   "outputs": [],
   "metadata": {}
  },
  {
   "cell_type": "code",
   "execution_count": null,
   "source": [
    "def error_bar_DMvsRad(sd,N_frb,radius_array,Rvir,avg_frbs):\n",
    "    error_bar = np.zeros([len(radius_array)])\n",
    "    for i in range(1,len(radius_array)):\n",
    "        error_bar[i-1] = sd/(np.sqrt(avg_frbs*2*0.5*N_frb*((radius_array[i]**2-radius_array[i-1]**2)/Rvir**2)))\n",
    "    \n",
    "    return error_bar"
   ],
   "outputs": [],
   "metadata": {}
  },
  {
   "cell_type": "code",
   "execution_count": null,
   "source": [
    "error_100_12M_STH = error_bar_DMvsRad(var_STH_2,100,r_star_ar,vir_rad_ar[M_chosen[2]],2)\n",
    "error_100_12M_fire = error_bar_DMvsRad(var_fire_2,100,r_star_ar,vir_rad_ar[M_chosen[2]],2)\n",
    "\n",
    "error_100_11M_STH = error_bar_DMvsRad(var_STH_2,100,r_star_ar,vir_rad_ar[M_chosen[1]],4)\n",
    "error_100_11M_fire = error_bar_DMvsRad(var_fire_2,100,r_star_ar,vir_rad_ar[M_chosen[1]],4)\n",
    "\n",
    "\n",
    "error_100_13M_STH = error_bar_DMvsRad(var_STH_2,100,r_star_ar,vir_rad_ar[M_chosen[3]],.2)\n",
    "error_100_13M_fire = error_bar_DMvsRad(var_fire_2,100,r_star_ar,vir_rad_ar[M_chosen[3]],.2)\n"
   ],
   "outputs": [],
   "metadata": {}
  },
  {
   "cell_type": "code",
   "execution_count": null,
   "source": [
    "error_100_12M_fire.shape"
   ],
   "outputs": [],
   "metadata": {}
  },
  {
   "cell_type": "code",
   "execution_count": null,
   "source": [
    "\n",
    "Nfrb =1000\n",
    "error_1000_MW_STH = var_STH_2/(np.sqrt(2*r_star_ar**2*.5*Nfrb/vir_rad_ar[12]**2))\n",
    "error_1000_MW_STH2 = var_STH2_2/(np.sqrt(2*r_star_ar**2*.5*Nfrb/vir_rad_ar[12]**2))\n",
    "error_1000_MW_NFW = var_NFW_2/(np.sqrt(2*r_star_ar**2*.5*Nfrb/vir_rad_ar[12]**2))\n",
    "error_1000_MW_fire = var_fire_2/(np.sqrt(2*r_star_ar**2*.5*Nfrb/vir_rad_ar[12]**2))\n",
    "# error_1000_MW_fire = var_fire_2/(np.sqrt(2*r_star_ar**2*.5*Nfrb/vir_rad_ar[12]**2))\n",
    "\n",
    "\n",
    "# Nfrb =100000\n",
    "# error_10000_MW_STH = var_STH_2/(np.sqrt(2*r_star_ar**2*.5*Nfrb/vir_rad_ar[12]**2))\n",
    "# error_10000_MW_STH2 = var_STH2_2/(np.sqrt(2*r_star_ar**2*.5*Nfrb/vir_rad_ar[12]**2))\n",
    "# error_10000_MW_NFW = var_NFW_2/(np.sqrt(2*r_star_ar**2*.5*Nfrb/vir_rad_ar[12]**2))\n",
    "# error_10000_MW_fire = var_fire_2/(np.sqrt(2*r_star_ar**2*.5*Nfrb/vir_rad_ar[12]**2))\n"
   ],
   "outputs": [],
   "metadata": {}
  },
  {
   "cell_type": "markdown",
   "source": [
    "### Error bar plot"
   ],
   "metadata": {}
  },
  {
   "cell_type": "code",
   "execution_count": null,
   "source": [
    "# figure and subplots\n",
    "\n",
    "\n",
    "MpctoKpc =1000\n",
    "x_start=40  #kpc: min impact parameter \n",
    "\n",
    "\n",
    "DM_Rad_fig, DM_Rad_axs = plt.subplots(3, 1,\n",
    "                        gridspec_kw={'hspace': 0.01, 'wspace': .2},figsize=(20,30))\n",
    "\n",
    "plt.rc('xtick', labelsize=35)    # fontsize of the tick labels\n",
    "plt.rc('ytick', labelsize=35)    # fontsize of the tick labels\n",
    "\n",
    "# plt.rc('axes', titlesize=30)     # fontsize of the axes title\n",
    "# plt.rc('axes', labelsize=20)    # fontsize of the x and y labels\n",
    "\n",
    "\n",
    "\n",
    "# First plot\n",
    "\n",
    "# DM_Rad_axs[0].semilogx(np.linspace(0,extent,TH_DMvsR.shape[1]),TH_DMvsR[M_chosen[0],:]-mean_DM,'-', label= '2D tophat')\n",
    "DM_Rad_axs[0].semilogx(MpctoKpc*np.linspace(0,extent,STH8_DMvsR.shape[1]),STH8_DMvsR[M_chosen[1],:]-mean_DM,'-', label= '3D Tophat',lw=4,color= 'red')\n",
    "# DM_Rad_axs[0].semilogx(MpctoKpc*np.linspace(0,extent,STH8_2_DMvsR.shape[1]),STH_2_DMvsR[M_chosen[1],:]-mean_DM,'-', label= '3D Tophat 2Rvir',lw=4,color= 'orange')\n",
    "DM_Rad_axs[0].semilogx(MpctoKpc*np.linspace(0,extent,fire8_DMvsR.shape[1]),fire8_DMvsR[M_chosen[1],:]-mean_DM,'-', label= 'fire',lw=4,color='green')\n",
    "# DM_Rad_axs[0].semilogx(MpctoKpc*np.linspace(0,extent,NFW8_DMvsR.shape[1]),NFW_DMvsR[M_chosen[1],:]-mean_DM,'-' ,label= 'NFW',lw=4,color='blue')\n",
    "# DM_Rad_axs[0].semilogx(MpctoKpc*np.linspace(0,extent,P8_DMvsR.shape[1]),P_DMvsR[M_chosen[1],:]-mean_DM,'-' ,label= 'Precipitation',lw=4,color='c')\n",
    "\n",
    "\n",
    "\n",
    "\n",
    "DM_Rad_axs[0].set_ylim([0, 70])\n",
    "DM_Rad_axs[0].set_xlim([x_start, MpctoKpc*2])\n",
    "\n",
    "\n",
    "\n",
    "\n",
    "# Second plot\n",
    "\n",
    "\n",
    "DM_Rad_axs[1].semilogx(MpctoKpc*np.linspace(0,extent,STH8_DMvsR.shape[1]),STH8_DMvsR[M_chosen[2],:]-mean_DM,'-', label= '3D tophat',lw=4,color='red')\n",
    "# DM_Rad_axs[1].semilogx(MpctoKpc*np.linspace(0,extent,STH_2_DMvsR.shape[1]),STH_2_DMvsR[M_chosen[2],:]-mean_DM,'-', label= '3D tophat',lw=4,color='orange')\n",
    "DM_Rad_axs[1].semilogx(MpctoKpc*np.linspace(0,extent,fire8_DMvsR.shape[1]),fire8_DMvsR[M_chosen[2],:]-mean_DM,'-' ,label= 'fire',lw=4,color='green')\n",
    "# DM_Rad_axs[1].semilogx(MpctoKpc*np.linspace(0,extent,NFW_DMvsR.shape[1]),NFW_DMvsR[M_chosen[2],:]-mean_DM,'-', label= 'NFW',lw=4,color='blue')\n",
    "# DM_Rad_axs[1].semilogx(MpctoKpc*np.linspace(0,extent,P_DMvsR.shape[1]),P_DMvsR[M_chosen[2],:]-mean_DM,'-' ,label= 'Precipitation',lw=4,color='c')\n",
    "\n",
    "\n",
    "\n",
    "\n",
    "DM_Rad_axs[1].set_ylim(ymin=0,ymax=199)\n",
    "DM_Rad_axs[1].set_xlim([x_start, MpctoKpc*2])\n",
    "\n",
    "\n",
    "# Error bar plots\n",
    "\n",
    "DM_Rad_axs[0].semilogx(r_star_ar*1000,error_100_11M_STH,ls='--',drawstyle='steps',color='red',lw=2)\n",
    "DM_Rad_axs[0].semilogx(r_star_ar*1000,error_100_11M_fire,ls='--',drawstyle='steps',color='green',lw=2)\n",
    "\n",
    "\n",
    "DM_Rad_axs[1].semilogx(r_star_ar*1000,error_100_12M_STH,ls='--',drawstyle='steps',color='red',lw=2)\n",
    "DM_Rad_axs[1].semilogx(r_star_ar*1000,error_100_12M_fire,ls='--',drawstyle='steps',color='green',lw=2)\n",
    "\n",
    "\n",
    "DM_Rad_axs[2].semilogx(r_star_ar*1000,error_100_13M_STH,ls='--',drawstyle='steps',color='red',lw=2)\n",
    "DM_Rad_axs[2].semilogx(r_star_ar*1000,error_100_13M_fire,ls='--',drawstyle='steps',color='green',lw=2)\n",
    "\n",
    "\n",
    "\n",
    "\n",
    "\n",
    "\n",
    "\n",
    "# Third plot\n",
    "\n",
    "\n",
    "DM_Rad_axs[2].semilogx(MpctoKpc*np.linspace(0,extent,STH8_DMvsR.shape[1]),STH8_DMvsR[M_chosen[3],:]-mean_DM,'-', label= '3D tophat',lw=4,color='red')\n",
    "# DM_Rad_axs[2].semilogx(MpctoKpc*np.linspace(0,extent,STH_2_DMvsR.shape[1]),STH_2_DMvsR[M_chosen[3],:]-mean_DM,'-', label= '3D tophat',lw=4,color='orange')\n",
    "DM_Rad_axs[2].semilogx(MpctoKpc*np.linspace(0,extent,fire8_DMvsR.shape[1]),fire8_DMvsR[M_chosen[3],:]-mean_DM,'-', label= 'Fire',lw=4,color='green')\n",
    "# DM_Rad_axs[2].semilogx(MpctoKpc*np.linspace(0,extent,NFW_DMvsR.shape[1]),NFW_DMvsR[M_chosen[3],:]-mean_DM, '-',label= 'NFW',lw=4,color='blue')\n",
    "# DM_Rad_axs[2].semilogx(MpctoKpc*np.linspace(0,extent,P_DMvsR.shape[1]),P_DMvsR[M_chosen[3],:]-mean_DM,'-' ,label= 'Precipitation',lw=4,color='c')\n",
    "\n",
    "\n",
    "DM_Rad_axs[2].set_ylim(ymin=0,ymax=999)\n",
    "DM_Rad_axs[2].set_xlim([x_start, MpctoKpc*2])\n",
    "\n",
    "\n",
    "\n",
    "\n",
    "# ticks\n",
    "\n",
    "\n",
    "# DM_Rad_axs[0].tick_params(axis='x', which='major', bottom=True)\n",
    "# DM_Rad_axs[1].tick_params(axis='x', which='minor', bottom=True)\n",
    "\n",
    "DM_Rad_axs[0].set_xticks([0])\n",
    "\n",
    "\n",
    "# legend\n",
    "DM_Rad_axs[0].legend(loc='upper right',prop={'size':24})\n",
    "# DM_Rad_axs[0].set_ylabel('DM - <DM> [pc $cm^{-3}$]',fontsize=30)\n",
    "DM_Rad_axs[1].set_ylabel('DM - <DM> [pc $cm^{-3}$]',fontsize=50)\n",
    "# DM_Rad_axs[2].set_ylabel('DM - <DM> [pc $cm^{-3}$]',fontsize=30)\n",
    "DM_Rad_axs[2].set_xlabel('Impact Parameter [kpc]',fontsize=50)\n",
    "\n",
    "\n",
    "\n",
    "# Adding virial radii\n",
    "\n",
    "DM_Rad_axs[0].axvline(h*MpctoKpc*(vir_rad_ar[M_chosen[1]]), color='k', linestyle='--', linewidth=1)\n",
    "DM_Rad_axs[1].axvline(h*MpctoKpc*(vir_rad_ar[M_chosen[2]]), color='k', linestyle='--', linewidth=1)\n",
    "DM_Rad_axs[2].axvline(h*MpctoKpc*(vir_rad_ar[M_chosen[3]]), color='k', linestyle='--', linewidth=1)\n",
    "\n",
    "\n",
    "# mass labels\n",
    "DM_Rad_axs[0].text(2*MpctoKpc*.1, 65, 'Mass = %.1E $M_\\odot$' % Decimal(df[2][M_chosen[1]]),fontsize=30)\n",
    "DM_Rad_axs[1].text(2*MpctoKpc*.1, 180, 'Mass = %.1E $M_\\odot$' % Decimal(df[2][M_chosen[2]]),fontsize=30)\n",
    "DM_Rad_axs[2].text(2*MpctoKpc*.1, 925, 'Mass = %.1E $M_\\odot$' % Decimal(df[2][M_chosen[3]]),fontsize=30)\n",
    "\n",
    "\n",
    "\n",
    "# legend\n",
    "\n",
    "DM_Rad_axs[0].legend(loc='upper right',prop={'size':24})\n",
    "# DM_Rad_axs[0].set_ylabel('DM - <DM> [pc $cm^{-3}$]',fontsize=30)\n",
    "DM_Rad_axs[1].set_ylabel('DM - <DM> [pc $cm^{-3}$]',fontsize=50)\n",
    "# DM_Rad_axs[2].set_ylabel('DM - <DM> [pc $cm^{-3}$]',fontsize=30)\n",
    "DM_Rad_axs[2].set_xlabel('Impact Parameter [kpc]',fontsize=50)\n",
    "\n",
    "\n",
    "\n",
    "# Adding virial radii\n",
    "\n",
    "DM_Rad_axs[0].axvline(h*MpctoKpc*(vir_rad_ar[M_chosen[1]]), color='k', linestyle='--', linewidth=1)\n",
    "DM_Rad_axs[1].axvline(h*MpctoKpc*(vir_rad_ar[M_chosen[2]]), color='k', linestyle='--', linewidth=1)\n",
    "DM_Rad_axs[2].axvline(h*MpctoKpc*(vir_rad_ar[M_chosen[3]]), color='k', linestyle='--', linewidth=1)\n",
    "\n",
    "\n",
    "# x and y axis limits\n",
    "DM_Rad_axs[0].set_ylim([0, 70])\n",
    "DM_Rad_axs[0].set_xlim([x_start, MpctoKpc*2])\n",
    "\n",
    "\n",
    "DM_Rad_axs[1].set_ylim(ymin=0,ymax=199)\n",
    "DM_Rad_axs[1].set_xlim([x_start, MpctoKpc*2])\n",
    "\n",
    "\n",
    "DM_Rad_axs[2].set_ylim(ymin=0,ymax=999)\n",
    "DM_Rad_axs[2].set_xlim([x_start, MpctoKpc*2])\n",
    "\n",
    "\n",
    "# mass labels\n",
    "DM_Rad_axs[0].text(2*MpctoKpc*.1, 65, 'Mass = %.1E $M_\\odot$' % Decimal(df[2][M_chosen[1]]),fontsize=30)\n",
    "DM_Rad_axs[1].text(2*MpctoKpc*.1, 180, 'Mass = %.1E $M_\\odot$' % Decimal(df[2][M_chosen[2]]),fontsize=30)\n",
    "DM_Rad_axs[2].text(2*MpctoKpc*.1, 925, 'Mass = %.1E $M_\\odot$' % Decimal(df[2][M_chosen[3]]),fontsize=30)\n",
    "\n",
    "\n",
    "DM_Rad_fig.savefig('DMvsRad_profiles_error.pdf',bbox_inches='tight')"
   ],
   "outputs": [],
   "metadata": {}
  },
  {
   "cell_type": "code",
   "execution_count": null,
   "source": [],
   "outputs": [],
   "metadata": {}
  },
  {
   "cell_type": "markdown",
   "source": [
    "# 3. Redshift stacking"
   ],
   "metadata": {}
  },
  {
   "cell_type": "markdown",
   "source": [
    "#### File naming convention for higher redshift files:\n",
    "\n",
    "##### density file name: dens256-z-0 , dens256-z-0.1, dens256-z-0.2, etc\n",
    "If you are using the same file, create as many copies of the first file as you need to go to the desired redshift using the above naming convention\n",
    "\n",
    "\n",
    "##### halos file name: halo-z-0.0 , halo-z-0.1, halo-z-0.1, etc\n",
    "If you are using the same file, create as many copies of the first file as you need to go to the desired redshift using the above naming convention\n",
    "\n"
   ],
   "metadata": {}
  },
  {
   "cell_type": "code",
   "execution_count": null,
   "source": [
    "# We can create different redshift arrays\n",
    "\n",
    "\n",
    "# RS_array = [avgZ(1),avgZ(2),avgZ(3)]\n",
    "# RS_array = [avgZ(1),avgZ(2),avgZ(3),avgZ(4),avgZ(5)]\n",
    "# RS_array = [avgZ(1),avgZ(2),avgZ(3),avgZ(4),avgZ(5),avgZ(6),avgZ(7),avgZ(8),avgZ(9)]\n",
    "\n",
    "# RS_array = RS_array_gen(1,L)\n",
    "\n",
    "RS_array = RS_array_gen(1,L)\n",
    "\n",
    "# subtraction profile\n",
    "subtraction_halo_profile = 'NFW'\n",
    "\n",
    "# resolution\n",
    "den_grid_size = 256\n",
    "\n",
    "# Mass range of halos\n",
    "min_mass=10**10\n",
    "max_mass=10**14.5\n",
    "log_bins=30\n"
   ],
   "outputs": [],
   "metadata": {}
  },
  {
   "cell_type": "code",
   "execution_count": null,
   "source": [
    "all_den_fields_256_RS = extract_all_den_fields(RS_array,den_grid_size)"
   ],
   "outputs": [],
   "metadata": {}
  },
  {
   "cell_type": "code",
   "execution_count": null,
   "source": [
    "# Smoothing the unsmoothed fields\n",
    "\n",
    "for i in range(1,len(RS_array)):\n",
    "    test_s = all_den_fields_256_RS[i,:,:]\n",
    "    test_l= (np.repeat((np.repeat(test_s,4,axis=0)),4,axis=1))\n",
    "\n",
    "    test_sm =  gauss_sinc_smoothing(test_l,4/np.sqrt(3),4,1)\n",
    "    all_den_fields_256_RS[i,:,:]= test_sm.reshape([256, 4, 256, 4]).mean(3).mean(1)"
   ],
   "outputs": [],
   "metadata": {}
  },
  {
   "cell_type": "code",
   "execution_count": null,
   "source": [
    "# saveArray('all_den_fields_256_RS',all_den_fields_256_RS)\n",
    "all_den_fields_256_RS = loadArray('all_den_fields_256_RS.npy')"
   ],
   "outputs": [],
   "metadata": {}
  },
  {
   "cell_type": "code",
   "execution_count": null,
   "source": [
    "## Array for higher redshifts\n",
    "\n",
    "\n",
    "\n",
    "# STH1_256_RS_array = hist_profile(all_den_fields_256_RS,den_grid_size,RS_array,min_mass,max_mass,\n",
    "#                                  log_bins,subtraction_halo_profile,'tophat_spherical',1,1)\n",
    "\n",
    "\n",
    "# STH1_2_256_RS_array = hist_profile(all_den_fields_256_RS,den_grid_size,RS_array,min_mass,max_mass,\n",
    "#                                        log_bins,subtraction_halo_profile,'tophat_spherical',2,1)\n",
    "\n",
    "# NFW1_256_RS_array = hist_profile(all_den_fields_256_RS,den_grid_size,RS_array,min_mass,max_mass,\n",
    "#                                        log_bins,subtraction_halo_profile,'fire',1,1)\n",
    "# fire1_256_RS_array = hist_profile(all_den_fields_256_RS,den_grid_size,RS_array,min_mass,max_mass,\n",
    "#                                        log_bins,subtraction_halo_profile,'fire',1,1)\n",
    "\n",
    "\n",
    "\n",
    "\n",
    "\n",
    "\n",
    "\n",
    "\n",
    "\n",
    "\n",
    "\n",
    "\n"
   ],
   "outputs": [],
   "metadata": {
    "scrolled": true
   }
  },
  {
   "cell_type": "code",
   "execution_count": null,
   "source": [
    "STH8_256_RS_array = hist_profile(all_den_fields_256_RS,den_grid_size,RS_array,min_mass,max_mass,\n",
    "                                       log_bins,subtraction_halo_profile,'tophat_spherical',1,8)\n",
    "\n",
    "saveArray('STH8_256_RS_array',STH8_256_RS_array[6])"
   ],
   "outputs": [],
   "metadata": {
    "scrolled": true
   }
  },
  {
   "cell_type": "code",
   "execution_count": null,
   "source": [
    "STH8_2_256_RS_array = hist_profile(all_den_fields_256_RS,den_grid_size,RS_array,min_mass,max_mass,\n",
    "                                       log_bins,subtraction_halo_profile,'tophat_spherical',2,8)\n",
    "\n",
    "saveArray('STH8_2_256_RS_array',STH8_2_256_RS_array[6])"
   ],
   "outputs": [],
   "metadata": {
    "scrolled": false
   }
  },
  {
   "cell_type": "code",
   "execution_count": null,
   "source": [
    "NFW8_256_RS_array = hist_profile(all_den_fields_256_RS,den_grid_size,RS_array,min_mass,max_mass,\n",
    "                                       log_bins,subtraction_halo_profile,'NFW',1,8)\n",
    "\n",
    "saveArray('NFW8_256_RS_array',NFW8_256_RS_array[6])"
   ],
   "outputs": [],
   "metadata": {}
  },
  {
   "cell_type": "code",
   "execution_count": null,
   "source": [
    "fire8_256_RS_array = hist_profile(all_den_fields_256_RS,den_grid_size,RS_array,min_mass,max_mass,\n",
    "                                       log_bins,subtraction_halo_profile,'fire',1,8)\n",
    "\n",
    "saveArray('fire8_256_RS_array',fire8_256_RS_array[6])"
   ],
   "outputs": [],
   "metadata": {}
  },
  {
   "cell_type": "code",
   "execution_count": null,
   "source": [
    "P8_256_RS_array = hist_profile(all_den_fields_256_RS,den_grid_size,RS_array,min_mass,max_mass,\n",
    "                                       log_bins,subtraction_halo_profile,'precipitation',1,8)\n",
    "\n",
    "saveArray('P8_256_RS_array',P8_256_RS_array[6])\n",
    "\n"
   ],
   "outputs": [],
   "metadata": {}
  },
  {
   "cell_type": "code",
   "execution_count": null,
   "source": [
    "# Saving arrays of DM to high redshifts\n",
    "\n",
    "# saveArray('STH1_256_RS_array',STH1_256_RS_array[6])\n",
    "\n",
    "\n",
    "\n",
    "\n",
    "\n",
    "\n",
    "# Load arrays\n",
    "# STH1_256_RS_array_L = loadArray('STH1_256_RS_array.npy')\n",
    "STH8_256_RS_array_L = loadArray('STH8_256_RS_array.npy')\n",
    "STH8_2_256_RS_array_L = loadArray('STH8_2_256_RS_array.npy')\n",
    "NFW8_256_RS_array_L = loadArray('NFW8_256_RS_array.npy')\n",
    "fire8_256_RS_array_L = loadArray('fire8_256_RS_array.npy')\n",
    "# P8_256_RS_array_L = loadArray('P8_256_RS_array.npy')\n"
   ],
   "outputs": [],
   "metadata": {}
  },
  {
   "cell_type": "code",
   "execution_count": null,
   "source": [
    "# Creating histograms for desired redshift\n",
    "\n",
    "# To RS = .5\n",
    "STH_RS_tenth= create_histograms(STH8_256_RS_array_L[0:1,:,:],1024*8,0,3*np.mean(sum(STH8_256_RS_array_L[0:1,:,:])))\n",
    "STH_RS_half = create_histograms(STH8_256_RS_array_L[0:5,:,:],1024*8,0,3*np.mean(sum(STH8_256_RS_array_L[0:5,:,:])))\n",
    "STH_RS_one = create_histograms(STH8_256_RS_array_L[0:8,:,:],1024*8,0,3*np.mean(sum(STH8_256_RS_array_L[0:8,:,:])))\n",
    "\n",
    "\n",
    "\n",
    "\n",
    "NFW_RS_tenth= create_histograms(NFW8_256_RS_array_L[0:1,:,:],1024*8,0,3*np.mean(sum(NFW8_256_RS_array_L[0:1,:,:])))\n",
    "NFW_RS_half = create_histograms(NFW8_256_RS_array_L[0:5,:,:],1024*8,0,3*np.mean(sum(NFW8_256_RS_array_L[0:5,:,:])))\n",
    "NFW_RS_one = create_histograms(NFW8_256_RS_array_L[0:8,:,:],1024*8,0,3*np.mean(sum(NFW8_256_RS_array_L[0:8,:,:])))\n",
    "\n",
    "\n",
    "fire_RS_tenth= create_histograms(fire8_256_RS_array_L[0:1,:,:],1024*8,0,3*np.mean(sum(fire8_256_RS_array_L[0:1,:,:])))\n",
    "fire_RS_half = create_histograms(fire8_256_RS_array_L[0:5,:,:],1024*8,0,3*np.mean(sum(fire8_256_RS_array_L[0:5,:,:])))\n",
    "fire_RS_one = create_histograms(fire8_256_RS_array_L[0:8,:,:],1024*8,0,3*np.mean(sum(fire8_256_RS_array_L[0:8,:,:])))\n",
    "\n",
    "\n",
    "\n",
    "\n",
    "STH8_2_1 = create_histograms(STH8_2_256_RS_array_L[0:1,:,:],1024*8,0,3*np.mean(sum(STH8_2_256_RS_array_L[0:1,:,:])))\n",
    "STH8_2_5 = create_histograms(STH8_2_256_RS_array_L[0:5,:,:],1024*8,0,3*np.mean(sum(STH8_2_256_RS_array_L[0:5,:,:])))\n",
    "STH8_2_10 = create_histograms(STH8_2_256_RS_array_L[0:8,:,:],1024*8,0,3*np.mean(sum(STH8_2_256_RS_array_L[0:8,:,:])))\n",
    "\n",
    "\n",
    "# STH8_2_1 = create_histograms(STH8_2_256_L[0:1,:,:],1024*8)\n",
    "# STH8_2_5 = create_histograms(STH8_2_256_L[0:5,:,:],1024*8)\n",
    "# STH8_2_10 = create_histograms(STH8_2_256_L[0:8,:,:],1024*8)\n",
    "\n",
    "\n",
    "# P_RS_tenth= create_histograms(P8_256_RS_array[0:1,:,:],1024*8)\n",
    "# P_RS_half = create_histograms(P8_256_RS_array[0:5,:,:],1024*8)\n",
    "# P_RS_one = create_histograms(P8_256_RS_array[0:8,:,:],1024*8)\n"
   ],
   "outputs": [],
   "metadata": {}
  },
  {
   "cell_type": "markdown",
   "source": [
    "# 3. DM vs Redshift plots"
   ],
   "metadata": {}
  },
  {
   "cell_type": "markdown",
   "source": [
    "#### Specs for plots"
   ],
   "metadata": {}
  },
  {
   "cell_type": "code",
   "execution_count": null,
   "source": [
    "SMALL_SIZE = 8\n",
    "MEDIUM_SIZE = 10\n",
    "BIGGER_SIZE = 16\n",
    "XBIG_SIZE = 20\n",
    "axis_fontsize = 20\n",
    "curve_thickness = 2\n",
    "\n",
    "\n",
    "plt.rc('font', size=SMALL_SIZE)          # controls default text sizes\n",
    "plt.rc('axes', titlesize=SMALL_SIZE)     # fontsize of the axes title\n",
    "plt.rc('axes', labelsize=MEDIUM_SIZE)    # fontsize of the x and y labels\n",
    "plt.rc('xtick', labelsize=BIGGER_SIZE)    # fontsize of the tick labels\n",
    "plt.rc('ytick', labelsize=BIGGER_SIZE)    # fontsize of the tick labels\n",
    "plt.rc('legend', fontsize=XBIG_SIZE)    # legend fontsize\n",
    "plt.rc('figure', titlesize=BIGGER_SIZE)  # fontsize of the figure title"
   ],
   "outputs": [],
   "metadata": {}
  },
  {
   "cell_type": "code",
   "execution_count": null,
   "source": [
    "\n",
    "\n",
    "# figure and subplots\n",
    "fig, axs = plt.subplots(1, 3, sharex='col', sharey='row',\n",
    "                        gridspec_kw={'hspace': 0, 'wspace': 0},figsize=(45,15))\n",
    "\n",
    "curve_lw = 4\n",
    "\n",
    "\n",
    "axs[0].plot(STH_RS_tenth[0],STH_RS_tenth[0]*STH_RS_tenth[1],'-',label='3D Tophat',lw=curve_lw)\n",
    "axs[0].plot(STH8_2_1[0],STH8_2_1[0]*STH8_2_1[1],'-',label='3D Tophat 2$R_{vir}$',lw=curve_lw)\n",
    "axs[0].plot(NFW_RS_tenth[0],NFW_RS_tenth[0]*NFW_RS_tenth[1],'-',label='NFW',lw=curve_lw)\n",
    "axs[0].plot(fire_RS_tenth[0],fire_RS_tenth[0]*fire_RS_tenth[1],'-',label='Fire',lw=curve_lw)\n",
    "# axs[0].plot(P_RS_tenth[0],P_RS_tenth[0]*P_RS_tenth[1],'-',label='Precipitation',lw=curve_lw)\n",
    "\n",
    "\n",
    "\n",
    "\n",
    "\n",
    "# Second plot\n",
    "\n",
    "\n",
    "axs[1].plot(STH_RS_half[0],STH_RS_half[0]*STH_RS_half[1],'-',label='3D Tophat',lw=curve_lw)\n",
    "axs[1].plot(STH8_2_5[0],STH8_2_5[0]*STH8_2_5[1],'-',label='3D Tophat 2Rvir',lw=curve_lw)\n",
    "axs[1].plot(NFW_RS_half[0],NFW_RS_half[0]*NFW_RS_half[1],'-',label='NFW',lw=curve_lw)\n",
    "axs[1].plot(fire_RS_half[0],fire_RS_half[0]*fire_RS_half[1],'-',label='Fire',lw=curve_lw)\n",
    "# axs[0].plot(P_RS_half[0],P_RS_half[0]*P_RS_half[1],'-',label='Fire',lw=curve_lw)\n",
    "\n",
    "\n",
    "\n",
    "# Third plot\n",
    "\n",
    "axs[2].plot(STH_RS_one[0],STH_RS_one[0]*STH_RS_one[1],'-',label='3D Tophat',lw=curve_lw)\n",
    "axs[2].plot(STH8_2_10[0],STH8_2_10[0]*STH8_2_10[1],'-',label='3D Tophat 2Rvir',lw=curve_lw)\n",
    "axs[2].plot(NFW_RS_one[0],NFW_RS_one[0]*NFW_RS_one[1],'-',label='NFW',lw=curve_lw)\n",
    "axs[2].plot(fire_RS_one[0],fire_RS_one[0]*fire_RS_one[1],'-',label='Fire',lw=curve_lw)\n",
    "# axs[0].plot(P_RS_one[0],P_RS_one[0]*P_RS_one[1],'-',label='Fire',lw=curve_lw)\n",
    "\n",
    "\n",
    "# Axis range\n",
    "axs[0].set_xlim(xmin=0,xmax=199)\n",
    "axs[1].set_xlim(xmin=0,xmax=1499)\n",
    "axs[2].set_xlim(xmin=0,xmax=2500)\n",
    "\n",
    "\n",
    "# Subplot titles\n",
    "axs[0].set_title('Redshift = 0.1',fontsize=40)\n",
    "axs[1].set_title('Redshift = 0.5',fontsize=40)\n",
    "axs[2].set_title('Redshift = 1.0',fontsize=40)\n",
    "\n",
    "\n",
    "# Mean DM: set for the given redshift\n",
    "mean=axs[0].axvline(np.mean(STH8_256_RS_array_L[0,:,:]), color='k', linestyle='-', linewidth=1)\n",
    "axs[1].axvline(np.mean(sum(STH8_256_RS_array_L[0:5,:,:])), color='k', linestyle='-', linewidth=1)\n",
    "axs[2].axvline(np.mean(sum(STH8_256_RS_array_L[0:8,:,:])), color='k', linestyle='-', linewidth=1)\n",
    "# mean.set_label('Mean DM')\n",
    "\n",
    "\n",
    "\n",
    "# Axis labels\n",
    "fig.text(0.5, 0.04, 'DM [pc $cm^{-3}$]', ha='center',fontsize=60)\n",
    "axs[0].set_ylabel(r'$ P(DM) \\times DM$',fontsize=60)\n",
    "\n",
    "\n",
    "axs[0].ticklabel_format(useMathText=True)\n",
    "axs[1].ticklabel_format(useMathText=True)\n",
    "axs[2].ticklabel_format(useMathText=True)\n",
    "# axs[0].yaxis.set_major_formatter(FormatStrFormatter('%.2f'))\n",
    "# axs[0].ticker.LogFormatter(base=10.0)\n",
    "# import matplotlib.ticker as tick\n",
    "# axs[0].yaxis.set_major_formatter(tick.LogFormatter())\n",
    "\n",
    "\n",
    "# legend\n",
    "axs[0].legend(loc='upper right',prop={'size':40})\n",
    "\n",
    "\n",
    "\n",
    "fig.savefig('fiducial_profiles_RS_hist.pdf',bbox_inches='tight')\n"
   ],
   "outputs": [],
   "metadata": {}
  },
  {
   "cell_type": "markdown",
   "source": [
    "### We calculated the standard deviations of the redshift stack as follows:\n",
    "\n",
    "If you want to stack five boxes, in the sum, go from 0:5, etc"
   ],
   "metadata": {}
  },
  {
   "cell_type": "code",
   "execution_count": null,
   "source": [
    "var_STH_1 = np.round(np.sqrt((STH8_256_RS_array_L[0,:,:]).var()),2) \n",
    "var_STH_2 = np.round(np.sqrt((sum(STH8_256_RS_array_L[0:5,:,:])).var()),2) \n",
    "var_STH_3 = np.round(np.sqrt((sum(STH8_256_RS_array_L[0:8,:,:])).var()),2)\n",
    "print('Variance of Tophat','RS 0.1 = ',var_STH_1,' RS 0.5 = ', var_STH_2,' RS 1 = ',var_STH_3)\n"
   ],
   "outputs": [],
   "metadata": {}
  },
  {
   "cell_type": "code",
   "execution_count": null,
   "source": [
    "var_STH2_1 = np.round(np.sqrt((STH8_2_256_RS_array_L[0,:,:]).var()),2) \n",
    "var_STH2_2 = np.round(np.sqrt((sum(STH8_2_256_RS_array_L[0:5,:,:])).var()),2) \n",
    "var_STH2_3 = np.round(np.sqrt((sum(STH8_2_256_RS_array_L[0:8,:,:])).var()),2)\n",
    "print('Variance of Tophat','RS 0.1 = ',var_STH2_1,' RS 0.5 = ', var_STH2_2,' RS 1 = ',var_STH2_3)\n"
   ],
   "outputs": [],
   "metadata": {}
  },
  {
   "cell_type": "code",
   "execution_count": null,
   "source": [
    "var_fire_1 = np.round(np.sqrt((fire8_256_RS_array_L[0,:,:]).var()),2) \n",
    "var_fire_2 = np.round(np.sqrt((sum(fire8_256_RS_array_L[0:5,:,:])).var()),2) \n",
    "var_fire_3 = np.round(np.sqrt((sum(fire8_256_RS_array_L[0:8,:,:])).var()),2)\n",
    "print('Variance of Fire','RS 0.1 = ',var_fire_1,' RS 0.5 = ', var_fire_2,' RS 1 = ',var_fire_3)\n"
   ],
   "outputs": [],
   "metadata": {}
  },
  {
   "cell_type": "code",
   "execution_count": null,
   "source": [
    "var_NFW_1 = np.round(np.sqrt((NFW8_256_RS_array_L[0,:,:]).var()),2) \n",
    "var_NFW_2 = np.round(np.sqrt((sum(NFW8_256_RS_array_L[0:5,:,:])).var()),2) \n",
    "var_NFW_3 = np.round(np.sqrt((sum(NFW8_256_RS_array_L[0:8,:,:])).var()),2)\n",
    "print('Variance of NFW','RS 0.1 = ',var_NFW_1,' RS 0.5 = ', var_NFW_2,' RS 1 = ',var_NFW_3)\n"
   ],
   "outputs": [],
   "metadata": {}
  },
  {
   "cell_type": "code",
   "execution_count": null,
   "source": [
    "var_P_1 = np.round(np.sqrt((P8_256_RS_array_L[6][0,:,:]).var()),2) \n",
    "var_P_2 = np.round(np.sqrt((sum(P8_256_RS_array_L[6][0:5,:,:])).var()),2) \n",
    "var_P_3 = np.round(np.sqrt((sum(P8_256_RS_array_L[6][0:9,:,:])).var()),2)\n",
    "print('Variance of NFW','RS 0.1 = ',var_P_1,' RS 0.5 = ', var_P_2,' RS 1 = ',var_P_3)\n"
   ],
   "outputs": [],
   "metadata": {}
  },
  {
   "cell_type": "code",
   "execution_count": null,
   "source": [
    "plt.semilogx(r_star_ar*1000,error_1000_MW_STH,ls='--',drawstyle='steps',color='red',lw=1)\n",
    "# plt.semilogx(r_star_ar*1000,error_1000_MW_STH2,ls='--',drawstyle='steps',color='red',lw=1)\n",
    "# plt.semilogx(r_star_ar*1000,error_1000_MW_NFW,ls='--',drawstyle='steps',color='red',lw=1)\n",
    "plt.semilogx(r_star_ar*1000,error_1000_MW_fire,ls='--',drawstyle='steps',color='red',lw=1)\n",
    "\n",
    "\n",
    "\n",
    "# plt.semilogx(r_star_ar*1000,error_10000_MW_STH,ls='-.',drawstyle='steps',color='red',lw=1)\n",
    "# plt.semilogx(r_star_ar*1000,error_10000_MW_STH2,ls='-.',drawstyle='steps',color='red',lw=1)\n",
    "# plt.semilogx(r_star_ar*1000,error_10000_MW_NFW,ls='-.',drawstyle='steps',color='red',lw=1)\n",
    "# plt.semilogx(r_star_ar*1000,error_10000_MW_fire,ls='-.',drawstyle='steps',color='red',lw=1)"
   ],
   "outputs": [],
   "metadata": {
    "scrolled": false
   }
  },
  {
   "cell_type": "markdown",
   "source": [
    "# Two different profiles for different mass bins"
   ],
   "metadata": {}
  },
  {
   "cell_type": "code",
   "execution_count": null,
   "source": [
    "\n",
    "# Cuttoff 12.5\n",
    "# STH_NFW_1 = hist_profile(all_den_fields_256_RS,den_grid_size,RS_array,min_mass,max_mass,\n",
    "#                                        log_bins,subtraction_halo_profile,'2RVSTH_and_NFW_12.5',1,1)\n",
    "\n",
    "# NFW_1 = hist_profile(all_den_fields_256_RS,den_grid_size,RS_array,min_mass,max_mass,\n",
    "#                                  log_bins,subtraction_halo_profile,'NFW',1,1)\n",
    "\n",
    "\n",
    "\n",
    "\n",
    "\n",
    "\n",
    "\n",
    "\n",
    "\n",
    "\n"
   ],
   "outputs": [],
   "metadata": {}
  },
  {
   "cell_type": "code",
   "execution_count": null,
   "source": [
    "STH_NFW_1 = hist_profile(all_den_fields_256_RS,den_grid_size,RS_array,min_mass,max_mass,\n",
    "                                 log_bins,subtraction_halo_profile,'2RVSTH_and_NFW_11',1,8)\n",
    "\n",
    "saveArray('STH_NFW_1',STH_NFW_1[6])"
   ],
   "outputs": [],
   "metadata": {}
  },
  {
   "cell_type": "code",
   "execution_count": null,
   "source": [
    "STH_NFW_2 = hist_profile(all_den_fields_256_RS,den_grid_size,RS_array,min_mass,max_mass,\n",
    "                                 log_bins,subtraction_halo_profile,'2RVSTH_and_NFW_11.5',1,8)\n",
    "\n",
    "saveArray('STH_NFW_2',STH_NFW_2[6])\n"
   ],
   "outputs": [],
   "metadata": {}
  },
  {
   "cell_type": "code",
   "execution_count": null,
   "source": [
    "STH_NFW_3 = hist_profile(all_den_fields_256_RS,den_grid_size,RS_array,min_mass,max_mass,\n",
    "                                 log_bins,subtraction_halo_profile,'2RVSTH_and_NFW_12.5',1,8)\n",
    "\n",
    "saveArray('STH_NFW_3',STH_NFW_3[6])\n"
   ],
   "outputs": [],
   "metadata": {}
  },
  {
   "cell_type": "code",
   "execution_count": null,
   "source": [
    "STH_NFW_4 = hist_profile(all_den_fields_256_RS,den_grid_size,RS_array,min_mass,max_mass,\n",
    "                                 log_bins,subtraction_halo_profile,'2RVSTH_and_NFW_12.5',1,8)\n",
    "\n",
    "saveArray('STH_NFW_4',STH_NFW_4[6])\n"
   ],
   "outputs": [],
   "metadata": {}
  },
  {
   "cell_type": "code",
   "execution_count": null,
   "source": [
    "# Cuttoff 13\n",
    "STH_NFW_5 = hist_profile(all_den_fields_256_RS,den_grid_size,RS_array,min_mass,max_mass,\n",
    "                                       log_bins,subtraction_halo_profile,'2RVSTH_and_NFW_13',1,8)\n",
    "\n",
    "saveArray('STH_NFW_5',STH_NFW_5[6])\n",
    "\n"
   ],
   "outputs": [],
   "metadata": {}
  },
  {
   "cell_type": "code",
   "execution_count": null,
   "source": [
    "# Cuttoff 12.5\n",
    "STH_NFW_6 = hist_profile(all_den_fields_256_RS,den_grid_size,RS_array,min_mass,max_mass,\n",
    "                                       log_bins,subtraction_halo_profile,'2RVSTH_and_NFW_13.5',1,8)\n",
    "\n",
    "saveArray('STH_NFW_6',STH_NFW_6[6])\n"
   ],
   "outputs": [],
   "metadata": {}
  },
  {
   "cell_type": "code",
   "execution_count": null,
   "source": [
    "STH_NFW_1= loadArray('STH_NFW_1.npy')\n",
    "STH_NFW_2= loadArray('STH_NFW_2.npy')\n",
    "STH_NFW_3= loadArray('STH_NFW_3.npy')\n",
    "STH_NFW_4= loadArray('STH_NFW_4.npy')\n",
    "STH_NFW_5= loadArray('STH_NFW_5.npy')\n",
    "STH_NFW_6= loadArray('STH_NFW_6.npy')\n"
   ],
   "outputs": [],
   "metadata": {}
  },
  {
   "cell_type": "markdown",
   "source": [
    "### PDFs for STH_NFW"
   ],
   "metadata": {}
  },
  {
   "cell_type": "code",
   "execution_count": null,
   "source": [
    "# !Add min and max to argument before running!\n",
    "\n",
    "# STH_NFW_1_1= create_histograms(STH_NFW_1[0:1,:,:],1024*8)\n",
    "# STH_NFW_1_2= create_histograms(STH_NFW_2[0:1,:,:],1024*8)\n",
    "# STH_NFW_1_3= create_histograms(STH_NFW_3[0:1,:,:],1024*8)\n",
    "# STH_NFW_1_4= create_histograms(STH_NFW_4[0:1,:,:],1024*8)\n",
    "# STH_NFW_1_5= create_histograms(STH_NFW_5[0:1,:,:],1024*8)\n",
    "# STH_NFW_1_6= create_histograms(STH_NFW_6[0:1,:,:],1024*8)\n",
    "\n",
    "\n",
    "# STH_NFW_2_1= create_histograms(STH_NFW_1[0:5,:,:],1024*8)\n",
    "# STH_NFW_2_2= create_histograms(STH_NFW_2[0:5,:,:],1024*8)\n",
    "# STH_NFW_2_3= create_histograms(STH_NFW_3[0:5,:,:],1024*8)\n",
    "# STH_NFW_2_4= create_histograms(STH_NFW_4[0:5,:,:],1024*8)\n",
    "# STH_NFW_2_5= create_histograms(STH_NFW_5[0:5,:,:],1024*8)\n",
    "# STH_NFW_2_6= create_histograms(STH_NFW_6[0:5,:,:],1024*8)\n",
    "\n",
    "\n",
    "# STH_NFW_3_1= create_histograms(STH_NFW_1[0:8,:,:],1024*8)\n",
    "# STH_NFW_3_2= create_histograms(STH_NFW_2[0:8,:,:],1024*8)\n",
    "# STH_NFW_3_3= create_histograms(STH_NFW_3[0:8,:,:],1024*8)\n",
    "# STH_NFW_3_4= create_histograms(STH_NFW_4[0:8,:,:],1024*8)\n",
    "# STH_NFW_3_5= create_histograms(STH_NFW_5[0:8,:,:],1024*8)\n",
    "# STH_NFW_3_6= create_histograms(STH_NFW_6[0:8,:,:],1024*8)\n",
    "\n",
    "\n",
    "\n"
   ],
   "outputs": [],
   "metadata": {}
  },
  {
   "cell_type": "code",
   "execution_count": null,
   "source": [
    "\n",
    "\n",
    "# figure and subplots\n",
    "fig, axs = plt.subplots(1, 3, sharex='col', sharey='row',\n",
    "                        gridspec_kw={'hspace': 0, 'wspace': 0},figsize=(45,15))\n",
    "\n",
    "\n",
    "curve_lw=3\n",
    "\n",
    "axs[0].plot(STH_NFW_1_1[0],STH_NFW_1_1[0]*STH_NFW_1_1[1],'-',label='11 $M_\\odot$',lw=curve_lw)\n",
    "axs[0].plot(STH_NFW_1_2[0],STH_NFW_1_2[0]*STH_NFW_1_2[1],'-',label='11.5 $M_\\odot$',lw=curve_lw)\n",
    "axs[0].plot(STH_NFW_1_3[0],STH_NFW_1_3[0]*STH_NFW_1_3[1],'-',label='12 $M_\\odot$',lw=curve_lw)\n",
    "axs[0].plot(STH_NFW_1_4[0],STH_NFW_1_4[0]*STH_NFW_1_4[1],'-',label='12.5 $M_\\odot$',lw=curve_lw)\n",
    "axs[0].plot(STH_NFW_1_5[0],STH_NFW_1_5[0]*STH_NFW_1_5[1],'-',label='13 $M_\\odot$',lw=curve_lw)\n",
    "axs[0].plot(STH_NFW_1_6[0],STH_NFW_1_6[0]*STH_NFW_1_6[1],'-',label='13.5 $M_\\odot$',lw=curve_lw)\n",
    "\n",
    "\n",
    "\n",
    "\n",
    "# Second plot\n",
    "\n",
    "axs[1].plot(STH_NFW_2_1[0],STH_NFW_2_1[0]*STH_NFW_2_1[1],'-',label='Cutoff 12.5',lw=curve_lw)\n",
    "axs[1].plot(STH_NFW_2_2[0],STH_NFW_2_2[0]*STH_NFW_2_2[1],'-',label='Cutoff 13',lw=curve_lw)\n",
    "axs[1].plot(STH_NFW_2_3[0],STH_NFW_2_3[0]*STH_NFW_2_3[1],'-',label='Cutoff 13.5',lw=curve_lw)\n",
    "axs[1].plot(STH_NFW_2_4[0],STH_NFW_2_4[0]*STH_NFW_2_4[1],'-',label='12.5 $M_\\odot$',lw=curve_lw)\n",
    "axs[1].plot(STH_NFW_2_5[0],STH_NFW_2_5[0]*STH_NFW_2_5[1],'-',label='13 $M_\\odot$',lw=curve_lw)\n",
    "axs[1].plot(STH_NFW_2_6[0],STH_NFW_2_6[0]*STH_NFW_2_6[1],'-',label='13.5 $M_\\odot$',lw=curve_lw)\n",
    "\n",
    "\n",
    "\n",
    "\n",
    "# # Third plot\n",
    "\n",
    "axs[2].plot(STH_NFW_3_1[0],STH_NFW_3_1[0]*STH_NFW_3_1[1],'-',label='Cutoff 12.5',lw=curve_lw)\n",
    "axs[2].plot(STH_NFW_3_2[0],STH_NFW_3_2[0]*STH_NFW_3_2[1],'-',label='Cutoff 13',lw=curve_lw)\n",
    "axs[2].plot(STH_NFW_3_3[0],STH_NFW_3_3[0]*STH_NFW_3_3[1],'-',label='Cutoff 13.5',lw=curve_lw)\n",
    "axs[2].plot(STH_NFW_3_4[0],STH_NFW_3_4[0]*STH_NFW_3_4[1],'-',label='12.5 $M_\\odot$',lw=curve_lw)\n",
    "axs[2].plot(STH_NFW_3_5[0],STH_NFW_3_5[0]*STH_NFW_3_5[1],'-',label='13 $M_\\odot$',lw=curve_lw)\n",
    "axs[2].plot(STH_NFW_3_6[0],STH_NFW_3_6[0]*STH_NFW_3_6[1],'-',label='13.5 $M_\\odot$',lw=curve_lw)\n",
    "\n",
    "\n",
    "\n",
    "# Axis range\n",
    "axs[0].set_xlim(xmin=0,xmax=199)\n",
    "axs[1].set_xlim(xmin=0,xmax=1299)\n",
    "axs[2].set_xlim(xmin=0,xmax=2500)\n",
    "\n",
    "\n",
    "# Subplot titles\n",
    "axs[0].set_title('Redshift = 0.1',fontsize=40)\n",
    "axs[1].set_title('Redshift = 0.5',fontsize=40)\n",
    "axs[2].set_title('Redshift = 0.9',fontsize=40)\n",
    "\n",
    "\n",
    "# Mean DM: set for the given redshift\n",
    "mean=axs[0].axvline(np.mean(STH_NFW_1[0,:,:]), color='k', linestyle='-', linewidth=1)\n",
    "axs[1].axvline(np.mean(sum(STH_NFW_1[0:5,:,:])), color='k', linestyle='-', linewidth=1)\n",
    "axs[2].axvline(np.mean(sum(STH_NFW_1[0:8,:,:])), color='k', linestyle='-', linewidth=1)\n",
    "# mean.set_label('Mean DM')\n",
    "\n",
    "\n",
    "\n",
    "# Axis labels\n",
    "fig.text(0.5, 0.04, 'DM [pc $cm^{-3}$]', ha='center',fontsize=60)\n",
    "axs[0].set_ylabel(r'$P(DM) \\times DM$ ',fontsize=60)\n",
    "\n",
    "\n",
    "axs[0].ticklabel_format(useMathText=True)\n",
    "axs[1].ticklabel_format(useMathText=True)\n",
    "axs[2].ticklabel_format(useMathText=True)\n",
    "# axs[0].yaxis.set_major_formatter(FormatStrFormatter('%.2f'))\n",
    "# axs[0].ticker.LogFormatter(base=10.0)\n",
    "# import matplotlib.ticker as tick\n",
    "# axs[0].yaxis.set_major_formatter(tick.LogFormatter())\n",
    "\n",
    "\n",
    "# legend\n",
    "legend=axs[0].legend(title = 'STH to NFW transition at',fontsize='xlarge',loc='upper right',prop={'size':35})\n",
    "legend.get_title().set_fontsize('35') #legend 'Title' fontsize\n",
    "\n",
    "\n",
    "fig.savefig('STH_NFW_transition.pdf',bbox_inches='tight')\n"
   ],
   "outputs": [],
   "metadata": {}
  },
  {
   "cell_type": "markdown",
   "source": [
    "# Below is the test code for higher resolutions"
   ],
   "metadata": {}
  },
  {
   "cell_type": "markdown",
   "source": [
    "## DM vs radius test for Resolution 16"
   ],
   "metadata": {}
  },
  {
   "cell_type": "code",
   "execution_count": 238,
   "source": [
    "resolution=16\n",
    "\n",
    "grid_size = resolution*1024\n",
    "\n",
    "trim_dim=int((10*resolution)/2+1)  # Need +1 to match the dimensions of the mask grids\n",
    "\n",
    "# Radial extent of the plots in Mpc\n",
    "extent = (L/grid_size)*(trim_dim)\n"
   ],
   "outputs": [],
   "metadata": {}
  },
  {
   "cell_type": "code",
   "execution_count": 239,
   "source": [
    "# Spherical tophat\n",
    "# STH_DMvsR=DM_vs_radius(STH8_256[1][0,:,:],df,trim_dim, mass_bins, halos_per_mass_bin)\n",
    "STH_DMvsR_16=DM_vs_radius(STH16_256[1][0,:,:],df[0],trim_dim, df[2], df[1])"
   ],
   "outputs": [
    {
     "output_type": "stream",
     "name": "stdout",
     "text": [
      "115\n"
     ]
    }
   ],
   "metadata": {}
  },
  {
   "cell_type": "code",
   "execution_count": null,
   "source": [
    "STH8_2_DMvsR_16=DM_vs_radius(STH16_256[1][0,:,:],df[0],trim_dim, df[2], df[1])"
   ],
   "outputs": [],
   "metadata": {}
  },
  {
   "cell_type": "code",
   "execution_count": 240,
   "source": [
    "# fire simulation\n",
    "fire_DMvsR_16=DM_vs_radius(fire16_256[1][0,:,:],df[0],trim_dim, df[2], df[1])\n",
    "# fire_DMvsR=DM_vs_radius(fire8_256[1][0,:,:],df,trim_dim, mass_bins, halos_per_mass_bin)"
   ],
   "outputs": [
    {
     "output_type": "stream",
     "name": "stdout",
     "text": [
      "115\n"
     ]
    }
   ],
   "metadata": {}
  },
  {
   "cell_type": "code",
   "execution_count": 241,
   "source": [
    "# NFW\n",
    "NFW_DMvsR_16=DM_vs_radius(NFW16_256[1][0,:,:],df[0],trim_dim, df[2], df[1])\n",
    "# NFW_DMvsR=DM_vs_radius(NFW8_256[1][0,:,:],df,trim_dim, mass_bins, halos_per_mass_bin)\n"
   ],
   "outputs": [
    {
     "output_type": "stream",
     "name": "stdout",
     "text": [
      "115\n"
     ]
    }
   ],
   "metadata": {}
  },
  {
   "cell_type": "code",
   "execution_count": 242,
   "source": [
    "# Create profiles of masks\n",
    "\n",
    "STH_masks_16=profile_of_masks(STH16_256[2][0,:,:,:])\n",
    "NFW_masks_16=profile_of_masks(NFW16_256[2][0,:,:,:])\n",
    "fire_masks_16=profile_of_masks(fire16_256[2][0,:,:,:])"
   ],
   "outputs": [],
   "metadata": {}
  },
  {
   "cell_type": "code",
   "execution_count": 243,
   "source": [
    "# Save DM vs Radius profiles\n",
    "\n",
    "# saveArray('STH_DMvsR_16',STH_DMvsR_16)\n",
    "# saveArray('NFW_DMvsR_16',NFW_DMvsR_16)\n",
    "saveArray('fire_DMvsR_16',fire_DMvsR_16)\n",
    "\n",
    "\n",
    "# # Save masks\n",
    "\n",
    "# saveArray('STH_masks_16',STH_masks_16)\n",
    "# saveArray('NFW_masks_16',NFW_masks_16)\n",
    "saveArray('fire_masks_16',fire_masks_16)\n",
    "\n",
    "# saveArray('ordered_halo_dataframe',df)\n"
   ],
   "outputs": [],
   "metadata": {}
  },
  {
   "cell_type": "code",
   "execution_count": 250,
   "source": [
    "# figure and subplots\n",
    "\n",
    "MpctoKpc =1000\n",
    "x_start=40  #kpc: min impact parameter \n",
    "\n",
    "\n",
    "DM_Rad_fig_16, DM_Rad_axs = plt.subplots(3, 1,\n",
    "                        gridspec_kw={'hspace': 0, 'wspace': .2},figsize=(10,30))\n",
    "\n",
    "plt.rc('xtick', labelsize=25)    # fontsize of the tick labels\n",
    "plt.rc('ytick', labelsize=25)    # fontsize of the tick labels\n",
    "\n",
    "# plt.rc('axes', titlesize=30)     # fontsize of the axes title\n",
    "# plt.rc('axes', labelsize=20)    # fontsize of the x and y labels\n",
    "\n",
    "\n",
    "\n",
    "# First plot\n",
    "\n",
    "# DM_Rad_axs[0].semilogx(np.linspace(0,extent,TH_DMvsR.shape[1]),TH_DMvsR[M_chosen[0],:]-mean_DM,'-', label= '2D tophat')\n",
    "DM_Rad_axs[0].semilogx(MpctoKpc*np.linspace(0,extent,STH_DMvsR_16.shape[1]),STH_DMvsR_16[M_chosen[1],:]-mean_DM,'-', label= '3D Tophat',lw=3,color= 'red')\n",
    "DM_Rad_axs[0].semilogx(MpctoKpc*np.linspace(0,extent,fire_DMvsR_16.shape[1]),fire_DMvsR_16[M_chosen[1],:]-mean_DM,'-', label= 'fire',lw=3,color='green')\n",
    "DM_Rad_axs[0].semilogx(MpctoKpc*np.linspace(0,extent,NFW_DMvsR_16.shape[1]),NFW_DMvsR_16[M_chosen[1],:]-mean_DM,'-' ,label= 'NFW',lw=3,color='blue')\n",
    "\n",
    "\n",
    "# Masks\n",
    "DM_Rad_axs[0].semilogx(MpctoKpc*np.linspace(0,extent,STH_masks_16.shape[1]),STH_masks_16[M_chosen[1],:],'--', lw=2,color='red')\n",
    "DM_Rad_axs[0].semilogx(MpctoKpc*np.linspace(0,extent,fire_masks_16.shape[1]),fire_masks_16[M_chosen[1],:],'--',lw=2,color='green')\n",
    "DM_Rad_axs[0].semilogx(MpctoKpc*np.linspace(0,extent,NFW_masks_16.shape[1]),NFW_masks_16[M_chosen[1],:],'--', lw=2,color='blue')\n",
    "\n",
    "\n",
    "DM_Rad_axs[0].set_ylim([0, 60])\n",
    "DM_Rad_axs[0].set_xlim([x_start, MpctoKpc*2])\n",
    "\n",
    "\n",
    "# axis title\n",
    "# DM_Rad_axs[0].set_title('Mass = %.1E' % Decimal(df[2][M_chosen[1]]),fontsize=14)\n",
    "DM_Rad_axs[0].text(MpctoKpc*.1, 55, 'Mass = %.1E $M_\\odot$' % Decimal(df[2][M_chosen[1]]),fontsize=20)\n",
    "\n",
    "\n",
    "# Second plot\n",
    "\n",
    "# DM_Rad_axs[1].semilogx(np.linspace(0,extent,TH_DMvsR.shape[1]),TH_DMvsR[M_chosen[2],:]-mean_DM,'-', label= '2D tophat',)\n",
    "DM_Rad_axs[1].semilogx(MpctoKpc*np.linspace(0,extent,STH_DMvsR_16.shape[1]),STH_DMvsR_16[M_chosen[2],:]-mean_DM,'-', label= '3D tophat',lw=3,color='red')\n",
    "DM_Rad_axs[1].semilogx(MpctoKpc*np.linspace(0,extent,fire_DMvsR_16.shape[1]),fire_DMvsR_16[M_chosen[2],:]-mean_DM,'-' ,label= 'fire',lw=3,color='green')\n",
    "DM_Rad_axs[1].semilogx(MpctoKpc*np.linspace(0,extent,NFW_DMvsR_16.shape[1]),NFW_DMvsR_16[M_chosen[2],:]-mean_DM,'-', label= 'NFW',lw=3,color='blue')\n",
    "\n",
    "# Masks\n",
    "DM_Rad_axs[1].semilogx(MpctoKpc*np.linspace(0,extent,STH_masks_16.shape[1]),STH_masks_16[M_chosen[2],:],'--', lw=2,color='red')\n",
    "DM_Rad_axs[1].semilogx(MpctoKpc*np.linspace(0,extent,fire_masks_16.shape[1]),fire_masks_16[M_chosen[2],:],'--',lw=2,color='green')\n",
    "DM_Rad_axs[1].semilogx(MpctoKpc*np.linspace(0,extent,NFW_masks_16.shape[1]),NFW_masks_16[M_chosen[2],:],'--', lw=2,color='blue')\n",
    "\n",
    "DM_Rad_axs[1].set_ylim(ymin=0,ymax=199)\n",
    "DM_Rad_axs[1].set_xlim([x_start, MpctoKpc*2])\n",
    "\n",
    "\n",
    "# DM_Rad_axs[1].set_title('Mass = %.1E' % Decimal(df[2][M_chosen[2]]),fontsize=14)\n",
    "DM_Rad_axs[1].text(MpctoKpc*.1, 180, 'Mass = %.1E $M_\\odot$' % Decimal(df[2][M_chosen[2]]),fontsize=20)\n",
    "\n",
    "\n",
    "\n",
    "# Third plot\n",
    "\n",
    "\n",
    "DM_Rad_axs[2].semilogx(MpctoKpc*np.linspace(0,extent,STH_DMvsR_16.shape[1]),STH_DMvsR_16[M_chosen[3],:]-mean_DM,'-', label= '3D tophat',lw=3,color='red')\n",
    "DM_Rad_axs[2].semilogx(MpctoKpc*np.linspace(0,extent,fire_DMvsR_16.shape[1]),fire_DMvsR_16[M_chosen[3],:]-mean_DM,'-', label= 'Fire',lw=3,color='green')\n",
    "DM_Rad_axs[2].semilogx(MpctoKpc*np.linspace(0,extent,NFW_DMvsR_16.shape[1]),NFW_DMvsR_16[M_chosen[3],:]-mean_DM, '-',label= 'NFW',lw=3,color='blue')\n",
    "\n",
    "\n",
    "DM_Rad_axs[2].semilogx(MpctoKpc*np.linspace(0,extent,STH_masks_16.shape[1]),STH_masks_16[M_chosen[3],:],'--', lw=2,color='red')\n",
    "DM_Rad_axs[2].semilogx(MpctoKpc*np.linspace(0,extent,fire_masks_16.shape[1]),fire_masks_16[M_chosen[3],:],'--',lw=2,color='green')\n",
    "DM_Rad_axs[2].semilogx(MpctoKpc*np.linspace(0,extent,NFW_masks_16.shape[1]),NFW_masks_16[M_chosen[3],:], '--',lw=2,color='blue')\n",
    "\n",
    "\n",
    "\n",
    "\n",
    "DM_Rad_axs[2].set_ylim(ymin=0,ymax=999)\n",
    "DM_Rad_axs[2].set_xlim([x_start, MpctoKpc*2])\n",
    "\n",
    "# DM_Rad_axs[2].set_title('Mass = %.1E' % Decimal(df[2][M_chosen[3]]),fontsize=14)\n",
    "DM_Rad_axs[2].text(MpctoKpc*.1, 925, 'Mass = %.1E $M_\\odot$' % Decimal(df[2][M_chosen[3]]),fontsize=20)\n",
    "\n",
    "\n",
    "\n",
    "# ticks\n",
    "\n",
    "# ax.xaxis.grid(True, which='minor')\n",
    "# DM_Rad_axs[0].xaxis.grid(axis='x', which='minor', bottom=True)\n",
    "\n",
    "# DM_Rad_axs[0].tick_params(axis='x', which='minor', bottom=True)\n",
    "# DM_Rad_axs[1].tick_params(axis='x', which='minor', bottom=True)\n",
    "\n",
    "DM_Rad_axs[0].tick_params(axis='x', which='minor')\n",
    "\n",
    "# legend\n",
    "\n",
    "DM_Rad_axs[0].legend(loc='upper right',prop={'size':18})\n",
    "# DM_Rad_axs[0].set_ylabel('DM - <DM> [pc $cm^{-3}$]',fontsize=30)\n",
    "DM_Rad_axs[1].set_ylabel('DM - <DM> [pc $cm^{-3}$]',fontsize=30)\n",
    "# DM_Rad_axs[2].set_ylabel('DM - <DM> [pc $cm^{-3}$]',fontsize=30)\n",
    "DM_Rad_axs[2].set_xlabel('Impact Parameter [kpc]',fontsize=30)\n",
    "\n",
    "\n",
    "\n",
    "\n",
    "DM_Rad_fig_16.savefig('DMvsRad_profiles_16.pdf',bbox_inches='tight')"
   ],
   "outputs": [
    {
     "output_type": "error",
     "ename": "NameError",
     "evalue": "name 'STH_DMvsR_16' is not defined",
     "traceback": [
      "\u001b[0;31m---------------------------------------------------------------------------\u001b[0m",
      "\u001b[0;31mNameError\u001b[0m                                 Traceback (most recent call last)",
      "\u001b[0;32m<ipython-input-250-f0ace593dbcd>\u001b[0m in \u001b[0;36m<module>\u001b[0;34m\u001b[0m\n\u001b[1;32m     19\u001b[0m \u001b[0;34m\u001b[0m\u001b[0m\n\u001b[1;32m     20\u001b[0m \u001b[0;31m# DM_Rad_axs[0].semilogx(np.linspace(0,extent,TH_DMvsR.shape[1]),TH_DMvsR[M_chosen[0],:]-mean_DM,'-', label= '2D tophat')\u001b[0m\u001b[0;34m\u001b[0m\u001b[0;34m\u001b[0m\u001b[0;34m\u001b[0m\u001b[0m\n\u001b[0;32m---> 21\u001b[0;31m \u001b[0mDM_Rad_axs\u001b[0m\u001b[0;34m[\u001b[0m\u001b[0;36m0\u001b[0m\u001b[0;34m]\u001b[0m\u001b[0;34m.\u001b[0m\u001b[0msemilogx\u001b[0m\u001b[0;34m(\u001b[0m\u001b[0mMpctoKpc\u001b[0m\u001b[0;34m*\u001b[0m\u001b[0mnp\u001b[0m\u001b[0;34m.\u001b[0m\u001b[0mlinspace\u001b[0m\u001b[0;34m(\u001b[0m\u001b[0;36m0\u001b[0m\u001b[0;34m,\u001b[0m\u001b[0mextent\u001b[0m\u001b[0;34m,\u001b[0m\u001b[0mSTH_DMvsR_16\u001b[0m\u001b[0;34m.\u001b[0m\u001b[0mshape\u001b[0m\u001b[0;34m[\u001b[0m\u001b[0;36m1\u001b[0m\u001b[0;34m]\u001b[0m\u001b[0;34m)\u001b[0m\u001b[0;34m,\u001b[0m\u001b[0mSTH_DMvsR_16\u001b[0m\u001b[0;34m[\u001b[0m\u001b[0mM_chosen\u001b[0m\u001b[0;34m[\u001b[0m\u001b[0;36m1\u001b[0m\u001b[0;34m]\u001b[0m\u001b[0;34m,\u001b[0m\u001b[0;34m:\u001b[0m\u001b[0;34m]\u001b[0m\u001b[0;34m-\u001b[0m\u001b[0mmean_DM\u001b[0m\u001b[0;34m,\u001b[0m\u001b[0;34m'-'\u001b[0m\u001b[0;34m,\u001b[0m \u001b[0mlabel\u001b[0m\u001b[0;34m=\u001b[0m \u001b[0;34m'3D Tophat'\u001b[0m\u001b[0;34m,\u001b[0m\u001b[0mlw\u001b[0m\u001b[0;34m=\u001b[0m\u001b[0;36m3\u001b[0m\u001b[0;34m,\u001b[0m\u001b[0mcolor\u001b[0m\u001b[0;34m=\u001b[0m \u001b[0;34m'red'\u001b[0m\u001b[0;34m)\u001b[0m\u001b[0;34m\u001b[0m\u001b[0;34m\u001b[0m\u001b[0m\n\u001b[0m\u001b[1;32m     22\u001b[0m \u001b[0mDM_Rad_axs\u001b[0m\u001b[0;34m[\u001b[0m\u001b[0;36m0\u001b[0m\u001b[0;34m]\u001b[0m\u001b[0;34m.\u001b[0m\u001b[0msemilogx\u001b[0m\u001b[0;34m(\u001b[0m\u001b[0mMpctoKpc\u001b[0m\u001b[0;34m*\u001b[0m\u001b[0mnp\u001b[0m\u001b[0;34m.\u001b[0m\u001b[0mlinspace\u001b[0m\u001b[0;34m(\u001b[0m\u001b[0;36m0\u001b[0m\u001b[0;34m,\u001b[0m\u001b[0mextent\u001b[0m\u001b[0;34m,\u001b[0m\u001b[0mfire_DMvsR_16\u001b[0m\u001b[0;34m.\u001b[0m\u001b[0mshape\u001b[0m\u001b[0;34m[\u001b[0m\u001b[0;36m1\u001b[0m\u001b[0;34m]\u001b[0m\u001b[0;34m)\u001b[0m\u001b[0;34m,\u001b[0m\u001b[0mfire_DMvsR_16\u001b[0m\u001b[0;34m[\u001b[0m\u001b[0mM_chosen\u001b[0m\u001b[0;34m[\u001b[0m\u001b[0;36m1\u001b[0m\u001b[0;34m]\u001b[0m\u001b[0;34m,\u001b[0m\u001b[0;34m:\u001b[0m\u001b[0;34m]\u001b[0m\u001b[0;34m-\u001b[0m\u001b[0mmean_DM\u001b[0m\u001b[0;34m,\u001b[0m\u001b[0;34m'-'\u001b[0m\u001b[0;34m,\u001b[0m \u001b[0mlabel\u001b[0m\u001b[0;34m=\u001b[0m \u001b[0;34m'fire'\u001b[0m\u001b[0;34m,\u001b[0m\u001b[0mlw\u001b[0m\u001b[0;34m=\u001b[0m\u001b[0;36m3\u001b[0m\u001b[0;34m,\u001b[0m\u001b[0mcolor\u001b[0m\u001b[0;34m=\u001b[0m\u001b[0;34m'green'\u001b[0m\u001b[0;34m)\u001b[0m\u001b[0;34m\u001b[0m\u001b[0;34m\u001b[0m\u001b[0m\n\u001b[1;32m     23\u001b[0m \u001b[0mDM_Rad_axs\u001b[0m\u001b[0;34m[\u001b[0m\u001b[0;36m0\u001b[0m\u001b[0;34m]\u001b[0m\u001b[0;34m.\u001b[0m\u001b[0msemilogx\u001b[0m\u001b[0;34m(\u001b[0m\u001b[0mMpctoKpc\u001b[0m\u001b[0;34m*\u001b[0m\u001b[0mnp\u001b[0m\u001b[0;34m.\u001b[0m\u001b[0mlinspace\u001b[0m\u001b[0;34m(\u001b[0m\u001b[0;36m0\u001b[0m\u001b[0;34m,\u001b[0m\u001b[0mextent\u001b[0m\u001b[0;34m,\u001b[0m\u001b[0mNFW_DMvsR_16\u001b[0m\u001b[0;34m.\u001b[0m\u001b[0mshape\u001b[0m\u001b[0;34m[\u001b[0m\u001b[0;36m1\u001b[0m\u001b[0;34m]\u001b[0m\u001b[0;34m)\u001b[0m\u001b[0;34m,\u001b[0m\u001b[0mNFW_DMvsR_16\u001b[0m\u001b[0;34m[\u001b[0m\u001b[0mM_chosen\u001b[0m\u001b[0;34m[\u001b[0m\u001b[0;36m1\u001b[0m\u001b[0;34m]\u001b[0m\u001b[0;34m,\u001b[0m\u001b[0;34m:\u001b[0m\u001b[0;34m]\u001b[0m\u001b[0;34m-\u001b[0m\u001b[0mmean_DM\u001b[0m\u001b[0;34m,\u001b[0m\u001b[0;34m'-'\u001b[0m \u001b[0;34m,\u001b[0m\u001b[0mlabel\u001b[0m\u001b[0;34m=\u001b[0m \u001b[0;34m'NFW'\u001b[0m\u001b[0;34m,\u001b[0m\u001b[0mlw\u001b[0m\u001b[0;34m=\u001b[0m\u001b[0;36m3\u001b[0m\u001b[0;34m,\u001b[0m\u001b[0mcolor\u001b[0m\u001b[0;34m=\u001b[0m\u001b[0;34m'blue'\u001b[0m\u001b[0;34m)\u001b[0m\u001b[0;34m\u001b[0m\u001b[0;34m\u001b[0m\u001b[0m\n",
      "\u001b[0;31mNameError\u001b[0m: name 'STH_DMvsR_16' is not defined"
     ]
    },
    {
     "output_type": "display_data",
     "data": {
      "text/plain": [
       "<Figure size 720x2160 with 3 Axes>"
      ],
      "image/png": "[encoded data removed]"
     },
     "metadata": {
      "needs_background": "light"
     }
    }
   ],
   "metadata": {
    "scrolled": false
   }
  },
  {
   "cell_type": "markdown",
   "source": [
    "# Rough work"
   ],
   "metadata": {}
  },
  {
   "cell_type": "markdown",
   "source": [
    "## Rough work for STH+ NFW"
   ],
   "metadata": {}
  },
  {
   "cell_type": "code",
   "execution_count": 139,
   "source": [
    "# Resolution: choose between 256 and 512 grid\n",
    "den_grid_size = 256\n",
    "\n",
    "\n",
    "# User provides a redshift array\n",
    "# RS_array = [0] # For a single box, we only use the redshift 0 box\n",
    "RS_array = [avgZ(1),avgZ(2),avgZ(3),avgZ(4),avgZ(5)]\n",
    "\n",
    "\n",
    "# Profile used for subtracting halos from the density field\n",
    "subtraction_halo_profile = 'NFW'\n",
    "\n"
   ],
   "outputs": [],
   "metadata": {}
  },
  {
   "cell_type": "code",
   "execution_count": 114,
   "source": [
    "# Create density field for the chosen resolution\n",
    "\n",
    "# all_den_fields_512 = extract_all_den_fields(RS_array,den_grid_size)\n",
    "# all_den_fields_256_RS = extract_all_den_fields(RS_array,den_grid_size)"
   ],
   "outputs": [],
   "metadata": {}
  },
  {
   "cell_type": "code",
   "execution_count": 140,
   "source": [
    "# Mass range of halos\n",
    "min_mass=10**10\n",
    "max_mass=10**14.5\n",
    "log_bins=30\n",
    "\n",
    "\n",
    "addition_halo_profile = '2RVSTH_and_NFW' \n",
    "scaling_radius=1\n",
    "\n",
    "bin1_STH1_256 = hist_profile(all_den_fields_256_RS,den_grid_size,RS_array,min_mass,max_mass,\n",
    "                                       log_bins,subtraction_halo_profile,addition_halo_profile,scaling_radius,1)\n"
   ],
   "outputs": [
    {
     "output_type": "stream",
     "name": "stderr",
     "text": [
      "/epyc/opt/anaconda/lib/python3.7/site-packages/ipykernel_launcher.py:4: RuntimeWarning: invalid value encountered in double_scalars\n",
      "  after removing the cwd from sys.path.\n",
      "/epyc/opt/anaconda/lib/python3.7/site-packages/ipykernel_launcher.py:4: IntegrationWarning: The occurrence of roundoff error is detected, which prevents \n",
      "  the requested tolerance from being achieved.  The error may be \n",
      "  underestimated.\n",
      "  after removing the cwd from sys.path.\n"
     ]
    }
   ],
   "metadata": {}
  },
  {
   "cell_type": "code",
   "execution_count": 94,
   "source": [
    "all_bins= bin1_STH1_256[1][0,:,:]#+bin2_NFW1_256[1][0,:,:]\n",
    "\n",
    "def histArray_with_range(arr,nbin,Ncel,DMmin,DMmax):\n",
    "    hist, bins = np.histogram(arr,bins=nbin,range=(DMmin, DMmax))\n",
    "    dv=bins[1]-bins[0]\n",
    "    hist=(hist)/(dv*Ncel**2)\n",
    "    cumulative = (np.cumsum(hist)*dv)\n",
    "    center = (bins[:-1] + bins[1:]) / 2\n",
    "    return center, hist, cumulative[-1]\n",
    "\n",
    "\n",
    "STH_NFW = histArray_with_range(all_bins,500,1024,0,400)\n",
    "STH1R = histArray_with_range(STH1_256[1],500,1024,0,400)\n",
    "STH2R = histArray_with_range(STH1_2_256[1],500,1024,0,400)\n",
    "NFW = histArray_with_range(NFW1_256[1],500,1024,0,400)\n",
    "fire = histArray_with_range(fire1_256[1],500,1024,0,400)"
   ],
   "outputs": [],
   "metadata": {}
  },
  {
   "cell_type": "code",
   "execution_count": 110,
   "source": [
    "plt.rcParams[\"figure.figsize\"] = (15,15)\n",
    "# plt.plot(STH_NFW[0],STH_NFW[1],'.',label='STH2Rv_NFW')\n",
    "plt.plot(STH4_NFW_hist[0],STH4_NFW_hist[1],'k',label='STH2Rv_NFW transition at 10^13.5')\n",
    "plt.plot(STH4_NFW_14_hist[0],STH4_NFW_14_hist[1],'r',label='STH2Rv_NFW transition at 10^14')\n",
    "plt.plot(STH1R[0],STH1R[1],'b',label='STH1Rv')\n",
    "plt.plot(STH2R[0],STH2R[1],'g',label='STH2Rv')\n",
    "plt.plot(NFW[0],NFW[1],'y',label='NFW')\n",
    "plt.plot(fire[0],fire[1],'c',label='fire')\n",
    "\n",
    "\n",
    "plt.legend(loc='upper right')\n",
    "plt.xlim(0,200)\n",
    "plt.savefig('NFW_Tophat_combined.pdf',bbox_inches='tight')"
   ],
   "outputs": [
    {
     "output_type": "display_data",
     "data": {
      "text/plain": [
       "<Figure size 1080x1080 with 1 Axes>"
      ],
      "image/png": "[encoded data removed]"
     },
     "metadata": {
      "needs_background": "light"
     }
    }
   ],
   "metadata": {}
  },
  {
   "cell_type": "code",
   "execution_count": 89,
   "source": [
    "# This one is where we transition at 10**13.5\n",
    "\n",
    "# Mass range of halos\n",
    "min_mass=10**10\n",
    "max_mass=10**14.5\n",
    "log_bins=30\n",
    "\n",
    "\n",
    "addition_halo_profile = '2RVSTH_and_NFW' \n",
    "scaling_radius=1\n",
    "\n",
    "STH4_NFW_256 = hist_profile(all_den_fields_256,den_grid_size,RS_array,min_mass,max_mass,\n",
    "                                       log_bins,subtraction_halo_profile,addition_halo_profile,scaling_radius,1)\n",
    "\n",
    "\n"
   ],
   "outputs": [
    {
     "output_type": "stream",
     "name": "stderr",
     "text": [
      "/epyc/opt/anaconda/lib/python3.7/site-packages/ipykernel_launcher.py:4: RuntimeWarning: invalid value encountered in double_scalars\n",
      "  after removing the cwd from sys.path.\n",
      "/epyc/opt/anaconda/lib/python3.7/site-packages/ipykernel_launcher.py:4: IntegrationWarning: The occurrence of roundoff error is detected, which prevents \n",
      "  the requested tolerance from being achieved.  The error may be \n",
      "  underestimated.\n",
      "  after removing the cwd from sys.path.\n"
     ]
    }
   ],
   "metadata": {}
  },
  {
   "cell_type": "code",
   "execution_count": 96,
   "source": [
    "STH4_NFW_hist= histArray_with_range(STH4_NFW_256[1][0,:,:],500,1024,0,400)"
   ],
   "outputs": [],
   "metadata": {}
  },
  {
   "cell_type": "code",
   "execution_count": 105,
   "source": [
    "# This one is where we transition at 10**14\n",
    "\n",
    "# Mass range of halos\n",
    "min_mass=10**10\n",
    "max_mass=10**14.5\n",
    "log_bins=30\n",
    "\n",
    "\n",
    "addition_halo_profile = '2RVSTH_and_NFW' \n",
    "scaling_radius=1\n",
    "\n",
    "STH4_NFW_14 = hist_profile(all_den_fields_256,den_grid_size,RS_array,min_mass,max_mass,\n",
    "                                       log_bins,subtraction_halo_profile,addition_halo_profile,scaling_radius,1)\n",
    "\n",
    "STH4_NFW_14_hist= histArray_with_range(STH4_NFW_14[1][0,:,:],500,1024,0,400)\n"
   ],
   "outputs": [
    {
     "output_type": "stream",
     "name": "stderr",
     "text": [
      "/epyc/opt/anaconda/lib/python3.7/site-packages/ipykernel_launcher.py:4: RuntimeWarning: invalid value encountered in double_scalars\n",
      "  after removing the cwd from sys.path.\n",
      "/epyc/opt/anaconda/lib/python3.7/site-packages/ipykernel_launcher.py:4: IntegrationWarning: The occurrence of roundoff error is detected, which prevents \n",
      "  the requested tolerance from being achieved.  The error may be \n",
      "  underestimated.\n",
      "  after removing the cwd from sys.path.\n"
     ]
    }
   ],
   "metadata": {}
  },
  {
   "cell_type": "code",
   "execution_count": null,
   "source": [],
   "outputs": [],
   "metadata": {}
  },
  {
   "cell_type": "code",
   "execution_count": 141,
   "source": [
    "# Compare things at RS =.5 for each profile\n",
    "STH_NFW_RShalf = histArray_with_range(sum(bin1_STH1_256[6][0:5,:,:]),100,1024,0,1000)\n",
    "STH_RShalf = histArray_with_range(sum(STH1_256_RS_array[6][0:5,:,:]),100,1024,0,1000)\n",
    "STH_2_RShalf = histArray_with_range(sum(STH1_2_256_RS_array[6][0:5,:,:]),100,1024,0,1000)\n",
    "NFW_RShalf = histArray_with_range(sum(NFW1_256_RS_array[6][0:5,:,:]),100,1024,0,1000)\n",
    "fire_RShalf = histArray_with_range(sum(fire1_256_RS_array[6][0:5,:,:]),100,1024,0,1000)\n",
    "\n"
   ],
   "outputs": [],
   "metadata": {}
  },
  {
   "cell_type": "code",
   "execution_count": 158,
   "source": [
    "plt.rcParams[\"figure.figsize\"] = (15,15)\n",
    "# plt.plot(STH_NFW[0],STH_NFW[1],'.',label='STH2Rv_NFW')\n",
    "plt.plot(STH_NFW_RShalf[0],STH_NFW_RShalf[1],'k',label='STH2Rv_NFW transition at 10^14')\n",
    "plt.plot(STH_RShalf[0],STH_RShalf[1],'b',label='STH1Rv')\n",
    "plt.plot(STH_2_RShalf[0],STH_2_RShalf[1],'g',label='STH2Rv')\n",
    "plt.plot(NFW_RShalf[0],NFW_RShalf[1],'y',label='NFW')\n",
    "plt.plot(fire_RShalf[0],fire_RShalf[1],'c',label='fire')\n",
    "\n",
    "\n",
    "plt.legend(loc='upper right')\n",
    "plt.xlim(0,1000)\n",
    "plt.savefig('NFW_Tophat_combined_RS.pdf',bbox_inches='tight')"
   ],
   "outputs": [
    {
     "output_type": "display_data",
     "data": {
      "text/plain": [
       "<Figure size 1080x1080 with 1 Axes>"
      ],
      "image/png": "[encoded data removed]"
     },
     "metadata": {
      "needs_background": "light"
     }
    }
   ],
   "metadata": {}
  },
  {
   "cell_type": "code",
   "execution_count": null,
   "source": [],
   "outputs": [],
   "metadata": {}
  },
  {
   "cell_type": "code",
   "execution_count": null,
   "source": [],
   "outputs": [],
   "metadata": {}
  },
  {
   "cell_type": "code",
   "execution_count": null,
   "source": [],
   "outputs": [],
   "metadata": {}
  },
  {
   "cell_type": "markdown",
   "source": [
    "# Testing precipitation model\n",
    "\n",
    "\n",
    "### When testing, from the files below, only run the ones that you change"
   ],
   "metadata": {}
  },
  {
   "cell_type": "code",
   "execution_count": 3,
   "source": [
    "# This chapter contains contains all cosmological parameters, as well as other basic functions \n",
    "%run FRBProject-Chap1-ParametersAndFunctions.ipynb\n",
    "\n",
    "# These chapters extracts data from simulation files \n",
    "%run FRBProject-Chap2-ExtractData-256Grid.ipynb\n",
    "%run FRBProject-Chap3-ExtractData-Halos.ipynb\n",
    "#%run FRBProject-Chap2-ExtractData-512Grid.ipynb\n",
    "\n",
    "\n",
    "# This chapter is the core of the method developed in this project\n",
    "%run FRBProject-Chap4-Convolution.ipynb\n",
    "\n",
    "\n",
    "# This chapter contains functions for creating dispersion measure profiles of halos\n",
    "%run FRBProject-Chap5-DMProfiles.ipynb\n",
    "\n",
    "\n",
    "# This chapter contains functions to stack boxes to project a sightline to higher redshifts\n",
    "%run FRBProject-Chap6-Stacking.ipynb\n",
    "\n"
   ],
   "outputs": [],
   "metadata": {}
  },
  {
   "cell_type": "code",
   "execution_count": 15,
   "source": [
    "# Create a data frame of halos\n",
    "df= create_halo_array_for_convolution(extract_halos(0),min_mass,max_mass,log_bins)"
   ],
   "outputs": [],
   "metadata": {}
  },
  {
   "cell_type": "code",
   "execution_count": 12,
   "source": [
    "# Resolution: choose between 256 and 512 grid\n",
    "den_grid_size = 256\n",
    "\n",
    "\n",
    "\n",
    "# User provides a redshift array\n",
    "RS_array_1 = [0] # For a single box, we only use the redshift 0 box\n",
    "\n",
    "\n",
    "\n",
    "# Profile used for subtracting halos from the density field\n",
    "subtraction_halo_profile = 'NFW'\n",
    "\n",
    "\n",
    "# Mass range of halos\n",
    "min_mass=10**10\n",
    "max_mass=10**14.5\n",
    "log_bins=30\n"
   ],
   "outputs": [],
   "metadata": {}
  },
  {
   "cell_type": "code",
   "execution_count": 13,
   "source": [
    "# Create density field for the chosen resolution\n",
    "\n",
    "# all_den_fields_512 = extract_all_den_fields(RS_array,den_grid_size)\n",
    "all_den_fields_256 = extract_all_den_fields(RS_array_1,den_grid_size)"
   ],
   "outputs": [],
   "metadata": {}
  },
  {
   "cell_type": "code",
   "execution_count": 14,
   "source": [
    "### Tophat 256 fieild\n",
    "\n",
    "\n",
    "addition_halo_profile = 'precipitation'\n",
    "\n",
    "scaling_radius = 1 \n",
    "\n",
    "# p1 = hist_profile(all_den_fields_256,den_grid_size,RS_array_1,min_mass,max_mass,\n",
    "#                                        log_bins,subtraction_halo_profile,addition_halo_profile,scaling_radius,1)\n",
    "\n",
    "\n",
    "# addition_halo_profile = 'fire'\n",
    "\n",
    "# fire1 = hist_profile(all_den_fields_256,den_grid_size,RS_array,min_mass,max_mass,\n",
    "#                                        log_bins,subtraction_halo_profile,addition_halo_profile,scaling_radius,1)\n",
    "\n",
    "\n",
    "\n",
    "\n",
    "p8 = hist_profile(all_den_fields_256,den_grid_size,RS_array_1,min_mass,max_mass,\n",
    "                                       log_bins,subtraction_halo_profile,addition_halo_profile,scaling_radius,8)\n",
    "\n"
   ],
   "outputs": [
    {
     "output_type": "stream",
     "name": "stderr",
     "text": [
      "/epyc/opt/anaconda/lib/python3.7/site-packages/ipykernel_launcher.py:4: RuntimeWarning: invalid value encountered in double_scalars\n",
      "  after removing the cwd from sys.path.\n",
      "/epyc/opt/anaconda/lib/python3.7/site-packages/ipykernel_launcher.py:4: IntegrationWarning: The occurrence of roundoff error is detected, which prevents \n",
      "  the requested tolerance from being achieved.  The error may be \n",
      "  underestimated.\n",
      "  after removing the cwd from sys.path.\n",
      "/epyc/opt/anaconda/lib/python3.7/site-packages/ipykernel_launcher.py:3: RuntimeWarning: invalid value encountered in double_scalars\n",
      "  This is separate from the ipykernel package so we can avoid doing imports until\n",
      "/epyc/opt/anaconda/lib/python3.7/site-packages/ipykernel_launcher.py:3: IntegrationWarning: The occurrence of roundoff error is detected, which prevents \n",
      "  the requested tolerance from being achieved.  The error may be \n",
      "  underestimated.\n",
      "  This is separate from the ipykernel package so we can avoid doing imports until\n",
      "/epyc/opt/anaconda/lib/python3.7/site-packages/ipykernel_launcher.py:3: RuntimeWarning: invalid value encountered in double_scalars\n",
      "  This is separate from the ipykernel package so we can avoid doing imports until\n",
      "/epyc/opt/anaconda/lib/python3.7/site-packages/ipykernel_launcher.py:3: IntegrationWarning: The occurrence of roundoff error is detected, which prevents \n",
      "  the requested tolerance from being achieved.  The error may be \n",
      "  underestimated.\n",
      "  This is separate from the ipykernel package so we can avoid doing imports until\n",
      "/epyc/opt/anaconda/lib/python3.7/site-packages/ipykernel_launcher.py:3: RuntimeWarning: invalid value encountered in double_scalars\n",
      "  This is separate from the ipykernel package so we can avoid doing imports until\n",
      "/epyc/opt/anaconda/lib/python3.7/site-packages/ipykernel_launcher.py:3: IntegrationWarning: The occurrence of roundoff error is detected, which prevents \n",
      "  the requested tolerance from being achieved.  The error may be \n",
      "  underestimated.\n",
      "  This is separate from the ipykernel package so we can avoid doing imports until\n",
      "/epyc/opt/anaconda/lib/python3.7/site-packages/ipykernel_launcher.py:3: RuntimeWarning: invalid value encountered in double_scalars\n",
      "  This is separate from the ipykernel package so we can avoid doing imports until\n",
      "/epyc/opt/anaconda/lib/python3.7/site-packages/ipykernel_launcher.py:3: IntegrationWarning: The occurrence of roundoff error is detected, which prevents \n",
      "  the requested tolerance from being achieved.  The error may be \n",
      "  underestimated.\n",
      "  This is separate from the ipykernel package so we can avoid doing imports until\n",
      "/epyc/opt/anaconda/lib/python3.7/site-packages/ipykernel_launcher.py:3: RuntimeWarning: invalid value encountered in double_scalars\n",
      "  This is separate from the ipykernel package so we can avoid doing imports until\n",
      "/epyc/opt/anaconda/lib/python3.7/site-packages/ipykernel_launcher.py:3: IntegrationWarning: The occurrence of roundoff error is detected, which prevents \n",
      "  the requested tolerance from being achieved.  The error may be \n",
      "  underestimated.\n",
      "  This is separate from the ipykernel package so we can avoid doing imports until\n",
      "/epyc/opt/anaconda/lib/python3.7/site-packages/ipykernel_launcher.py:3: RuntimeWarning: invalid value encountered in double_scalars\n",
      "  This is separate from the ipykernel package so we can avoid doing imports until\n",
      "/epyc/opt/anaconda/lib/python3.7/site-packages/ipykernel_launcher.py:3: IntegrationWarning: The occurrence of roundoff error is detected, which prevents \n",
      "  the requested tolerance from being achieved.  The error may be \n",
      "  underestimated.\n",
      "  This is separate from the ipykernel package so we can avoid doing imports until\n",
      "/epyc/opt/anaconda/lib/python3.7/site-packages/ipykernel_launcher.py:3: RuntimeWarning: invalid value encountered in double_scalars\n",
      "  This is separate from the ipykernel package so we can avoid doing imports until\n",
      "/epyc/opt/anaconda/lib/python3.7/site-packages/ipykernel_launcher.py:3: IntegrationWarning: The occurrence of roundoff error is detected, which prevents \n",
      "  the requested tolerance from being achieved.  The error may be \n",
      "  underestimated.\n",
      "  This is separate from the ipykernel package so we can avoid doing imports until\n",
      "/epyc/opt/anaconda/lib/python3.7/site-packages/ipykernel_launcher.py:3: RuntimeWarning: invalid value encountered in double_scalars\n",
      "  This is separate from the ipykernel package so we can avoid doing imports until\n",
      "/epyc/opt/anaconda/lib/python3.7/site-packages/ipykernel_launcher.py:3: IntegrationWarning: The occurrence of roundoff error is detected, which prevents \n",
      "  the requested tolerance from being achieved.  The error may be \n",
      "  underestimated.\n",
      "  This is separate from the ipykernel package so we can avoid doing imports until\n",
      "/epyc/opt/anaconda/lib/python3.7/site-packages/ipykernel_launcher.py:3: RuntimeWarning: invalid value encountered in double_scalars\n",
      "  This is separate from the ipykernel package so we can avoid doing imports until\n",
      "/epyc/opt/anaconda/lib/python3.7/site-packages/ipykernel_launcher.py:3: IntegrationWarning: The occurrence of roundoff error is detected, which prevents \n",
      "  the requested tolerance from being achieved.  The error may be \n",
      "  underestimated.\n",
      "  This is separate from the ipykernel package so we can avoid doing imports until\n",
      "/epyc/opt/anaconda/lib/python3.7/site-packages/ipykernel_launcher.py:3: RuntimeWarning: invalid value encountered in double_scalars\n",
      "  This is separate from the ipykernel package so we can avoid doing imports until\n",
      "/epyc/opt/anaconda/lib/python3.7/site-packages/ipykernel_launcher.py:3: IntegrationWarning: The occurrence of roundoff error is detected, which prevents \n",
      "  the requested tolerance from being achieved.  The error may be \n",
      "  underestimated.\n",
      "  This is separate from the ipykernel package so we can avoid doing imports until\n",
      "/epyc/opt/anaconda/lib/python3.7/site-packages/ipykernel_launcher.py:3: RuntimeWarning: invalid value encountered in double_scalars\n",
      "  This is separate from the ipykernel package so we can avoid doing imports until\n",
      "/epyc/opt/anaconda/lib/python3.7/site-packages/ipykernel_launcher.py:3: IntegrationWarning: The occurrence of roundoff error is detected, which prevents \n",
      "  the requested tolerance from being achieved.  The error may be \n",
      "  underestimated.\n",
      "  This is separate from the ipykernel package so we can avoid doing imports until\n",
      "/epyc/opt/anaconda/lib/python3.7/site-packages/ipykernel_launcher.py:3: RuntimeWarning: invalid value encountered in double_scalars\n",
      "  This is separate from the ipykernel package so we can avoid doing imports until\n",
      "/epyc/opt/anaconda/lib/python3.7/site-packages/ipykernel_launcher.py:3: IntegrationWarning: The occurrence of roundoff error is detected, which prevents \n",
      "  the requested tolerance from being achieved.  The error may be \n",
      "  underestimated.\n",
      "  This is separate from the ipykernel package so we can avoid doing imports until\n",
      "/epyc/opt/anaconda/lib/python3.7/site-packages/ipykernel_launcher.py:3: RuntimeWarning: invalid value encountered in double_scalars\n",
      "  This is separate from the ipykernel package so we can avoid doing imports until\n",
      "/epyc/opt/anaconda/lib/python3.7/site-packages/ipykernel_launcher.py:3: IntegrationWarning: The occurrence of roundoff error is detected, which prevents \n",
      "  the requested tolerance from being achieved.  The error may be \n",
      "  underestimated.\n",
      "  This is separate from the ipykernel package so we can avoid doing imports until\n",
      "/epyc/opt/anaconda/lib/python3.7/site-packages/ipykernel_launcher.py:3: RuntimeWarning: invalid value encountered in double_scalars\n",
      "  This is separate from the ipykernel package so we can avoid doing imports until\n",
      "/epyc/opt/anaconda/lib/python3.7/site-packages/ipykernel_launcher.py:3: IntegrationWarning: The occurrence of roundoff error is detected, which prevents \n",
      "  the requested tolerance from being achieved.  The error may be \n",
      "  underestimated.\n",
      "  This is separate from the ipykernel package so we can avoid doing imports until\n",
      "/epyc/opt/anaconda/lib/python3.7/site-packages/ipykernel_launcher.py:3: RuntimeWarning: invalid value encountered in double_scalars\n",
      "  This is separate from the ipykernel package so we can avoid doing imports until\n",
      "/epyc/opt/anaconda/lib/python3.7/site-packages/ipykernel_launcher.py:3: IntegrationWarning: The occurrence of roundoff error is detected, which prevents \n",
      "  the requested tolerance from being achieved.  The error may be \n",
      "  underestimated.\n",
      "  This is separate from the ipykernel package so we can avoid doing imports until\n",
      "/epyc/opt/anaconda/lib/python3.7/site-packages/ipykernel_launcher.py:3: RuntimeWarning: invalid value encountered in double_scalars\n",
      "  This is separate from the ipykernel package so we can avoid doing imports until\n",
      "/epyc/opt/anaconda/lib/python3.7/site-packages/ipykernel_launcher.py:3: IntegrationWarning: The occurrence of roundoff error is detected, which prevents \n",
      "  the requested tolerance from being achieved.  The error may be \n",
      "  underestimated.\n",
      "  This is separate from the ipykernel package so we can avoid doing imports until\n",
      "/epyc/opt/anaconda/lib/python3.7/site-packages/ipykernel_launcher.py:3: RuntimeWarning: invalid value encountered in double_scalars\n",
      "  This is separate from the ipykernel package so we can avoid doing imports until\n",
      "/epyc/opt/anaconda/lib/python3.7/site-packages/ipykernel_launcher.py:3: IntegrationWarning: The occurrence of roundoff error is detected, which prevents \n",
      "  the requested tolerance from being achieved.  The error may be \n",
      "  underestimated.\n",
      "  This is separate from the ipykernel package so we can avoid doing imports until\n",
      "/epyc/opt/anaconda/lib/python3.7/site-packages/ipykernel_launcher.py:3: RuntimeWarning: invalid value encountered in double_scalars\n",
      "  This is separate from the ipykernel package so we can avoid doing imports until\n",
      "/epyc/opt/anaconda/lib/python3.7/site-packages/ipykernel_launcher.py:3: IntegrationWarning: The occurrence of roundoff error is detected, which prevents \n",
      "  the requested tolerance from being achieved.  The error may be \n",
      "  underestimated.\n",
      "  This is separate from the ipykernel package so we can avoid doing imports until\n",
      "/epyc/opt/anaconda/lib/python3.7/site-packages/ipykernel_launcher.py:3: RuntimeWarning: invalid value encountered in double_scalars\n",
      "  This is separate from the ipykernel package so we can avoid doing imports until\n",
      "/epyc/opt/anaconda/lib/python3.7/site-packages/ipykernel_launcher.py:3: IntegrationWarning: The occurrence of roundoff error is detected, which prevents \n",
      "  the requested tolerance from being achieved.  The error may be \n",
      "  underestimated.\n",
      "  This is separate from the ipykernel package so we can avoid doing imports until\n",
      "/epyc/opt/anaconda/lib/python3.7/site-packages/ipykernel_launcher.py:3: RuntimeWarning: invalid value encountered in double_scalars\n",
      "  This is separate from the ipykernel package so we can avoid doing imports until\n",
      "/epyc/opt/anaconda/lib/python3.7/site-packages/ipykernel_launcher.py:3: IntegrationWarning: The occurrence of roundoff error is detected, which prevents \n",
      "  the requested tolerance from being achieved.  The error may be \n",
      "  underestimated.\n",
      "  This is separate from the ipykernel package so we can avoid doing imports until\n",
      "/epyc/opt/anaconda/lib/python3.7/site-packages/ipykernel_launcher.py:3: RuntimeWarning: invalid value encountered in double_scalars\n",
      "  This is separate from the ipykernel package so we can avoid doing imports until\n",
      "/epyc/opt/anaconda/lib/python3.7/site-packages/ipykernel_launcher.py:3: IntegrationWarning: The occurrence of roundoff error is detected, which prevents \n",
      "  the requested tolerance from being achieved.  The error may be \n",
      "  underestimated.\n",
      "  This is separate from the ipykernel package so we can avoid doing imports until\n",
      "/epyc/opt/anaconda/lib/python3.7/site-packages/ipykernel_launcher.py:3: RuntimeWarning: invalid value encountered in double_scalars\n",
      "  This is separate from the ipykernel package so we can avoid doing imports until\n",
      "/epyc/opt/anaconda/lib/python3.7/site-packages/ipykernel_launcher.py:3: IntegrationWarning: The occurrence of roundoff error is detected, which prevents \n",
      "  the requested tolerance from being achieved.  The error may be \n",
      "  underestimated.\n",
      "  This is separate from the ipykernel package so we can avoid doing imports until\n",
      "/epyc/opt/anaconda/lib/python3.7/site-packages/ipykernel_launcher.py:3: RuntimeWarning: invalid value encountered in double_scalars\n",
      "  This is separate from the ipykernel package so we can avoid doing imports until\n",
      "/epyc/opt/anaconda/lib/python3.7/site-packages/ipykernel_launcher.py:3: IntegrationWarning: The occurrence of roundoff error is detected, which prevents \n",
      "  the requested tolerance from being achieved.  The error may be \n",
      "  underestimated.\n",
      "  This is separate from the ipykernel package so we can avoid doing imports until\n",
      "/epyc/opt/anaconda/lib/python3.7/site-packages/ipykernel_launcher.py:3: RuntimeWarning: invalid value encountered in double_scalars\n",
      "  This is separate from the ipykernel package so we can avoid doing imports until\n",
      "/epyc/opt/anaconda/lib/python3.7/site-packages/ipykernel_launcher.py:3: IntegrationWarning: The occurrence of roundoff error is detected, which prevents \n",
      "  the requested tolerance from being achieved.  The error may be \n",
      "  underestimated.\n",
      "  This is separate from the ipykernel package so we can avoid doing imports until\n",
      "/epyc/opt/anaconda/lib/python3.7/site-packages/ipykernel_launcher.py:3: RuntimeWarning: invalid value encountered in double_scalars\n",
      "  This is separate from the ipykernel package so we can avoid doing imports until\n",
      "/epyc/opt/anaconda/lib/python3.7/site-packages/ipykernel_launcher.py:3: IntegrationWarning: The occurrence of roundoff error is detected, which prevents \n",
      "  the requested tolerance from being achieved.  The error may be \n",
      "  underestimated.\n",
      "  This is separate from the ipykernel package so we can avoid doing imports until\n",
      "/epyc/opt/anaconda/lib/python3.7/site-packages/ipykernel_launcher.py:3: RuntimeWarning: invalid value encountered in double_scalars\n",
      "  This is separate from the ipykernel package so we can avoid doing imports until\n",
      "/epyc/opt/anaconda/lib/python3.7/site-packages/ipykernel_launcher.py:3: IntegrationWarning: The occurrence of roundoff error is detected, which prevents \n",
      "  the requested tolerance from being achieved.  The error may be \n",
      "  underestimated.\n",
      "  This is separate from the ipykernel package so we can avoid doing imports until\n",
      "/epyc/opt/anaconda/lib/python3.7/site-packages/ipykernel_launcher.py:3: RuntimeWarning: invalid value encountered in double_scalars\n",
      "  This is separate from the ipykernel package so we can avoid doing imports until\n",
      "/epyc/opt/anaconda/lib/python3.7/site-packages/ipykernel_launcher.py:3: IntegrationWarning: The occurrence of roundoff error is detected, which prevents \n",
      "  the requested tolerance from being achieved.  The error may be \n",
      "  underestimated.\n",
      "  This is separate from the ipykernel package so we can avoid doing imports until\n",
      "/epyc/opt/anaconda/lib/python3.7/site-packages/ipykernel_launcher.py:3: RuntimeWarning: invalid value encountered in double_scalars\n",
      "  This is separate from the ipykernel package so we can avoid doing imports until\n",
      "/epyc/opt/anaconda/lib/python3.7/site-packages/ipykernel_launcher.py:3: IntegrationWarning: The occurrence of roundoff error is detected, which prevents \n",
      "  the requested tolerance from being achieved.  The error may be \n",
      "  underestimated.\n",
      "  This is separate from the ipykernel package so we can avoid doing imports until\n",
      "/epyc/opt/anaconda/lib/python3.7/site-packages/ipykernel_launcher.py:3: RuntimeWarning: invalid value encountered in double_scalars\n",
      "  This is separate from the ipykernel package so we can avoid doing imports until\n",
      "/epyc/opt/anaconda/lib/python3.7/site-packages/ipykernel_launcher.py:3: IntegrationWarning: The occurrence of roundoff error is detected, which prevents \n",
      "  the requested tolerance from being achieved.  The error may be \n",
      "  underestimated.\n",
      "  This is separate from the ipykernel package so we can avoid doing imports until\n"
     ]
    }
   ],
   "metadata": {
    "scrolled": true
   }
  },
  {
   "cell_type": "code",
   "execution_count": 43,
   "source": [
    "saveArray('p8',p8)"
   ],
   "outputs": [],
   "metadata": {}
  },
  {
   "cell_type": "code",
   "execution_count": 17,
   "source": [
    "p8_hist = histArray(p8[6][0,:,:],1000,1024*8)"
   ],
   "outputs": [],
   "metadata": {}
  },
  {
   "cell_type": "code",
   "execution_count": 19,
   "source": [
    "plt.plot(p8_hist[0],p8_hist[1])"
   ],
   "outputs": [
    {
     "output_type": "execute_result",
     "data": {
      "text/plain": [
       "[<matplotlib.lines.Line2D at 0x7ffa6bef1210>]"
      ]
     },
     "metadata": {},
     "execution_count": 19
    },
    {
     "output_type": "display_data",
     "data": {
      "text/plain": [
       "<Figure size 432x288 with 1 Axes>"
      ],
      "image/png": "[encoded data removed]"
     },
     "metadata": {
      "needs_background": "light"
     }
    }
   ],
   "metadata": {}
  },
  {
   "cell_type": "markdown",
   "source": [
    "# Rough work"
   ],
   "metadata": {}
  },
  {
   "cell_type": "markdown",
   "source": [
    "## Mask analysis"
   ],
   "metadata": {}
  },
  {
   "cell_type": "code",
   "execution_count": 16,
   "source": [
    "# Specify resolution\n",
    "resolution=1\n",
    "grid_size = resolution*1024\n",
    "# trim_dim=int((10*resolution)/2+1)  # Need +1 to match the dimensions of the mask grids\n",
    "# trim_dim=int((10*resolution)+1)  # Need +1 to match the dimensions of the mask grids\n",
    "\n",
    "trim_dim=int((20*resolution))\n",
    "\n",
    "# Radial extent of the plots in Mpc\n",
    "extent = (L/grid_size)*(trim_dim)\n",
    "\n",
    "\n",
    "\n",
    "# # STH_DMvsR=DM_vs_radius(STH8_256[1][0,:,:],df,trim_dim, mass_bins, halos_per_mass_bin)\n",
    "# STH1_rad=DM_vs_radius(STH1_256[1][0,:,:],df[0],trim_dim, df[2], df[1])\n",
    "\n",
    "\n",
    "p1_rad=DM_vs_radius(p1[1][0,:,:],df[0],trim_dim, df[2], df[1])\n",
    "p1_masks = profile_of_masks(p1[2][0,:,:,:])\n",
    "\n",
    "\n",
    "\n",
    "\n",
    "# fire1_rad=DM_vs_radius(fire1[1][0,:,:],df[0],trim_dim, df[2], df[1])\n",
    "# fire1_masks = profile_of_masks(fire1[2][0,:,:,:])\n",
    "\n"
   ],
   "outputs": [],
   "metadata": {}
  },
  {
   "cell_type": "code",
   "execution_count": 17,
   "source": [
    "plt.plot(p1_rad[0][22,:],'r')\n",
    "plt.plot(p1_masks[22,:],'b')\n"
   ],
   "outputs": [
    {
     "output_type": "execute_result",
     "data": {
      "text/plain": [
       "[<matplotlib.lines.Line2D at 0x7f08f7aaae50>]"
      ]
     },
     "metadata": {},
     "execution_count": 17
    },
    {
     "output_type": "display_data",
     "data": {
      "text/plain": [
       "<Figure size 432x288 with 1 Axes>"
      ],
      "image/png": "[encoded data removed]"
     },
     "metadata": {
      "needs_background": "light"
     }
    }
   ],
   "metadata": {}
  },
  {
   "cell_type": "code",
   "execution_count": 1069,
   "source": [
    "plt.imshow(p1_rad[1][28,:,:],vmin=0,vmax=200)\n",
    "np.mean(p1_rad[1][28,:,:])"
   ],
   "outputs": [
    {
     "output_type": "execute_result",
     "data": {
      "text/plain": [
       "117.62361459419937"
      ]
     },
     "metadata": {},
     "execution_count": 1069
    },
    {
     "output_type": "display_data",
     "data": {
      "text/plain": [
       "<Figure size 432x288 with 1 Axes>"
      ],
      "image/png": "[encoded data removed]"
     },
     "metadata": {
      "needs_background": "light"
     }
    }
   ],
   "metadata": {}
  },
  {
   "cell_type": "code",
   "execution_count": 1070,
   "source": [
    "plt.imshow(p1[2][0,28,:,:],vmin=0,vmax=200)\n",
    "np.mean(p1[2][0,28,:,:])"
   ],
   "outputs": [
    {
     "output_type": "execute_result",
     "data": {
      "text/plain": [
       "42.38448343689618"
      ]
     },
     "metadata": {},
     "execution_count": 1070
    },
    {
     "output_type": "display_data",
     "data": {
      "text/plain": [
       "<Figure size 432x288 with 1 Axes>"
      ],
      "image/png": "[encoded data removed]"
     },
     "metadata": {
      "needs_background": "light"
     }
    }
   ],
   "metadata": {}
  },
  {
   "cell_type": "code",
   "execution_count": null,
   "source": [],
   "outputs": [],
   "metadata": {}
  },
  {
   "cell_type": "code",
   "execution_count": null,
   "source": [],
   "outputs": [],
   "metadata": {}
  },
  {
   "cell_type": "code",
   "execution_count": 28,
   "source": [
    "# Specify resolution\n",
    "resolution=8\n",
    "grid_size = resolution*1024\n",
    "# trim_dim=int((10*resolution)/2+1)  # Need +1 to match the dimensions of the mask grids\n",
    "# trim_dim=int((10*resolution)+1)  # Need +1 to match the dimensions of the mask grids\n",
    "\n",
    "trim_dim=int((20*resolution))\n",
    "\n",
    "# Radial extent of the plots in Mpc\n",
    "extent = (L/grid_size)*(trim_dim)\n",
    "\n",
    "\n",
    "\n",
    "# # STH_DMvsR=DM_vs_radius(STH8_256[1][0,:,:],df,trim_dim, mass_bins, halos_per_mass_bin)\n",
    "# STH1_rad=DM_vs_radius(STH1_256[1][0,:,:],df[0],trim_dim, df[2], df[1])\n",
    "\n",
    "\n",
    "p8_rad=DM_vs_radius(p8[1][0,:,:],df[0],trim_dim, df[2], df[1])\n",
    "p8_masks = profile_of_masks(p8[2][0,:,:,:])\n",
    " \n",
    "\n",
    "\n",
    "\n",
    "# fire1_rad=DM_vs_radius(fire1[1][0,:,:],df[0],trim_dim, df[2], df[1])\n",
    "# fire1_masks = profile_of_masks(fire1[2][0,:,:,:])\n",
    "\n"
   ],
   "outputs": [],
   "metadata": {}
  },
  {
   "cell_type": "code",
   "execution_count": 32,
   "source": [
    "plt.plot(p8_rad[0][18,:],'r')\n",
    "plt.plot(p8_masks[18,:],'b')\n"
   ],
   "outputs": [
    {
     "output_type": "execute_result",
     "data": {
      "text/plain": [
       "[<matplotlib.lines.Line2D at 0x7fe82bbe1290>]"
      ]
     },
     "metadata": {},
     "execution_count": 32
    },
    {
     "output_type": "display_data",
     "data": {
      "text/plain": [
       "<Figure size 432x288 with 1 Axes>"
      ],
      "image/png": "[encoded data removed]"
     },
     "metadata": {
      "needs_background": "light"
     }
    }
   ],
   "metadata": {}
  },
  {
   "cell_type": "code",
   "execution_count": 45,
   "source": [
    "orig_den_256.shape"
   ],
   "outputs": [
    {
     "output_type": "execute_result",
     "data": {
      "text/plain": [
       "(256, 256)"
      ]
     },
     "metadata": {},
     "execution_count": 45
    }
   ],
   "metadata": {}
  },
  {
   "cell_type": "code",
   "execution_count": 46,
   "source": [
    "orig_den_256"
   ],
   "outputs": [
    {
     "output_type": "execute_result",
     "data": {
      "text/plain": [
       "array([[ 88.77668841,  94.37661312,  75.42460666, ...,  61.82413765,\n",
       "         59.3357733 ,  66.69326014],\n",
       "       [130.52619285, 136.03045599, 100.38668789, ...,  67.25481509,\n",
       "         71.09717759,  91.92203866],\n",
       "       [138.01283716, 137.11351156,  98.9542461 , ...,  70.43247067,\n",
       "         81.58563115, 104.92650771],\n",
       "       ...,\n",
       "       [ 50.85476453,  57.92748349,  52.73309721, ...,  67.14563643,\n",
       "         49.78011631,  43.73973654],\n",
       "       [ 47.3209417 ,  52.27392706,  49.77782148, ...,  60.95803673,\n",
       "         49.17459151,  43.05379878],\n",
       "       [ 55.62443852,  59.47432127,  53.37049114, ...,  55.94238535,\n",
       "         50.09167932,  48.09016277]])"
      ]
     },
     "metadata": {},
     "execution_count": 46
    }
   ],
   "metadata": {}
  },
  {
   "cell_type": "code",
   "execution_count": 49,
   "source": [
    "orig2=np.transpose(orig_den_256, axes=0)\n"
   ],
   "outputs": [
    {
     "output_type": "error",
     "ename": "ValueError",
     "evalue": "axes don't match array",
     "traceback": [
      "\u001b[0;31m---------------------------------------------------------------------------\u001b[0m",
      "\u001b[0;31mValueError\u001b[0m                                Traceback (most recent call last)",
      "\u001b[0;32m<ipython-input-49-a06f498ad886>\u001b[0m in \u001b[0;36m<module>\u001b[0;34m\u001b[0m\n\u001b[0;32m----> 1\u001b[0;31m \u001b[0morig2\u001b[0m\u001b[0;34m=\u001b[0m\u001b[0mnp\u001b[0m\u001b[0;34m.\u001b[0m\u001b[0mtranspose\u001b[0m\u001b[0;34m(\u001b[0m\u001b[0morig_den_256\u001b[0m\u001b[0;34m,\u001b[0m \u001b[0maxes\u001b[0m\u001b[0;34m=\u001b[0m\u001b[0;36m0\u001b[0m\u001b[0;34m)\u001b[0m\u001b[0;34m\u001b[0m\u001b[0;34m\u001b[0m\u001b[0m\n\u001b[0m",
      "\u001b[0;32m<__array_function__ internals>\u001b[0m in \u001b[0;36mtranspose\u001b[0;34m(*args, **kwargs)\u001b[0m\n",
      "\u001b[0;32m/epyc/opt/anaconda/lib/python3.7/site-packages/numpy/core/fromnumeric.py\u001b[0m in \u001b[0;36mtranspose\u001b[0;34m(a, axes)\u001b[0m\n\u001b[1;32m    649\u001b[0m \u001b[0;34m\u001b[0m\u001b[0m\n\u001b[1;32m    650\u001b[0m     \"\"\"\n\u001b[0;32m--> 651\u001b[0;31m     \u001b[0;32mreturn\u001b[0m \u001b[0m_wrapfunc\u001b[0m\u001b[0;34m(\u001b[0m\u001b[0ma\u001b[0m\u001b[0;34m,\u001b[0m \u001b[0;34m'transpose'\u001b[0m\u001b[0;34m,\u001b[0m \u001b[0maxes\u001b[0m\u001b[0;34m)\u001b[0m\u001b[0;34m\u001b[0m\u001b[0;34m\u001b[0m\u001b[0m\n\u001b[0m\u001b[1;32m    652\u001b[0m \u001b[0;34m\u001b[0m\u001b[0m\n\u001b[1;32m    653\u001b[0m \u001b[0;34m\u001b[0m\u001b[0m\n",
      "\u001b[0;32m/epyc/opt/anaconda/lib/python3.7/site-packages/numpy/core/fromnumeric.py\u001b[0m in \u001b[0;36m_wrapfunc\u001b[0;34m(obj, method, *args, **kwds)\u001b[0m\n\u001b[1;32m     59\u001b[0m \u001b[0;34m\u001b[0m\u001b[0m\n\u001b[1;32m     60\u001b[0m     \u001b[0;32mtry\u001b[0m\u001b[0;34m:\u001b[0m\u001b[0;34m\u001b[0m\u001b[0;34m\u001b[0m\u001b[0m\n\u001b[0;32m---> 61\u001b[0;31m         \u001b[0;32mreturn\u001b[0m \u001b[0mbound\u001b[0m\u001b[0;34m(\u001b[0m\u001b[0;34m*\u001b[0m\u001b[0margs\u001b[0m\u001b[0;34m,\u001b[0m \u001b[0;34m**\u001b[0m\u001b[0mkwds\u001b[0m\u001b[0;34m)\u001b[0m\u001b[0;34m\u001b[0m\u001b[0;34m\u001b[0m\u001b[0m\n\u001b[0m\u001b[1;32m     62\u001b[0m     \u001b[0;32mexcept\u001b[0m \u001b[0mTypeError\u001b[0m\u001b[0;34m:\u001b[0m\u001b[0;34m\u001b[0m\u001b[0;34m\u001b[0m\u001b[0m\n\u001b[1;32m     63\u001b[0m         \u001b[0;31m# A TypeError occurs if the object does have such a method in its\u001b[0m\u001b[0;34m\u001b[0m\u001b[0;34m\u001b[0m\u001b[0;34m\u001b[0m\u001b[0m\n",
      "\u001b[0;31mValueError\u001b[0m: axes don't match array"
     ]
    }
   ],
   "metadata": {}
  },
  {
   "cell_type": "code",
   "execution_count": null,
   "source": [],
   "outputs": [],
   "metadata": {}
  }
 ],
 "metadata": {
  "@webio": {
   "lastCommId": null,
   "lastKernelId": null
  },
  "kernelspec": {
   "name": "python3",
   "display_name": "Python 3.7.1 64-bit"
  },
  "language_info": {
   "codemirror_mode": {
    "name": "ipython",
    "version": 3
   },
   "file_extension": ".py",
   "mimetype": "text/x-python",
   "name": "python",
   "nbconvert_exporter": "python",
   "pygments_lexer": "ipython3",
   "version": "3.7.1"
  },
  "interpreter": {
   "hash": "aee8b7b246df8f9039afb4144a1f6fd8d2ca17a180786b69acc140d282b71a49"
  }
 },
 "nbformat": 4,
 "nbformat_minor": 2
}