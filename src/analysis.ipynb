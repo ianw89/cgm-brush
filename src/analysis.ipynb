{
 "cells": [
  {
   "cell_type": "code",
   "execution_count": 2,
   "source": [
    "###################################################\n",
    "# Profile Mask Visualizer\n",
    "###################################################\n",
    "\n",
    "from cgmbrush import *\n",
    "import matplotlib.colors as colors\n",
    "\n",
    "profile = NFWProfile() # Choose a profile\n",
    "\n",
    "# pick some parameters\n",
    "mass = 1E15 # solar masses\n",
    "redshift = 0 \n",
    "resolution = 4\n",
    "cellsize = L/(1024 * resolution)\n",
    "print(\"cellsize (Mpc): %s\" % cellsize)\n",
    "fine_mask_len = 20 * resolution\n",
    "comoving_radius = (1+redshift)*(mass**(1/3) / Rvir_den(redshift)) # what are the units...\n",
    "print(q(0))\n",
    "print(\"comoving radius: %s\" % comoving_radius)\n",
    "\n",
    "mask = profile.get_mask(1E10, comoving_radius, redshift, resolution, 1, cellsize, fine_mask_len)\n",
    "fig, ax = plt.subplots(1,1,figsize=(12, 12))\n",
    "pos = ax.imshow(mask, norm=colors.LogNorm(vmin=1E-1, vmax=mask.max()))\n",
    "ax.title.set_text('NFW Fine Mask')\n",
    "fig.colorbar(pos, ax=ax)\n"
   ],
   "outputs": [
    {
     "output_type": "stream",
     "name": "stdout",
     "text": [
      "cellsize (Mpc): 0.08719308035714286\n",
      "0.73\n",
      "comoving radius: 2.606953398484862\n"
     ]
    },
    {
     "output_type": "execute_result",
     "data": {
      "text/plain": [
       "<matplotlib.colorbar.Colorbar at 0x7fd4615cf4e0>"
      ]
     },
     "metadata": {},
     "execution_count": 2
    },
    {
     "output_type": "display_data",
     "data": {
      "image/png": "[encoded data removed]",
      "text/plain": [
       "<Figure size 864x864 with 2 Axes>"
      ]
     },
     "metadata": {
      "needs_background": "light"
     }
    }
   ],
   "metadata": {}
  },
  {
   "cell_type": "code",
   "execution_count": 1,
   "source": [
    "from cgmbrush import *\n",
    "def compareRadii(mass, z):\n",
    "    print(\"Mass {:.1e}, redshift {}\".format(mass, z))\n",
    "    a = comoving_radius_for_halo(mass, z)\n",
    "    b = r200Mz(mass, z)\n",
    "    print(' rVir:\\t{:.4f}'.format(a))\n",
    "    print(' r200:\\t{:.4f}'.format(b))\n",
    "    print(' difference:\\t{:.1f}%'.format((abs(b-a)) * 100 / b))\n",
    "\n",
    "masses = [1E10,1E13,1E15]\n",
    "redshifts = [0,0.5,1,2]\n",
    "\n",
    "for z in redshifts:\n",
    "    for m in masses:\n",
    "        compareRadii(m, z)"
   ],
   "outputs": [
    {
     "output_type": "stream",
     "name": "stdout",
     "text": [
      "Mass 1.0e+10, redshift 0\n",
      " rVir:\t0.0430\n",
      " r200:\t0.0688\n",
      " difference:\t37.5%\n",
      "Mass 1.0e+13, redshift 0\n",
      " rVir:\t0.4296\n",
      " r200:\t0.6876\n",
      " difference:\t37.5%\n",
      "Mass 1.0e+15, redshift 0\n",
      " rVir:\t1.9942\n",
      " r200:\t3.1915\n",
      " difference:\t37.5%\n",
      "Mass 1.0e+10, redshift 0.5\n",
      " rVir:\t0.0555\n",
      " r200:\t0.0688\n",
      " difference:\t19.2%\n",
      "Mass 1.0e+13, redshift 0.5\n",
      " rVir:\t0.5553\n",
      " r200:\t0.6876\n",
      " difference:\t19.2%\n",
      "Mass 1.0e+15, redshift 0.5\n",
      " rVir:\t2.5775\n",
      " r200:\t3.1915\n",
      " difference:\t19.2%\n",
      "Mass 1.0e+10, redshift 1\n",
      " rVir:\t0.0624\n",
      " r200:\t0.0688\n",
      " difference:\t9.3%\n",
      "Mass 1.0e+13, redshift 1\n",
      " rVir:\t0.6239\n",
      " r200:\t0.6876\n",
      " difference:\t9.3%\n",
      "Mass 1.0e+15, redshift 1\n",
      " rVir:\t2.8961\n",
      " r200:\t3.1915\n",
      " difference:\t9.3%\n",
      "Mass 1.0e+10, redshift 2\n",
      " rVir:\t0.0679\n",
      " r200:\t0.0688\n",
      " difference:\t1.2%\n",
      "Mass 1.0e+13, redshift 2\n",
      " rVir:\t0.6791\n",
      " r200:\t0.6876\n",
      " difference:\t1.2%\n",
      "Mass 1.0e+15, redshift 2\n",
      " rVir:\t3.1519\n",
      " r200:\t3.1915\n",
      " difference:\t1.2%\n"
     ]
    }
   ],
   "metadata": {}
  }
 ],
 "metadata": {
  "orig_nbformat": 4,
  "language_info": {
   "name": "python",
   "version": "3.7.1",
   "mimetype": "text/x-python",
   "codemirror_mode": {
    "name": "ipython",
    "version": 3
   },
   "pygments_lexer": "ipython3",
   "nbconvert_exporter": "python",
   "file_extension": ".py"
  },
  "kernelspec": {
   "name": "python3",
   "display_name": "Python 3.7.1 64-bit"
  },
  "interpreter": {
   "hash": "e774977668b7c0ae8309835a5187aa7fbf7669e7d0bb59755bc63e573643edcd"
  }
 },
 "nbformat": 4,
 "nbformat_minor": 2
}