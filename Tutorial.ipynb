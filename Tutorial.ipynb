{
 "cells": [
  {
   "cell_type": "markdown",
   "metadata": {},
   "source": [
    "# CGM Brush Tutorial"
   ]
  },
  {
   "cell_type": "code",
   "execution_count": null,
   "metadata": {},
   "outputs": [],
   "source": [
    "import cgmbrush.cgmbrush as cgmb \n",
    "import matplotlib.pyplot as plt"
   ]
  },
  {
   "cell_type": "code",
   "execution_count": null,
   "metadata": {},
   "outputs": [],
   "source": [
    "# Create a Configuration object and specify details regarding how you'd like to use the library\n",
    "config = cgmb.Configuration(cgmb.PrecipitationProfile(), 1, resolution=1, provider=cgmb.BolshoiProvider())\n",
    "\n",
    "# Run the convolutions, taking the density field from the provider above and using the CGM profile specified to create the final density field\n",
    "# Running the convolution will save off the results in numpy archives in the VAR_FOLDER.\n",
    "config.run(load_from_files=True) \n",
    "# We say load_from_files=True to tell cgmbrush to skip the calculations and just load the results if we've already run this configuration before"
   ]
  },
  {
   "cell_type": "code",
   "execution_count": null,
   "metadata": {},
   "outputs": [],
   "source": [
    "# The following fields will now be available. If you try to get one of these fields for a configuration that has not yet been run,\n",
    "# cgmbrush will run it for you and the field you asked for.\n",
    "print(config.get_subtraction_coarse_field().shape)\n",
    "print(config.get_removed_field().shape)\n",
    "print(config.get_addition_masks().shape)\n",
    "print(config.get_addition_field().shape)\n",
    "print(config.get_final_field().shape)\n",
    "\n",
    "print(config.get_virial_radii().shape)\n",
    "print(config.get_halo_masses().shape)\n"
   ]
  },
  {
   "cell_type": "markdown",
   "metadata": {},
   "source": [
    "We can see tha the subtraction field is 256 x 256, working at the scale of the original density field from the simulation. The removed field, which is the original field minus the subtraction field, is also 256 x 256. There are 29 addition masks, each 20 x 20 pixels. The addition field, constructed from them, is 1024 x 1024. The final density field is the removed field scaled up and added to the addition field. It is also 1024 x 1024.\n",
    "\n",
    "Finally we see that we have 29 virial radii and 29 halo masses, which are the average radii and masses computed for each of the 29 logarithmic mass bins, which comes from a setting in the Configuration."
   ]
  },
  {
   "cell_type": "code",
   "execution_count": null,
   "metadata": {},
   "outputs": [],
   "source": [
    "# You can view the masks created from the CGM Profile for each mass bin like this:\n",
    "fig, ax = plt.subplots(1,3,figsize=(24, 8))\n",
    "ax[0].imshow(config.results['add_masks'][0][2]) # light halo\n",
    "ax[1].imshow(config.results['add_masks'][0][15]) # medium halo\n",
    "ax[2].imshow(config.results['add_masks'][0][28]) # very big halo\n",
    "\n",
    "# At higher resolutions, the masks are much nicer, but you may need to zoom in to the middle of the image."
   ]
  },
  {
   "cell_type": "code",
   "execution_count": null,
   "metadata": {},
   "outputs": [],
   "source": [
    "config.generate_DM_vs_radius_profile(load_from_files=True)\n",
    "print(config.DM_vs_R1)"
   ]
  },
  {
   "cell_type": "code",
   "execution_count": null,
   "metadata": {},
   "outputs": [],
   "source": [
    "config.generate_profile_of_masks(load_from_files=True)\n",
    "print(config.mask_profiles)"
   ]
  }
 ],
 "metadata": {
  "interpreter": {
   "hash": "843b3ea64dadd33c63cc6aae2bb10056a6a5bb9586b23146cad289d9c76c9a50"
  },
  "kernelspec": {
   "display_name": "Python 3.7.1 64-bit ('dev_env': virtualenv)",
   "name": "python3"
  },
  "language_info": {
   "codemirror_mode": {
    "name": "ipython",
    "version": 3
   },
   "file_extension": ".py",
   "mimetype": "text/x-python",
   "name": "python",
   "nbconvert_exporter": "python",
   "pygments_lexer": "ipython3",
   "version": "3.7.1"
  },
  "orig_nbformat": 4
 },
 "nbformat": 4,
 "nbformat_minor": 2
}
